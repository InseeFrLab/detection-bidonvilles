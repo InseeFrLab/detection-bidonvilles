{
 "cells": [
  {
   "cell_type": "code",
   "execution_count": 30,
   "id": "0fdc95ff-a298-4878-9321-6f2f75e58b5d",
   "metadata": {
    "tags": []
   },
   "outputs": [],
   "source": [
    "import pandas as pd"
   ]
  },
  {
   "cell_type": "code",
   "execution_count": 31,
   "id": "3eeef515-3ba8-4db7-aabb-c02b80b1b75f",
   "metadata": {
    "tags": []
   },
   "outputs": [],
   "source": [
    "import s3fs\n",
    "import hvac\n",
    "import os\n",
    "\n",
    "client = hvac.Client(url='https://vault.lab.sspcloud.fr',\n",
    "                     token=os.environ['VAULT_TOKEN'])\n",
    "\n",
    "secret = os.environ['VAULT_MOUNT'] + os.environ['VAULT_TOP_DIR'] + '/s3'\n",
    "mount_point, secret_path = secret.split('/', 1)\n",
    "secret_dict = client.secrets.kv.read_secret_version(path=secret_path, mount_point = mount_point)\n",
    "\n",
    "os.environ[\"AWS_ACCESS_KEY_ID\"] = secret_dict['data']['data']['ACCESS_KEY_ID']\n",
    "os.environ[\"AWS_SECRET_ACCESS_KEY\"] = secret_dict['data']['data']['SECRET_ACCESS_KEY']\n",
    "try:\n",
    "    del os.environ['AWS_SESSION_TOKEN']\n",
    "except KeyError:\n",
    "    pass"
   ]
  },
  {
   "cell_type": "code",
   "execution_count": 183,
   "id": "faf61e0a-6946-43a5-9bd5-170803118635",
   "metadata": {
    "tags": []
   },
   "outputs": [
    {
     "data": {
      "text/plain": [
       "['projet-slums-detection/Donnees/RIL/.keep',\n",
       " 'projet-slums-detection/Donnees/RIL/rca_geometry_ilot.rds',\n",
       " 'projet-slums-detection/Donnees/RIL/rca_geometry_ilots.rds',\n",
       " 'projet-slums-detection/Donnees/RIL/ril_gc_dom.csv',\n",
       " 'projet-slums-detection/Donnees/RIL/ril_pc_dom.csv']"
      ]
     },
     "execution_count": 183,
     "metadata": {},
     "output_type": "execute_result"
    }
   ],
   "source": [
    "fs = s3fs.S3FileSystem(\n",
    "    client_kwargs={'endpoint_url': 'https://'+'minio.lab.sspcloud.fr'},\n",
    "    key=os.environ[\"AWS_ACCESS_KEY_ID\"],\n",
    "    secret=os.environ[\"AWS_SECRET_ACCESS_KEY\"]\n",
    ")\n",
    "fs.ls('projet-slums-detection/Donnees/RIL/')"
   ]
  },
  {
   "cell_type": "markdown",
   "id": "326eb74d-41e2-4f31-971b-3f61a613dcf4",
   "metadata": {},
   "source": [
    "## Petites communes"
   ]
  },
  {
   "cell_type": "code",
   "execution_count": 33,
   "id": "34419545-150a-47ae-885e-99dc89ec600b",
   "metadata": {
    "tags": []
   },
   "outputs": [
    {
     "name": "stderr",
     "output_type": "stream",
     "text": [
      "/tmp/ipykernel_383/589304261.py:2: DtypeWarning: Columns (5,9,14,19,20,27,29,36,43) have mixed types. Specify dtype option on import or set low_memory=False.\n",
      "  df_pc = pd.read_csv(f)\n"
     ]
    }
   ],
   "source": [
    "with fs.open('projet-slums-detection/Donnees/RIL/ril_pc_dom.csv', 'r') as f:\n",
    "    df_pc = pd.read_csv(f)"
   ]
  },
  {
   "cell_type": "markdown",
   "id": "ba751415-6ce6-43ad-85de-f6df1f5f1f82",
   "metadata": {},
   "source": [
    "Data types to specify"
   ]
  },
  {
   "cell_type": "code",
   "execution_count": 34,
   "id": "e0fe74a1-3fae-41ac-b1be-03add282aff9",
   "metadata": {
    "tags": []
   },
   "outputs": [
    {
     "name": "stdout",
     "output_type": "stream",
     "text": [
      "<class 'pandas.core.frame.DataFrame'>\n",
      "RangeIndex: 135915 entries, 0 to 135914\n",
      "Data columns (total 51 columns):\n",
      " #   Column                  Non-Null Count   Dtype  \n",
      "---  ------                  --------------   -----  \n",
      " 0   id                      135915 non-null  int64  \n",
      " 1   depcom                  135915 non-null  int64  \n",
      " 2   id_ea                   135915 non-null  int64  \n",
      " 3   principal               135915 non-null  object \n",
      " 4   numero                  135915 non-null  int64  \n",
      " 5   repetition              4959 non-null    object \n",
      " 6   complement              55003 non-null   object \n",
      " 7   type_voie               135332 non-null  object \n",
      " 8   libelle_voie            135915 non-null  object \n",
      " 9   rivoli                  87208 non-null   object \n",
      " 10  ea_type                 135915 non-null  object \n",
      " 11  hab_hot_type            135800 non-null  object \n",
      " 12  nb_log                  135800 non-null  float64\n",
      " 13  etat                    135800 non-null  float64\n",
      " 14  pc_num                  5747 non-null    object \n",
      " 15  commentaire             36747 non-null   object \n",
      " 16  hab_construction_an     135683 non-null  float64\n",
      " 17  hab_nb_imm              91097 non-null   float64\n",
      " 18  hab_niv                 132373 non-null  float64\n",
      " 19  hot_sous_type           102 non-null     object \n",
      " 20  hot_enseigne            95 non-null      object \n",
      " 21  lien_cmt                135683 non-null  float64\n",
      " 22  x                       135915 non-null  float64\n",
      " 23  y                       135915 non-null  float64\n",
      " 24  code_epsg               135915 non-null  int64  \n",
      " 25  type_localisation       135915 non-null  object \n",
      " 26  numero_parcelle         55207 non-null   object \n",
      " 27  code_ilot               135915 non-null  object \n",
      " 28  code_iris               82090 non-null   float64\n",
      " 29  quartier_prioritaire    7976 non-null    object \n",
      " 30  canton                  75536 non-null   float64\n",
      " 31  liste_insee             135915 non-null  object \n",
      " 32  id_rp                   135914 non-null  object \n",
      " 33  dernier_tirage          6103 non-null    float64\n",
      " 34  echantillon             135915 non-null  object \n",
      " 35  grp_rotation            135900 non-null  float64\n",
      " 36  date_maj_ea             97 non-null      object \n",
      " 37  com_anc_idft            115 non-null     float64\n",
      " 38  com_type                115 non-null     float64\n",
      " 39  com_statut              115 non-null     object \n",
      " 40  com_nb_log_fonction     115 non-null     float64\n",
      " 41  com_nom                 115 non-null     object \n",
      " 42  com_date_creation_base  115 non-null     object \n",
      " 43  com_date_fermeture      17 non-null      object \n",
      " 44  com_capacite_theorique  115 non-null     float64\n",
      " 45  millesime               135915 non-null  int64  \n",
      " 46  date_livraison          135915 non-null  object \n",
      " 47  ref_ea                  135915 non-null  int64  \n",
      " 48  id_rca_adresse          135915 non-null  int64  \n",
      " 49  reperage                49825 non-null   object \n",
      " 50  id_ea_regroup           1615 non-null    float64\n",
      "dtypes: float64(17), int64(8), object(26)\n",
      "memory usage: 52.9+ MB\n"
     ]
    }
   ],
   "source": [
    "df_pc.info()"
   ]
  },
  {
   "cell_type": "code",
   "execution_count": 35,
   "id": "9c6e6b54-ecb5-4f7b-b3e1-ce28d84f5b8d",
   "metadata": {
    "tags": []
   },
   "outputs": [
    {
     "data": {
      "text/html": [
       "<div>\n",
       "<style scoped>\n",
       "    .dataframe tbody tr th:only-of-type {\n",
       "        vertical-align: middle;\n",
       "    }\n",
       "\n",
       "    .dataframe tbody tr th {\n",
       "        vertical-align: top;\n",
       "    }\n",
       "\n",
       "    .dataframe thead th {\n",
       "        text-align: right;\n",
       "    }\n",
       "</style>\n",
       "<table border=\"1\" class=\"dataframe\">\n",
       "  <thead>\n",
       "    <tr style=\"text-align: right;\">\n",
       "      <th></th>\n",
       "      <th>id</th>\n",
       "      <th>depcom</th>\n",
       "      <th>id_ea</th>\n",
       "      <th>principal</th>\n",
       "      <th>numero</th>\n",
       "      <th>repetition</th>\n",
       "      <th>complement</th>\n",
       "      <th>type_voie</th>\n",
       "      <th>libelle_voie</th>\n",
       "      <th>rivoli</th>\n",
       "      <th>ea_type</th>\n",
       "      <th>hab_hot_type</th>\n",
       "      <th>nb_log</th>\n",
       "      <th>etat</th>\n",
       "      <th>pc_num</th>\n",
       "      <th>commentaire</th>\n",
       "      <th>hab_construction_an</th>\n",
       "      <th>hab_nb_imm</th>\n",
       "      <th>hab_niv</th>\n",
       "      <th>hot_sous_type</th>\n",
       "      <th>hot_enseigne</th>\n",
       "      <th>lien_cmt</th>\n",
       "      <th>x</th>\n",
       "      <th>y</th>\n",
       "      <th>code_epsg</th>\n",
       "      <th>type_localisation</th>\n",
       "      <th>numero_parcelle</th>\n",
       "      <th>code_ilot</th>\n",
       "      <th>code_iris</th>\n",
       "      <th>quartier_prioritaire</th>\n",
       "      <th>canton</th>\n",
       "      <th>liste_insee</th>\n",
       "      <th>id_rp</th>\n",
       "      <th>dernier_tirage</th>\n",
       "      <th>echantillon</th>\n",
       "      <th>grp_rotation</th>\n",
       "      <th>date_maj_ea</th>\n",
       "      <th>com_anc_idft</th>\n",
       "      <th>com_type</th>\n",
       "      <th>com_statut</th>\n",
       "      <th>com_nb_log_fonction</th>\n",
       "      <th>com_nom</th>\n",
       "      <th>com_date_creation_base</th>\n",
       "      <th>com_date_fermeture</th>\n",
       "      <th>com_capacite_theorique</th>\n",
       "      <th>millesime</th>\n",
       "      <th>date_livraison</th>\n",
       "      <th>ref_ea</th>\n",
       "      <th>id_rca_adresse</th>\n",
       "      <th>reperage</th>\n",
       "      <th>id_ea_regroup</th>\n",
       "    </tr>\n",
       "  </thead>\n",
       "  <tbody>\n",
       "    <tr>\n",
       "      <th>0</th>\n",
       "      <td>32033149</td>\n",
       "      <td>97102</td>\n",
       "      <td>971020000002014</td>\n",
       "      <td>O</td>\n",
       "      <td>0</td>\n",
       "      <td>NaN</td>\n",
       "      <td>POINTE DE LA GRANDE VIGIE</td>\n",
       "      <td>ALL</td>\n",
       "      <td>POINTE D'ANTIGUE</td>\n",
       "      <td>NaN</td>\n",
       "      <td>HABIT</td>\n",
       "      <td>0052</td>\n",
       "      <td>0.0</td>\n",
       "      <td>1.0</td>\n",
       "      <td>NaN</td>\n",
       "      <td>NaN</td>\n",
       "      <td>1900.0</td>\n",
       "      <td>0.0</td>\n",
       "      <td>0.0</td>\n",
       "      <td>NaN</td>\n",
       "      <td>NaN</td>\n",
       "      <td>1.0</td>\n",
       "      <td>663634.543</td>\n",
       "      <td>1825946.61</td>\n",
       "      <td>4559</td>\n",
       "      <td>CIC</td>\n",
       "      <td>NaN</td>\n",
       "      <td>PED1</td>\n",
       "      <td>102.0</td>\n",
       "      <td>NaN</td>\n",
       "      <td>14.0</td>\n",
       "      <td>N</td>\n",
       "      <td>97102   PED1 015</td>\n",
       "      <td>NaN</td>\n",
       "      <td>N</td>\n",
       "      <td>5.0</td>\n",
       "      <td>NaN</td>\n",
       "      <td>NaN</td>\n",
       "      <td>NaN</td>\n",
       "      <td>NaN</td>\n",
       "      <td>NaN</td>\n",
       "      <td>NaN</td>\n",
       "      <td>NaN</td>\n",
       "      <td>NaN</td>\n",
       "      <td>NaN</td>\n",
       "      <td>2023</td>\n",
       "      <td>2022-10-05 16:41:04.000</td>\n",
       "      <td>11589082</td>\n",
       "      <td>13805445</td>\n",
       "      <td>COMMERCES</td>\n",
       "      <td>NaN</td>\n",
       "    </tr>\n",
       "    <tr>\n",
       "      <th>1</th>\n",
       "      <td>32033150</td>\n",
       "      <td>97102</td>\n",
       "      <td>971020000002013</td>\n",
       "      <td>O</td>\n",
       "      <td>0</td>\n",
       "      <td>NaN</td>\n",
       "      <td>NaN</td>\n",
       "      <td>ALL</td>\n",
       "      <td>POINTE D'ANTIGUE</td>\n",
       "      <td>NaN</td>\n",
       "      <td>HABIT</td>\n",
       "      <td>002D</td>\n",
       "      <td>1.0</td>\n",
       "      <td>0.0</td>\n",
       "      <td>NaN</td>\n",
       "      <td>NaN</td>\n",
       "      <td>1900.0</td>\n",
       "      <td>1.0</td>\n",
       "      <td>2.0</td>\n",
       "      <td>NaN</td>\n",
       "      <td>NaN</td>\n",
       "      <td>1.0</td>\n",
       "      <td>662540.599</td>\n",
       "      <td>1825264.35</td>\n",
       "      <td>4559</td>\n",
       "      <td>CIC</td>\n",
       "      <td>NaN</td>\n",
       "      <td>PED1</td>\n",
       "      <td>102.0</td>\n",
       "      <td>NaN</td>\n",
       "      <td>14.0</td>\n",
       "      <td>N</td>\n",
       "      <td>97102   PED1 014</td>\n",
       "      <td>NaN</td>\n",
       "      <td>N</td>\n",
       "      <td>5.0</td>\n",
       "      <td>NaN</td>\n",
       "      <td>NaN</td>\n",
       "      <td>NaN</td>\n",
       "      <td>NaN</td>\n",
       "      <td>NaN</td>\n",
       "      <td>NaN</td>\n",
       "      <td>NaN</td>\n",
       "      <td>NaN</td>\n",
       "      <td>NaN</td>\n",
       "      <td>2023</td>\n",
       "      <td>2022-10-05 16:41:04.000</td>\n",
       "      <td>11589083</td>\n",
       "      <td>13805446</td>\n",
       "      <td>PORTAIL VERT / TOIT BLC</td>\n",
       "      <td>NaN</td>\n",
       "    </tr>\n",
       "    <tr>\n",
       "      <th>2</th>\n",
       "      <td>32033151</td>\n",
       "      <td>97102</td>\n",
       "      <td>971020000002008</td>\n",
       "      <td>O</td>\n",
       "      <td>0</td>\n",
       "      <td>NaN</td>\n",
       "      <td>NaN</td>\n",
       "      <td>ALL</td>\n",
       "      <td>POINTE D'ANTIGUE</td>\n",
       "      <td>NaN</td>\n",
       "      <td>HABIT</td>\n",
       "      <td>002D</td>\n",
       "      <td>6.0</td>\n",
       "      <td>0.0</td>\n",
       "      <td>NaN</td>\n",
       "      <td>NaN</td>\n",
       "      <td>1900.0</td>\n",
       "      <td>1.0</td>\n",
       "      <td>1.0</td>\n",
       "      <td>NaN</td>\n",
       "      <td>NaN</td>\n",
       "      <td>1.0</td>\n",
       "      <td>662512.349</td>\n",
       "      <td>1825143.23</td>\n",
       "      <td>4559</td>\n",
       "      <td>CIC</td>\n",
       "      <td>NaN</td>\n",
       "      <td>PED1</td>\n",
       "      <td>102.0</td>\n",
       "      <td>NaN</td>\n",
       "      <td>14.0</td>\n",
       "      <td>N</td>\n",
       "      <td>97102   PED1 009</td>\n",
       "      <td>NaN</td>\n",
       "      <td>N</td>\n",
       "      <td>5.0</td>\n",
       "      <td>NaN</td>\n",
       "      <td>NaN</td>\n",
       "      <td>NaN</td>\n",
       "      <td>NaN</td>\n",
       "      <td>NaN</td>\n",
       "      <td>NaN</td>\n",
       "      <td>NaN</td>\n",
       "      <td>NaN</td>\n",
       "      <td>NaN</td>\n",
       "      <td>2023</td>\n",
       "      <td>2022-10-05 16:41:04.000</td>\n",
       "      <td>11589084</td>\n",
       "      <td>13805447</td>\n",
       "      <td>ACCES CHEM GITES</td>\n",
       "      <td>NaN</td>\n",
       "    </tr>\n",
       "    <tr>\n",
       "      <th>3</th>\n",
       "      <td>32033152</td>\n",
       "      <td>97102</td>\n",
       "      <td>971020000002007</td>\n",
       "      <td>O</td>\n",
       "      <td>0</td>\n",
       "      <td>NaN</td>\n",
       "      <td>NaN</td>\n",
       "      <td>ALL</td>\n",
       "      <td>POINTE D'ANTIGUE</td>\n",
       "      <td>NaN</td>\n",
       "      <td>HABIT</td>\n",
       "      <td>002D</td>\n",
       "      <td>1.0</td>\n",
       "      <td>0.0</td>\n",
       "      <td>NaN</td>\n",
       "      <td>NaN</td>\n",
       "      <td>1900.0</td>\n",
       "      <td>1.0</td>\n",
       "      <td>1.0</td>\n",
       "      <td>NaN</td>\n",
       "      <td>NaN</td>\n",
       "      <td>1.0</td>\n",
       "      <td>662573.224</td>\n",
       "      <td>1825054.98</td>\n",
       "      <td>4559</td>\n",
       "      <td>CIC</td>\n",
       "      <td>NaN</td>\n",
       "      <td>PED1</td>\n",
       "      <td>102.0</td>\n",
       "      <td>NaN</td>\n",
       "      <td>14.0</td>\n",
       "      <td>N</td>\n",
       "      <td>97102   PED1 008</td>\n",
       "      <td>NaN</td>\n",
       "      <td>N</td>\n",
       "      <td>5.0</td>\n",
       "      <td>NaN</td>\n",
       "      <td>NaN</td>\n",
       "      <td>NaN</td>\n",
       "      <td>NaN</td>\n",
       "      <td>NaN</td>\n",
       "      <td>NaN</td>\n",
       "      <td>NaN</td>\n",
       "      <td>NaN</td>\n",
       "      <td>NaN</td>\n",
       "      <td>2023</td>\n",
       "      <td>2022-10-05 16:41:04.000</td>\n",
       "      <td>11589085</td>\n",
       "      <td>13805448</td>\n",
       "      <td>MAISON JAUNE /TOIT BLEU</td>\n",
       "      <td>NaN</td>\n",
       "    </tr>\n",
       "    <tr>\n",
       "      <th>4</th>\n",
       "      <td>32033153</td>\n",
       "      <td>97102</td>\n",
       "      <td>971020000002015</td>\n",
       "      <td>O</td>\n",
       "      <td>0</td>\n",
       "      <td>NaN</td>\n",
       "      <td>NaN</td>\n",
       "      <td>ALL</td>\n",
       "      <td>POINTE D'ANTIGUE</td>\n",
       "      <td>NaN</td>\n",
       "      <td>HABIT</td>\n",
       "      <td>002D</td>\n",
       "      <td>1.0</td>\n",
       "      <td>0.0</td>\n",
       "      <td>NaN</td>\n",
       "      <td>NaN</td>\n",
       "      <td>1900.0</td>\n",
       "      <td>1.0</td>\n",
       "      <td>2.0</td>\n",
       "      <td>NaN</td>\n",
       "      <td>NaN</td>\n",
       "      <td>1.0</td>\n",
       "      <td>662645.662</td>\n",
       "      <td>1824859.98</td>\n",
       "      <td>4559</td>\n",
       "      <td>CIC</td>\n",
       "      <td>NaN</td>\n",
       "      <td>PED1</td>\n",
       "      <td>102.0</td>\n",
       "      <td>NaN</td>\n",
       "      <td>14.0</td>\n",
       "      <td>N</td>\n",
       "      <td>97102   PED1 016</td>\n",
       "      <td>NaN</td>\n",
       "      <td>N</td>\n",
       "      <td>5.0</td>\n",
       "      <td>NaN</td>\n",
       "      <td>NaN</td>\n",
       "      <td>NaN</td>\n",
       "      <td>NaN</td>\n",
       "      <td>NaN</td>\n",
       "      <td>NaN</td>\n",
       "      <td>NaN</td>\n",
       "      <td>NaN</td>\n",
       "      <td>NaN</td>\n",
       "      <td>2023</td>\n",
       "      <td>2022-10-05 16:41:04.000</td>\n",
       "      <td>11589086</td>\n",
       "      <td>13805449</td>\n",
       "      <td>ACCES CHEM</td>\n",
       "      <td>NaN</td>\n",
       "    </tr>\n",
       "  </tbody>\n",
       "</table>\n",
       "</div>"
      ],
      "text/plain": [
       "         id  depcom            id_ea principal  numero repetition  \\\n",
       "0  32033149   97102  971020000002014         O       0        NaN   \n",
       "1  32033150   97102  971020000002013         O       0        NaN   \n",
       "2  32033151   97102  971020000002008         O       0        NaN   \n",
       "3  32033152   97102  971020000002007         O       0        NaN   \n",
       "4  32033153   97102  971020000002015         O       0        NaN   \n",
       "\n",
       "                  complement type_voie      libelle_voie rivoli ea_type  \\\n",
       "0  POINTE DE LA GRANDE VIGIE       ALL  POINTE D'ANTIGUE    NaN   HABIT   \n",
       "1                        NaN       ALL  POINTE D'ANTIGUE    NaN   HABIT   \n",
       "2                        NaN       ALL  POINTE D'ANTIGUE    NaN   HABIT   \n",
       "3                        NaN       ALL  POINTE D'ANTIGUE    NaN   HABIT   \n",
       "4                        NaN       ALL  POINTE D'ANTIGUE    NaN   HABIT   \n",
       "\n",
       "  hab_hot_type  nb_log  etat pc_num commentaire  hab_construction_an  \\\n",
       "0         0052     0.0   1.0    NaN         NaN               1900.0   \n",
       "1         002D     1.0   0.0    NaN         NaN               1900.0   \n",
       "2         002D     6.0   0.0    NaN         NaN               1900.0   \n",
       "3         002D     1.0   0.0    NaN         NaN               1900.0   \n",
       "4         002D     1.0   0.0    NaN         NaN               1900.0   \n",
       "\n",
       "   hab_nb_imm  hab_niv hot_sous_type hot_enseigne  lien_cmt           x  \\\n",
       "0         0.0      0.0           NaN          NaN       1.0  663634.543   \n",
       "1         1.0      2.0           NaN          NaN       1.0  662540.599   \n",
       "2         1.0      1.0           NaN          NaN       1.0  662512.349   \n",
       "3         1.0      1.0           NaN          NaN       1.0  662573.224   \n",
       "4         1.0      2.0           NaN          NaN       1.0  662645.662   \n",
       "\n",
       "            y  code_epsg type_localisation numero_parcelle code_ilot  \\\n",
       "0  1825946.61       4559               CIC             NaN      PED1   \n",
       "1  1825264.35       4559               CIC             NaN      PED1   \n",
       "2  1825143.23       4559               CIC             NaN      PED1   \n",
       "3  1825054.98       4559               CIC             NaN      PED1   \n",
       "4  1824859.98       4559               CIC             NaN      PED1   \n",
       "\n",
       "   code_iris quartier_prioritaire  canton liste_insee             id_rp  \\\n",
       "0      102.0                  NaN    14.0           N  97102   PED1 015   \n",
       "1      102.0                  NaN    14.0           N  97102   PED1 014   \n",
       "2      102.0                  NaN    14.0           N  97102   PED1 009   \n",
       "3      102.0                  NaN    14.0           N  97102   PED1 008   \n",
       "4      102.0                  NaN    14.0           N  97102   PED1 016   \n",
       "\n",
       "   dernier_tirage echantillon  grp_rotation date_maj_ea  com_anc_idft  \\\n",
       "0             NaN           N           5.0         NaN           NaN   \n",
       "1             NaN           N           5.0         NaN           NaN   \n",
       "2             NaN           N           5.0         NaN           NaN   \n",
       "3             NaN           N           5.0         NaN           NaN   \n",
       "4             NaN           N           5.0         NaN           NaN   \n",
       "\n",
       "   com_type com_statut  com_nb_log_fonction com_nom com_date_creation_base  \\\n",
       "0       NaN        NaN                  NaN     NaN                    NaN   \n",
       "1       NaN        NaN                  NaN     NaN                    NaN   \n",
       "2       NaN        NaN                  NaN     NaN                    NaN   \n",
       "3       NaN        NaN                  NaN     NaN                    NaN   \n",
       "4       NaN        NaN                  NaN     NaN                    NaN   \n",
       "\n",
       "  com_date_fermeture  com_capacite_theorique  millesime  \\\n",
       "0                NaN                     NaN       2023   \n",
       "1                NaN                     NaN       2023   \n",
       "2                NaN                     NaN       2023   \n",
       "3                NaN                     NaN       2023   \n",
       "4                NaN                     NaN       2023   \n",
       "\n",
       "            date_livraison    ref_ea  id_rca_adresse                 reperage  \\\n",
       "0  2022-10-05 16:41:04.000  11589082        13805445                COMMERCES   \n",
       "1  2022-10-05 16:41:04.000  11589083        13805446  PORTAIL VERT / TOIT BLC   \n",
       "2  2022-10-05 16:41:04.000  11589084        13805447         ACCES CHEM GITES   \n",
       "3  2022-10-05 16:41:04.000  11589085        13805448  MAISON JAUNE /TOIT BLEU   \n",
       "4  2022-10-05 16:41:04.000  11589086        13805449               ACCES CHEM   \n",
       "\n",
       "   id_ea_regroup  \n",
       "0            NaN  \n",
       "1            NaN  \n",
       "2            NaN  \n",
       "3            NaN  \n",
       "4            NaN  "
      ]
     },
     "execution_count": 35,
     "metadata": {},
     "output_type": "execute_result"
    }
   ],
   "source": [
    "pd.set_option('display.max_columns', None)\n",
    "df_pc.head()"
   ]
  },
  {
   "cell_type": "markdown",
   "id": "d83c556f-1379-45ba-a20e-090d87971685",
   "metadata": {},
   "source": [
    "### Dictionnaire des variables"
   ]
  },
  {
   "cell_type": "code",
   "execution_count": 52,
   "id": "07eb4f4d-97c8-478f-8796-98393cb71f00",
   "metadata": {
    "tags": []
   },
   "outputs": [
    {
     "data": {
      "text/plain": [
       "5.0    41419\n",
       "2.0    33270\n",
       "4.0    32087\n",
       "3.0    29124\n",
       "Name: grp_rotation, dtype: int64"
      ]
     },
     "execution_count": 52,
     "metadata": {},
     "output_type": "execute_result"
    }
   ],
   "source": [
    "df_pc.grp_rotation.value_counts()"
   ]
  },
  {
   "cell_type": "markdown",
   "id": "409a0a2d-7699-44f8-a8cc-50f269195611",
   "metadata": {},
   "source": [
    "- id: Identifiant du logement\n",
    "- depcom: Code commune\n",
    "- id_ea: Autre id\n",
    "- principal: Oui ou Non, quasiment uniquement des Oui.\n",
    "- numero: Numéro de la voie\n",
    "- repetition: Beaucoup de NaN, signification ?\n",
    "- complement: Complément d'adresse\n",
    "- type_voie: Type de voie\n",
    "- libelle_voie: Nom de la voie\n",
    "- rivoli: Signification ?\n",
    "- ea_type: HABIT, HOTEL ou COMMU\n",
    "- hab_hot_type: Signification ? Quelques modalités: 002D, 002C, 002B, etc.\n",
    "- nb_log: Nombre de logements\n",
    "- etat: Variable entière 0 -> 6. Signification ?\n",
    "- pc_num: Numéro de permis de construire\n",
    "- commentaire: Commentaire sur le logement\n",
    "- hab_construction_an: Année de construction\n",
    "- hab_nb_imm: Variable entière 0 -> 4. Signification ?\n",
    "- hab_niv: Signification ?\n",
    "- hot_sous_type: Type d'hôtel\n",
    "- hot_enseigne: Enseigne d'hôtel\n",
    "- lien_cmt: Signification ?\n",
    "- x: Coordinate\n",
    "- y: Coordinate\n",
    "- code_epsg: Système de projection: 4559, 2975, 4471, 2972\n",
    "- type_localisation: CIC, MAN, CENT. Signification ?\n",
    "- numero_parcelle: Numéro de parcelle\n",
    "- code_ilot: Code d'ilot\n",
    "- code_iris: Iris\n",
    "- quartier_prioritaire: QP\n",
    "- canton: Signification ?\n",
    "- liste_insee: Que des N\n",
    "- id_rp: Id qui sert à quoi ?\n",
    "- dernier_tirage: 2019 6103 fois\n",
    "- echantillon: Que des N.\n",
    "- grp_rotation: 2, 3, 4 ou 5.\n",
    "- date_maj_ea: Quasi vide\n",
    "- com_anc_idft: quasi vide\n",
    "- com_type: Quasi vide\n",
    "- com_statut: Quasi vide\n",
    "- com_nb_log_fonction: Quasi vide\n",
    "- com_nom: Quasi vide\n",
    "- com_date_creation_base: Quasi vide\n",
    "- com_date_fermeture: Quasi vide\n",
    "- com_capacite_theorique: Quasi vide\n",
    "- millesime: 2020 -> 2023\n",
    "- date_livraison: Date de livraison. A explorer.\n",
    "- ref_ea: Signification ?\n",
    "- id_rca_adresse: Signification ?\n",
    "- reperage: Indication pour repérer le batiment. Intéressant\n",
    "- id_ea_regroup: Quasi vide"
   ]
  },
  {
   "cell_type": "code",
   "execution_count": 53,
   "id": "097b49bc-e1d8-409b-aa4a-f6fb9390bf6c",
   "metadata": {},
   "outputs": [],
   "source": [
    "df_pc = df_pc[[\"id\", \"depcom\", \"ea_type\", \"nb_log\", \"hab_construction_an\", \"x\", \"y\", \"code_epsg\", \"code_ilot\", \"grp_rotation\", \"millesime\", \"date_livraison\", \"reperage\"]]"
   ]
  },
  {
   "cell_type": "code",
   "execution_count": 54,
   "id": "13eb19ef-2a7a-44ed-bca7-db8a0bdb3ec8",
   "metadata": {
    "tags": []
   },
   "outputs": [
    {
     "data": {
      "text/html": [
       "<div>\n",
       "<style scoped>\n",
       "    .dataframe tbody tr th:only-of-type {\n",
       "        vertical-align: middle;\n",
       "    }\n",
       "\n",
       "    .dataframe tbody tr th {\n",
       "        vertical-align: top;\n",
       "    }\n",
       "\n",
       "    .dataframe thead th {\n",
       "        text-align: right;\n",
       "    }\n",
       "</style>\n",
       "<table border=\"1\" class=\"dataframe\">\n",
       "  <thead>\n",
       "    <tr style=\"text-align: right;\">\n",
       "      <th></th>\n",
       "      <th>id</th>\n",
       "      <th>depcom</th>\n",
       "      <th>ea_type</th>\n",
       "      <th>nb_log</th>\n",
       "      <th>hab_construction_an</th>\n",
       "      <th>x</th>\n",
       "      <th>y</th>\n",
       "      <th>code_epsg</th>\n",
       "      <th>code_ilot</th>\n",
       "      <th>grp_rotation</th>\n",
       "      <th>millesime</th>\n",
       "      <th>date_livraison</th>\n",
       "      <th>reperage</th>\n",
       "    </tr>\n",
       "  </thead>\n",
       "  <tbody>\n",
       "    <tr>\n",
       "      <th>0</th>\n",
       "      <td>32033149</td>\n",
       "      <td>97102</td>\n",
       "      <td>HABIT</td>\n",
       "      <td>0.0</td>\n",
       "      <td>1900.0</td>\n",
       "      <td>663634.543</td>\n",
       "      <td>1825946.61</td>\n",
       "      <td>4559</td>\n",
       "      <td>PED1</td>\n",
       "      <td>5.0</td>\n",
       "      <td>2023</td>\n",
       "      <td>2022-10-05 16:41:04.000</td>\n",
       "      <td>COMMERCES</td>\n",
       "    </tr>\n",
       "    <tr>\n",
       "      <th>1</th>\n",
       "      <td>32033150</td>\n",
       "      <td>97102</td>\n",
       "      <td>HABIT</td>\n",
       "      <td>1.0</td>\n",
       "      <td>1900.0</td>\n",
       "      <td>662540.599</td>\n",
       "      <td>1825264.35</td>\n",
       "      <td>4559</td>\n",
       "      <td>PED1</td>\n",
       "      <td>5.0</td>\n",
       "      <td>2023</td>\n",
       "      <td>2022-10-05 16:41:04.000</td>\n",
       "      <td>PORTAIL VERT / TOIT BLC</td>\n",
       "    </tr>\n",
       "    <tr>\n",
       "      <th>2</th>\n",
       "      <td>32033151</td>\n",
       "      <td>97102</td>\n",
       "      <td>HABIT</td>\n",
       "      <td>6.0</td>\n",
       "      <td>1900.0</td>\n",
       "      <td>662512.349</td>\n",
       "      <td>1825143.23</td>\n",
       "      <td>4559</td>\n",
       "      <td>PED1</td>\n",
       "      <td>5.0</td>\n",
       "      <td>2023</td>\n",
       "      <td>2022-10-05 16:41:04.000</td>\n",
       "      <td>ACCES CHEM GITES</td>\n",
       "    </tr>\n",
       "    <tr>\n",
       "      <th>3</th>\n",
       "      <td>32033152</td>\n",
       "      <td>97102</td>\n",
       "      <td>HABIT</td>\n",
       "      <td>1.0</td>\n",
       "      <td>1900.0</td>\n",
       "      <td>662573.224</td>\n",
       "      <td>1825054.98</td>\n",
       "      <td>4559</td>\n",
       "      <td>PED1</td>\n",
       "      <td>5.0</td>\n",
       "      <td>2023</td>\n",
       "      <td>2022-10-05 16:41:04.000</td>\n",
       "      <td>MAISON JAUNE /TOIT BLEU</td>\n",
       "    </tr>\n",
       "    <tr>\n",
       "      <th>4</th>\n",
       "      <td>32033153</td>\n",
       "      <td>97102</td>\n",
       "      <td>HABIT</td>\n",
       "      <td>1.0</td>\n",
       "      <td>1900.0</td>\n",
       "      <td>662645.662</td>\n",
       "      <td>1824859.98</td>\n",
       "      <td>4559</td>\n",
       "      <td>PED1</td>\n",
       "      <td>5.0</td>\n",
       "      <td>2023</td>\n",
       "      <td>2022-10-05 16:41:04.000</td>\n",
       "      <td>ACCES CHEM</td>\n",
       "    </tr>\n",
       "  </tbody>\n",
       "</table>\n",
       "</div>"
      ],
      "text/plain": [
       "         id  depcom ea_type  nb_log  hab_construction_an           x  \\\n",
       "0  32033149   97102   HABIT     0.0               1900.0  663634.543   \n",
       "1  32033150   97102   HABIT     1.0               1900.0  662540.599   \n",
       "2  32033151   97102   HABIT     6.0               1900.0  662512.349   \n",
       "3  32033152   97102   HABIT     1.0               1900.0  662573.224   \n",
       "4  32033153   97102   HABIT     1.0               1900.0  662645.662   \n",
       "\n",
       "            y  code_epsg code_ilot  grp_rotation  millesime  \\\n",
       "0  1825946.61       4559      PED1           5.0       2023   \n",
       "1  1825264.35       4559      PED1           5.0       2023   \n",
       "2  1825143.23       4559      PED1           5.0       2023   \n",
       "3  1825054.98       4559      PED1           5.0       2023   \n",
       "4  1824859.98       4559      PED1           5.0       2023   \n",
       "\n",
       "            date_livraison                 reperage  \n",
       "0  2022-10-05 16:41:04.000                COMMERCES  \n",
       "1  2022-10-05 16:41:04.000  PORTAIL VERT / TOIT BLC  \n",
       "2  2022-10-05 16:41:04.000         ACCES CHEM GITES  \n",
       "3  2022-10-05 16:41:04.000  MAISON JAUNE /TOIT BLEU  \n",
       "4  2022-10-05 16:41:04.000               ACCES CHEM  "
      ]
     },
     "execution_count": 54,
     "metadata": {},
     "output_type": "execute_result"
    }
   ],
   "source": [
    "df_pc.head()"
   ]
  },
  {
   "cell_type": "markdown",
   "id": "ade7b29c-d711-4424-939d-e44ba74cb4b5",
   "metadata": {},
   "source": [
    "Un peu plus en détail:"
   ]
  },
  {
   "cell_type": "code",
   "execution_count": 57,
   "id": "27373165-a649-494e-a21d-301f57f34071",
   "metadata": {
    "tags": []
   },
   "outputs": [],
   "source": [
    "df_pc[\"dep\"] = df_pc[\"depcom\"].astype(str).str[:3]"
   ]
  },
  {
   "cell_type": "code",
   "execution_count": 58,
   "id": "721c75f1-89c5-4634-aae7-f2941094f7bf",
   "metadata": {
    "tags": []
   },
   "outputs": [
    {
     "data": {
      "text/plain": [
       "971    43248\n",
       "972    36829\n",
       "974    32288\n",
       "976    10308\n",
       "973     7838\n",
       "977     5404\n",
       "Name: dep, dtype: int64"
      ]
     },
     "execution_count": 58,
     "metadata": {},
     "output_type": "execute_result"
    }
   ],
   "source": [
    "df_pc.dep.value_counts()"
   ]
  },
  {
   "cell_type": "code",
   "execution_count": 61,
   "id": "edeb124e-2992-4dd7-b99d-f021573776c8",
   "metadata": {
    "tags": []
   },
   "outputs": [
    {
     "data": {
      "text/plain": [
       "97701    5404\n",
       "Name: depcom, dtype: int64"
      ]
     },
     "execution_count": 61,
     "metadata": {},
     "output_type": "execute_result"
    }
   ],
   "source": [
    "df_pc[df_pc.dep == \"977\"].depcom.value_counts()"
   ]
  },
  {
   "cell_type": "markdown",
   "id": "808646d1-7d55-491c-8153-f4f3c0adbe49",
   "metadata": {},
   "source": [
    "Que Saint Barthélémy."
   ]
  },
  {
   "cell_type": "code",
   "execution_count": 64,
   "id": "1d53f921-461c-4346-903e-44a5adf4e0a1",
   "metadata": {
    "tags": []
   },
   "outputs": [
    {
     "data": {
      "text/html": [
       "<div>\n",
       "<style scoped>\n",
       "    .dataframe tbody tr th:only-of-type {\n",
       "        vertical-align: middle;\n",
       "    }\n",
       "\n",
       "    .dataframe tbody tr th {\n",
       "        vertical-align: top;\n",
       "    }\n",
       "\n",
       "    .dataframe thead th {\n",
       "        text-align: right;\n",
       "    }\n",
       "</style>\n",
       "<table border=\"1\" class=\"dataframe\">\n",
       "  <thead>\n",
       "    <tr style=\"text-align: right;\">\n",
       "      <th></th>\n",
       "      <th>id</th>\n",
       "      <th>depcom</th>\n",
       "      <th>ea_type</th>\n",
       "      <th>nb_log</th>\n",
       "      <th>hab_construction_an</th>\n",
       "      <th>x</th>\n",
       "      <th>y</th>\n",
       "      <th>code_epsg</th>\n",
       "      <th>code_ilot</th>\n",
       "      <th>grp_rotation</th>\n",
       "      <th>millesime</th>\n",
       "      <th>date_livraison</th>\n",
       "      <th>reperage</th>\n",
       "      <th>dep</th>\n",
       "    </tr>\n",
       "  </thead>\n",
       "  <tbody>\n",
       "    <tr>\n",
       "      <th>0</th>\n",
       "      <td>32033149</td>\n",
       "      <td>97102</td>\n",
       "      <td>HABIT</td>\n",
       "      <td>0.0</td>\n",
       "      <td>1900.0</td>\n",
       "      <td>663634.543</td>\n",
       "      <td>1825946.61</td>\n",
       "      <td>4559</td>\n",
       "      <td>PED1</td>\n",
       "      <td>5.0</td>\n",
       "      <td>2023</td>\n",
       "      <td>2022-10-05 16:41:04.000</td>\n",
       "      <td>COMMERCES</td>\n",
       "      <td>Guadeloupe</td>\n",
       "    </tr>\n",
       "    <tr>\n",
       "      <th>1</th>\n",
       "      <td>32033150</td>\n",
       "      <td>97102</td>\n",
       "      <td>HABIT</td>\n",
       "      <td>1.0</td>\n",
       "      <td>1900.0</td>\n",
       "      <td>662540.599</td>\n",
       "      <td>1825264.35</td>\n",
       "      <td>4559</td>\n",
       "      <td>PED1</td>\n",
       "      <td>5.0</td>\n",
       "      <td>2023</td>\n",
       "      <td>2022-10-05 16:41:04.000</td>\n",
       "      <td>PORTAIL VERT / TOIT BLC</td>\n",
       "      <td>Guadeloupe</td>\n",
       "    </tr>\n",
       "    <tr>\n",
       "      <th>2</th>\n",
       "      <td>32033151</td>\n",
       "      <td>97102</td>\n",
       "      <td>HABIT</td>\n",
       "      <td>6.0</td>\n",
       "      <td>1900.0</td>\n",
       "      <td>662512.349</td>\n",
       "      <td>1825143.23</td>\n",
       "      <td>4559</td>\n",
       "      <td>PED1</td>\n",
       "      <td>5.0</td>\n",
       "      <td>2023</td>\n",
       "      <td>2022-10-05 16:41:04.000</td>\n",
       "      <td>ACCES CHEM GITES</td>\n",
       "      <td>Guadeloupe</td>\n",
       "    </tr>\n",
       "    <tr>\n",
       "      <th>3</th>\n",
       "      <td>32033152</td>\n",
       "      <td>97102</td>\n",
       "      <td>HABIT</td>\n",
       "      <td>1.0</td>\n",
       "      <td>1900.0</td>\n",
       "      <td>662573.224</td>\n",
       "      <td>1825054.98</td>\n",
       "      <td>4559</td>\n",
       "      <td>PED1</td>\n",
       "      <td>5.0</td>\n",
       "      <td>2023</td>\n",
       "      <td>2022-10-05 16:41:04.000</td>\n",
       "      <td>MAISON JAUNE /TOIT BLEU</td>\n",
       "      <td>Guadeloupe</td>\n",
       "    </tr>\n",
       "    <tr>\n",
       "      <th>4</th>\n",
       "      <td>32033153</td>\n",
       "      <td>97102</td>\n",
       "      <td>HABIT</td>\n",
       "      <td>1.0</td>\n",
       "      <td>1900.0</td>\n",
       "      <td>662645.662</td>\n",
       "      <td>1824859.98</td>\n",
       "      <td>4559</td>\n",
       "      <td>PED1</td>\n",
       "      <td>5.0</td>\n",
       "      <td>2023</td>\n",
       "      <td>2022-10-05 16:41:04.000</td>\n",
       "      <td>ACCES CHEM</td>\n",
       "      <td>Guadeloupe</td>\n",
       "    </tr>\n",
       "  </tbody>\n",
       "</table>\n",
       "</div>"
      ],
      "text/plain": [
       "         id  depcom ea_type  nb_log  hab_construction_an           x  \\\n",
       "0  32033149   97102   HABIT     0.0               1900.0  663634.543   \n",
       "1  32033150   97102   HABIT     1.0               1900.0  662540.599   \n",
       "2  32033151   97102   HABIT     6.0               1900.0  662512.349   \n",
       "3  32033152   97102   HABIT     1.0               1900.0  662573.224   \n",
       "4  32033153   97102   HABIT     1.0               1900.0  662645.662   \n",
       "\n",
       "            y  code_epsg code_ilot  grp_rotation  millesime  \\\n",
       "0  1825946.61       4559      PED1           5.0       2023   \n",
       "1  1825264.35       4559      PED1           5.0       2023   \n",
       "2  1825143.23       4559      PED1           5.0       2023   \n",
       "3  1825054.98       4559      PED1           5.0       2023   \n",
       "4  1824859.98       4559      PED1           5.0       2023   \n",
       "\n",
       "            date_livraison                 reperage         dep  \n",
       "0  2022-10-05 16:41:04.000                COMMERCES  Guadeloupe  \n",
       "1  2022-10-05 16:41:04.000  PORTAIL VERT / TOIT BLC  Guadeloupe  \n",
       "2  2022-10-05 16:41:04.000         ACCES CHEM GITES  Guadeloupe  \n",
       "3  2022-10-05 16:41:04.000  MAISON JAUNE /TOIT BLEU  Guadeloupe  \n",
       "4  2022-10-05 16:41:04.000               ACCES CHEM  Guadeloupe  "
      ]
     },
     "execution_count": 64,
     "metadata": {},
     "output_type": "execute_result"
    }
   ],
   "source": [
    "dep_mapping = {\n",
    "    \"971\": \"Guadeloupe\",\n",
    "    \"972\": \"Martinique\",\n",
    "    \"973\": \"Guyane\",\n",
    "    \"974\": \"Réunion\",\n",
    "    \"976\": \"Mayotte\",\n",
    "    \"977\": \"Saint-Barthélémy\",\n",
    "}\n",
    "df_pc[\"dep\"] = df_pc[\"dep\"].apply(lambda x: dep_mapping[x])\n",
    "df_pc.head()"
   ]
  },
  {
   "cell_type": "code",
   "execution_count": 65,
   "id": "e0db8cd5-87c6-4ca8-a683-7b2beb3e78b4",
   "metadata": {
    "tags": []
   },
   "outputs": [
    {
     "data": {
      "text/plain": [
       "HABIT    135683\n",
       "HOTEL       117\n",
       "COMMU       115\n",
       "Name: ea_type, dtype: int64"
      ]
     },
     "execution_count": 65,
     "metadata": {},
     "output_type": "execute_result"
    }
   ],
   "source": [
    "df_pc.ea_type.value_counts()"
   ]
  },
  {
   "cell_type": "code",
   "execution_count": 67,
   "id": "cc762cf8-b040-4a08-9b5a-7bea5cf412fb",
   "metadata": {
    "tags": []
   },
   "outputs": [
    {
     "data": {
      "image/png": "[encoded data removed]",
      "text/plain": [
       "<Figure size 640x480 with 1 Axes>"
      ]
     },
     "metadata": {},
     "output_type": "display_data"
    }
   ],
   "source": [
    "from matplotlib import pyplot as plt\n",
    "\n",
    "plt.hist(df_pc[\"hab_construction_an\"], bins=100)\n",
    "plt.show()"
   ]
  },
  {
   "cell_type": "markdown",
   "id": "6ad22c74-4422-4f81-b4ef-f7f435050a9f",
   "metadata": {},
   "source": [
    "Variable pas exploitable."
   ]
  },
  {
   "cell_type": "code",
   "execution_count": 68,
   "id": "cc921dc7-2a6e-450c-b160-59efaf9f4d43",
   "metadata": {
    "tags": []
   },
   "outputs": [
    {
     "data": {
      "text/plain": [
       "4559    85481\n",
       "2975    32288\n",
       "4471    10308\n",
       "2972     7838\n",
       "Name: code_epsg, dtype: int64"
      ]
     },
     "execution_count": 68,
     "metadata": {},
     "output_type": "execute_result"
    }
   ],
   "source": [
    "df_pc.code_epsg.value_counts()"
   ]
  },
  {
   "cell_type": "code",
   "execution_count": 71,
   "id": "d65907b5-8d8a-4ba0-a4a6-94fffba47e25",
   "metadata": {
    "tags": []
   },
   "outputs": [
    {
     "data": {
      "text/plain": [
       "dep               code_epsg\n",
       "Guadeloupe        4559         43248\n",
       "Guyane            2972          7838\n",
       "Martinique        4559         36829\n",
       "Mayotte           4471         10308\n",
       "Réunion           2975         32288\n",
       "Saint-Barthélémy  4559          5404\n",
       "Name: id, dtype: int64"
      ]
     },
     "execution_count": 71,
     "metadata": {},
     "output_type": "execute_result"
    }
   ],
   "source": [
    "df_pc.groupby([\"dep\", \"code_epsg\"])[\"id\"].count()"
   ]
  },
  {
   "cell_type": "code",
   "execution_count": 73,
   "id": "7372f530-018d-4e65-80cc-1d4e537bf834",
   "metadata": {
    "tags": []
   },
   "outputs": [],
   "source": [
    "dep_to_epsg = {\n",
    "    \"Guadeloupe\": 4559,\n",
    "    \"Guyane\": 2972,\n",
    "    \"Martinique\": 4559,\n",
    "    \"Mayotte\": 4471,\n",
    "    \"Réunion\": 2975,\n",
    "    \"Saint-Barthélémy\": 4559\n",
    "}"
   ]
  },
  {
   "cell_type": "code",
   "execution_count": 74,
   "id": "acea6d27-407c-450f-bc76-790923f19701",
   "metadata": {
    "tags": []
   },
   "outputs": [
    {
     "data": {
      "text/plain": [
       "AM01    1615\n",
       "AW01    1522\n",
       "AP01    1481\n",
       "AO01    1370\n",
       "AM02    1284\n",
       "        ... \n",
       "BP04       1\n",
       "79         1\n",
       "BL03       1\n",
       "BI02       1\n",
       "AT18       1\n",
       "Name: code_ilot, Length: 878, dtype: int64"
      ]
     },
     "execution_count": 74,
     "metadata": {},
     "output_type": "execute_result"
    }
   ],
   "source": [
    "df_pc.code_ilot.value_counts()"
   ]
  },
  {
   "cell_type": "code",
   "execution_count": 75,
   "id": "4fe1ffa6-f482-4066-aacb-60e91d55fd40",
   "metadata": {
    "tags": []
   },
   "outputs": [
    {
     "data": {
      "text/plain": [
       "5.0    41419\n",
       "2.0    33270\n",
       "4.0    32087\n",
       "3.0    29124\n",
       "Name: grp_rotation, dtype: int64"
      ]
     },
     "execution_count": 75,
     "metadata": {},
     "output_type": "execute_result"
    }
   ],
   "source": [
    "df_pc.grp_rotation.value_counts()"
   ]
  },
  {
   "cell_type": "code",
   "execution_count": 76,
   "id": "68ea9680-1fcf-4be4-b0f1-a7149a2f6581",
   "metadata": {
    "tags": []
   },
   "outputs": [
    {
     "data": {
      "text/plain": [
       "dep               grp_rotation\n",
       "Guadeloupe        2.0              9504\n",
       "                  3.0             12849\n",
       "                  4.0             12798\n",
       "                  5.0              8093\n",
       "Guyane            2.0              3379\n",
       "                  3.0              1197\n",
       "                  4.0              1355\n",
       "                  5.0              1898\n",
       "Martinique        2.0              8101\n",
       "                  3.0              8621\n",
       "                  4.0              8770\n",
       "                  5.0             11337\n",
       "Mayotte           3.0              2539\n",
       "                  4.0              5137\n",
       "                  5.0              2632\n",
       "Réunion           2.0             12286\n",
       "                  3.0              3918\n",
       "                  4.0              4027\n",
       "                  5.0             12055\n",
       "Saint-Barthélémy  5.0              5404\n",
       "Name: id, dtype: int64"
      ]
     },
     "execution_count": 76,
     "metadata": {},
     "output_type": "execute_result"
    }
   ],
   "source": [
    "df_pc.groupby([\"dep\", \"grp_rotation\"])[\"id\"].count()"
   ]
  },
  {
   "cell_type": "markdown",
   "id": "9c305930-ffd6-4b2b-b6cb-68a6dd440c20",
   "metadata": {},
   "source": [
    "Le GR 1 a été enquêté à l’EAR 2019 donc son enquête carto a eu lieu de mai à août 2018, ..., GR5 -> EAR 2023 donc enquête carto de mai à août 2022. Avec l’annulation de l’EAR 2021 sauf à Mayotte, les PC (sauf Mayotte) ont été décalées d’un GR, ainsi par exemple les PC du GR3 (EAR 2021 et enquête carto 2020) sont passées dans le GR4 et ont 2 RIL consécutifs (millesimes 2021 et 2022). Certaines PC n’ont pas de RIL. \n",
    "J’ai également mis le fichier des contours d’îlots tels qu’ils existent actuellement mais attention les contours d’îlots ont pu changer ces dernières années surtout en Guyane."
   ]
  },
  {
   "cell_type": "code",
   "execution_count": 77,
   "id": "e14ce810-9ed4-4312-9959-934c9a9b1833",
   "metadata": {
    "tags": []
   },
   "outputs": [
    {
     "data": {
      "text/plain": [
       "2020    40474\n",
       "2023    35496\n",
       "2022    31505\n",
       "2021    28440\n",
       "Name: millesime, dtype: int64"
      ]
     },
     "execution_count": 77,
     "metadata": {},
     "output_type": "execute_result"
    }
   ],
   "source": [
    "df_pc.millesime.value_counts()"
   ]
  },
  {
   "cell_type": "code",
   "execution_count": 89,
   "id": "62612c71-6093-4328-b985-47af03f0a164",
   "metadata": {
    "tags": []
   },
   "outputs": [
    {
     "data": {
      "text/plain": [
       "depcom  grp_rotation\n",
       "97119   2.0             3363\n",
       "        3.0              684\n",
       "        4.0              582\n",
       "97130   2.0              658\n",
       "97131   2.0             1044\n",
       "97132   2.0             4439\n",
       "97211   2.0              381\n",
       "97216   2.0             1489\n",
       "97218   2.0             2411\n",
       "97223   2.0             3820\n",
       "97313   2.0             1420\n",
       "97357   2.0              679\n",
       "97360   2.0             1280\n",
       "97403   2.0             3176\n",
       "97417   2.0             2336\n",
       "97419   5.0             2794\n",
       "97421   2.0             3546\n",
       "97423   2.0             3228\n",
       "97424   5.0             3129\n",
       "Name: id, dtype: int64"
      ]
     },
     "execution_count": 89,
     "metadata": {},
     "output_type": "execute_result"
    }
   ],
   "source": [
    "df_pc[df_pc.millesime == 2020].groupby([\"depcom\", \"grp_rotation\"])[\"id\"].count()"
   ]
  },
  {
   "cell_type": "markdown",
   "id": "7b845a66-bf89-40a4-b3ea-347d3ed79369",
   "metadata": {},
   "source": [
    "Comprendre pourquoi ?"
   ]
  },
  {
   "cell_type": "code",
   "execution_count": 91,
   "id": "28c65918-0592-4cd8-a1c6-6dfb81855505",
   "metadata": {
    "tags": []
   },
   "outputs": [
    {
     "data": {
      "text/plain": [
       "depcom  grp_rotation\n",
       "97108   3.0             2516\n",
       "97109   3.0             3445\n",
       "97112   3.0             3897\n",
       "97126   3.0             2307\n",
       "97202   3.0             2079\n",
       "97205   3.0             1568\n",
       "97215   3.0              549\n",
       "97217   3.0             3545\n",
       "97219   3.0              880\n",
       "97303   3.0              783\n",
       "97361   3.0              414\n",
       "97406   3.0             3918\n",
       "97613   3.0             2539\n",
       "Name: id, dtype: int64"
      ]
     },
     "execution_count": 91,
     "metadata": {},
     "output_type": "execute_result"
    }
   ],
   "source": [
    "df_pc[df_pc.millesime == 2021].groupby([\"depcom\", \"grp_rotation\"])[\"id\"].count()"
   ]
  },
  {
   "cell_type": "code",
   "execution_count": 83,
   "id": "74c1d518-97c7-4d04-8cf1-cffd73ab4e45",
   "metadata": {
    "tags": []
   },
   "outputs": [
    {
     "data": {
      "text/plain": [
       "depcom  grp_rotation\n",
       "97108   4.0             2517\n",
       "97109   4.0             3462\n",
       "97112   4.0             3897\n",
       "97126   4.0             2340\n",
       "97202   4.0             2119\n",
       "97205   4.0             1586\n",
       "97215   4.0              557\n",
       "97217   4.0             3627\n",
       "97219   4.0              881\n",
       "97303   4.0              795\n",
       "97361   4.0              560\n",
       "97406   4.0             4027\n",
       "97605   4.0             3123\n",
       "97609   4.0             2014\n",
       "Name: id, dtype: int64"
      ]
     },
     "execution_count": 83,
     "metadata": {},
     "output_type": "execute_result"
    }
   ],
   "source": [
    "df_pc[df_pc.millesime == 2022].groupby([\"depcom\", \"grp_rotation\"])[\"id\"].count()"
   ]
  },
  {
   "cell_type": "code",
   "execution_count": 84,
   "id": "32d0e114-f538-484a-b589-b8f949b04095",
   "metadata": {
    "tags": []
   },
   "outputs": [
    {
     "data": {
      "text/plain": [
       "depcom  grp_rotation\n",
       "97102   5.0             3066\n",
       "97106   5.0             4208\n",
       "97133   5.0              819\n",
       "97203   5.0             1801\n",
       "97204   5.0             1972\n",
       "97206   5.0             3088\n",
       "97231   5.0             3535\n",
       "97233   5.0              941\n",
       "97301   5.0              398\n",
       "97308   5.0             1236\n",
       "97314   5.0               68\n",
       "97352   5.0              140\n",
       "97356   5.0               56\n",
       "97419   5.0             2919\n",
       "97424   5.0             3213\n",
       "97612   5.0             2632\n",
       "97701   5.0             5404\n",
       "Name: id, dtype: int64"
      ]
     },
     "execution_count": 84,
     "metadata": {},
     "output_type": "execute_result"
    }
   ],
   "source": [
    "df_pc[df_pc.millesime == 2023].groupby([\"depcom\", \"grp_rotation\"])[\"id\"].count()"
   ]
  },
  {
   "cell_type": "code",
   "execution_count": null,
   "id": "437c86d5-3922-4876-bba1-a6ccadf66ee9",
   "metadata": {},
   "outputs": [],
   "source": [
    "depcom_to_gr_pre_2021 = {\n",
    "    97119: 2, \n",
    "    97130: 2, \n",
    "    97131: 2, \n",
    "    97132: 2, \n",
    "    97211: 2, \n",
    "    97216: 2, \n",
    "    97218: 2,\n",
    "    97223: 2, \n",
    "    97313: 2, \n",
    "    97357: 2, \n",
    "    97360: 2, \n",
    "    97403: 2, \n",
    "    97417: 2, \n",
    "    97419: 5, \n",
    "    97421: 2, \n",
    "    97423: 2,\n",
    "    97424: 5,\n",
    "    97108: 3,\n",
    "    97109: 3,\n",
    "    97112: 3, \n",
    "    97126: 3, \n",
    "    97202: 3, \n",
    "    97205: 3, \n",
    "    97215: 3, \n",
    "    97217: 3,\n",
    "    97219: 3,\n",
    "    97303: 3,\n",
    "    97361: 3,\n",
    "    97406: 3,\n",
    "    97613: 3\n",
    "}\n",
    "\n",
    "depcom_to_gr_post_2021 = {\n",
    "    97108: 4,\n",
    "    97109: 4,\n",
    "    97112: 4,\n",
    "    97126: 4,\n",
    "    97202: 4,\n",
    "    97205: 4,\n",
    "    97215: 4,\n",
    "    97217: 4,\n",
    "    97219: 4,\n",
    "    97303: 4,\n",
    "    97361: 4,\n",
    "    97406: 4,\n",
    "    97605: 4,\n",
    "    97609: 4,\n",
    "    97102: 5,\n",
    "    97106: 5,\n",
    "    97133: 5,\n",
    "    97203: 5,\n",
    "    97204: 5,\n",
    "    97206: 5,\n",
    "    97231: 5,\n",
    "    97233: 5,\n",
    "    97301: 5,\n",
    "    97308: 5,\n",
    "    97314: 5,\n",
    "    97352: 5,\n",
    "    97356: 5,\n",
    "    97419: 5,\n",
    "    97424: 5,\n",
    "    97612: 5,\n",
    "    97701: 5\n",
    "}"
   ]
  },
  {
   "cell_type": "code",
   "execution_count": 92,
   "id": "34284f88-a472-4288-8d37-ec1b3214bf3e",
   "metadata": {
    "tags": []
   },
   "outputs": [],
   "source": [
    "gr_to_validity = {\n",
    "    2: (\"2019-05\", \"2019-08\"),\n",
    "    3: (\"2020-05\", \"2020-08\"),\n",
    "    4: (\"2021-05\", \"2021-08\"),\n",
    "    5: (\"2022-05\", \"2022-08\")\n",
    "}\n",
    "\n",
    "millesime_to_validity = {\n",
    "    2020: (\"2019-05\", \"2019-08\"),\n",
    "    2021: (\"2020-05\", \"2020-08\"),\n",
    "    2022: (\"2021-05\", \"2021-08\"),\n",
    "    2023: (\"2022-05\", \"2022-08\")\n",
    "}"
   ]
  },
  {
   "cell_type": "markdown",
   "id": "b21deeb9-dc0e-44e5-9bbb-d457d8cd52aa",
   "metadata": {},
   "source": [
    "Il faut choisir ces dates de validité"
   ]
  },
  {
   "cell_type": "code",
   "execution_count": 93,
   "id": "49cbcdfa-11a7-4851-9906-bb205eded377",
   "metadata": {
    "tags": []
   },
   "outputs": [
    {
     "data": {
      "text/plain": [
       "AM01    1615\n",
       "AW01    1522\n",
       "AP01    1481\n",
       "AO01    1370\n",
       "AM02    1284\n",
       "        ... \n",
       "BP04       1\n",
       "79         1\n",
       "BL03       1\n",
       "BI02       1\n",
       "AT18       1\n",
       "Name: code_ilot, Length: 878, dtype: int64"
      ]
     },
     "execution_count": 93,
     "metadata": {},
     "output_type": "execute_result"
    }
   ],
   "source": [
    "df_pc.code_ilot.value_counts()"
   ]
  },
  {
   "cell_type": "code",
   "execution_count": 94,
   "id": "1df0de33-fc3e-4aa0-abb7-c21807409094",
   "metadata": {
    "tags": []
   },
   "outputs": [
    {
     "data": {
      "text/plain": [
       "depcom  code_ilot\n",
       "97119   AB03         114\n",
       "        AB04          18\n",
       "        AB05           4\n",
       "        AB06          62\n",
       "        AB07           8\n",
       "                    ... \n",
       "97424   AP04          16\n",
       "        AP05          35\n",
       "        AP06           4\n",
       "        AP07          25\n",
       "        AR06           2\n",
       "Name: id, Length: 1267, dtype: int64"
      ]
     },
     "execution_count": 94,
     "metadata": {},
     "output_type": "execute_result"
    }
   ],
   "source": [
    "df_pc[df_pc.millesime == 2020].groupby([\"depcom\", \"code_ilot\"])[\"id\"].count()"
   ]
  },
  {
   "cell_type": "markdown",
   "id": "c5ae380a-4a77-4595-b618-062509082305",
   "metadata": {},
   "source": [
    "Utilité des ilots pour les PC ?"
   ]
  },
  {
   "cell_type": "markdown",
   "id": "48030320-7588-462e-88be-cd62d9cb612d",
   "metadata": {},
   "source": [
    "## Grandes communes"
   ]
  },
  {
   "cell_type": "code",
   "execution_count": 95,
   "id": "52bb449c-55a7-4a3c-b943-7f712e38b684",
   "metadata": {
    "tags": []
   },
   "outputs": [
    {
     "name": "stderr",
     "output_type": "stream",
     "text": [
      "/tmp/ipykernel_383/341672092.py:2: DtypeWarning: Columns (5,9,14,19,20,27,29,36,39,41,42,43) have mixed types. Specify dtype option on import or set low_memory=False.\n",
      "  df_gc = pd.read_csv(f)\n"
     ]
    }
   ],
   "source": [
    "with fs.open('projet-slums-detection/Donnees/RIL/ril_gc_dom.csv', 'r') as f:\n",
    "    df_gc = pd.read_csv(f)"
   ]
  },
  {
   "cell_type": "markdown",
   "id": "c59de405-cf4f-4771-9542-aa0971dc3097",
   "metadata": {},
   "source": [
    "Data types to specify"
   ]
  },
  {
   "cell_type": "code",
   "execution_count": 96,
   "id": "0b2e5212-2e5d-4952-a8da-f751fc0cdc2d",
   "metadata": {
    "tags": []
   },
   "outputs": [
    {
     "name": "stdout",
     "output_type": "stream",
     "text": [
      "<class 'pandas.core.frame.DataFrame'>\n",
      "RangeIndex: 2564120 entries, 0 to 2564119\n",
      "Data columns (total 51 columns):\n",
      " #   Column                  Dtype  \n",
      "---  ------                  -----  \n",
      " 0   id                      int64  \n",
      " 1   depcom                  int64  \n",
      " 2   id_ea                   int64  \n",
      " 3   principal               object \n",
      " 4   numero                  int64  \n",
      " 5   repetition              object \n",
      " 6   complement              object \n",
      " 7   type_voie               object \n",
      " 8   libelle_voie            object \n",
      " 9   rivoli                  object \n",
      " 10  ea_type                 object \n",
      " 11  hab_hot_type            object \n",
      " 12  nb_log                  float64\n",
      " 13  etat                    float64\n",
      " 14  pc_num                  object \n",
      " 15  commentaire             object \n",
      " 16  hab_construction_an     float64\n",
      " 17  hab_nb_imm              float64\n",
      " 18  hab_niv                 float64\n",
      " 19  hot_sous_type           object \n",
      " 20  hot_enseigne            object \n",
      " 21  lien_cmt                float64\n",
      " 22  x                       float64\n",
      " 23  y                       float64\n",
      " 24  code_epsg               int64  \n",
      " 25  type_localisation       object \n",
      " 26  numero_parcelle         object \n",
      " 27  code_ilot               object \n",
      " 28  code_iris               float64\n",
      " 29  quartier_prioritaire    object \n",
      " 30  canton                  float64\n",
      " 31  liste_insee             object \n",
      " 32  id_rp                   object \n",
      " 33  dernier_tirage          float64\n",
      " 34  echantillon             object \n",
      " 35  grp_rotation            float64\n",
      " 36  date_maj_ea             object \n",
      " 37  com_anc_idft            float64\n",
      " 38  com_type                float64\n",
      " 39  com_statut              object \n",
      " 40  com_nb_log_fonction     float64\n",
      " 41  com_nom                 object \n",
      " 42  com_date_creation_base  object \n",
      " 43  com_date_fermeture      object \n",
      " 44  com_capacite_theorique  float64\n",
      " 45  millesime               int64  \n",
      " 46  date_livraison          object \n",
      " 47  ref_ea                  int64  \n",
      " 48  id_rca_adresse          int64  \n",
      " 49  reperage                object \n",
      " 50  id_ea_regroup           float64\n",
      "dtypes: float64(17), int64(8), object(26)\n",
      "memory usage: 997.7+ MB\n"
     ]
    }
   ],
   "source": [
    "df_gc.info()"
   ]
  },
  {
   "cell_type": "code",
   "execution_count": 97,
   "id": "66a0c6d0-be80-4875-879b-e64b0fa51606",
   "metadata": {
    "tags": []
   },
   "outputs": [
    {
     "data": {
      "text/html": [
       "<div>\n",
       "<style scoped>\n",
       "    .dataframe tbody tr th:only-of-type {\n",
       "        vertical-align: middle;\n",
       "    }\n",
       "\n",
       "    .dataframe tbody tr th {\n",
       "        vertical-align: top;\n",
       "    }\n",
       "\n",
       "    .dataframe thead th {\n",
       "        text-align: right;\n",
       "    }\n",
       "</style>\n",
       "<table border=\"1\" class=\"dataframe\">\n",
       "  <thead>\n",
       "    <tr style=\"text-align: right;\">\n",
       "      <th></th>\n",
       "      <th>id</th>\n",
       "      <th>depcom</th>\n",
       "      <th>id_ea</th>\n",
       "      <th>principal</th>\n",
       "      <th>numero</th>\n",
       "      <th>repetition</th>\n",
       "      <th>complement</th>\n",
       "      <th>type_voie</th>\n",
       "      <th>libelle_voie</th>\n",
       "      <th>rivoli</th>\n",
       "      <th>ea_type</th>\n",
       "      <th>hab_hot_type</th>\n",
       "      <th>nb_log</th>\n",
       "      <th>etat</th>\n",
       "      <th>pc_num</th>\n",
       "      <th>commentaire</th>\n",
       "      <th>hab_construction_an</th>\n",
       "      <th>hab_nb_imm</th>\n",
       "      <th>hab_niv</th>\n",
       "      <th>hot_sous_type</th>\n",
       "      <th>hot_enseigne</th>\n",
       "      <th>lien_cmt</th>\n",
       "      <th>x</th>\n",
       "      <th>y</th>\n",
       "      <th>code_epsg</th>\n",
       "      <th>type_localisation</th>\n",
       "      <th>numero_parcelle</th>\n",
       "      <th>code_ilot</th>\n",
       "      <th>code_iris</th>\n",
       "      <th>quartier_prioritaire</th>\n",
       "      <th>canton</th>\n",
       "      <th>liste_insee</th>\n",
       "      <th>id_rp</th>\n",
       "      <th>dernier_tirage</th>\n",
       "      <th>echantillon</th>\n",
       "      <th>grp_rotation</th>\n",
       "      <th>date_maj_ea</th>\n",
       "      <th>com_anc_idft</th>\n",
       "      <th>com_type</th>\n",
       "      <th>com_statut</th>\n",
       "      <th>com_nb_log_fonction</th>\n",
       "      <th>com_nom</th>\n",
       "      <th>com_date_creation_base</th>\n",
       "      <th>com_date_fermeture</th>\n",
       "      <th>com_capacite_theorique</th>\n",
       "      <th>millesime</th>\n",
       "      <th>date_livraison</th>\n",
       "      <th>ref_ea</th>\n",
       "      <th>id_rca_adresse</th>\n",
       "      <th>reperage</th>\n",
       "      <th>id_ea_regroup</th>\n",
       "    </tr>\n",
       "  </thead>\n",
       "  <tbody>\n",
       "    <tr>\n",
       "      <th>0</th>\n",
       "      <td>32037034</td>\n",
       "      <td>97101</td>\n",
       "      <td>971010000018000</td>\n",
       "      <td>O</td>\n",
       "      <td>0</td>\n",
       "      <td>NaN</td>\n",
       "      <td>NaN</td>\n",
       "      <td>RTE</td>\n",
       "      <td>DE CADUC</td>\n",
       "      <td>0209</td>\n",
       "      <td>HABIT</td>\n",
       "      <td>0052</td>\n",
       "      <td>0.0</td>\n",
       "      <td>1.0</td>\n",
       "      <td>NaN</td>\n",
       "      <td>NaN</td>\n",
       "      <td>1900.0</td>\n",
       "      <td>0.0</td>\n",
       "      <td>0.0</td>\n",
       "      <td>NaN</td>\n",
       "      <td>NaN</td>\n",
       "      <td>1.0</td>\n",
       "      <td>661399.506</td>\n",
       "      <td>1802848.75</td>\n",
       "      <td>4559</td>\n",
       "      <td>CIC</td>\n",
       "      <td>NaN</td>\n",
       "      <td>AH03</td>\n",
       "      <td>113.0</td>\n",
       "      <td>NaN</td>\n",
       "      <td>2.0</td>\n",
       "      <td>O</td>\n",
       "      <td>97101   AH03 001</td>\n",
       "      <td>NaN</td>\n",
       "      <td>N</td>\n",
       "      <td>5.0</td>\n",
       "      <td>NaN</td>\n",
       "      <td>NaN</td>\n",
       "      <td>NaN</td>\n",
       "      <td>NaN</td>\n",
       "      <td>NaN</td>\n",
       "      <td>NaN</td>\n",
       "      <td>NaN</td>\n",
       "      <td>NaN</td>\n",
       "      <td>NaN</td>\n",
       "      <td>2023</td>\n",
       "      <td>2022-10-06 14:06:15.000</td>\n",
       "      <td>12693968</td>\n",
       "      <td>13781464</td>\n",
       "      <td>CHENIL</td>\n",
       "      <td>NaN</td>\n",
       "    </tr>\n",
       "    <tr>\n",
       "      <th>1</th>\n",
       "      <td>32037035</td>\n",
       "      <td>97101</td>\n",
       "      <td>971010000016555</td>\n",
       "      <td>O</td>\n",
       "      <td>0</td>\n",
       "      <td>NaN</td>\n",
       "      <td>NaN</td>\n",
       "      <td>RTE</td>\n",
       "      <td>DE CADUC</td>\n",
       "      <td>0209</td>\n",
       "      <td>HABIT</td>\n",
       "      <td>002D</td>\n",
       "      <td>1.0</td>\n",
       "      <td>1.0</td>\n",
       "      <td>NaN</td>\n",
       "      <td>NaN</td>\n",
       "      <td>1900.0</td>\n",
       "      <td>1.0</td>\n",
       "      <td>1.0</td>\n",
       "      <td>NaN</td>\n",
       "      <td>NaN</td>\n",
       "      <td>1.0</td>\n",
       "      <td>662317.510</td>\n",
       "      <td>1802803.62</td>\n",
       "      <td>4559</td>\n",
       "      <td>CIC</td>\n",
       "      <td>NaN</td>\n",
       "      <td>AH04</td>\n",
       "      <td>113.0</td>\n",
       "      <td>NaN</td>\n",
       "      <td>2.0</td>\n",
       "      <td>N</td>\n",
       "      <td>97101   AH04 036</td>\n",
       "      <td>NaN</td>\n",
       "      <td>N</td>\n",
       "      <td>4.0</td>\n",
       "      <td>NaN</td>\n",
       "      <td>NaN</td>\n",
       "      <td>NaN</td>\n",
       "      <td>NaN</td>\n",
       "      <td>NaN</td>\n",
       "      <td>NaN</td>\n",
       "      <td>NaN</td>\n",
       "      <td>NaN</td>\n",
       "      <td>NaN</td>\n",
       "      <td>2023</td>\n",
       "      <td>2022-10-06 14:06:15.000</td>\n",
       "      <td>12693993</td>\n",
       "      <td>13781490</td>\n",
       "      <td>EN HAUTEUR MEME ENTREE QUE 020</td>\n",
       "      <td>NaN</td>\n",
       "    </tr>\n",
       "    <tr>\n",
       "      <th>2</th>\n",
       "      <td>32037036</td>\n",
       "      <td>97101</td>\n",
       "      <td>971010000016537</td>\n",
       "      <td>O</td>\n",
       "      <td>0</td>\n",
       "      <td>NaN</td>\n",
       "      <td>NaN</td>\n",
       "      <td>RTE</td>\n",
       "      <td>DE CADUC</td>\n",
       "      <td>0209</td>\n",
       "      <td>HABIT</td>\n",
       "      <td>002D</td>\n",
       "      <td>1.0</td>\n",
       "      <td>1.0</td>\n",
       "      <td>NaN</td>\n",
       "      <td>NaN</td>\n",
       "      <td>1900.0</td>\n",
       "      <td>1.0</td>\n",
       "      <td>1.0</td>\n",
       "      <td>NaN</td>\n",
       "      <td>NaN</td>\n",
       "      <td>1.0</td>\n",
       "      <td>662318.385</td>\n",
       "      <td>1802718.25</td>\n",
       "      <td>4559</td>\n",
       "      <td>CIC</td>\n",
       "      <td>NaN</td>\n",
       "      <td>AH04</td>\n",
       "      <td>113.0</td>\n",
       "      <td>NaN</td>\n",
       "      <td>2.0</td>\n",
       "      <td>N</td>\n",
       "      <td>97101   AH04 018</td>\n",
       "      <td>NaN</td>\n",
       "      <td>N</td>\n",
       "      <td>4.0</td>\n",
       "      <td>NaN</td>\n",
       "      <td>NaN</td>\n",
       "      <td>NaN</td>\n",
       "      <td>NaN</td>\n",
       "      <td>NaN</td>\n",
       "      <td>NaN</td>\n",
       "      <td>NaN</td>\n",
       "      <td>NaN</td>\n",
       "      <td>NaN</td>\n",
       "      <td>2023</td>\n",
       "      <td>2022-10-06 14:06:15.000</td>\n",
       "      <td>12694053</td>\n",
       "      <td>13781557</td>\n",
       "      <td>TOIT BLEU NUIT</td>\n",
       "      <td>NaN</td>\n",
       "    </tr>\n",
       "    <tr>\n",
       "      <th>3</th>\n",
       "      <td>32037037</td>\n",
       "      <td>97101</td>\n",
       "      <td>971010000018082</td>\n",
       "      <td>O</td>\n",
       "      <td>0</td>\n",
       "      <td>NaN</td>\n",
       "      <td>NaN</td>\n",
       "      <td>RTE</td>\n",
       "      <td>DE CADUC</td>\n",
       "      <td>0209</td>\n",
       "      <td>HABIT</td>\n",
       "      <td>0052</td>\n",
       "      <td>0.0</td>\n",
       "      <td>1.0</td>\n",
       "      <td>NaN</td>\n",
       "      <td>NaN</td>\n",
       "      <td>1900.0</td>\n",
       "      <td>0.0</td>\n",
       "      <td>0.0</td>\n",
       "      <td>NaN</td>\n",
       "      <td>NaN</td>\n",
       "      <td>1.0</td>\n",
       "      <td>661443.444</td>\n",
       "      <td>1802703.12</td>\n",
       "      <td>4559</td>\n",
       "      <td>CIC</td>\n",
       "      <td>NaN</td>\n",
       "      <td>AH03</td>\n",
       "      <td>113.0</td>\n",
       "      <td>NaN</td>\n",
       "      <td>2.0</td>\n",
       "      <td>O</td>\n",
       "      <td>97101   AH03 080</td>\n",
       "      <td>NaN</td>\n",
       "      <td>N</td>\n",
       "      <td>5.0</td>\n",
       "      <td>NaN</td>\n",
       "      <td>NaN</td>\n",
       "      <td>NaN</td>\n",
       "      <td>NaN</td>\n",
       "      <td>NaN</td>\n",
       "      <td>NaN</td>\n",
       "      <td>NaN</td>\n",
       "      <td>NaN</td>\n",
       "      <td>NaN</td>\n",
       "      <td>2023</td>\n",
       "      <td>2022-10-06 14:06:15.000</td>\n",
       "      <td>12694070</td>\n",
       "      <td>13781574</td>\n",
       "      <td>ATELIZR DE COUTURE</td>\n",
       "      <td>NaN</td>\n",
       "    </tr>\n",
       "    <tr>\n",
       "      <th>4</th>\n",
       "      <td>32037038</td>\n",
       "      <td>97101</td>\n",
       "      <td>971010000018023</td>\n",
       "      <td>O</td>\n",
       "      <td>63</td>\n",
       "      <td>NaN</td>\n",
       "      <td>NaN</td>\n",
       "      <td>VOI</td>\n",
       "      <td>VILLAGE CADUC VOIE A</td>\n",
       "      <td>B048</td>\n",
       "      <td>HABIT</td>\n",
       "      <td>002D</td>\n",
       "      <td>1.0</td>\n",
       "      <td>1.0</td>\n",
       "      <td>NaN</td>\n",
       "      <td>NaN</td>\n",
       "      <td>1900.0</td>\n",
       "      <td>1.0</td>\n",
       "      <td>1.0</td>\n",
       "      <td>NaN</td>\n",
       "      <td>NaN</td>\n",
       "      <td>1.0</td>\n",
       "      <td>661537.632</td>\n",
       "      <td>1802589.00</td>\n",
       "      <td>4559</td>\n",
       "      <td>CIC</td>\n",
       "      <td>NaN</td>\n",
       "      <td>AH03</td>\n",
       "      <td>113.0</td>\n",
       "      <td>NaN</td>\n",
       "      <td>2.0</td>\n",
       "      <td>O</td>\n",
       "      <td>97101   AH03 024</td>\n",
       "      <td>NaN</td>\n",
       "      <td>N</td>\n",
       "      <td>5.0</td>\n",
       "      <td>NaN</td>\n",
       "      <td>NaN</td>\n",
       "      <td>NaN</td>\n",
       "      <td>NaN</td>\n",
       "      <td>NaN</td>\n",
       "      <td>NaN</td>\n",
       "      <td>NaN</td>\n",
       "      <td>NaN</td>\n",
       "      <td>NaN</td>\n",
       "      <td>2023</td>\n",
       "      <td>2022-10-06 14:06:15.000</td>\n",
       "      <td>12694190</td>\n",
       "      <td>13781695</td>\n",
       "      <td>NaN</td>\n",
       "      <td>NaN</td>\n",
       "    </tr>\n",
       "  </tbody>\n",
       "</table>\n",
       "</div>"
      ],
      "text/plain": [
       "         id  depcom            id_ea principal  numero repetition complement  \\\n",
       "0  32037034   97101  971010000018000         O       0        NaN        NaN   \n",
       "1  32037035   97101  971010000016555         O       0        NaN        NaN   \n",
       "2  32037036   97101  971010000016537         O       0        NaN        NaN   \n",
       "3  32037037   97101  971010000018082         O       0        NaN        NaN   \n",
       "4  32037038   97101  971010000018023         O      63        NaN        NaN   \n",
       "\n",
       "  type_voie          libelle_voie rivoli ea_type hab_hot_type  nb_log  etat  \\\n",
       "0       RTE              DE CADUC   0209   HABIT         0052     0.0   1.0   \n",
       "1       RTE              DE CADUC   0209   HABIT         002D     1.0   1.0   \n",
       "2       RTE              DE CADUC   0209   HABIT         002D     1.0   1.0   \n",
       "3       RTE              DE CADUC   0209   HABIT         0052     0.0   1.0   \n",
       "4       VOI  VILLAGE CADUC VOIE A   B048   HABIT         002D     1.0   1.0   \n",
       "\n",
       "  pc_num commentaire  hab_construction_an  hab_nb_imm  hab_niv hot_sous_type  \\\n",
       "0    NaN         NaN               1900.0         0.0      0.0           NaN   \n",
       "1    NaN         NaN               1900.0         1.0      1.0           NaN   \n",
       "2    NaN         NaN               1900.0         1.0      1.0           NaN   \n",
       "3    NaN         NaN               1900.0         0.0      0.0           NaN   \n",
       "4    NaN         NaN               1900.0         1.0      1.0           NaN   \n",
       "\n",
       "  hot_enseigne  lien_cmt           x           y  code_epsg type_localisation  \\\n",
       "0          NaN       1.0  661399.506  1802848.75       4559               CIC   \n",
       "1          NaN       1.0  662317.510  1802803.62       4559               CIC   \n",
       "2          NaN       1.0  662318.385  1802718.25       4559               CIC   \n",
       "3          NaN       1.0  661443.444  1802703.12       4559               CIC   \n",
       "4          NaN       1.0  661537.632  1802589.00       4559               CIC   \n",
       "\n",
       "  numero_parcelle code_ilot  code_iris quartier_prioritaire  canton  \\\n",
       "0             NaN      AH03      113.0                  NaN     2.0   \n",
       "1             NaN      AH04      113.0                  NaN     2.0   \n",
       "2             NaN      AH04      113.0                  NaN     2.0   \n",
       "3             NaN      AH03      113.0                  NaN     2.0   \n",
       "4             NaN      AH03      113.0                  NaN     2.0   \n",
       "\n",
       "  liste_insee             id_rp  dernier_tirage echantillon  grp_rotation  \\\n",
       "0           O  97101   AH03 001             NaN           N           5.0   \n",
       "1           N  97101   AH04 036             NaN           N           4.0   \n",
       "2           N  97101   AH04 018             NaN           N           4.0   \n",
       "3           O  97101   AH03 080             NaN           N           5.0   \n",
       "4           O  97101   AH03 024             NaN           N           5.0   \n",
       "\n",
       "  date_maj_ea  com_anc_idft  com_type com_statut  com_nb_log_fonction com_nom  \\\n",
       "0         NaN           NaN       NaN        NaN                  NaN     NaN   \n",
       "1         NaN           NaN       NaN        NaN                  NaN     NaN   \n",
       "2         NaN           NaN       NaN        NaN                  NaN     NaN   \n",
       "3         NaN           NaN       NaN        NaN                  NaN     NaN   \n",
       "4         NaN           NaN       NaN        NaN                  NaN     NaN   \n",
       "\n",
       "  com_date_creation_base com_date_fermeture  com_capacite_theorique  \\\n",
       "0                    NaN                NaN                     NaN   \n",
       "1                    NaN                NaN                     NaN   \n",
       "2                    NaN                NaN                     NaN   \n",
       "3                    NaN                NaN                     NaN   \n",
       "4                    NaN                NaN                     NaN   \n",
       "\n",
       "   millesime           date_livraison    ref_ea  id_rca_adresse  \\\n",
       "0       2023  2022-10-06 14:06:15.000  12693968        13781464   \n",
       "1       2023  2022-10-06 14:06:15.000  12693993        13781490   \n",
       "2       2023  2022-10-06 14:06:15.000  12694053        13781557   \n",
       "3       2023  2022-10-06 14:06:15.000  12694070        13781574   \n",
       "4       2023  2022-10-06 14:06:15.000  12694190        13781695   \n",
       "\n",
       "                         reperage  id_ea_regroup  \n",
       "0                          CHENIL            NaN  \n",
       "1  EN HAUTEUR MEME ENTREE QUE 020            NaN  \n",
       "2                  TOIT BLEU NUIT            NaN  \n",
       "3              ATELIZR DE COUTURE            NaN  \n",
       "4                             NaN            NaN  "
      ]
     },
     "execution_count": 97,
     "metadata": {},
     "output_type": "execute_result"
    }
   ],
   "source": [
    "df_gc.head()"
   ]
  },
  {
   "cell_type": "code",
   "execution_count": 99,
   "id": "17bf1eb2-33e9-4918-8d18-0d42f9bf6545",
   "metadata": {
    "tags": []
   },
   "outputs": [],
   "source": [
    "df_gc[\"dep\"] = df_gc[\"depcom\"].astype(str).str[:3]"
   ]
  },
  {
   "cell_type": "code",
   "execution_count": 100,
   "id": "8e924ffb-6691-4429-9619-3fe72ba7b12a",
   "metadata": {
    "tags": []
   },
   "outputs": [
    {
     "data": {
      "text/plain": [
       "974    1124595\n",
       "971     590166\n",
       "972     430787\n",
       "973     229074\n",
       "976     147351\n",
       "978      42147\n",
       "Name: dep, dtype: int64"
      ]
     },
     "execution_count": 100,
     "metadata": {},
     "output_type": "execute_result"
    }
   ],
   "source": [
    "df_gc.dep.value_counts()"
   ]
  },
  {
   "cell_type": "code",
   "execution_count": 102,
   "id": "781f3b14-f670-40c8-ad44-7e6e7d319645",
   "metadata": {
    "tags": []
   },
   "outputs": [
    {
     "data": {
      "text/plain": [
       "97801    42147\n",
       "Name: depcom, dtype: int64"
      ]
     },
     "execution_count": 102,
     "metadata": {},
     "output_type": "execute_result"
    }
   ],
   "source": [
    "df_gc[df_gc.dep == \"978\"].depcom.value_counts()"
   ]
  },
  {
   "cell_type": "markdown",
   "id": "d2c52bb4-ff31-4767-b98e-c75afbc87dce",
   "metadata": {},
   "source": [
    "Que Saint Martin."
   ]
  },
  {
   "cell_type": "code",
   "execution_count": 103,
   "id": "49ab7334-215b-4d77-8d20-2643238e6cab",
   "metadata": {
    "tags": []
   },
   "outputs": [
    {
     "data": {
      "text/html": [
       "<div>\n",
       "<style scoped>\n",
       "    .dataframe tbody tr th:only-of-type {\n",
       "        vertical-align: middle;\n",
       "    }\n",
       "\n",
       "    .dataframe tbody tr th {\n",
       "        vertical-align: top;\n",
       "    }\n",
       "\n",
       "    .dataframe thead th {\n",
       "        text-align: right;\n",
       "    }\n",
       "</style>\n",
       "<table border=\"1\" class=\"dataframe\">\n",
       "  <thead>\n",
       "    <tr style=\"text-align: right;\">\n",
       "      <th></th>\n",
       "      <th>id</th>\n",
       "      <th>depcom</th>\n",
       "      <th>id_ea</th>\n",
       "      <th>principal</th>\n",
       "      <th>numero</th>\n",
       "      <th>repetition</th>\n",
       "      <th>complement</th>\n",
       "      <th>type_voie</th>\n",
       "      <th>libelle_voie</th>\n",
       "      <th>rivoli</th>\n",
       "      <th>ea_type</th>\n",
       "      <th>hab_hot_type</th>\n",
       "      <th>nb_log</th>\n",
       "      <th>etat</th>\n",
       "      <th>pc_num</th>\n",
       "      <th>commentaire</th>\n",
       "      <th>hab_construction_an</th>\n",
       "      <th>hab_nb_imm</th>\n",
       "      <th>hab_niv</th>\n",
       "      <th>hot_sous_type</th>\n",
       "      <th>hot_enseigne</th>\n",
       "      <th>lien_cmt</th>\n",
       "      <th>x</th>\n",
       "      <th>y</th>\n",
       "      <th>code_epsg</th>\n",
       "      <th>type_localisation</th>\n",
       "      <th>numero_parcelle</th>\n",
       "      <th>code_ilot</th>\n",
       "      <th>code_iris</th>\n",
       "      <th>quartier_prioritaire</th>\n",
       "      <th>canton</th>\n",
       "      <th>liste_insee</th>\n",
       "      <th>id_rp</th>\n",
       "      <th>dernier_tirage</th>\n",
       "      <th>echantillon</th>\n",
       "      <th>grp_rotation</th>\n",
       "      <th>date_maj_ea</th>\n",
       "      <th>com_anc_idft</th>\n",
       "      <th>com_type</th>\n",
       "      <th>com_statut</th>\n",
       "      <th>com_nb_log_fonction</th>\n",
       "      <th>com_nom</th>\n",
       "      <th>com_date_creation_base</th>\n",
       "      <th>com_date_fermeture</th>\n",
       "      <th>com_capacite_theorique</th>\n",
       "      <th>millesime</th>\n",
       "      <th>date_livraison</th>\n",
       "      <th>ref_ea</th>\n",
       "      <th>id_rca_adresse</th>\n",
       "      <th>reperage</th>\n",
       "      <th>id_ea_regroup</th>\n",
       "      <th>dep</th>\n",
       "    </tr>\n",
       "  </thead>\n",
       "  <tbody>\n",
       "    <tr>\n",
       "      <th>0</th>\n",
       "      <td>32037034</td>\n",
       "      <td>97101</td>\n",
       "      <td>971010000018000</td>\n",
       "      <td>O</td>\n",
       "      <td>0</td>\n",
       "      <td>NaN</td>\n",
       "      <td>NaN</td>\n",
       "      <td>RTE</td>\n",
       "      <td>DE CADUC</td>\n",
       "      <td>0209</td>\n",
       "      <td>HABIT</td>\n",
       "      <td>0052</td>\n",
       "      <td>0.0</td>\n",
       "      <td>1.0</td>\n",
       "      <td>NaN</td>\n",
       "      <td>NaN</td>\n",
       "      <td>1900.0</td>\n",
       "      <td>0.0</td>\n",
       "      <td>0.0</td>\n",
       "      <td>NaN</td>\n",
       "      <td>NaN</td>\n",
       "      <td>1.0</td>\n",
       "      <td>661399.506</td>\n",
       "      <td>1802848.75</td>\n",
       "      <td>4559</td>\n",
       "      <td>CIC</td>\n",
       "      <td>NaN</td>\n",
       "      <td>AH03</td>\n",
       "      <td>113.0</td>\n",
       "      <td>NaN</td>\n",
       "      <td>2.0</td>\n",
       "      <td>O</td>\n",
       "      <td>97101   AH03 001</td>\n",
       "      <td>NaN</td>\n",
       "      <td>N</td>\n",
       "      <td>5.0</td>\n",
       "      <td>NaN</td>\n",
       "      <td>NaN</td>\n",
       "      <td>NaN</td>\n",
       "      <td>NaN</td>\n",
       "      <td>NaN</td>\n",
       "      <td>NaN</td>\n",
       "      <td>NaN</td>\n",
       "      <td>NaN</td>\n",
       "      <td>NaN</td>\n",
       "      <td>2023</td>\n",
       "      <td>2022-10-06 14:06:15.000</td>\n",
       "      <td>12693968</td>\n",
       "      <td>13781464</td>\n",
       "      <td>CHENIL</td>\n",
       "      <td>NaN</td>\n",
       "      <td>Guadeloupe</td>\n",
       "    </tr>\n",
       "    <tr>\n",
       "      <th>1</th>\n",
       "      <td>32037035</td>\n",
       "      <td>97101</td>\n",
       "      <td>971010000016555</td>\n",
       "      <td>O</td>\n",
       "      <td>0</td>\n",
       "      <td>NaN</td>\n",
       "      <td>NaN</td>\n",
       "      <td>RTE</td>\n",
       "      <td>DE CADUC</td>\n",
       "      <td>0209</td>\n",
       "      <td>HABIT</td>\n",
       "      <td>002D</td>\n",
       "      <td>1.0</td>\n",
       "      <td>1.0</td>\n",
       "      <td>NaN</td>\n",
       "      <td>NaN</td>\n",
       "      <td>1900.0</td>\n",
       "      <td>1.0</td>\n",
       "      <td>1.0</td>\n",
       "      <td>NaN</td>\n",
       "      <td>NaN</td>\n",
       "      <td>1.0</td>\n",
       "      <td>662317.510</td>\n",
       "      <td>1802803.62</td>\n",
       "      <td>4559</td>\n",
       "      <td>CIC</td>\n",
       "      <td>NaN</td>\n",
       "      <td>AH04</td>\n",
       "      <td>113.0</td>\n",
       "      <td>NaN</td>\n",
       "      <td>2.0</td>\n",
       "      <td>N</td>\n",
       "      <td>97101   AH04 036</td>\n",
       "      <td>NaN</td>\n",
       "      <td>N</td>\n",
       "      <td>4.0</td>\n",
       "      <td>NaN</td>\n",
       "      <td>NaN</td>\n",
       "      <td>NaN</td>\n",
       "      <td>NaN</td>\n",
       "      <td>NaN</td>\n",
       "      <td>NaN</td>\n",
       "      <td>NaN</td>\n",
       "      <td>NaN</td>\n",
       "      <td>NaN</td>\n",
       "      <td>2023</td>\n",
       "      <td>2022-10-06 14:06:15.000</td>\n",
       "      <td>12693993</td>\n",
       "      <td>13781490</td>\n",
       "      <td>EN HAUTEUR MEME ENTREE QUE 020</td>\n",
       "      <td>NaN</td>\n",
       "      <td>Guadeloupe</td>\n",
       "    </tr>\n",
       "    <tr>\n",
       "      <th>2</th>\n",
       "      <td>32037036</td>\n",
       "      <td>97101</td>\n",
       "      <td>971010000016537</td>\n",
       "      <td>O</td>\n",
       "      <td>0</td>\n",
       "      <td>NaN</td>\n",
       "      <td>NaN</td>\n",
       "      <td>RTE</td>\n",
       "      <td>DE CADUC</td>\n",
       "      <td>0209</td>\n",
       "      <td>HABIT</td>\n",
       "      <td>002D</td>\n",
       "      <td>1.0</td>\n",
       "      <td>1.0</td>\n",
       "      <td>NaN</td>\n",
       "      <td>NaN</td>\n",
       "      <td>1900.0</td>\n",
       "      <td>1.0</td>\n",
       "      <td>1.0</td>\n",
       "      <td>NaN</td>\n",
       "      <td>NaN</td>\n",
       "      <td>1.0</td>\n",
       "      <td>662318.385</td>\n",
       "      <td>1802718.25</td>\n",
       "      <td>4559</td>\n",
       "      <td>CIC</td>\n",
       "      <td>NaN</td>\n",
       "      <td>AH04</td>\n",
       "      <td>113.0</td>\n",
       "      <td>NaN</td>\n",
       "      <td>2.0</td>\n",
       "      <td>N</td>\n",
       "      <td>97101   AH04 018</td>\n",
       "      <td>NaN</td>\n",
       "      <td>N</td>\n",
       "      <td>4.0</td>\n",
       "      <td>NaN</td>\n",
       "      <td>NaN</td>\n",
       "      <td>NaN</td>\n",
       "      <td>NaN</td>\n",
       "      <td>NaN</td>\n",
       "      <td>NaN</td>\n",
       "      <td>NaN</td>\n",
       "      <td>NaN</td>\n",
       "      <td>NaN</td>\n",
       "      <td>2023</td>\n",
       "      <td>2022-10-06 14:06:15.000</td>\n",
       "      <td>12694053</td>\n",
       "      <td>13781557</td>\n",
       "      <td>TOIT BLEU NUIT</td>\n",
       "      <td>NaN</td>\n",
       "      <td>Guadeloupe</td>\n",
       "    </tr>\n",
       "    <tr>\n",
       "      <th>3</th>\n",
       "      <td>32037037</td>\n",
       "      <td>97101</td>\n",
       "      <td>971010000018082</td>\n",
       "      <td>O</td>\n",
       "      <td>0</td>\n",
       "      <td>NaN</td>\n",
       "      <td>NaN</td>\n",
       "      <td>RTE</td>\n",
       "      <td>DE CADUC</td>\n",
       "      <td>0209</td>\n",
       "      <td>HABIT</td>\n",
       "      <td>0052</td>\n",
       "      <td>0.0</td>\n",
       "      <td>1.0</td>\n",
       "      <td>NaN</td>\n",
       "      <td>NaN</td>\n",
       "      <td>1900.0</td>\n",
       "      <td>0.0</td>\n",
       "      <td>0.0</td>\n",
       "      <td>NaN</td>\n",
       "      <td>NaN</td>\n",
       "      <td>1.0</td>\n",
       "      <td>661443.444</td>\n",
       "      <td>1802703.12</td>\n",
       "      <td>4559</td>\n",
       "      <td>CIC</td>\n",
       "      <td>NaN</td>\n",
       "      <td>AH03</td>\n",
       "      <td>113.0</td>\n",
       "      <td>NaN</td>\n",
       "      <td>2.0</td>\n",
       "      <td>O</td>\n",
       "      <td>97101   AH03 080</td>\n",
       "      <td>NaN</td>\n",
       "      <td>N</td>\n",
       "      <td>5.0</td>\n",
       "      <td>NaN</td>\n",
       "      <td>NaN</td>\n",
       "      <td>NaN</td>\n",
       "      <td>NaN</td>\n",
       "      <td>NaN</td>\n",
       "      <td>NaN</td>\n",
       "      <td>NaN</td>\n",
       "      <td>NaN</td>\n",
       "      <td>NaN</td>\n",
       "      <td>2023</td>\n",
       "      <td>2022-10-06 14:06:15.000</td>\n",
       "      <td>12694070</td>\n",
       "      <td>13781574</td>\n",
       "      <td>ATELIZR DE COUTURE</td>\n",
       "      <td>NaN</td>\n",
       "      <td>Guadeloupe</td>\n",
       "    </tr>\n",
       "    <tr>\n",
       "      <th>4</th>\n",
       "      <td>32037038</td>\n",
       "      <td>97101</td>\n",
       "      <td>971010000018023</td>\n",
       "      <td>O</td>\n",
       "      <td>63</td>\n",
       "      <td>NaN</td>\n",
       "      <td>NaN</td>\n",
       "      <td>VOI</td>\n",
       "      <td>VILLAGE CADUC VOIE A</td>\n",
       "      <td>B048</td>\n",
       "      <td>HABIT</td>\n",
       "      <td>002D</td>\n",
       "      <td>1.0</td>\n",
       "      <td>1.0</td>\n",
       "      <td>NaN</td>\n",
       "      <td>NaN</td>\n",
       "      <td>1900.0</td>\n",
       "      <td>1.0</td>\n",
       "      <td>1.0</td>\n",
       "      <td>NaN</td>\n",
       "      <td>NaN</td>\n",
       "      <td>1.0</td>\n",
       "      <td>661537.632</td>\n",
       "      <td>1802589.00</td>\n",
       "      <td>4559</td>\n",
       "      <td>CIC</td>\n",
       "      <td>NaN</td>\n",
       "      <td>AH03</td>\n",
       "      <td>113.0</td>\n",
       "      <td>NaN</td>\n",
       "      <td>2.0</td>\n",
       "      <td>O</td>\n",
       "      <td>97101   AH03 024</td>\n",
       "      <td>NaN</td>\n",
       "      <td>N</td>\n",
       "      <td>5.0</td>\n",
       "      <td>NaN</td>\n",
       "      <td>NaN</td>\n",
       "      <td>NaN</td>\n",
       "      <td>NaN</td>\n",
       "      <td>NaN</td>\n",
       "      <td>NaN</td>\n",
       "      <td>NaN</td>\n",
       "      <td>NaN</td>\n",
       "      <td>NaN</td>\n",
       "      <td>2023</td>\n",
       "      <td>2022-10-06 14:06:15.000</td>\n",
       "      <td>12694190</td>\n",
       "      <td>13781695</td>\n",
       "      <td>NaN</td>\n",
       "      <td>NaN</td>\n",
       "      <td>Guadeloupe</td>\n",
       "    </tr>\n",
       "  </tbody>\n",
       "</table>\n",
       "</div>"
      ],
      "text/plain": [
       "         id  depcom            id_ea principal  numero repetition complement  \\\n",
       "0  32037034   97101  971010000018000         O       0        NaN        NaN   \n",
       "1  32037035   97101  971010000016555         O       0        NaN        NaN   \n",
       "2  32037036   97101  971010000016537         O       0        NaN        NaN   \n",
       "3  32037037   97101  971010000018082         O       0        NaN        NaN   \n",
       "4  32037038   97101  971010000018023         O      63        NaN        NaN   \n",
       "\n",
       "  type_voie          libelle_voie rivoli ea_type hab_hot_type  nb_log  etat  \\\n",
       "0       RTE              DE CADUC   0209   HABIT         0052     0.0   1.0   \n",
       "1       RTE              DE CADUC   0209   HABIT         002D     1.0   1.0   \n",
       "2       RTE              DE CADUC   0209   HABIT         002D     1.0   1.0   \n",
       "3       RTE              DE CADUC   0209   HABIT         0052     0.0   1.0   \n",
       "4       VOI  VILLAGE CADUC VOIE A   B048   HABIT         002D     1.0   1.0   \n",
       "\n",
       "  pc_num commentaire  hab_construction_an  hab_nb_imm  hab_niv hot_sous_type  \\\n",
       "0    NaN         NaN               1900.0         0.0      0.0           NaN   \n",
       "1    NaN         NaN               1900.0         1.0      1.0           NaN   \n",
       "2    NaN         NaN               1900.0         1.0      1.0           NaN   \n",
       "3    NaN         NaN               1900.0         0.0      0.0           NaN   \n",
       "4    NaN         NaN               1900.0         1.0      1.0           NaN   \n",
       "\n",
       "  hot_enseigne  lien_cmt           x           y  code_epsg type_localisation  \\\n",
       "0          NaN       1.0  661399.506  1802848.75       4559               CIC   \n",
       "1          NaN       1.0  662317.510  1802803.62       4559               CIC   \n",
       "2          NaN       1.0  662318.385  1802718.25       4559               CIC   \n",
       "3          NaN       1.0  661443.444  1802703.12       4559               CIC   \n",
       "4          NaN       1.0  661537.632  1802589.00       4559               CIC   \n",
       "\n",
       "  numero_parcelle code_ilot  code_iris quartier_prioritaire  canton  \\\n",
       "0             NaN      AH03      113.0                  NaN     2.0   \n",
       "1             NaN      AH04      113.0                  NaN     2.0   \n",
       "2             NaN      AH04      113.0                  NaN     2.0   \n",
       "3             NaN      AH03      113.0                  NaN     2.0   \n",
       "4             NaN      AH03      113.0                  NaN     2.0   \n",
       "\n",
       "  liste_insee             id_rp  dernier_tirage echantillon  grp_rotation  \\\n",
       "0           O  97101   AH03 001             NaN           N           5.0   \n",
       "1           N  97101   AH04 036             NaN           N           4.0   \n",
       "2           N  97101   AH04 018             NaN           N           4.0   \n",
       "3           O  97101   AH03 080             NaN           N           5.0   \n",
       "4           O  97101   AH03 024             NaN           N           5.0   \n",
       "\n",
       "  date_maj_ea  com_anc_idft  com_type com_statut  com_nb_log_fonction com_nom  \\\n",
       "0         NaN           NaN       NaN        NaN                  NaN     NaN   \n",
       "1         NaN           NaN       NaN        NaN                  NaN     NaN   \n",
       "2         NaN           NaN       NaN        NaN                  NaN     NaN   \n",
       "3         NaN           NaN       NaN        NaN                  NaN     NaN   \n",
       "4         NaN           NaN       NaN        NaN                  NaN     NaN   \n",
       "\n",
       "  com_date_creation_base com_date_fermeture  com_capacite_theorique  \\\n",
       "0                    NaN                NaN                     NaN   \n",
       "1                    NaN                NaN                     NaN   \n",
       "2                    NaN                NaN                     NaN   \n",
       "3                    NaN                NaN                     NaN   \n",
       "4                    NaN                NaN                     NaN   \n",
       "\n",
       "   millesime           date_livraison    ref_ea  id_rca_adresse  \\\n",
       "0       2023  2022-10-06 14:06:15.000  12693968        13781464   \n",
       "1       2023  2022-10-06 14:06:15.000  12693993        13781490   \n",
       "2       2023  2022-10-06 14:06:15.000  12694053        13781557   \n",
       "3       2023  2022-10-06 14:06:15.000  12694070        13781574   \n",
       "4       2023  2022-10-06 14:06:15.000  12694190        13781695   \n",
       "\n",
       "                         reperage  id_ea_regroup         dep  \n",
       "0                          CHENIL            NaN  Guadeloupe  \n",
       "1  EN HAUTEUR MEME ENTREE QUE 020            NaN  Guadeloupe  \n",
       "2                  TOIT BLEU NUIT            NaN  Guadeloupe  \n",
       "3              ATELIZR DE COUTURE            NaN  Guadeloupe  \n",
       "4                             NaN            NaN  Guadeloupe  "
      ]
     },
     "execution_count": 103,
     "metadata": {},
     "output_type": "execute_result"
    }
   ],
   "source": [
    "dep_mapping = {\n",
    "    \"971\": \"Guadeloupe\",\n",
    "    \"972\": \"Martinique\",\n",
    "    \"973\": \"Guyane\",\n",
    "    \"974\": \"Réunion\",\n",
    "    \"976\": \"Mayotte\",\n",
    "    \"978\": \"Saint-Martin\",\n",
    "}\n",
    "df_gc[\"dep\"] = df_gc[\"dep\"].apply(lambda x: dep_mapping[x])\n",
    "df_gc.head()"
   ]
  },
  {
   "cell_type": "code",
   "execution_count": 104,
   "id": "e117f5fa-9db7-4920-9a04-1e941a6b4990",
   "metadata": {
    "tags": []
   },
   "outputs": [
    {
     "data": {
      "text/plain": [
       "HABIT    2560736\n",
       "COMMU       2312\n",
       "HOTEL       1072\n",
       "Name: ea_type, dtype: int64"
      ]
     },
     "execution_count": 104,
     "metadata": {},
     "output_type": "execute_result"
    }
   ],
   "source": [
    "df_gc.ea_type.value_counts()"
   ]
  },
  {
   "cell_type": "code",
   "execution_count": 105,
   "id": "04f09d17-8b4b-4e5b-968e-645ffd0a3ae1",
   "metadata": {
    "tags": []
   },
   "outputs": [
    {
     "data": {
      "image/png": "[encoded data removed]",
      "text/plain": [
       "<Figure size 640x480 with 1 Axes>"
      ]
     },
     "metadata": {},
     "output_type": "display_data"
    }
   ],
   "source": [
    "from matplotlib import pyplot as plt\n",
    "\n",
    "plt.hist(df_gc[\"hab_construction_an\"], bins=100)\n",
    "plt.show()"
   ]
  },
  {
   "cell_type": "markdown",
   "id": "9c8b851c-26bb-4c77-9222-f79341d1e8cf",
   "metadata": {},
   "source": [
    "Variable pas exploitable."
   ]
  },
  {
   "cell_type": "code",
   "execution_count": 106,
   "id": "f79e2f6d-fc56-4798-bda5-5a14c4beecdd",
   "metadata": {
    "tags": []
   },
   "outputs": [
    {
     "data": {
      "text/plain": [
       "2975    1124595\n",
       "4559    1063100\n",
       "2972     229074\n",
       "4471     147351\n",
       "Name: code_epsg, dtype: int64"
      ]
     },
     "execution_count": 106,
     "metadata": {},
     "output_type": "execute_result"
    }
   ],
   "source": [
    "df_gc.code_epsg.value_counts()"
   ]
  },
  {
   "cell_type": "code",
   "execution_count": 107,
   "id": "4500d0fb-4be9-4c81-b3f6-8a36fb8ff94d",
   "metadata": {
    "tags": []
   },
   "outputs": [
    {
     "data": {
      "text/plain": [
       "dep           code_epsg\n",
       "Guadeloupe    4559          590166\n",
       "Guyane        2972          229074\n",
       "Martinique    4559          430787\n",
       "Mayotte       4471          147351\n",
       "Réunion       2975         1124595\n",
       "Saint-Martin  4559           42147\n",
       "Name: id, dtype: int64"
      ]
     },
     "execution_count": 107,
     "metadata": {},
     "output_type": "execute_result"
    }
   ],
   "source": [
    "df_gc.groupby([\"dep\", \"code_epsg\"])[\"id\"].count()"
   ]
  },
  {
   "cell_type": "code",
   "execution_count": 108,
   "id": "15d7dd9a-e1a9-465a-9dd0-5b4c4f0c4027",
   "metadata": {
    "tags": []
   },
   "outputs": [],
   "source": [
    "dep_to_epsg = {\n",
    "    \"Guadeloupe\": 4559,\n",
    "    \"Guyane\": 2972,\n",
    "    \"Martinique\": 4559,\n",
    "    \"Mayotte\": 4471,\n",
    "    \"Réunion\": 2975,\n",
    "    \"Saint-Martin\": 4559\n",
    "}"
   ]
  },
  {
   "cell_type": "code",
   "execution_count": 109,
   "id": "df7d6797-dcdc-443b-bf43-98b6addce65a",
   "metadata": {
    "tags": []
   },
   "outputs": [
    {
     "data": {
      "text/plain": [
       "AP02    8425\n",
       "AV02    8160\n",
       "AT01    7747\n",
       "AH01    7681\n",
       "AR03    7489\n",
       "        ... \n",
       "DA03       1\n",
       "0093       1\n",
       "BX24       1\n",
       "0092       1\n",
       "HP11       1\n",
       "Name: code_ilot, Length: 3965, dtype: int64"
      ]
     },
     "execution_count": 109,
     "metadata": {},
     "output_type": "execute_result"
    }
   ],
   "source": [
    "df_gc.code_ilot.value_counts()"
   ]
  },
  {
   "cell_type": "code",
   "execution_count": 110,
   "id": "f00d97d2-e987-4d3c-bbba-cd1624748a0f",
   "metadata": {
    "tags": []
   },
   "outputs": [
    {
     "data": {
      "text/plain": [
       "4.0    520053\n",
       "2.0    517546\n",
       "3.0    512889\n",
       "5.0    510026\n",
       "1.0    503431\n",
       "Name: grp_rotation, dtype: int64"
      ]
     },
     "execution_count": 110,
     "metadata": {},
     "output_type": "execute_result"
    }
   ],
   "source": [
    "df_gc.grp_rotation.value_counts()"
   ]
  },
  {
   "cell_type": "code",
   "execution_count": 112,
   "id": "2eb70cd2-5333-477e-b61f-a355a5b2e245",
   "metadata": {
    "tags": []
   },
   "outputs": [
    {
     "data": {
      "text/plain": [
       "dep           grp_rotation\n",
       "Guadeloupe    1.0             112340\n",
       "              2.0             118909\n",
       "              3.0             113008\n",
       "              4.0             125943\n",
       "              5.0             119941\n",
       "Guyane        1.0              43549\n",
       "              2.0              47082\n",
       "              3.0              50125\n",
       "              4.0              43663\n",
       "              5.0              44626\n",
       "Martinique    1.0              84938\n",
       "              2.0              88261\n",
       "              3.0              85325\n",
       "              4.0              88723\n",
       "              5.0              83534\n",
       "Mayotte       1.0              27643\n",
       "              2.0              28197\n",
       "              3.0              31223\n",
       "              4.0              29992\n",
       "              5.0              30296\n",
       "Réunion       1.0             226337\n",
       "              2.0             224949\n",
       "              3.0             226388\n",
       "              4.0             222730\n",
       "              5.0             224093\n",
       "Saint-Martin  1.0               8624\n",
       "              2.0              10148\n",
       "              3.0               6820\n",
       "              4.0               9002\n",
       "              5.0               7536\n",
       "Name: id, dtype: int64"
      ]
     },
     "execution_count": 112,
     "metadata": {},
     "output_type": "execute_result"
    }
   ],
   "source": [
    "df_gc.groupby([\"dep\", \"grp_rotation\"])[\"id\"].count()"
   ]
  },
  {
   "cell_type": "code",
   "execution_count": 113,
   "id": "84be2762-af53-4455-91ea-59ae49e01408",
   "metadata": {
    "tags": []
   },
   "outputs": [
    {
     "data": {
      "text/plain": [
       "2023    677500\n",
       "2022    662887\n",
       "2021    644992\n",
       "2020    578741\n",
       "Name: millesime, dtype: int64"
      ]
     },
     "execution_count": 113,
     "metadata": {},
     "output_type": "execute_result"
    }
   ],
   "source": [
    "df_gc.millesime.value_counts()"
   ]
  },
  {
   "cell_type": "code",
   "execution_count": 114,
   "id": "793bb196-d57f-4d07-aa68-ef5ef5920244",
   "metadata": {
    "tags": []
   },
   "outputs": [
    {
     "data": {
      "text/plain": [
       "depcom  grp_rotation\n",
       "97101   1.0             4220\n",
       "        2.0             4769\n",
       "        3.0             4729\n",
       "        4.0             4729\n",
       "        5.0             4521\n",
       "                        ... \n",
       "97801   1.0             2156\n",
       "        2.0             2530\n",
       "        3.0             1654\n",
       "        4.0             2213\n",
       "        5.0             1888\n",
       "Name: id, Length: 255, dtype: int64"
      ]
     },
     "execution_count": 114,
     "metadata": {},
     "output_type": "execute_result"
    }
   ],
   "source": [
    "df_gc[df_gc.millesime == 2020].groupby([\"depcom\", \"grp_rotation\"])[\"id\"].count()"
   ]
  },
  {
   "cell_type": "markdown",
   "id": "abebe452-28f6-48d3-80ea-77dad102779c",
   "metadata": {},
   "source": [
    "Pour les GC on a pour 1 millesime plusieurs groupes de rotation dans la base."
   ]
  },
  {
   "cell_type": "code",
   "execution_count": 115,
   "id": "7d9ccd9e-d82c-4862-881e-9952b0efbd17",
   "metadata": {
    "tags": []
   },
   "outputs": [
    {
     "data": {
      "text/plain": [
       "depcom  grp_rotation\n",
       "97101   1.0             4224\n",
       "        2.0             4780\n",
       "        3.0             4941\n",
       "        4.0             4731\n",
       "        5.0             4523\n",
       "                        ... \n",
       "97801   1.0             2156\n",
       "        2.0             2539\n",
       "        3.0             1722\n",
       "        4.0             2215\n",
       "        5.0             1890\n",
       "Name: id, Length: 310, dtype: int64"
      ]
     },
     "execution_count": 115,
     "metadata": {},
     "output_type": "execute_result"
    }
   ],
   "source": [
    "df_gc[df_gc.millesime == 2021].groupby([\"depcom\", \"grp_rotation\"])[\"id\"].count()"
   ]
  },
  {
   "cell_type": "code",
   "execution_count": 116,
   "id": "0bdb15d7-255d-4d15-97ab-6ad402a8137a",
   "metadata": {
    "tags": []
   },
   "outputs": [
    {
     "data": {
      "text/plain": [
       "depcom  grp_rotation\n",
       "97101   1.0             4245\n",
       "        2.0             4801\n",
       "        3.0             4952\n",
       "        4.0             4915\n",
       "        5.0             4540\n",
       "                        ... \n",
       "97801   1.0             2156\n",
       "        2.0             2539\n",
       "        3.0             1722\n",
       "        4.0             2287\n",
       "        5.0             1846\n",
       "Name: id, Length: 310, dtype: int64"
      ]
     },
     "execution_count": 116,
     "metadata": {},
     "output_type": "execute_result"
    }
   ],
   "source": [
    "df_gc[df_gc.millesime == 2022].groupby([\"depcom\", \"grp_rotation\"])[\"id\"].count()"
   ]
  },
  {
   "cell_type": "code",
   "execution_count": 117,
   "id": "40849263-c9a3-410d-833a-20d159e503ec",
   "metadata": {
    "tags": []
   },
   "outputs": [
    {
     "data": {
      "text/plain": [
       "depcom  grp_rotation\n",
       "97101   1.0             4288\n",
       "        2.0             4827\n",
       "        3.0             4983\n",
       "        4.0             4937\n",
       "        5.0             4766\n",
       "                        ... \n",
       "97801   1.0             2156\n",
       "        2.0             2540\n",
       "        3.0             1722\n",
       "        4.0             2287\n",
       "        5.0             1912\n",
       "Name: id, Length: 310, dtype: int64"
      ]
     },
     "execution_count": 117,
     "metadata": {},
     "output_type": "execute_result"
    }
   ],
   "source": [
    "df_gc[df_gc.millesime == 2023].groupby([\"depcom\", \"grp_rotation\"])[\"id\"].count()"
   ]
  },
  {
   "cell_type": "markdown",
   "id": "aa924bd4-515b-4040-b503-7ab884b3c740",
   "metadata": {},
   "source": [
    "Ilots ? normalement 1 groupe de rotation par ilot ? "
   ]
  },
  {
   "cell_type": "code",
   "execution_count": 118,
   "id": "d3c5015f-47b1-49a6-8399-e73b27bb4c94",
   "metadata": {
    "tags": []
   },
   "outputs": [
    {
     "data": {
      "text/plain": [
       "code_ilot  grp_rotation\n",
       "10         1.0              30\n",
       "           2.0              71\n",
       "           3.0              35\n",
       "           4.0             106\n",
       "           5.0              18\n",
       "                          ... \n",
       "PED6       4.0             261\n",
       "           5.0             105\n",
       "PED7       3.0             187\n",
       "           5.0             146\n",
       "PED8       3.0              90\n",
       "Name: id, Length: 8290, dtype: int64"
      ]
     },
     "execution_count": 118,
     "metadata": {},
     "output_type": "execute_result"
    }
   ],
   "source": [
    "df_gc[df_gc.millesime == 2020].groupby([\"code_ilot\", \"grp_rotation\"])[\"id\"].count()"
   ]
  },
  {
   "cell_type": "markdown",
   "id": "328c5f52-5659-4898-a1e4-ce5117865051",
   "metadata": {},
   "source": [
    "Par ilot et commune ? "
   ]
  },
  {
   "cell_type": "code",
   "execution_count": 119,
   "id": "8f92f269-8732-4dab-8598-e153b8c26e8e",
   "metadata": {
    "tags": []
   },
   "outputs": [
    {
     "data": {
      "text/plain": [
       "depcom  code_ilot  grp_rotation\n",
       "97101   AB01       3.0              10\n",
       "                   5.0             104\n",
       "        AB02       1.0              24\n",
       "        AB03       2.0               6\n",
       "        AB04       3.0               7\n",
       "                                  ... \n",
       "97801   BV01       2.0              84\n",
       "        BV02       1.0              71\n",
       "        BV03       3.0              48\n",
       "        BV04       5.0              97\n",
       "        BV05       1.0             101\n",
       "Name: id, Length: 14114, dtype: int64"
      ]
     },
     "execution_count": 119,
     "metadata": {},
     "output_type": "execute_result"
    }
   ],
   "source": [
    "df_gc[df_gc.millesime == 2020].groupby([\"depcom\", \"code_ilot\", \"grp_rotation\"])[\"id\"].count()"
   ]
  },
  {
   "cell_type": "markdown",
   "id": "cd7bc4e2-31d0-4a3c-89ad-5f40f2e28ecc",
   "metadata": {},
   "source": [
    "Nombre de groupes de rotations différents par commune x ilot"
   ]
  },
  {
   "cell_type": "code",
   "execution_count": 122,
   "id": "8d4339d8-dd48-4980-aa95-807ec8000407",
   "metadata": {
    "tags": []
   },
   "outputs": [],
   "source": [
    "nb_grp_rotation = df_gc[df_gc.millesime == 2020].groupby([\"depcom\", \"code_ilot\", \"grp_rotation\"])[\"id\"].count().reset_index().groupby([\"depcom\", \"code_ilot\"])[\"grp_rotation\"].count()"
   ]
  },
  {
   "cell_type": "code",
   "execution_count": 123,
   "id": "dbd466bb-e63d-40f8-8c23-a95995375508",
   "metadata": {
    "tags": []
   },
   "outputs": [
    {
     "data": {
      "image/png": "[encoded data removed]",
      "text/plain": [
       "<Figure size 640x480 with 1 Axes>"
      ]
     },
     "metadata": {},
     "output_type": "display_data"
    }
   ],
   "source": [
    "plt.hist(nb_grp_rotation)\n",
    "plt.show()"
   ]
  },
  {
   "cell_type": "code",
   "execution_count": 124,
   "id": "d47eb4d0-e50a-46fe-b791-beb145910568",
   "metadata": {
    "tags": []
   },
   "outputs": [
    {
     "data": {
      "text/plain": [
       "1    13697\n",
       "2      192\n",
       "3       11\n",
       "Name: grp_rotation, dtype: int64"
      ]
     },
     "execution_count": 124,
     "metadata": {},
     "output_type": "execute_result"
    }
   ],
   "source": [
    "nb_grp_rotation.value_counts()"
   ]
  },
  {
   "cell_type": "markdown",
   "id": "aeaa5642-64ca-42d3-aac1-d8d2fb912a71",
   "metadata": {},
   "source": [
    "On est très souvent à 1 groupe de rotation par commune x ilot"
   ]
  },
  {
   "cell_type": "code",
   "execution_count": 125,
   "id": "ddc26055-2ca0-4f74-a4a8-0e54b69d3b55",
   "metadata": {
    "tags": []
   },
   "outputs": [
    {
     "data": {
      "text/plain": [
       "2023    677500\n",
       "2022    662887\n",
       "2021    644992\n",
       "2020    578741\n",
       "Name: millesime, dtype: int64"
      ]
     },
     "execution_count": 125,
     "metadata": {},
     "output_type": "execute_result"
    }
   ],
   "source": [
    "df_gc.millesime.value_counts()"
   ]
  },
  {
   "cell_type": "code",
   "execution_count": 126,
   "id": "38907546-6a96-43d9-8054-0a4b76ac03bd",
   "metadata": {
    "tags": []
   },
   "outputs": [],
   "source": [
    "millesime_to_validity = {\n",
    "    2020: (\"2019-05\", \"2019-08\"),\n",
    "    2021: (\"2020-05\", \"2020-08\"),\n",
    "    2022: (\"2021-05\", \"2021-08\"),\n",
    "    2023: (\"2022-05\", \"2022-08\")\n",
    "}"
   ]
  },
  {
   "cell_type": "markdown",
   "id": "eb7533d7-44d1-478d-90e7-38c550a09de8",
   "metadata": {},
   "source": [
    "Il faut choisir ces dates de validité"
   ]
  },
  {
   "cell_type": "markdown",
   "id": "0f9c9094-68c8-4096-a1ec-52093808c0e2",
   "metadata": {},
   "source": [
    "## Géométrie ilots"
   ]
  },
  {
   "cell_type": "code",
   "execution_count": 127,
   "id": "64e0ee0a-b149-416f-9890-56df614aaab0",
   "metadata": {
    "tags": []
   },
   "outputs": [
    {
     "name": "stdout",
     "output_type": "stream",
     "text": [
      "Collecting pyreadr\n",
      "  Downloading pyreadr-0.4.7-cp310-cp310-manylinux_2_17_x86_64.manylinux2014_x86_64.whl (362 kB)\n",
      "\u001b[2K     \u001b[90m━━━━━━━━━━━━━━━━━━━━━━━━━━━━━━━━━━━━━━━\u001b[0m \u001b[32m363.0/363.0 kB\u001b[0m \u001b[31m7.2 MB/s\u001b[0m eta \u001b[36m0:00:00\u001b[0ma \u001b[36m0:00:01\u001b[0m\n",
      "\u001b[?25hRequirement already satisfied: pandas>=1.2.0 in /opt/mamba/lib/python3.10/site-packages (from pyreadr) (1.5.3)\n",
      "Requirement already satisfied: python-dateutil>=2.8.1 in /opt/mamba/lib/python3.10/site-packages (from pandas>=1.2.0->pyreadr) (2.8.2)\n",
      "Requirement already satisfied: pytz>=2020.1 in /opt/mamba/lib/python3.10/site-packages (from pandas>=1.2.0->pyreadr) (2022.7.1)\n",
      "Requirement already satisfied: numpy>=1.21.0 in /opt/mamba/lib/python3.10/site-packages (from pandas>=1.2.0->pyreadr) (1.23.5)\n",
      "Requirement already satisfied: six>=1.5 in /opt/mamba/lib/python3.10/site-packages (from python-dateutil>=2.8.1->pandas>=1.2.0->pyreadr) (1.16.0)\n",
      "Installing collected packages: pyreadr\n",
      "Successfully installed pyreadr-0.4.7\n"
     ]
    }
   ],
   "source": [
    "!pip install pyreadr"
   ]
  },
  {
   "cell_type": "code",
   "execution_count": 133,
   "id": "f0d42f87-7cf4-4a4c-8d41-d9090d085239",
   "metadata": {
    "tags": []
   },
   "outputs": [],
   "source": [
    "import pyreadr\n",
    "\n",
    "fs.get('projet-slums-detection/Donnees/RIL/rca_geometry_ilots.rds', 'rca_geometry_ilots.rds')\n",
    "result = pyreadr.read_r('rca_geometry_ilots.rds')"
   ]
  },
  {
   "cell_type": "code",
   "execution_count": 134,
   "id": "b4513d6d-ab75-4d92-a277-8fb2bee7b565",
   "metadata": {
    "tags": []
   },
   "outputs": [
    {
     "data": {
      "text/plain": [
       "odict_keys([None])"
      ]
     },
     "execution_count": 134,
     "metadata": {},
     "output_type": "execute_result"
    }
   ],
   "source": [
    "result.keys()"
   ]
  },
  {
   "cell_type": "code",
   "execution_count": 135,
   "id": "6646c887-94f8-4afe-b4e6-834a5ce37e6d",
   "metadata": {
    "tags": []
   },
   "outputs": [],
   "source": [
    "df_geom = result[None] "
   ]
  },
  {
   "cell_type": "code",
   "execution_count": 137,
   "id": "d2c7285b-a64a-46f0-aef3-99643480e109",
   "metadata": {
    "tags": []
   },
   "outputs": [
    {
     "data": {
      "text/plain": [
       "pandas.core.frame.DataFrame"
      ]
     },
     "execution_count": 137,
     "metadata": {},
     "output_type": "execute_result"
    }
   ],
   "source": [
    "type(df_geom)"
   ]
  },
  {
   "cell_type": "code",
   "execution_count": 138,
   "id": "28a87cab-fc26-4636-9442-2aec37a3cf4d",
   "metadata": {
    "tags": []
   },
   "outputs": [
    {
     "name": "stdout",
     "output_type": "stream",
     "text": [
      "<class 'pandas.core.frame.DataFrame'>\n",
      "RangeIndex: 20266 entries, 0 to 20265\n",
      "Data columns (total 5 columns):\n",
      " #   Column     Non-Null Count  Dtype \n",
      "---  ------     --------------  ----- \n",
      " 0   depcom     20266 non-null  object\n",
      " 1   gr         20266 non-null  object\n",
      " 2   code_ilot  20266 non-null  object\n",
      " 3   wkt        20266 non-null  object\n",
      " 4   srid       20266 non-null  int32 \n",
      "dtypes: int32(1), object(4)\n",
      "memory usage: 712.6+ KB\n"
     ]
    }
   ],
   "source": [
    "df_geom.info()"
   ]
  },
  {
   "cell_type": "code",
   "execution_count": 139,
   "id": "93d8264c-8964-4b6c-87ee-d1d502b0d1d4",
   "metadata": {
    "tags": []
   },
   "outputs": [
    {
     "data": {
      "text/html": [
       "<div>\n",
       "<style scoped>\n",
       "    .dataframe tbody tr th:only-of-type {\n",
       "        vertical-align: middle;\n",
       "    }\n",
       "\n",
       "    .dataframe tbody tr th {\n",
       "        vertical-align: top;\n",
       "    }\n",
       "\n",
       "    .dataframe thead th {\n",
       "        text-align: right;\n",
       "    }\n",
       "</style>\n",
       "<table border=\"1\" class=\"dataframe\">\n",
       "  <thead>\n",
       "    <tr style=\"text-align: right;\">\n",
       "      <th></th>\n",
       "      <th>depcom</th>\n",
       "      <th>gr</th>\n",
       "      <th>code_ilot</th>\n",
       "      <th>wkt</th>\n",
       "      <th>srid</th>\n",
       "    </tr>\n",
       "  </thead>\n",
       "  <tbody>\n",
       "    <tr>\n",
       "      <th>0</th>\n",
       "      <td>97422</td>\n",
       "      <td>3</td>\n",
       "      <td>DL06</td>\n",
       "      <td>MULTIPOLYGON(((55.56002787 -21.22882749,55.561...</td>\n",
       "      <td>4326</td>\n",
       "    </tr>\n",
       "    <tr>\n",
       "      <th>1</th>\n",
       "      <td>97422</td>\n",
       "      <td>1</td>\n",
       "      <td>CX04</td>\n",
       "      <td>MULTIPOLYGON(((55.52972332 -21.19910885,55.529...</td>\n",
       "      <td>4326</td>\n",
       "    </tr>\n",
       "    <tr>\n",
       "      <th>2</th>\n",
       "      <td>97405</td>\n",
       "      <td>2</td>\n",
       "      <td>AB01</td>\n",
       "      <td>MULTIPOLYGON(((55.59368481 -21.2903575,55.5948...</td>\n",
       "      <td>4326</td>\n",
       "    </tr>\n",
       "    <tr>\n",
       "      <th>3</th>\n",
       "      <td>97405</td>\n",
       "      <td>4</td>\n",
       "      <td>AB02</td>\n",
       "      <td>MULTIPOLYGON(((55.58635546 -21.31395429,55.586...</td>\n",
       "      <td>4326</td>\n",
       "    </tr>\n",
       "    <tr>\n",
       "      <th>4</th>\n",
       "      <td>97418</td>\n",
       "      <td>5</td>\n",
       "      <td>AV19</td>\n",
       "      <td>MULTIPOLYGON(((55.51758202 -20.91979163,55.518...</td>\n",
       "      <td>4326</td>\n",
       "    </tr>\n",
       "  </tbody>\n",
       "</table>\n",
       "</div>"
      ],
      "text/plain": [
       "  depcom gr code_ilot                                                wkt  srid\n",
       "0  97422  3      DL06  MULTIPOLYGON(((55.56002787 -21.22882749,55.561...  4326\n",
       "1  97422  1      CX04  MULTIPOLYGON(((55.52972332 -21.19910885,55.529...  4326\n",
       "2  97405  2      AB01  MULTIPOLYGON(((55.59368481 -21.2903575,55.5948...  4326\n",
       "3  97405  4      AB02  MULTIPOLYGON(((55.58635546 -21.31395429,55.586...  4326\n",
       "4  97418  5      AV19  MULTIPOLYGON(((55.51758202 -20.91979163,55.518...  4326"
      ]
     },
     "execution_count": 139,
     "metadata": {},
     "output_type": "execute_result"
    }
   ],
   "source": [
    "df_geom.head()"
   ]
  },
  {
   "cell_type": "code",
   "execution_count": 141,
   "id": "e726b22e-e4af-4daf-8aab-181891b564f0",
   "metadata": {
    "tags": []
   },
   "outputs": [
    {
     "data": {
      "text/plain": [
       "974    9851\n",
       "972    4230\n",
       "971    2931\n",
       "973    2217\n",
       "976     811\n",
       "978     150\n",
       "977      76\n",
       "Name: depcom, dtype: int64"
      ]
     },
     "execution_count": 141,
     "metadata": {},
     "output_type": "execute_result"
    }
   ],
   "source": [
    "df_geom.depcom.str[:3].value_counts()"
   ]
  },
  {
   "cell_type": "code",
   "execution_count": 140,
   "id": "6b9a65d6-22fb-42f1-8452-d176066dc312",
   "metadata": {
    "tags": []
   },
   "outputs": [
    {
     "data": {
      "text/plain": [
       "4326    20266\n",
       "Name: srid, dtype: int64"
      ]
     },
     "execution_count": 140,
     "metadata": {},
     "output_type": "execute_result"
    }
   ],
   "source": [
    "df_geom.srid.value_counts()"
   ]
  },
  {
   "cell_type": "code",
   "execution_count": 147,
   "id": "d1e31b49-f4b5-4de5-9c66-606f2306aaa9",
   "metadata": {
    "tags": []
   },
   "outputs": [],
   "source": [
    "from shapely import wkt\n",
    "\n",
    "df_geom['wkt'] = df_geom['wkt'].apply(wkt.loads)"
   ]
  },
  {
   "cell_type": "code",
   "execution_count": 148,
   "id": "2fa6a4e6-8a55-415b-b93a-bfb38c56c031",
   "metadata": {
    "tags": []
   },
   "outputs": [
    {
     "data": {
      "text/html": [
       "<div>\n",
       "<style scoped>\n",
       "    .dataframe tbody tr th:only-of-type {\n",
       "        vertical-align: middle;\n",
       "    }\n",
       "\n",
       "    .dataframe tbody tr th {\n",
       "        vertical-align: top;\n",
       "    }\n",
       "\n",
       "    .dataframe thead th {\n",
       "        text-align: right;\n",
       "    }\n",
       "</style>\n",
       "<table border=\"1\" class=\"dataframe\">\n",
       "  <thead>\n",
       "    <tr style=\"text-align: right;\">\n",
       "      <th></th>\n",
       "      <th>depcom</th>\n",
       "      <th>gr</th>\n",
       "      <th>code_ilot</th>\n",
       "      <th>wkt</th>\n",
       "      <th>srid</th>\n",
       "    </tr>\n",
       "  </thead>\n",
       "  <tbody>\n",
       "    <tr>\n",
       "      <th>0</th>\n",
       "      <td>97422</td>\n",
       "      <td>3</td>\n",
       "      <td>DL06</td>\n",
       "      <td>MULTIPOLYGON (((55.56003 -21.22883, 55.56142 -...</td>\n",
       "      <td>4326</td>\n",
       "    </tr>\n",
       "    <tr>\n",
       "      <th>1</th>\n",
       "      <td>97422</td>\n",
       "      <td>1</td>\n",
       "      <td>CX04</td>\n",
       "      <td>MULTIPOLYGON (((55.52972 -21.19911, 55.52997 -...</td>\n",
       "      <td>4326</td>\n",
       "    </tr>\n",
       "    <tr>\n",
       "      <th>2</th>\n",
       "      <td>97405</td>\n",
       "      <td>2</td>\n",
       "      <td>AB01</td>\n",
       "      <td>MULTIPOLYGON (((55.59368 -21.29036, 55.59485 -...</td>\n",
       "      <td>4326</td>\n",
       "    </tr>\n",
       "    <tr>\n",
       "      <th>3</th>\n",
       "      <td>97405</td>\n",
       "      <td>4</td>\n",
       "      <td>AB02</td>\n",
       "      <td>MULTIPOLYGON (((55.58636 -21.31395, 55.58649 -...</td>\n",
       "      <td>4326</td>\n",
       "    </tr>\n",
       "    <tr>\n",
       "      <th>4</th>\n",
       "      <td>97418</td>\n",
       "      <td>5</td>\n",
       "      <td>AV19</td>\n",
       "      <td>MULTIPOLYGON (((55.51758 -20.91979, 55.51887 -...</td>\n",
       "      <td>4326</td>\n",
       "    </tr>\n",
       "    <tr>\n",
       "      <th>...</th>\n",
       "      <td>...</td>\n",
       "      <td>...</td>\n",
       "      <td>...</td>\n",
       "      <td>...</td>\n",
       "      <td>...</td>\n",
       "    </tr>\n",
       "    <tr>\n",
       "      <th>20261</th>\n",
       "      <td>97701</td>\n",
       "      <td>5</td>\n",
       "      <td>AX04</td>\n",
       "      <td>MULTIPOLYGON (((-62.80733 17.90321, -62.80724 ...</td>\n",
       "      <td>4326</td>\n",
       "    </tr>\n",
       "    <tr>\n",
       "      <th>20262</th>\n",
       "      <td>97701</td>\n",
       "      <td>5</td>\n",
       "      <td>AX05</td>\n",
       "      <td>MULTIPOLYGON (((-62.80163 17.90505, -62.80102 ...</td>\n",
       "      <td>4326</td>\n",
       "    </tr>\n",
       "    <tr>\n",
       "      <th>20263</th>\n",
       "      <td>97701</td>\n",
       "      <td>5</td>\n",
       "      <td>AX06</td>\n",
       "      <td>MULTIPOLYGON (((-62.80623 17.90211, -62.80599 ...</td>\n",
       "      <td>4326</td>\n",
       "    </tr>\n",
       "    <tr>\n",
       "      <th>20264</th>\n",
       "      <td>97701</td>\n",
       "      <td>5</td>\n",
       "      <td>AX07</td>\n",
       "      <td>MULTIPOLYGON (((-62.81270 17.90598, -62.81263 ...</td>\n",
       "      <td>4326</td>\n",
       "    </tr>\n",
       "    <tr>\n",
       "      <th>20265</th>\n",
       "      <td>97801</td>\n",
       "      <td>2</td>\n",
       "      <td>AT01</td>\n",
       "      <td>MULTIPOLYGON (((-63.03229 18.09875, -63.03253 ...</td>\n",
       "      <td>4326</td>\n",
       "    </tr>\n",
       "  </tbody>\n",
       "</table>\n",
       "<p>20266 rows × 5 columns</p>\n",
       "</div>"
      ],
      "text/plain": [
       "      depcom gr code_ilot                                                wkt  \\\n",
       "0      97422  3      DL06  MULTIPOLYGON (((55.56003 -21.22883, 55.56142 -...   \n",
       "1      97422  1      CX04  MULTIPOLYGON (((55.52972 -21.19911, 55.52997 -...   \n",
       "2      97405  2      AB01  MULTIPOLYGON (((55.59368 -21.29036, 55.59485 -...   \n",
       "3      97405  4      AB02  MULTIPOLYGON (((55.58636 -21.31395, 55.58649 -...   \n",
       "4      97418  5      AV19  MULTIPOLYGON (((55.51758 -20.91979, 55.51887 -...   \n",
       "...      ... ..       ...                                                ...   \n",
       "20261  97701  5      AX04  MULTIPOLYGON (((-62.80733 17.90321, -62.80724 ...   \n",
       "20262  97701  5      AX05  MULTIPOLYGON (((-62.80163 17.90505, -62.80102 ...   \n",
       "20263  97701  5      AX06  MULTIPOLYGON (((-62.80623 17.90211, -62.80599 ...   \n",
       "20264  97701  5      AX07  MULTIPOLYGON (((-62.81270 17.90598, -62.81263 ...   \n",
       "20265  97801  2      AT01  MULTIPOLYGON (((-63.03229 18.09875, -63.03253 ...   \n",
       "\n",
       "       srid  \n",
       "0      4326  \n",
       "1      4326  \n",
       "2      4326  \n",
       "3      4326  \n",
       "4      4326  \n",
       "...     ...  \n",
       "20261  4326  \n",
       "20262  4326  \n",
       "20263  4326  \n",
       "20264  4326  \n",
       "20265  4326  \n",
       "\n",
       "[20266 rows x 5 columns]"
      ]
     },
     "execution_count": 148,
     "metadata": {},
     "output_type": "execute_result"
    }
   ],
   "source": [
    "import geopandas as gpd\n",
    "\n",
    "gdf = gpd.GeoDataFrame(df_geom, geometry=\"wkt\", crs=\"EPSG:4326\")\n",
    "gdf"
   ]
  },
  {
   "cell_type": "code",
   "execution_count": 149,
   "id": "38abef9b-64a3-4c8b-9302-5688e49c90a1",
   "metadata": {
    "tags": []
   },
   "outputs": [
    {
     "data": {
      "text/plain": [
       "0        MULTIPOLYGON (((55.56003 -21.22883, 55.56142 -...\n",
       "1        MULTIPOLYGON (((55.52972 -21.19911, 55.52997 -...\n",
       "2        MULTIPOLYGON (((55.59368 -21.29036, 55.59485 -...\n",
       "3        MULTIPOLYGON (((55.58636 -21.31395, 55.58649 -...\n",
       "4        MULTIPOLYGON (((55.51758 -20.91979, 55.51887 -...\n",
       "                               ...                        \n",
       "20261    MULTIPOLYGON (((-62.80733 17.90321, -62.80724 ...\n",
       "20262    MULTIPOLYGON (((-62.80163 17.90505, -62.80102 ...\n",
       "20263    MULTIPOLYGON (((-62.80623 17.90211, -62.80599 ...\n",
       "20264    MULTIPOLYGON (((-62.81270 17.90598, -62.81263 ...\n",
       "20265    MULTIPOLYGON (((-63.03229 18.09875, -63.03253 ...\n",
       "Name: wkt, Length: 20266, dtype: geometry"
      ]
     },
     "execution_count": 149,
     "metadata": {},
     "output_type": "execute_result"
    }
   ],
   "source": [
    "gdf.geometry"
   ]
  },
  {
   "cell_type": "code",
   "execution_count": 151,
   "id": "c07eeb6e-4da1-4274-a0cb-69d7d47f6b04",
   "metadata": {
    "tags": []
   },
   "outputs": [
    {
     "data": {
      "text/plain": [
       "depcom  code_ilot\n",
       "97101   AB01         1\n",
       "        AB02         1\n",
       "        AB03         1\n",
       "        AB04         1\n",
       "        AB05         1\n",
       "                    ..\n",
       "97801   BV01         1\n",
       "        BV02         1\n",
       "        BV03         1\n",
       "        BV04         1\n",
       "        BV05         1\n",
       "Name: srid, Length: 20266, dtype: int64"
      ]
     },
     "execution_count": 151,
     "metadata": {},
     "output_type": "execute_result"
    }
   ],
   "source": [
    "gdf.groupby([\"depcom\", \"code_ilot\"])[\"srid\"].count()"
   ]
  },
  {
   "cell_type": "markdown",
   "id": "55e392c4-03d3-4d02-be82-9b69ac3e6952",
   "metadata": {},
   "source": [
    "On a bien que des depcom x ilot distincts"
   ]
  },
  {
   "cell_type": "markdown",
   "id": "13d105b0-6b7b-4670-a085-dffb15330e0e",
   "metadata": {},
   "source": [
    "## Save as partitionned_parquet file"
   ]
  },
  {
   "cell_type": "code",
   "execution_count": 159,
   "id": "bc796085-b01a-4213-9ca6-1b3cb5b3a999",
   "metadata": {
    "tags": []
   },
   "outputs": [
    {
     "name": "stderr",
     "output_type": "stream",
     "text": [
      "/tmp/ipykernel_383/2697064054.py:2: DtypeWarning: Columns (5,9,14,19,20,29,36,43) have mixed types. Specify dtype option on import or set low_memory=False.\n",
      "  df_pc = pd.read_csv(f, dtype={\n"
     ]
    }
   ],
   "source": [
    "with fs.open('projet-slums-detection/Donnees/RIL/ril_pc_dom.csv', 'r') as f:\n",
    "    df_pc = pd.read_csv(f, dtype={\n",
    "        \"id\": str,\n",
    "        \"depcom\": str,\n",
    "        \"ea_type\": str,\n",
    "        \"nb_log\": pd.Int64Dtype(),\n",
    "        \"hab_construction_an\": pd.Int64Dtype(),\n",
    "        \"x\": float,\n",
    "        \"y\": float,\n",
    "        \"code_epsg\": str,\n",
    "        \"code_ilot\": str,\n",
    "        \"grp_rotation\": pd.Int64Dtype(),\n",
    "        \"millesime\": pd.Int64Dtype(),\n",
    "        \"date_livraison\": object,\n",
    "        \"reperage\": str\n",
    "    })"
   ]
  },
  {
   "cell_type": "code",
   "execution_count": 160,
   "id": "80fddcf4-d39c-472e-bd66-a4542de1c950",
   "metadata": {},
   "outputs": [],
   "source": [
    "df_pc = df_pc[[\"id\", \"depcom\", \"ea_type\", \"nb_log\", \"hab_construction_an\", \"x\", \"y\", \"code_epsg\", \"code_ilot\", \"grp_rotation\", \"millesime\", \"date_livraison\", \"reperage\"]]"
   ]
  },
  {
   "cell_type": "code",
   "execution_count": 161,
   "id": "0c4a3eb6-f625-4e2f-b8d9-9e555fa976c6",
   "metadata": {
    "tags": []
   },
   "outputs": [
    {
     "data": {
      "text/html": [
       "<div>\n",
       "<style scoped>\n",
       "    .dataframe tbody tr th:only-of-type {\n",
       "        vertical-align: middle;\n",
       "    }\n",
       "\n",
       "    .dataframe tbody tr th {\n",
       "        vertical-align: top;\n",
       "    }\n",
       "\n",
       "    .dataframe thead th {\n",
       "        text-align: right;\n",
       "    }\n",
       "</style>\n",
       "<table border=\"1\" class=\"dataframe\">\n",
       "  <thead>\n",
       "    <tr style=\"text-align: right;\">\n",
       "      <th></th>\n",
       "      <th>id</th>\n",
       "      <th>depcom</th>\n",
       "      <th>ea_type</th>\n",
       "      <th>nb_log</th>\n",
       "      <th>hab_construction_an</th>\n",
       "      <th>x</th>\n",
       "      <th>y</th>\n",
       "      <th>code_epsg</th>\n",
       "      <th>code_ilot</th>\n",
       "      <th>grp_rotation</th>\n",
       "      <th>millesime</th>\n",
       "      <th>date_livraison</th>\n",
       "      <th>reperage</th>\n",
       "    </tr>\n",
       "  </thead>\n",
       "  <tbody>\n",
       "    <tr>\n",
       "      <th>0</th>\n",
       "      <td>32033149</td>\n",
       "      <td>97102</td>\n",
       "      <td>HABIT</td>\n",
       "      <td>0</td>\n",
       "      <td>1900</td>\n",
       "      <td>663634.543</td>\n",
       "      <td>1825946.61</td>\n",
       "      <td>4559</td>\n",
       "      <td>PED1</td>\n",
       "      <td>5</td>\n",
       "      <td>2023</td>\n",
       "      <td>2022-10-05 16:41:04.000</td>\n",
       "      <td>COMMERCES</td>\n",
       "    </tr>\n",
       "    <tr>\n",
       "      <th>1</th>\n",
       "      <td>32033150</td>\n",
       "      <td>97102</td>\n",
       "      <td>HABIT</td>\n",
       "      <td>1</td>\n",
       "      <td>1900</td>\n",
       "      <td>662540.599</td>\n",
       "      <td>1825264.35</td>\n",
       "      <td>4559</td>\n",
       "      <td>PED1</td>\n",
       "      <td>5</td>\n",
       "      <td>2023</td>\n",
       "      <td>2022-10-05 16:41:04.000</td>\n",
       "      <td>PORTAIL VERT / TOIT BLC</td>\n",
       "    </tr>\n",
       "    <tr>\n",
       "      <th>2</th>\n",
       "      <td>32033151</td>\n",
       "      <td>97102</td>\n",
       "      <td>HABIT</td>\n",
       "      <td>6</td>\n",
       "      <td>1900</td>\n",
       "      <td>662512.349</td>\n",
       "      <td>1825143.23</td>\n",
       "      <td>4559</td>\n",
       "      <td>PED1</td>\n",
       "      <td>5</td>\n",
       "      <td>2023</td>\n",
       "      <td>2022-10-05 16:41:04.000</td>\n",
       "      <td>ACCES CHEM GITES</td>\n",
       "    </tr>\n",
       "    <tr>\n",
       "      <th>3</th>\n",
       "      <td>32033152</td>\n",
       "      <td>97102</td>\n",
       "      <td>HABIT</td>\n",
       "      <td>1</td>\n",
       "      <td>1900</td>\n",
       "      <td>662573.224</td>\n",
       "      <td>1825054.98</td>\n",
       "      <td>4559</td>\n",
       "      <td>PED1</td>\n",
       "      <td>5</td>\n",
       "      <td>2023</td>\n",
       "      <td>2022-10-05 16:41:04.000</td>\n",
       "      <td>MAISON JAUNE /TOIT BLEU</td>\n",
       "    </tr>\n",
       "    <tr>\n",
       "      <th>4</th>\n",
       "      <td>32033153</td>\n",
       "      <td>97102</td>\n",
       "      <td>HABIT</td>\n",
       "      <td>1</td>\n",
       "      <td>1900</td>\n",
       "      <td>662645.662</td>\n",
       "      <td>1824859.98</td>\n",
       "      <td>4559</td>\n",
       "      <td>PED1</td>\n",
       "      <td>5</td>\n",
       "      <td>2023</td>\n",
       "      <td>2022-10-05 16:41:04.000</td>\n",
       "      <td>ACCES CHEM</td>\n",
       "    </tr>\n",
       "  </tbody>\n",
       "</table>\n",
       "</div>"
      ],
      "text/plain": [
       "         id depcom ea_type  nb_log  hab_construction_an           x  \\\n",
       "0  32033149  97102   HABIT       0                 1900  663634.543   \n",
       "1  32033150  97102   HABIT       1                 1900  662540.599   \n",
       "2  32033151  97102   HABIT       6                 1900  662512.349   \n",
       "3  32033152  97102   HABIT       1                 1900  662573.224   \n",
       "4  32033153  97102   HABIT       1                 1900  662645.662   \n",
       "\n",
       "            y code_epsg code_ilot  grp_rotation  millesime  \\\n",
       "0  1825946.61      4559      PED1             5       2023   \n",
       "1  1825264.35      4559      PED1             5       2023   \n",
       "2  1825143.23      4559      PED1             5       2023   \n",
       "3  1825054.98      4559      PED1             5       2023   \n",
       "4  1824859.98      4559      PED1             5       2023   \n",
       "\n",
       "            date_livraison                 reperage  \n",
       "0  2022-10-05 16:41:04.000                COMMERCES  \n",
       "1  2022-10-05 16:41:04.000  PORTAIL VERT / TOIT BLC  \n",
       "2  2022-10-05 16:41:04.000         ACCES CHEM GITES  \n",
       "3  2022-10-05 16:41:04.000  MAISON JAUNE /TOIT BLEU  \n",
       "4  2022-10-05 16:41:04.000               ACCES CHEM  "
      ]
     },
     "execution_count": 161,
     "metadata": {},
     "output_type": "execute_result"
    }
   ],
   "source": [
    "df_pc.head()"
   ]
  },
  {
   "cell_type": "code",
   "execution_count": 162,
   "id": "d8bfd850-fa23-4017-990e-4596858ee3b1",
   "metadata": {
    "tags": []
   },
   "outputs": [
    {
     "name": "stderr",
     "output_type": "stream",
     "text": [
      "/tmp/ipykernel_383/3882058059.py:2: DtypeWarning: Columns (5,9,14,19,20,29,36,39,41,42,43) have mixed types. Specify dtype option on import or set low_memory=False.\n",
      "  df_gc = pd.read_csv(f, dtype={\n"
     ]
    }
   ],
   "source": [
    "with fs.open('projet-slums-detection/Donnees/RIL/ril_gc_dom.csv', 'r') as f:\n",
    "    df_gc = pd.read_csv(f, dtype={\n",
    "        \"id\": str,\n",
    "        \"depcom\": str,\n",
    "        \"ea_type\": str,\n",
    "        \"nb_log\": pd.Int64Dtype(),\n",
    "        \"hab_construction_an\": pd.Int64Dtype(),\n",
    "        \"x\": float,\n",
    "        \"y\": float,\n",
    "        \"code_epsg\": str,\n",
    "        \"code_ilot\": str,\n",
    "        \"grp_rotation\": pd.Int64Dtype(),\n",
    "        \"millesime\": pd.Int64Dtype(),\n",
    "        \"date_livraison\": object,\n",
    "        \"reperage\": str\n",
    "    })"
   ]
  },
  {
   "cell_type": "code",
   "execution_count": 163,
   "id": "236db3f5-a703-44c9-8845-20ce6c9b20f9",
   "metadata": {
    "tags": []
   },
   "outputs": [],
   "source": [
    "df_gc = df_gc[[\"id\", \"depcom\", \"ea_type\", \"nb_log\", \"hab_construction_an\", \"x\", \"y\", \"code_epsg\", \"code_ilot\", \"grp_rotation\", \"millesime\", \"date_livraison\", \"reperage\"]]"
   ]
  },
  {
   "cell_type": "code",
   "execution_count": 165,
   "id": "1aa21e8f-dce1-4915-9fb0-da144037c88c",
   "metadata": {
    "tags": []
   },
   "outputs": [],
   "source": [
    "df_pc[\"type_com\"] = \"pc\"\n",
    "df_gc[\"type_com\"] = \"gc\""
   ]
  },
  {
   "cell_type": "code",
   "execution_count": 166,
   "id": "75ff1ddd-6dfa-4582-82f5-7bbda429e664",
   "metadata": {
    "tags": []
   },
   "outputs": [
    {
     "data": {
      "text/html": [
       "<div>\n",
       "<style scoped>\n",
       "    .dataframe tbody tr th:only-of-type {\n",
       "        vertical-align: middle;\n",
       "    }\n",
       "\n",
       "    .dataframe tbody tr th {\n",
       "        vertical-align: top;\n",
       "    }\n",
       "\n",
       "    .dataframe thead th {\n",
       "        text-align: right;\n",
       "    }\n",
       "</style>\n",
       "<table border=\"1\" class=\"dataframe\">\n",
       "  <thead>\n",
       "    <tr style=\"text-align: right;\">\n",
       "      <th></th>\n",
       "      <th>id</th>\n",
       "      <th>depcom</th>\n",
       "      <th>ea_type</th>\n",
       "      <th>nb_log</th>\n",
       "      <th>hab_construction_an</th>\n",
       "      <th>x</th>\n",
       "      <th>y</th>\n",
       "      <th>code_epsg</th>\n",
       "      <th>code_ilot</th>\n",
       "      <th>grp_rotation</th>\n",
       "      <th>millesime</th>\n",
       "      <th>date_livraison</th>\n",
       "      <th>reperage</th>\n",
       "      <th>type_com</th>\n",
       "    </tr>\n",
       "  </thead>\n",
       "  <tbody>\n",
       "    <tr>\n",
       "      <th>0</th>\n",
       "      <td>32037034</td>\n",
       "      <td>97101</td>\n",
       "      <td>HABIT</td>\n",
       "      <td>0</td>\n",
       "      <td>1900</td>\n",
       "      <td>661399.506</td>\n",
       "      <td>1802848.75</td>\n",
       "      <td>4559</td>\n",
       "      <td>AH03</td>\n",
       "      <td>5</td>\n",
       "      <td>2023</td>\n",
       "      <td>2022-10-06 14:06:15.000</td>\n",
       "      <td>CHENIL</td>\n",
       "      <td>gc</td>\n",
       "    </tr>\n",
       "    <tr>\n",
       "      <th>1</th>\n",
       "      <td>32037035</td>\n",
       "      <td>97101</td>\n",
       "      <td>HABIT</td>\n",
       "      <td>1</td>\n",
       "      <td>1900</td>\n",
       "      <td>662317.510</td>\n",
       "      <td>1802803.62</td>\n",
       "      <td>4559</td>\n",
       "      <td>AH04</td>\n",
       "      <td>4</td>\n",
       "      <td>2023</td>\n",
       "      <td>2022-10-06 14:06:15.000</td>\n",
       "      <td>EN HAUTEUR MEME ENTREE QUE 020</td>\n",
       "      <td>gc</td>\n",
       "    </tr>\n",
       "    <tr>\n",
       "      <th>2</th>\n",
       "      <td>32037036</td>\n",
       "      <td>97101</td>\n",
       "      <td>HABIT</td>\n",
       "      <td>1</td>\n",
       "      <td>1900</td>\n",
       "      <td>662318.385</td>\n",
       "      <td>1802718.25</td>\n",
       "      <td>4559</td>\n",
       "      <td>AH04</td>\n",
       "      <td>4</td>\n",
       "      <td>2023</td>\n",
       "      <td>2022-10-06 14:06:15.000</td>\n",
       "      <td>TOIT BLEU NUIT</td>\n",
       "      <td>gc</td>\n",
       "    </tr>\n",
       "    <tr>\n",
       "      <th>3</th>\n",
       "      <td>32037037</td>\n",
       "      <td>97101</td>\n",
       "      <td>HABIT</td>\n",
       "      <td>0</td>\n",
       "      <td>1900</td>\n",
       "      <td>661443.444</td>\n",
       "      <td>1802703.12</td>\n",
       "      <td>4559</td>\n",
       "      <td>AH03</td>\n",
       "      <td>5</td>\n",
       "      <td>2023</td>\n",
       "      <td>2022-10-06 14:06:15.000</td>\n",
       "      <td>ATELIZR DE COUTURE</td>\n",
       "      <td>gc</td>\n",
       "    </tr>\n",
       "    <tr>\n",
       "      <th>4</th>\n",
       "      <td>32037038</td>\n",
       "      <td>97101</td>\n",
       "      <td>HABIT</td>\n",
       "      <td>1</td>\n",
       "      <td>1900</td>\n",
       "      <td>661537.632</td>\n",
       "      <td>1802589.00</td>\n",
       "      <td>4559</td>\n",
       "      <td>AH03</td>\n",
       "      <td>5</td>\n",
       "      <td>2023</td>\n",
       "      <td>2022-10-06 14:06:15.000</td>\n",
       "      <td>NaN</td>\n",
       "      <td>gc</td>\n",
       "    </tr>\n",
       "  </tbody>\n",
       "</table>\n",
       "</div>"
      ],
      "text/plain": [
       "         id depcom ea_type  nb_log  hab_construction_an           x  \\\n",
       "0  32037034  97101   HABIT       0                 1900  661399.506   \n",
       "1  32037035  97101   HABIT       1                 1900  662317.510   \n",
       "2  32037036  97101   HABIT       1                 1900  662318.385   \n",
       "3  32037037  97101   HABIT       0                 1900  661443.444   \n",
       "4  32037038  97101   HABIT       1                 1900  661537.632   \n",
       "\n",
       "            y code_epsg code_ilot  grp_rotation  millesime  \\\n",
       "0  1802848.75      4559      AH03             5       2023   \n",
       "1  1802803.62      4559      AH04             4       2023   \n",
       "2  1802718.25      4559      AH04             4       2023   \n",
       "3  1802703.12      4559      AH03             5       2023   \n",
       "4  1802589.00      4559      AH03             5       2023   \n",
       "\n",
       "            date_livraison                        reperage type_com  \n",
       "0  2022-10-06 14:06:15.000                          CHENIL       gc  \n",
       "1  2022-10-06 14:06:15.000  EN HAUTEUR MEME ENTREE QUE 020       gc  \n",
       "2  2022-10-06 14:06:15.000                  TOIT BLEU NUIT       gc  \n",
       "3  2022-10-06 14:06:15.000              ATELIZR DE COUTURE       gc  \n",
       "4  2022-10-06 14:06:15.000                             NaN       gc  "
      ]
     },
     "execution_count": 166,
     "metadata": {},
     "output_type": "execute_result"
    }
   ],
   "source": [
    "df_ril = pd.concat([df_gc, df_pc])\n",
    "df_ril.head()"
   ]
  },
  {
   "cell_type": "code",
   "execution_count": 167,
   "id": "c32e9bcb-c050-494c-b1ed-0d8e26cd0330",
   "metadata": {
    "tags": []
   },
   "outputs": [
    {
     "data": {
      "text/plain": [
       "(2700035, 14)"
      ]
     },
     "execution_count": 167,
     "metadata": {},
     "output_type": "execute_result"
    }
   ],
   "source": [
    "df_ril.shape"
   ]
  },
  {
   "cell_type": "code",
   "execution_count": 168,
   "id": "256f4ba7-c9c3-4cda-942d-a2956c9aefae",
   "metadata": {
    "tags": []
   },
   "outputs": [
    {
     "data": {
      "text/html": [
       "<div>\n",
       "<style scoped>\n",
       "    .dataframe tbody tr th:only-of-type {\n",
       "        vertical-align: middle;\n",
       "    }\n",
       "\n",
       "    .dataframe tbody tr th {\n",
       "        vertical-align: top;\n",
       "    }\n",
       "\n",
       "    .dataframe thead th {\n",
       "        text-align: right;\n",
       "    }\n",
       "</style>\n",
       "<table border=\"1\" class=\"dataframe\">\n",
       "  <thead>\n",
       "    <tr style=\"text-align: right;\">\n",
       "      <th></th>\n",
       "      <th>id</th>\n",
       "      <th>depcom</th>\n",
       "      <th>ea_type</th>\n",
       "      <th>nb_log</th>\n",
       "      <th>hab_construction_an</th>\n",
       "      <th>x</th>\n",
       "      <th>y</th>\n",
       "      <th>code_epsg</th>\n",
       "      <th>code_ilot</th>\n",
       "      <th>grp_rotation</th>\n",
       "      <th>millesime</th>\n",
       "      <th>date_livraison</th>\n",
       "      <th>reperage</th>\n",
       "      <th>type_com</th>\n",
       "      <th>dep</th>\n",
       "    </tr>\n",
       "  </thead>\n",
       "  <tbody>\n",
       "    <tr>\n",
       "      <th>0</th>\n",
       "      <td>32037034</td>\n",
       "      <td>97101</td>\n",
       "      <td>HABIT</td>\n",
       "      <td>0</td>\n",
       "      <td>1900</td>\n",
       "      <td>661399.506</td>\n",
       "      <td>1802848.75</td>\n",
       "      <td>4559</td>\n",
       "      <td>AH03</td>\n",
       "      <td>5</td>\n",
       "      <td>2023</td>\n",
       "      <td>2022-10-06 14:06:15.000</td>\n",
       "      <td>CHENIL</td>\n",
       "      <td>gc</td>\n",
       "      <td>971</td>\n",
       "    </tr>\n",
       "    <tr>\n",
       "      <th>1</th>\n",
       "      <td>32037035</td>\n",
       "      <td>97101</td>\n",
       "      <td>HABIT</td>\n",
       "      <td>1</td>\n",
       "      <td>1900</td>\n",
       "      <td>662317.510</td>\n",
       "      <td>1802803.62</td>\n",
       "      <td>4559</td>\n",
       "      <td>AH04</td>\n",
       "      <td>4</td>\n",
       "      <td>2023</td>\n",
       "      <td>2022-10-06 14:06:15.000</td>\n",
       "      <td>EN HAUTEUR MEME ENTREE QUE 020</td>\n",
       "      <td>gc</td>\n",
       "      <td>971</td>\n",
       "    </tr>\n",
       "    <tr>\n",
       "      <th>2</th>\n",
       "      <td>32037036</td>\n",
       "      <td>97101</td>\n",
       "      <td>HABIT</td>\n",
       "      <td>1</td>\n",
       "      <td>1900</td>\n",
       "      <td>662318.385</td>\n",
       "      <td>1802718.25</td>\n",
       "      <td>4559</td>\n",
       "      <td>AH04</td>\n",
       "      <td>4</td>\n",
       "      <td>2023</td>\n",
       "      <td>2022-10-06 14:06:15.000</td>\n",
       "      <td>TOIT BLEU NUIT</td>\n",
       "      <td>gc</td>\n",
       "      <td>971</td>\n",
       "    </tr>\n",
       "    <tr>\n",
       "      <th>3</th>\n",
       "      <td>32037037</td>\n",
       "      <td>97101</td>\n",
       "      <td>HABIT</td>\n",
       "      <td>0</td>\n",
       "      <td>1900</td>\n",
       "      <td>661443.444</td>\n",
       "      <td>1802703.12</td>\n",
       "      <td>4559</td>\n",
       "      <td>AH03</td>\n",
       "      <td>5</td>\n",
       "      <td>2023</td>\n",
       "      <td>2022-10-06 14:06:15.000</td>\n",
       "      <td>ATELIZR DE COUTURE</td>\n",
       "      <td>gc</td>\n",
       "      <td>971</td>\n",
       "    </tr>\n",
       "    <tr>\n",
       "      <th>4</th>\n",
       "      <td>32037038</td>\n",
       "      <td>97101</td>\n",
       "      <td>HABIT</td>\n",
       "      <td>1</td>\n",
       "      <td>1900</td>\n",
       "      <td>661537.632</td>\n",
       "      <td>1802589.00</td>\n",
       "      <td>4559</td>\n",
       "      <td>AH03</td>\n",
       "      <td>5</td>\n",
       "      <td>2023</td>\n",
       "      <td>2022-10-06 14:06:15.000</td>\n",
       "      <td>NaN</td>\n",
       "      <td>gc</td>\n",
       "      <td>971</td>\n",
       "    </tr>\n",
       "  </tbody>\n",
       "</table>\n",
       "</div>"
      ],
      "text/plain": [
       "         id depcom ea_type  nb_log  hab_construction_an           x  \\\n",
       "0  32037034  97101   HABIT       0                 1900  661399.506   \n",
       "1  32037035  97101   HABIT       1                 1900  662317.510   \n",
       "2  32037036  97101   HABIT       1                 1900  662318.385   \n",
       "3  32037037  97101   HABIT       0                 1900  661443.444   \n",
       "4  32037038  97101   HABIT       1                 1900  661537.632   \n",
       "\n",
       "            y code_epsg code_ilot  grp_rotation  millesime  \\\n",
       "0  1802848.75      4559      AH03             5       2023   \n",
       "1  1802803.62      4559      AH04             4       2023   \n",
       "2  1802718.25      4559      AH04             4       2023   \n",
       "3  1802703.12      4559      AH03             5       2023   \n",
       "4  1802589.00      4559      AH03             5       2023   \n",
       "\n",
       "            date_livraison                        reperage type_com  dep  \n",
       "0  2022-10-06 14:06:15.000                          CHENIL       gc  971  \n",
       "1  2022-10-06 14:06:15.000  EN HAUTEUR MEME ENTREE QUE 020       gc  971  \n",
       "2  2022-10-06 14:06:15.000                  TOIT BLEU NUIT       gc  971  \n",
       "3  2022-10-06 14:06:15.000              ATELIZR DE COUTURE       gc  971  \n",
       "4  2022-10-06 14:06:15.000                             NaN       gc  971  "
      ]
     },
     "execution_count": 168,
     "metadata": {},
     "output_type": "execute_result"
    }
   ],
   "source": [
    "df_ril[\"dep\"] = df_ril[\"depcom\"].str[:3]\n",
    "df_ril.head()"
   ]
  },
  {
   "cell_type": "code",
   "execution_count": 187,
   "id": "333700d0-156c-48c7-843c-e068465fd752",
   "metadata": {
    "tags": []
   },
   "outputs": [],
   "source": [
    "import pyarrow.parquet as pq\n",
    "import pyarrow as pa\n",
    "\n",
    "def write_parquet_as_partitioned_dataset(fs, table, endpoint, bucket_name, path, partition_cols=None, compression=\"SNAPPY\"):\n",
    "    url = f\"https://{endpoint}\"\n",
    "    file_uri = f\"{bucket_name}/{path}\"\n",
    "    pq.write_to_dataset(table, root_path=file_uri, partition_cols=partition_cols, filesystem=fs, compression=compression)"
   ]
  },
  {
   "cell_type": "code",
   "execution_count": 185,
   "id": "94f3264d-82b1-4fcf-abf0-26fa7786597c",
   "metadata": {
    "tags": []
   },
   "outputs": [],
   "source": [
    "endpoint = os.environ['AWS_S3_ENDPOINT']\n",
    "bucket_name = \"projet-slums-detection\"\n",
    "path = \"Donnees/RIL/ril_data.parquet\""
   ]
  },
  {
   "cell_type": "code",
   "execution_count": 189,
   "id": "805db516-7aa9-4cec-aea9-29a5230a8069",
   "metadata": {
    "tags": []
   },
   "outputs": [],
   "source": [
    "table_ril = pa.Table.from_pandas(df_ril)"
   ]
  },
  {
   "cell_type": "code",
   "execution_count": 190,
   "id": "2c84833c-ebb9-4825-94f0-9900c7426f26",
   "metadata": {
    "tags": []
   },
   "outputs": [],
   "source": [
    "write_parquet_as_partitioned_dataset(fs, table_ril, endpoint, bucket_name, path, partition_cols=[\"dep\", \"millesime\"])"
   ]
  },
  {
   "cell_type": "markdown",
   "id": "9525ba30-ef4b-4578-b9da-da06ebd7f08a",
   "metadata": {},
   "source": [
    "## Function to get a RIL file"
   ]
  },
  {
   "cell_type": "code",
   "execution_count": 240,
   "id": "8233e76d-354e-4c7d-b186-8345275d11bb",
   "metadata": {
    "tags": []
   },
   "outputs": [],
   "source": [
    "dep_to_crs = {\n",
    "    \"971\": \"4559\",\n",
    "    \"973\": \"2972\",\n",
    "    \"972\": \"4559\",\n",
    "    \"976\": \"4471\",\n",
    "    \"974\": \"2975\",\n",
    "    \"977\": \"4559\",\n",
    "    \"978\": \"4559\"\n",
    "}"
   ]
  },
  {
   "cell_type": "code",
   "execution_count": 241,
   "id": "826eb776-401c-4e6f-9eaf-ac104a982754",
   "metadata": {},
   "outputs": [],
   "source": [
    "import sys\n",
    "sys.path.append(\"../src/\")\n",
    "from utils import get_environment, get_file_system\n",
    "from typing import Literal\n",
    "from datetime import datetime\n",
    "\n",
    "def load_ril(millesime: Literal[\"2020\", \"2021\", \"2022\", \"2023\"], dep: Literal[\"971\", \"972\", \"973\", \"974\", \"976\", \"977\", \"978\"]) -> gpd.GeoDataFrame:\n",
    "    \"\"\"\n",
    "    Load RIL for a given datetime.\n",
    "\n",
    "    Args:\n",
    "        datetime (datetime): Date of labeling data.\n",
    "\n",
    "    Returns:\n",
    "        gpd.GeoDataFrame: RIL GeoDataFrame.\n",
    "    \"\"\"\n",
    "    environment = get_environment()\n",
    "    fs = get_file_system()\n",
    "    \n",
    "    dataset = pq.ParquetDataset(\n",
    "        os.path.join(\n",
    "            environment[\"bucket\"], environment[\"sources\"][\"RIL\"], \"dep=\" + dep, \"millesime=\" + millesime\n",
    "        ),\n",
    "        filesystem=fs\n",
    "    )\n",
    "    \n",
    "    df = dataset.read().to_pandas()\n",
    "    gdf = gpd.GeoDataFrame(\n",
    "        df,\n",
    "        geometry=gpd.points_from_xy(df.x, df.y)\n",
    "    )\n",
    "    crs = dep_to_crs[dep]\n",
    "    gdf = gdf.set_crs(\"epsg:\" + crs)\n",
    "    return gdf"
   ]
  },
  {
   "cell_type": "code",
   "execution_count": 242,
   "id": "08ef02fd-11f0-452f-9dc2-88d9b8b609e6",
   "metadata": {
    "tags": []
   },
   "outputs": [],
   "source": [
    "a = load_ril(\"2020\", \"971\")"
   ]
  },
  {
   "cell_type": "code",
   "execution_count": 244,
   "id": "250aeda3-e43a-41be-bfe6-e58dbf38e16f",
   "metadata": {
    "tags": []
   },
   "outputs": [
    {
     "data": {
      "text/html": [
       "<div>\n",
       "<style scoped>\n",
       "    .dataframe tbody tr th:only-of-type {\n",
       "        vertical-align: middle;\n",
       "    }\n",
       "\n",
       "    .dataframe tbody tr th {\n",
       "        vertical-align: top;\n",
       "    }\n",
       "\n",
       "    .dataframe thead th {\n",
       "        text-align: right;\n",
       "    }\n",
       "</style>\n",
       "<table border=\"1\" class=\"dataframe\">\n",
       "  <thead>\n",
       "    <tr style=\"text-align: right;\">\n",
       "      <th></th>\n",
       "      <th>id</th>\n",
       "      <th>depcom</th>\n",
       "      <th>ea_type</th>\n",
       "      <th>nb_log</th>\n",
       "      <th>hab_construction_an</th>\n",
       "      <th>x</th>\n",
       "      <th>y</th>\n",
       "      <th>code_epsg</th>\n",
       "      <th>code_ilot</th>\n",
       "      <th>grp_rotation</th>\n",
       "      <th>date_livraison</th>\n",
       "      <th>reperage</th>\n",
       "      <th>type_com</th>\n",
       "      <th>geometry</th>\n",
       "    </tr>\n",
       "  </thead>\n",
       "  <tbody>\n",
       "    <tr>\n",
       "      <th>131072</th>\n",
       "      <td>7334975</td>\n",
       "      <td>97103</td>\n",
       "      <td>HABIT</td>\n",
       "      <td>1</td>\n",
       "      <td>1900</td>\n",
       "      <td>648366.501</td>\n",
       "      <td>1796739.98</td>\n",
       "      <td>4559</td>\n",
       "      <td>BE04</td>\n",
       "      <td>5</td>\n",
       "      <td>2019-10-09 18:19:21.000</td>\n",
       "      <td>None</td>\n",
       "      <td>gc</td>\n",
       "      <td>POINT (648366.501 1796739.980)</td>\n",
       "    </tr>\n",
       "    <tr>\n",
       "      <th>131073</th>\n",
       "      <td>7334976</td>\n",
       "      <td>97103</td>\n",
       "      <td>HABIT</td>\n",
       "      <td>0</td>\n",
       "      <td>1900</td>\n",
       "      <td>654324.903</td>\n",
       "      <td>1795684.72</td>\n",
       "      <td>4559</td>\n",
       "      <td>AM11</td>\n",
       "      <td>2</td>\n",
       "      <td>2019-10-09 18:19:21.000</td>\n",
       "      <td>CLINIQUE VETERINAIRE</td>\n",
       "      <td>gc</td>\n",
       "      <td>POINT (654324.903 1795684.720)</td>\n",
       "    </tr>\n",
       "    <tr>\n",
       "      <th>131074</th>\n",
       "      <td>7334977</td>\n",
       "      <td>97103</td>\n",
       "      <td>HABIT</td>\n",
       "      <td>1</td>\n",
       "      <td>1900</td>\n",
       "      <td>650552.826</td>\n",
       "      <td>1798771.61</td>\n",
       "      <td>4559</td>\n",
       "      <td>AC02</td>\n",
       "      <td>2</td>\n",
       "      <td>2019-10-09 18:19:21.000</td>\n",
       "      <td>None</td>\n",
       "      <td>gc</td>\n",
       "      <td>POINT (650552.826 1798771.610)</td>\n",
       "    </tr>\n",
       "    <tr>\n",
       "      <th>131075</th>\n",
       "      <td>7334978</td>\n",
       "      <td>97103</td>\n",
       "      <td>HABIT</td>\n",
       "      <td>1</td>\n",
       "      <td>1900</td>\n",
       "      <td>648539.189</td>\n",
       "      <td>1796428.48</td>\n",
       "      <td>4559</td>\n",
       "      <td>BE02</td>\n",
       "      <td>2</td>\n",
       "      <td>2019-10-09 18:19:21.000</td>\n",
       "      <td>VILLA FLAMBOYANT</td>\n",
       "      <td>gc</td>\n",
       "      <td>POINT (648539.189 1796428.480)</td>\n",
       "    </tr>\n",
       "    <tr>\n",
       "      <th>131076</th>\n",
       "      <td>7334979</td>\n",
       "      <td>97103</td>\n",
       "      <td>HABIT</td>\n",
       "      <td>1</td>\n",
       "      <td>1900</td>\n",
       "      <td>649134.942</td>\n",
       "      <td>1796785.11</td>\n",
       "      <td>4559</td>\n",
       "      <td>AY03</td>\n",
       "      <td>1</td>\n",
       "      <td>2019-10-09 18:19:21.000</td>\n",
       "      <td>None</td>\n",
       "      <td>gc</td>\n",
       "      <td>POINT (649134.942 1796785.110)</td>\n",
       "    </tr>\n",
       "    <tr>\n",
       "      <th>...</th>\n",
       "      <td>...</td>\n",
       "      <td>...</td>\n",
       "      <td>...</td>\n",
       "      <td>...</td>\n",
       "      <td>...</td>\n",
       "      <td>...</td>\n",
       "      <td>...</td>\n",
       "      <td>...</td>\n",
       "      <td>...</td>\n",
       "      <td>...</td>\n",
       "      <td>...</td>\n",
       "      <td>...</td>\n",
       "      <td>...</td>\n",
       "      <td>...</td>\n",
       "    </tr>\n",
       "    <tr>\n",
       "      <th>42424</th>\n",
       "      <td>7544246</td>\n",
       "      <td>97132</td>\n",
       "      <td>HABIT</td>\n",
       "      <td>1</td>\n",
       "      <td>1900</td>\n",
       "      <td>647154.842</td>\n",
       "      <td>1768988.10</td>\n",
       "      <td>4559</td>\n",
       "      <td>AC01</td>\n",
       "      <td>2</td>\n",
       "      <td>2019-10-17 15:24:19.000</td>\n",
       "      <td>None</td>\n",
       "      <td>pc</td>\n",
       "      <td>POINT (647154.842 1768988.100)</td>\n",
       "    </tr>\n",
       "    <tr>\n",
       "      <th>42425</th>\n",
       "      <td>7544247</td>\n",
       "      <td>97132</td>\n",
       "      <td>HABIT</td>\n",
       "      <td>1</td>\n",
       "      <td>1900</td>\n",
       "      <td>644155.326</td>\n",
       "      <td>1767148.22</td>\n",
       "      <td>4559</td>\n",
       "      <td>AV01</td>\n",
       "      <td>2</td>\n",
       "      <td>2019-10-17 15:24:19.000</td>\n",
       "      <td>TOIT VERT FONCE BARRIERE BLANCHE SUR LA ROUTE</td>\n",
       "      <td>pc</td>\n",
       "      <td>POINT (644155.326 1767148.220)</td>\n",
       "    </tr>\n",
       "    <tr>\n",
       "      <th>42426</th>\n",
       "      <td>7544248</td>\n",
       "      <td>97132</td>\n",
       "      <td>HABIT</td>\n",
       "      <td>1</td>\n",
       "      <td>1900</td>\n",
       "      <td>644296.389</td>\n",
       "      <td>1767126.72</td>\n",
       "      <td>4559</td>\n",
       "      <td>AV01</td>\n",
       "      <td>2</td>\n",
       "      <td>2019-10-17 15:24:19.000</td>\n",
       "      <td>EN ABRICOT ET BLANC</td>\n",
       "      <td>pc</td>\n",
       "      <td>POINT (644296.389 1767126.720)</td>\n",
       "    </tr>\n",
       "    <tr>\n",
       "      <th>42427</th>\n",
       "      <td>7544249</td>\n",
       "      <td>97132</td>\n",
       "      <td>HABIT</td>\n",
       "      <td>1</td>\n",
       "      <td>1900</td>\n",
       "      <td>642589.943</td>\n",
       "      <td>1765844.22</td>\n",
       "      <td>4559</td>\n",
       "      <td>AR02</td>\n",
       "      <td>2</td>\n",
       "      <td>2019-10-17 15:24:19.000</td>\n",
       "      <td>None</td>\n",
       "      <td>pc</td>\n",
       "      <td>POINT (642589.943 1765844.220)</td>\n",
       "    </tr>\n",
       "    <tr>\n",
       "      <th>42428</th>\n",
       "      <td>7544250</td>\n",
       "      <td>97132</td>\n",
       "      <td>HABIT</td>\n",
       "      <td>1</td>\n",
       "      <td>1900</td>\n",
       "      <td>645312.768</td>\n",
       "      <td>1766004.97</td>\n",
       "      <td>4559</td>\n",
       "      <td>AN02</td>\n",
       "      <td>2</td>\n",
       "      <td>2019-10-17 15:24:19.000</td>\n",
       "      <td>None</td>\n",
       "      <td>pc</td>\n",
       "      <td>POINT (645312.768 1766004.970)</td>\n",
       "    </tr>\n",
       "  </tbody>\n",
       "</table>\n",
       "<p>155580 rows × 14 columns</p>\n",
       "</div>"
      ],
      "text/plain": [
       "             id depcom ea_type  nb_log  hab_construction_an           x  \\\n",
       "131072  7334975  97103   HABIT       1                 1900  648366.501   \n",
       "131073  7334976  97103   HABIT       0                 1900  654324.903   \n",
       "131074  7334977  97103   HABIT       1                 1900  650552.826   \n",
       "131075  7334978  97103   HABIT       1                 1900  648539.189   \n",
       "131076  7334979  97103   HABIT       1                 1900  649134.942   \n",
       "...         ...    ...     ...     ...                  ...         ...   \n",
       "42424   7544246  97132   HABIT       1                 1900  647154.842   \n",
       "42425   7544247  97132   HABIT       1                 1900  644155.326   \n",
       "42426   7544248  97132   HABIT       1                 1900  644296.389   \n",
       "42427   7544249  97132   HABIT       1                 1900  642589.943   \n",
       "42428   7544250  97132   HABIT       1                 1900  645312.768   \n",
       "\n",
       "                 y code_epsg code_ilot  grp_rotation           date_livraison  \\\n",
       "131072  1796739.98      4559      BE04             5  2019-10-09 18:19:21.000   \n",
       "131073  1795684.72      4559      AM11             2  2019-10-09 18:19:21.000   \n",
       "131074  1798771.61      4559      AC02             2  2019-10-09 18:19:21.000   \n",
       "131075  1796428.48      4559      BE02             2  2019-10-09 18:19:21.000   \n",
       "131076  1796785.11      4559      AY03             1  2019-10-09 18:19:21.000   \n",
       "...            ...       ...       ...           ...                      ...   \n",
       "42424   1768988.10      4559      AC01             2  2019-10-17 15:24:19.000   \n",
       "42425   1767148.22      4559      AV01             2  2019-10-17 15:24:19.000   \n",
       "42426   1767126.72      4559      AV01             2  2019-10-17 15:24:19.000   \n",
       "42427   1765844.22      4559      AR02             2  2019-10-17 15:24:19.000   \n",
       "42428   1766004.97      4559      AN02             2  2019-10-17 15:24:19.000   \n",
       "\n",
       "                                             reperage type_com  \\\n",
       "131072                                           None       gc   \n",
       "131073                           CLINIQUE VETERINAIRE       gc   \n",
       "131074                                           None       gc   \n",
       "131075                               VILLA FLAMBOYANT       gc   \n",
       "131076                                           None       gc   \n",
       "...                                               ...      ...   \n",
       "42424                                            None       pc   \n",
       "42425   TOIT VERT FONCE BARRIERE BLANCHE SUR LA ROUTE       pc   \n",
       "42426                             EN ABRICOT ET BLANC       pc   \n",
       "42427                                            None       pc   \n",
       "42428                                            None       pc   \n",
       "\n",
       "                              geometry  \n",
       "131072  POINT (648366.501 1796739.980)  \n",
       "131073  POINT (654324.903 1795684.720)  \n",
       "131074  POINT (650552.826 1798771.610)  \n",
       "131075  POINT (648539.189 1796428.480)  \n",
       "131076  POINT (649134.942 1796785.110)  \n",
       "...                                ...  \n",
       "42424   POINT (647154.842 1768988.100)  \n",
       "42425   POINT (644155.326 1767148.220)  \n",
       "42426   POINT (644296.389 1767126.720)  \n",
       "42427   POINT (642589.943 1765844.220)  \n",
       "42428   POINT (645312.768 1766004.970)  \n",
       "\n",
       "[155580 rows x 14 columns]"
      ]
     },
     "execution_count": 244,
     "metadata": {},
     "output_type": "execute_result"
    }
   ],
   "source": [
    "a"
   ]
  },
  {
   "cell_type": "code",
   "execution_count": null,
   "id": "a0437b71-e4fb-47d8-a458-02a1d67482a1",
   "metadata": {},
   "outputs": [],
   "source": []
  }
 ],
 "metadata": {
  "kernelspec": {
   "display_name": "Python 3 (ipykernel)",
   "language": "python",
   "name": "python3"
  },
  "language_info": {
   "codemirror_mode": {
    "name": "ipython",
    "version": 3
   },
   "file_extension": ".py",
   "mimetype": "text/x-python",
   "name": "python",
   "nbconvert_exporter": "python",
   "pygments_lexer": "ipython3",
   "version": "3.10.8"
  }
 },
 "nbformat": 4,
 "nbformat_minor": 5
}
