{
 "cells": [
  {
   "cell_type": "code",
   "execution_count": 30,
   "id": "0fdc95ff-a298-4878-9321-6f2f75e58b5d",
   "metadata": {
    "tags": []
   },
   "outputs": [],
   "source": [
    "import pandas as pd"
   ]
  },
  {
   "cell_type": "code",
   "execution_count": 31,
   "id": "3eeef515-3ba8-4db7-aabb-c02b80b1b75f",
   "metadata": {
    "tags": []
   },
   "outputs": [],
   "source": [
    "import s3fs\n",
    "import hvac\n",
    "import os\n",
    "\n",
    "client = hvac.Client(url='https://vault.lab.sspcloud.fr',\n",
    "                     token=os.environ['VAULT_TOKEN'])\n",
    "\n",
    "secret = os.environ['VAULT_MOUNT'] + os.environ['VAULT_TOP_DIR'] + '/s3'\n",
    "mount_point, secret_path = secret.split('/', 1)\n",
    "secret_dict = client.secrets.kv.read_secret_version(path=secret_path, mount_point = mount_point)\n",
    "\n",
    "os.environ[\"AWS_ACCESS_KEY_ID\"] = secret_dict['data']['data']['ACCESS_KEY_ID']\n",
    "os.environ[\"AWS_SECRET_ACCESS_KEY\"] = secret_dict['data']['data']['SECRET_ACCESS_KEY']\n",
    "try:\n",
    "    del os.environ['AWS_SESSION_TOKEN']\n",
    "except KeyError:\n",
    "    pass"
   ]
  },
  {
   "cell_type": "code",
   "execution_count": 183,
   "id": "faf61e0a-6946-43a5-9bd5-170803118635",
   "metadata": {
    "tags": []
   },
   "outputs": [
    {
     "data": {
      "text/plain": [
       "['projet-slums-detection/Donnees/RIL/.keep',\n",
       " 'projet-slums-detection/Donnees/RIL/rca_geometry_ilot.rds',\n",
       " 'projet-slums-detection/Donnees/RIL/rca_geometry_ilots.rds',\n",
       " 'projet-slums-detection/Donnees/RIL/ril_gc_dom.csv',\n",
       " 'projet-slums-detection/Donnees/RIL/ril_pc_dom.csv']"
      ]
     },
     "execution_count": 183,
     "metadata": {},
     "output_type": "execute_result"
    }
   ],
   "source": [
    "fs = s3fs.S3FileSystem(\n",
    "    client_kwargs={'endpoint_url': 'https://'+'minio.lab.sspcloud.fr'},\n",
    "    key=os.environ[\"AWS_ACCESS_KEY_ID\"],\n",
    "    secret=os.environ[\"AWS_SECRET_ACCESS_KEY\"]\n",
    ")\n",
    "fs.ls('projet-slums-detection/Donnees/RIL/')"
   ]
  },
  {
   "cell_type": "markdown",
   "id": "326eb74d-41e2-4f31-971b-3f61a613dcf4",
   "metadata": {},
   "source": [
    "## Petites communes"
   ]
  },
  {
   "cell_type": "code",
   "execution_count": 33,
   "id": "34419545-150a-47ae-885e-99dc89ec600b",
   "metadata": {
    "tags": []
   },
   "outputs": [
    {
     "name": "stderr",
     "output_type": "stream",
     "text": [
      "/tmp/ipykernel_383/589304261.py:2: DtypeWarning: Columns (5,9,14,19,20,27,29,36,43) have mixed types. Specify dtype option on import or set low_memory=False.\n",
      "  df_pc = pd.read_csv(f)\n"
     ]
    }
   ],
   "source": [
    "with fs.open('projet-slums-detection/Donnees/RIL/ril_pc_dom.csv', 'r') as f:\n",
    "    df_pc = pd.read_csv(f)"
   ]
  },
  {
   "cell_type": "markdown",
   "id": "ba751415-6ce6-43ad-85de-f6df1f5f1f82",
   "metadata": {},
   "source": [
    "Data types to specify"
   ]
  },
  {
   "cell_type": "code",
   "execution_count": 34,
   "id": "e0fe74a1-3fae-41ac-b1be-03add282aff9",
   "metadata": {
    "tags": []
   },
   "outputs": [
    {
     "name": "stdout",
     "output_type": "stream",
     "text": [
      "<class 'pandas.core.frame.DataFrame'>\n",
      "RangeIndex: 135915 entries, 0 to 135914\n",
      "Data columns (total 51 columns):\n",
      " #   Column                  Non-Null Count   Dtype  \n",
      "---  ------                  --------------   -----  \n",
      " 0   id                      135915 non-null  int64  \n",
      " 1   depcom                  135915 non-null  int64  \n",
      " 2   id_ea                   135915 non-null  int64  \n",
      " 3   principal               135915 non-null  object \n",
      " 4   numero                  135915 non-null  int64  \n",
      " 5   repetition              4959 non-null    object \n",
      " 6   complement              55003 non-null   object \n",
      " 7   type_voie               135332 non-null  object \n",
      " 8   libelle_voie            135915 non-null  object \n",
      " 9   rivoli                  87208 non-null   object \n",
      " 10  ea_type                 135915 non-null  object \n",
      " 11  hab_hot_type            135800 non-null  object \n",
      " 12  nb_log                  135800 non-null  float64\n",
      " 13  etat                    135800 non-null  float64\n",
      " 14  pc_num                  5747 non-null    object \n",
      " 15  commentaire             36747 non-null   object \n",
      " 16  hab_construction_an     135683 non-null  float64\n",
      " 17  hab_nb_imm              91097 non-null   float64\n",
      " 18  hab_niv                 132373 non-null  float64\n",
      " 19  hot_sous_type           102 non-null     object \n",
      " 20  hot_enseigne            95 non-null      object \n",
      " 21  lien_cmt                135683 non-null  float64\n",
      " 22  x                       135915 non-null  float64\n",
      " 23  y                       135915 non-null  float64\n",
      " 24  code_epsg               135915 non-null  int64  \n",
      " 25  type_localisation       135915 non-null  object \n",
      " 26  numero_parcelle         55207 non-null   object \n",
      " 27  code_ilot               135915 non-null  object \n",
      " 28  code_iris               82090 non-null   float64\n",
      " 29  quartier_prioritaire    7976 non-null    object \n",
      " 30  canton                  75536 non-null   float64\n",
      " 31  liste_insee             135915 non-null  object \n",
      " 32  id_rp                   135914 non-null  object \n",
      " 33  dernier_tirage          6103 non-null    float64\n",
      " 34  echantillon             135915 non-null  object \n",
      " 35  grp_rotation            135900 non-null  float64\n",
      " 36  date_maj_ea             97 non-null      object \n",
      " 37  com_anc_idft            115 non-null     float64\n",
      " 38  com_type                115 non-null     float64\n",
      " 39  com_statut              115 non-null     object \n",
      " 40  com_nb_log_fonction     115 non-null     float64\n",
      " 41  com_nom                 115 non-null     object \n",
      " 42  com_date_creation_base  115 non-null     object \n",
      " 43  com_date_fermeture      17 non-null      object \n",
      " 44  com_capacite_theorique  115 non-null     float64\n",
      " 45  millesime               135915 non-null  int64  \n",
      " 46  date_livraison          135915 non-null  object \n",
      " 47  ref_ea                  135915 non-null  int64  \n",
      " 48  id_rca_adresse          135915 non-null  int64  \n",
      " 49  reperage                49825 non-null   object \n",
      " 50  id_ea_regroup           1615 non-null    float64\n",
      "dtypes: float64(17), int64(8), object(26)\n",
      "memory usage: 52.9+ MB\n"
     ]
    }
   ],
   "source": [
    "df_pc.info()"
   ]
  },
  {
   "cell_type": "code",
   "execution_count": 35,
   "id": "9c6e6b54-ecb5-4f7b-b3e1-ce28d84f5b8d",
   "metadata": {
    "tags": []
   },
   "outputs": [
    {
     "data": {
      "text/html": [
       "<div>\n",
       "<style scoped>\n",
       "    .dataframe tbody tr th:only-of-type {\n",
       "        vertical-align: middle;\n",
       "    }\n",
       "\n",
       "    .dataframe tbody tr th {\n",
       "        vertical-align: top;\n",
       "    }\n",
       "\n",
       "    .dataframe thead th {\n",
       "        text-align: right;\n",
       "    }\n",
       "</style>\n",
       "<table border=\"1\" class=\"dataframe\">\n",
       "  <thead>\n",
       "    <tr style=\"text-align: right;\">\n",
       "      <th></th>\n",
       "      <th>id</th>\n",
       "      <th>depcom</th>\n",
       "      <th>id_ea</th>\n",
       "      <th>principal</th>\n",
       "      <th>numero</th>\n",
       "      <th>repetition</th>\n",
       "      <th>complement</th>\n",
       "      <th>type_voie</th>\n",
       "      <th>libelle_voie</th>\n",
       "      <th>rivoli</th>\n",
       "      <th>ea_type</th>\n",
       "      <th>hab_hot_type</th>\n",
       "      <th>nb_log</th>\n",
       "      <th>etat</th>\n",
       "      <th>pc_num</th>\n",
       "      <th>commentaire</th>\n",
       "      <th>hab_construction_an</th>\n",
       "      <th>hab_nb_imm</th>\n",
       "      <th>hab_niv</th>\n",
       "      <th>hot_sous_type</th>\n",
       "      <th>hot_enseigne</th>\n",
       "      <th>lien_cmt</th>\n",
       "      <th>x</th>\n",
       "      <th>y</th>\n",
       "      <th>code_epsg</th>\n",
       "      <th>type_localisation</th>\n",
       "      <th>numero_parcelle</th>\n",
       "      <th>code_ilot</th>\n",
       "      <th>code_iris</th>\n",
       "      <th>quartier_prioritaire</th>\n",
       "      <th>canton</th>\n",
       "      <th>liste_insee</th>\n",
       "      <th>id_rp</th>\n",
       "      <th>dernier_tirage</th>\n",
       "      <th>echantillon</th>\n",
       "      <th>grp_rotation</th>\n",
       "      <th>date_maj_ea</th>\n",
       "      <th>com_anc_idft</th>\n",
       "      <th>com_type</th>\n",
       "      <th>com_statut</th>\n",
       "      <th>com_nb_log_fonction</th>\n",
       "      <th>com_nom</th>\n",
       "      <th>com_date_creation_base</th>\n",
       "      <th>com_date_fermeture</th>\n",
       "      <th>com_capacite_theorique</th>\n",
       "      <th>millesime</th>\n",
       "      <th>date_livraison</th>\n",
       "      <th>ref_ea</th>\n",
       "      <th>id_rca_adresse</th>\n",
       "      <th>reperage</th>\n",
       "      <th>id_ea_regroup</th>\n",
       "    </tr>\n",
       "  </thead>\n",
       "  <tbody>\n",
       "    <tr>\n",
       "      <th>0</th>\n",
       "      <td>32033149</td>\n",
       "      <td>97102</td>\n",
       "      <td>971020000002014</td>\n",
       "      <td>O</td>\n",
       "      <td>0</td>\n",
       "      <td>NaN</td>\n",
       "      <td>POINTE DE LA GRANDE VIGIE</td>\n",
       "      <td>ALL</td>\n",
       "      <td>POINTE D'ANTIGUE</td>\n",
       "      <td>NaN</td>\n",
       "      <td>HABIT</td>\n",
       "      <td>0052</td>\n",
       "      <td>0.0</td>\n",
       "      <td>1.0</td>\n",
       "      <td>NaN</td>\n",
       "      <td>NaN</td>\n",
       "      <td>1900.0</td>\n",
       "      <td>0.0</td>\n",
       "      <td>0.0</td>\n",
       "      <td>NaN</td>\n",
       "      <td>NaN</td>\n",
       "      <td>1.0</td>\n",
       "      <td>663634.543</td>\n",
       "      <td>1825946.61</td>\n",
       "      <td>4559</td>\n",
       "      <td>CIC</td>\n",
       "      <td>NaN</td>\n",
       "      <td>PED1</td>\n",
       "      <td>102.0</td>\n",
       "      <td>NaN</td>\n",
       "      <td>14.0</td>\n",
       "      <td>N</td>\n",
       "      <td>97102   PED1 015</td>\n",
       "      <td>NaN</td>\n",
       "      <td>N</td>\n",
       "      <td>5.0</td>\n",
       "      <td>NaN</td>\n",
       "      <td>NaN</td>\n",
       "      <td>NaN</td>\n",
       "      <td>NaN</td>\n",
       "      <td>NaN</td>\n",
       "      <td>NaN</td>\n",
       "      <td>NaN</td>\n",
       "      <td>NaN</td>\n",
       "      <td>NaN</td>\n",
       "      <td>2023</td>\n",
       "      <td>2022-10-05 16:41:04.000</td>\n",
       "      <td>11589082</td>\n",
       "      <td>13805445</td>\n",
       "      <td>COMMERCES</td>\n",
       "      <td>NaN</td>\n",
       "    </tr>\n",
       "    <tr>\n",
       "      <th>1</th>\n",
       "      <td>32033150</td>\n",
       "      <td>97102</td>\n",
       "      <td>971020000002013</td>\n",
       "      <td>O</td>\n",
       "      <td>0</td>\n",
       "      <td>NaN</td>\n",
       "      <td>NaN</td>\n",
       "      <td>ALL</td>\n",
       "      <td>POINTE D'ANTIGUE</td>\n",
       "      <td>NaN</td>\n",
       "      <td>HABIT</td>\n",
       "      <td>002D</td>\n",
       "      <td>1.0</td>\n",
       "      <td>0.0</td>\n",
       "      <td>NaN</td>\n",
       "      <td>NaN</td>\n",
       "      <td>1900.0</td>\n",
       "      <td>1.0</td>\n",
       "      <td>2.0</td>\n",
       "      <td>NaN</td>\n",
       "      <td>NaN</td>\n",
       "      <td>1.0</td>\n",
       "      <td>662540.599</td>\n",
       "      <td>1825264.35</td>\n",
       "      <td>4559</td>\n",
       "      <td>CIC</td>\n",
       "      <td>NaN</td>\n",
       "      <td>PED1</td>\n",
       "      <td>102.0</td>\n",
       "      <td>NaN</td>\n",
       "      <td>14.0</td>\n",
       "      <td>N</td>\n",
       "      <td>97102   PED1 014</td>\n",
       "      <td>NaN</td>\n",
       "      <td>N</td>\n",
       "      <td>5.0</td>\n",
       "      <td>NaN</td>\n",
       "      <td>NaN</td>\n",
       "      <td>NaN</td>\n",
       "      <td>NaN</td>\n",
       "      <td>NaN</td>\n",
       "      <td>NaN</td>\n",
       "      <td>NaN</td>\n",
       "      <td>NaN</td>\n",
       "      <td>NaN</td>\n",
       "      <td>2023</td>\n",
       "      <td>2022-10-05 16:41:04.000</td>\n",
       "      <td>11589083</td>\n",
       "      <td>13805446</td>\n",
       "      <td>PORTAIL VERT / TOIT BLC</td>\n",
       "      <td>NaN</td>\n",
       "    </tr>\n",
       "    <tr>\n",
       "      <th>2</th>\n",
       "      <td>32033151</td>\n",
       "      <td>97102</td>\n",
       "      <td>971020000002008</td>\n",
       "      <td>O</td>\n",
       "      <td>0</td>\n",
       "      <td>NaN</td>\n",
       "      <td>NaN</td>\n",
       "      <td>ALL</td>\n",
       "      <td>POINTE D'ANTIGUE</td>\n",
       "      <td>NaN</td>\n",
       "      <td>HABIT</td>\n",
       "      <td>002D</td>\n",
       "      <td>6.0</td>\n",
       "      <td>0.0</td>\n",
       "      <td>NaN</td>\n",
       "      <td>NaN</td>\n",
       "      <td>1900.0</td>\n",
       "      <td>1.0</td>\n",
       "      <td>1.0</td>\n",
       "      <td>NaN</td>\n",
       "      <td>NaN</td>\n",
       "      <td>1.0</td>\n",
       "      <td>662512.349</td>\n",
       "      <td>1825143.23</td>\n",
       "      <td>4559</td>\n",
       "      <td>CIC</td>\n",
       "      <td>NaN</td>\n",
       "      <td>PED1</td>\n",
       "      <td>102.0</td>\n",
       "      <td>NaN</td>\n",
       "      <td>14.0</td>\n",
       "      <td>N</td>\n",
       "      <td>97102   PED1 009</td>\n",
       "      <td>NaN</td>\n",
       "      <td>N</td>\n",
       "      <td>5.0</td>\n",
       "      <td>NaN</td>\n",
       "      <td>NaN</td>\n",
       "      <td>NaN</td>\n",
       "      <td>NaN</td>\n",
       "      <td>NaN</td>\n",
       "      <td>NaN</td>\n",
       "      <td>NaN</td>\n",
       "      <td>NaN</td>\n",
       "      <td>NaN</td>\n",
       "      <td>2023</td>\n",
       "      <td>2022-10-05 16:41:04.000</td>\n",
       "      <td>11589084</td>\n",
       "      <td>13805447</td>\n",
       "      <td>ACCES CHEM GITES</td>\n",
       "      <td>NaN</td>\n",
       "    </tr>\n",
       "    <tr>\n",
       "      <th>3</th>\n",
       "      <td>32033152</td>\n",
       "      <td>97102</td>\n",
       "      <td>971020000002007</td>\n",
       "      <td>O</td>\n",
       "      <td>0</td>\n",
       "      <td>NaN</td>\n",
       "      <td>NaN</td>\n",
       "      <td>ALL</td>\n",
       "      <td>POINTE D'ANTIGUE</td>\n",
       "      <td>NaN</td>\n",
       "      <td>HABIT</td>\n",
       "      <td>002D</td>\n",
       "      <td>1.0</td>\n",
       "      <td>0.0</td>\n",
       "      <td>NaN</td>\n",
       "      <td>NaN</td>\n",
       "      <td>1900.0</td>\n",
       "      <td>1.0</td>\n",
       "      <td>1.0</td>\n",
       "      <td>NaN</td>\n",
       "      <td>NaN</td>\n",
       "      <td>1.0</td>\n",
       "      <td>662573.224</td>\n",
       "      <td>1825054.98</td>\n",
       "      <td>4559</td>\n",
       "      <td>CIC</td>\n",
       "      <td>NaN</td>\n",
       "      <td>PED1</td>\n",
       "      <td>102.0</td>\n",
       "      <td>NaN</td>\n",
       "      <td>14.0</td>\n",
       "      <td>N</td>\n",
       "      <td>97102   PED1 008</td>\n",
       "      <td>NaN</td>\n",
       "      <td>N</td>\n",
       "      <td>5.0</td>\n",
       "      <td>NaN</td>\n",
       "      <td>NaN</td>\n",
       "      <td>NaN</td>\n",
       "      <td>NaN</td>\n",
       "      <td>NaN</td>\n",
       "      <td>NaN</td>\n",
       "      <td>NaN</td>\n",
       "      <td>NaN</td>\n",
       "      <td>NaN</td>\n",
       "      <td>2023</td>\n",
       "      <td>2022-10-05 16:41:04.000</td>\n",
       "      <td>11589085</td>\n",
       "      <td>13805448</td>\n",
       "      <td>MAISON JAUNE /TOIT BLEU</td>\n",
       "      <td>NaN</td>\n",
       "    </tr>\n",
       "    <tr>\n",
       "      <th>4</th>\n",
       "      <td>32033153</td>\n",
       "      <td>97102</td>\n",
       "      <td>971020000002015</td>\n",
       "      <td>O</td>\n",
       "      <td>0</td>\n",
       "      <td>NaN</td>\n",
       "      <td>NaN</td>\n",
       "      <td>ALL</td>\n",
       "      <td>POINTE D'ANTIGUE</td>\n",
       "      <td>NaN</td>\n",
       "      <td>HABIT</td>\n",
       "      <td>002D</td>\n",
       "      <td>1.0</td>\n",
       "      <td>0.0</td>\n",
       "      <td>NaN</td>\n",
       "      <td>NaN</td>\n",
       "      <td>1900.0</td>\n",
       "      <td>1.0</td>\n",
       "      <td>2.0</td>\n",
       "      <td>NaN</td>\n",
       "      <td>NaN</td>\n",
       "      <td>1.0</td>\n",
       "      <td>662645.662</td>\n",
       "      <td>1824859.98</td>\n",
       "      <td>4559</td>\n",
       "      <td>CIC</td>\n",
       "      <td>NaN</td>\n",
       "      <td>PED1</td>\n",
       "      <td>102.0</td>\n",
       "      <td>NaN</td>\n",
       "      <td>14.0</td>\n",
       "      <td>N</td>\n",
       "      <td>97102   PED1 016</td>\n",
       "      <td>NaN</td>\n",
       "      <td>N</td>\n",
       "      <td>5.0</td>\n",
       "      <td>NaN</td>\n",
       "      <td>NaN</td>\n",
       "      <td>NaN</td>\n",
       "      <td>NaN</td>\n",
       "      <td>NaN</td>\n",
       "      <td>NaN</td>\n",
       "      <td>NaN</td>\n",
       "      <td>NaN</td>\n",
       "      <td>NaN</td>\n",
       "      <td>2023</td>\n",
       "      <td>2022-10-05 16:41:04.000</td>\n",
       "      <td>11589086</td>\n",
       "      <td>13805449</td>\n",
       "      <td>ACCES CHEM</td>\n",
       "      <td>NaN</td>\n",
       "    </tr>\n",
       "  </tbody>\n",
       "</table>\n",
       "</div>"
      ],
      "text/plain": [
       "         id  depcom            id_ea principal  numero repetition  \\\n",
       "0  32033149   97102  971020000002014         O       0        NaN   \n",
       "1  32033150   97102  971020000002013         O       0        NaN   \n",
       "2  32033151   97102  971020000002008         O       0        NaN   \n",
       "3  32033152   97102  971020000002007         O       0        NaN   \n",
       "4  32033153   97102  971020000002015         O       0        NaN   \n",
       "\n",
       "                  complement type_voie      libelle_voie rivoli ea_type  \\\n",
       "0  POINTE DE LA GRANDE VIGIE       ALL  POINTE D'ANTIGUE    NaN   HABIT   \n",
       "1                        NaN       ALL  POINTE D'ANTIGUE    NaN   HABIT   \n",
       "2                        NaN       ALL  POINTE D'ANTIGUE    NaN   HABIT   \n",
       "3                        NaN       ALL  POINTE D'ANTIGUE    NaN   HABIT   \n",
       "4                        NaN       ALL  POINTE D'ANTIGUE    NaN   HABIT   \n",
       "\n",
       "  hab_hot_type  nb_log  etat pc_num commentaire  hab_construction_an  \\\n",
       "0         0052     0.0   1.0    NaN         NaN               1900.0   \n",
       "1         002D     1.0   0.0    NaN         NaN               1900.0   \n",
       "2         002D     6.0   0.0    NaN         NaN               1900.0   \n",
       "3         002D     1.0   0.0    NaN         NaN               1900.0   \n",
       "4         002D     1.0   0.0    NaN         NaN               1900.0   \n",
       "\n",
       "   hab_nb_imm  hab_niv hot_sous_type hot_enseigne  lien_cmt           x  \\\n",
       "0         0.0      0.0           NaN          NaN       1.0  663634.543   \n",
       "1         1.0      2.0           NaN          NaN       1.0  662540.599   \n",
       "2         1.0      1.0           NaN          NaN       1.0  662512.349   \n",
       "3         1.0      1.0           NaN          NaN       1.0  662573.224   \n",
       "4         1.0      2.0           NaN          NaN       1.0  662645.662   \n",
       "\n",
       "            y  code_epsg type_localisation numero_parcelle code_ilot  \\\n",
       "0  1825946.61       4559               CIC             NaN      PED1   \n",
       "1  1825264.35       4559               CIC             NaN      PED1   \n",
       "2  1825143.23       4559               CIC             NaN      PED1   \n",
       "3  1825054.98       4559               CIC             NaN      PED1   \n",
       "4  1824859.98       4559               CIC             NaN      PED1   \n",
       "\n",
       "   code_iris quartier_prioritaire  canton liste_insee             id_rp  \\\n",
       "0      102.0                  NaN    14.0           N  97102   PED1 015   \n",
       "1      102.0                  NaN    14.0           N  97102   PED1 014   \n",
       "2      102.0                  NaN    14.0           N  97102   PED1 009   \n",
       "3      102.0                  NaN    14.0           N  97102   PED1 008   \n",
       "4      102.0                  NaN    14.0           N  97102   PED1 016   \n",
       "\n",
       "   dernier_tirage echantillon  grp_rotation date_maj_ea  com_anc_idft  \\\n",
       "0             NaN           N           5.0         NaN           NaN   \n",
       "1             NaN           N           5.0         NaN           NaN   \n",
       "2             NaN           N           5.0         NaN           NaN   \n",
       "3             NaN           N           5.0         NaN           NaN   \n",
       "4             NaN           N           5.0         NaN           NaN   \n",
       "\n",
       "   com_type com_statut  com_nb_log_fonction com_nom com_date_creation_base  \\\n",
       "0       NaN        NaN                  NaN     NaN                    NaN   \n",
       "1       NaN        NaN                  NaN     NaN                    NaN   \n",
       "2       NaN        NaN                  NaN     NaN                    NaN   \n",
       "3       NaN        NaN                  NaN     NaN                    NaN   \n",
       "4       NaN        NaN                  NaN     NaN                    NaN   \n",
       "\n",
       "  com_date_fermeture  com_capacite_theorique  millesime  \\\n",
       "0                NaN                     NaN       2023   \n",
       "1                NaN                     NaN       2023   \n",
       "2                NaN                     NaN       2023   \n",
       "3                NaN                     NaN       2023   \n",
       "4                NaN                     NaN       2023   \n",
       "\n",
       "            date_livraison    ref_ea  id_rca_adresse                 reperage  \\\n",
       "0  2022-10-05 16:41:04.000  11589082        13805445                COMMERCES   \n",
       "1  2022-10-05 16:41:04.000  11589083        13805446  PORTAIL VERT / TOIT BLC   \n",
       "2  2022-10-05 16:41:04.000  11589084        13805447         ACCES CHEM GITES   \n",
       "3  2022-10-05 16:41:04.000  11589085        13805448  MAISON JAUNE /TOIT BLEU   \n",
       "4  2022-10-05 16:41:04.000  11589086        13805449               ACCES CHEM   \n",
       "\n",
       "   id_ea_regroup  \n",
       "0            NaN  \n",
       "1            NaN  \n",
       "2            NaN  \n",
       "3            NaN  \n",
       "4            NaN  "
      ]
     },
     "execution_count": 35,
     "metadata": {},
     "output_type": "execute_result"
    }
   ],
   "source": [
    "pd.set_option('display.max_columns', None)\n",
    "df_pc.head()"
   ]
  },
  {
   "cell_type": "markdown",
   "id": "d83c556f-1379-45ba-a20e-090d87971685",
   "metadata": {},
   "source": [
    "### Dictionnaire des variables"
   ]
  },
  {
   "cell_type": "code",
   "execution_count": 52,
   "id": "07eb4f4d-97c8-478f-8796-98393cb71f00",
   "metadata": {
    "tags": []
   },
   "outputs": [
    {
     "data": {
      "text/plain": [
       "5.0    41419\n",
       "2.0    33270\n",
       "4.0    32087\n",
       "3.0    29124\n",
       "Name: grp_rotation, dtype: int64"
      ]
     },
     "execution_count": 52,
     "metadata": {},
     "output_type": "execute_result"
    }
   ],
   "source": [
    "df_pc.grp_rotation.value_counts()"
   ]
  },
  {
   "cell_type": "markdown",
   "id": "409a0a2d-7699-44f8-a8cc-50f269195611",
   "metadata": {},
   "source": [
    "- id: Identifiant du logement\n",
    "- depcom: Code commune\n",
    "- id_ea: Autre id\n",
    "- principal: Oui ou Non, quasiment uniquement des Oui.\n",
    "- numero: Numéro de la voie\n",
    "- repetition: Beaucoup de NaN, signification ?\n",
    "- complement: Complément d'adresse\n",
    "- type_voie: Type de voie\n",
    "- libelle_voie: Nom de la voie\n",
    "- rivoli: Signification ?\n",
    "- ea_type: HABIT, HOTEL ou COMMU\n",
    "- hab_hot_type: Signification ? Quelques modalités: 002D, 002C, 002B, etc.\n",
    "- nb_log: Nombre de logements\n",
    "- etat: Variable entière 0 -> 6. Signification ?\n",
    "- pc_num: Numéro de permis de construire\n",
    "- commentaire: Commentaire sur le logement\n",
    "- hab_construction_an: Année de construction\n",
    "- hab_nb_imm: Variable entière 0 -> 4. Signification ?\n",
    "- hab_niv: Signification ?\n",
    "- hot_sous_type: Type d'hôtel\n",
    "- hot_enseigne: Enseigne d'hôtel\n",
    "- lien_cmt: Signification ?\n",
    "- x: Coordinate\n",
    "- y: Coordinate\n",
    "- code_epsg: Système de projection: 4559, 2975, 4471, 2972\n",
    "- type_localisation: CIC, MAN, CENT. Signification ?\n",
    "- numero_parcelle: Numéro de parcelle\n",
    "- code_ilot: Code d'ilot\n",
    "- code_iris: Iris\n",
    "- quartier_prioritaire: QP\n",
    "- canton: Signification ?\n",
    "- liste_insee: Que des N\n",
    "- id_rp: Id qui sert à quoi ?\n",
    "- dernier_tirage: 2019 6103 fois\n",
    "- echantillon: Que des N.\n",
    "- grp_rotation: 2, 3, 4 ou 5.\n",
    "- date_maj_ea: Quasi vide\n",
    "- com_anc_idft: quasi vide\n",
    "- com_type: Quasi vide\n",
    "- com_statut: Quasi vide\n",
    "- com_nb_log_fonction: Quasi vide\n",
    "- com_nom: Quasi vide\n",
    "- com_date_creation_base: Quasi vide\n",
    "- com_date_fermeture: Quasi vide\n",
    "- com_capacite_theorique: Quasi vide\n",
    "- millesime: 2020 -> 2023\n",
    "- date_livraison: Date de livraison. A explorer.\n",
    "- ref_ea: Signification ?\n",
    "- id_rca_adresse: Signification ?\n",
    "- reperage: Indication pour repérer le batiment. Intéressant\n",
    "- id_ea_regroup: Quasi vide"
   ]
  },
  {
   "cell_type": "code",
   "execution_count": 53,
   "id": "097b49bc-e1d8-409b-aa4a-f6fb9390bf6c",
   "metadata": {},
   "outputs": [],
   "source": [
    "df_pc = df_pc[[\"id\", \"depcom\", \"ea_type\", \"nb_log\", \"hab_construction_an\", \"x\", \"y\", \"code_epsg\", \"code_ilot\", \"grp_rotation\", \"millesime\", \"date_livraison\", \"reperage\"]]"
   ]
  },
  {
   "cell_type": "code",
   "execution_count": 54,
   "id": "13eb19ef-2a7a-44ed-bca7-db8a0bdb3ec8",
   "metadata": {
    "tags": []
   },
   "outputs": [
    {
     "data": {
      "text/html": [
       "<div>\n",
       "<style scoped>\n",
       "    .dataframe tbody tr th:only-of-type {\n",
       "        vertical-align: middle;\n",
       "    }\n",
       "\n",
       "    .dataframe tbody tr th {\n",
       "        vertical-align: top;\n",
       "    }\n",
       "\n",
       "    .dataframe thead th {\n",
       "        text-align: right;\n",
       "    }\n",
       "</style>\n",
       "<table border=\"1\" class=\"dataframe\">\n",
       "  <thead>\n",
       "    <tr style=\"text-align: right;\">\n",
       "      <th></th>\n",
       "      <th>id</th>\n",
       "      <th>depcom</th>\n",
       "      <th>ea_type</th>\n",
       "      <th>nb_log</th>\n",
       "      <th>hab_construction_an</th>\n",
       "      <th>x</th>\n",
       "      <th>y</th>\n",
       "      <th>code_epsg</th>\n",
       "      <th>code_ilot</th>\n",
       "      <th>grp_rotation</th>\n",
       "      <th>millesime</th>\n",
       "      <th>date_livraison</th>\n",
       "      <th>reperage</th>\n",
       "    </tr>\n",
       "  </thead>\n",
       "  <tbody>\n",
       "    <tr>\n",
       "      <th>0</th>\n",
       "      <td>32033149</td>\n",
       "      <td>97102</td>\n",
       "      <td>HABIT</td>\n",
       "      <td>0.0</td>\n",
       "      <td>1900.0</td>\n",
       "      <td>663634.543</td>\n",
       "      <td>1825946.61</td>\n",
       "      <td>4559</td>\n",
       "      <td>PED1</td>\n",
       "      <td>5.0</td>\n",
       "      <td>2023</td>\n",
       "      <td>2022-10-05 16:41:04.000</td>\n",
       "      <td>COMMERCES</td>\n",
       "    </tr>\n",
       "    <tr>\n",
       "      <th>1</th>\n",
       "      <td>32033150</td>\n",
       "      <td>97102</td>\n",
       "      <td>HABIT</td>\n",
       "      <td>1.0</td>\n",
       "      <td>1900.0</td>\n",
       "      <td>662540.599</td>\n",
       "      <td>1825264.35</td>\n",
       "      <td>4559</td>\n",
       "      <td>PED1</td>\n",
       "      <td>5.0</td>\n",
       "      <td>2023</td>\n",
       "      <td>2022-10-05 16:41:04.000</td>\n",
       "      <td>PORTAIL VERT / TOIT BLC</td>\n",
       "    </tr>\n",
       "    <tr>\n",
       "      <th>2</th>\n",
       "      <td>32033151</td>\n",
       "      <td>97102</td>\n",
       "      <td>HABIT</td>\n",
       "      <td>6.0</td>\n",
       "      <td>1900.0</td>\n",
       "      <td>662512.349</td>\n",
       "      <td>1825143.23</td>\n",
       "      <td>4559</td>\n",
       "      <td>PED1</td>\n",
       "      <td>5.0</td>\n",
       "      <td>2023</td>\n",
       "      <td>2022-10-05 16:41:04.000</td>\n",
       "      <td>ACCES CHEM GITES</td>\n",
       "    </tr>\n",
       "    <tr>\n",
       "      <th>3</th>\n",
       "      <td>32033152</td>\n",
       "      <td>97102</td>\n",
       "      <td>HABIT</td>\n",
       "      <td>1.0</td>\n",
       "      <td>1900.0</td>\n",
       "      <td>662573.224</td>\n",
       "      <td>1825054.98</td>\n",
       "      <td>4559</td>\n",
       "      <td>PED1</td>\n",
       "      <td>5.0</td>\n",
       "      <td>2023</td>\n",
       "      <td>2022-10-05 16:41:04.000</td>\n",
       "      <td>MAISON JAUNE /TOIT BLEU</td>\n",
       "    </tr>\n",
       "    <tr>\n",
       "      <th>4</th>\n",
       "      <td>32033153</td>\n",
       "      <td>97102</td>\n",
       "      <td>HABIT</td>\n",
       "      <td>1.0</td>\n",
       "      <td>1900.0</td>\n",
       "      <td>662645.662</td>\n",
       "      <td>1824859.98</td>\n",
       "      <td>4559</td>\n",
       "      <td>PED1</td>\n",
       "      <td>5.0</td>\n",
       "      <td>2023</td>\n",
       "      <td>2022-10-05 16:41:04.000</td>\n",
       "      <td>ACCES CHEM</td>\n",
       "    </tr>\n",
       "  </tbody>\n",
       "</table>\n",
       "</div>"
      ],
      "text/plain": [
       "         id  depcom ea_type  nb_log  hab_construction_an           x  \\\n",
       "0  32033149   97102   HABIT     0.0               1900.0  663634.543   \n",
       "1  32033150   97102   HABIT     1.0               1900.0  662540.599   \n",
       "2  32033151   97102   HABIT     6.0               1900.0  662512.349   \n",
       "3  32033152   97102   HABIT     1.0               1900.0  662573.224   \n",
       "4  32033153   97102   HABIT     1.0               1900.0  662645.662   \n",
       "\n",
       "            y  code_epsg code_ilot  grp_rotation  millesime  \\\n",
       "0  1825946.61       4559      PED1           5.0       2023   \n",
       "1  1825264.35       4559      PED1           5.0       2023   \n",
       "2  1825143.23       4559      PED1           5.0       2023   \n",
       "3  1825054.98       4559      PED1           5.0       2023   \n",
       "4  1824859.98       4559      PED1           5.0       2023   \n",
       "\n",
       "            date_livraison                 reperage  \n",
       "0  2022-10-05 16:41:04.000                COMMERCES  \n",
       "1  2022-10-05 16:41:04.000  PORTAIL VERT / TOIT BLC  \n",
       "2  2022-10-05 16:41:04.000         ACCES CHEM GITES  \n",
       "3  2022-10-05 16:41:04.000  MAISON JAUNE /TOIT BLEU  \n",
       "4  2022-10-05 16:41:04.000               ACCES CHEM  "
      ]
     },
     "execution_count": 54,
     "metadata": {},
     "output_type": "execute_result"
    }
   ],
   "source": [
    "df_pc.head()"
   ]
  },
  {
   "cell_type": "markdown",
   "id": "ade7b29c-d711-4424-939d-e44ba74cb4b5",
   "metadata": {},
   "source": [
    "Un peu plus en détail:"
   ]
  },
  {
   "cell_type": "code",
   "execution_count": 57,
   "id": "27373165-a649-494e-a21d-301f57f34071",
   "metadata": {
    "tags": []
   },
   "outputs": [],
   "source": [
    "df_pc[\"dep\"] = df_pc[\"depcom\"].astype(str).str[:3]"
   ]
  },
  {
   "cell_type": "code",
   "execution_count": 58,
   "id": "721c75f1-89c5-4634-aae7-f2941094f7bf",
   "metadata": {
    "tags": []
   },
   "outputs": [
    {
     "data": {
      "text/plain": [
       "971    43248\n",
       "972    36829\n",
       "974    32288\n",
       "976    10308\n",
       "973     7838\n",
       "977     5404\n",
       "Name: dep, dtype: int64"
      ]
     },
     "execution_count": 58,
     "metadata": {},
     "output_type": "execute_result"
    }
   ],
   "source": [
    "df_pc.dep.value_counts()"
   ]
  },
  {
   "cell_type": "code",
   "execution_count": 61,
   "id": "edeb124e-2992-4dd7-b99d-f021573776c8",
   "metadata": {
    "tags": []
   },
   "outputs": [
    {
     "data": {
      "text/plain": [
       "97701    5404\n",
       "Name: depcom, dtype: int64"
      ]
     },
     "execution_count": 61,
     "metadata": {},
     "output_type": "execute_result"
    }
   ],
   "source": [
    "df_pc[df_pc.dep == \"977\"].depcom.value_counts()"
   ]
  },
  {
   "cell_type": "markdown",
   "id": "808646d1-7d55-491c-8153-f4f3c0adbe49",
   "metadata": {},
   "source": [
    "Que Saint Barthélémy."
   ]
  },
  {
   "cell_type": "code",
   "execution_count": 64,
   "id": "1d53f921-461c-4346-903e-44a5adf4e0a1",
   "metadata": {
    "tags": []
   },
   "outputs": [
    {
     "data": {
      "text/html": [
       "<div>\n",
       "<style scoped>\n",
       "    .dataframe tbody tr th:only-of-type {\n",
       "        vertical-align: middle;\n",
       "    }\n",
       "\n",
       "    .dataframe tbody tr th {\n",
       "        vertical-align: top;\n",
       "    }\n",
       "\n",
       "    .dataframe thead th {\n",
       "        text-align: right;\n",
       "    }\n",
       "</style>\n",
       "<table border=\"1\" class=\"dataframe\">\n",
       "  <thead>\n",
       "    <tr style=\"text-align: right;\">\n",
       "      <th></th>\n",
       "      <th>id</th>\n",
       "      <th>depcom</th>\n",
       "      <th>ea_type</th>\n",
       "      <th>nb_log</th>\n",
       "      <th>hab_construction_an</th>\n",
       "      <th>x</th>\n",
       "      <th>y</th>\n",
       "      <th>code_epsg</th>\n",
       "      <th>code_ilot</th>\n",
       "      <th>grp_rotation</th>\n",
       "      <th>millesime</th>\n",
       "      <th>date_livraison</th>\n",
       "      <th>reperage</th>\n",
       "      <th>dep</th>\n",
       "    </tr>\n",
       "  </thead>\n",
       "  <tbody>\n",
       "    <tr>\n",
       "      <th>0</th>\n",
       "      <td>32033149</td>\n",
       "      <td>97102</td>\n",
       "      <td>HABIT</td>\n",
       "      <td>0.0</td>\n",
       "      <td>1900.0</td>\n",
       "      <td>663634.543</td>\n",
       "      <td>1825946.61</td>\n",
       "      <td>4559</td>\n",
       "      <td>PED1</td>\n",
       "      <td>5.0</td>\n",
       "      <td>2023</td>\n",
       "      <td>2022-10-05 16:41:04.000</td>\n",
       "      <td>COMMERCES</td>\n",
       "      <td>Guadeloupe</td>\n",
       "    </tr>\n",
       "    <tr>\n",
       "      <th>1</th>\n",
       "      <td>32033150</td>\n",
       "      <td>97102</td>\n",
       "      <td>HABIT</td>\n",
       "      <td>1.0</td>\n",
       "      <td>1900.0</td>\n",
       "      <td>662540.599</td>\n",
       "      <td>1825264.35</td>\n",
       "      <td>4559</td>\n",
       "      <td>PED1</td>\n",
       "      <td>5.0</td>\n",
       "      <td>2023</td>\n",
       "      <td>2022-10-05 16:41:04.000</td>\n",
       "      <td>PORTAIL VERT / TOIT BLC</td>\n",
       "      <td>Guadeloupe</td>\n",
       "    </tr>\n",
       "    <tr>\n",
       "      <th>2</th>\n",
       "      <td>32033151</td>\n",
       "      <td>97102</td>\n",
       "      <td>HABIT</td>\n",
       "      <td>6.0</td>\n",
       "      <td>1900.0</td>\n",
       "      <td>662512.349</td>\n",
       "      <td>1825143.23</td>\n",
       "      <td>4559</td>\n",
       "      <td>PED1</td>\n",
       "      <td>5.0</td>\n",
       "      <td>2023</td>\n",
       "      <td>2022-10-05 16:41:04.000</td>\n",
       "      <td>ACCES CHEM GITES</td>\n",
       "      <td>Guadeloupe</td>\n",
       "    </tr>\n",
       "    <tr>\n",
       "      <th>3</th>\n",
       "      <td>32033152</td>\n",
       "      <td>97102</td>\n",
       "      <td>HABIT</td>\n",
       "      <td>1.0</td>\n",
       "      <td>1900.0</td>\n",
       "      <td>662573.224</td>\n",
       "      <td>1825054.98</td>\n",
       "      <td>4559</td>\n",
       "      <td>PED1</td>\n",
       "      <td>5.0</td>\n",
       "      <td>2023</td>\n",
       "      <td>2022-10-05 16:41:04.000</td>\n",
       "      <td>MAISON JAUNE /TOIT BLEU</td>\n",
       "      <td>Guadeloupe</td>\n",
       "    </tr>\n",
       "    <tr>\n",
       "      <th>4</th>\n",
       "      <td>32033153</td>\n",
       "      <td>97102</td>\n",
       "      <td>HABIT</td>\n",
       "      <td>1.0</td>\n",
       "      <td>1900.0</td>\n",
       "      <td>662645.662</td>\n",
       "      <td>1824859.98</td>\n",
       "      <td>4559</td>\n",
       "      <td>PED1</td>\n",
       "      <td>5.0</td>\n",
       "      <td>2023</td>\n",
       "      <td>2022-10-05 16:41:04.000</td>\n",
       "      <td>ACCES CHEM</td>\n",
       "      <td>Guadeloupe</td>\n",
       "    </tr>\n",
       "  </tbody>\n",
       "</table>\n",
       "</div>"
      ],
      "text/plain": [
       "         id  depcom ea_type  nb_log  hab_construction_an           x  \\\n",
       "0  32033149   97102   HABIT     0.0               1900.0  663634.543   \n",
       "1  32033150   97102   HABIT     1.0               1900.0  662540.599   \n",
       "2  32033151   97102   HABIT     6.0               1900.0  662512.349   \n",
       "3  32033152   97102   HABIT     1.0               1900.0  662573.224   \n",
       "4  32033153   97102   HABIT     1.0               1900.0  662645.662   \n",
       "\n",
       "            y  code_epsg code_ilot  grp_rotation  millesime  \\\n",
       "0  1825946.61       4559      PED1           5.0       2023   \n",
       "1  1825264.35       4559      PED1           5.0       2023   \n",
       "2  1825143.23       4559      PED1           5.0       2023   \n",
       "3  1825054.98       4559      PED1           5.0       2023   \n",
       "4  1824859.98       4559      PED1           5.0       2023   \n",
       "\n",
       "            date_livraison                 reperage         dep  \n",
       "0  2022-10-05 16:41:04.000                COMMERCES  Guadeloupe  \n",
       "1  2022-10-05 16:41:04.000  PORTAIL VERT / TOIT BLC  Guadeloupe  \n",
       "2  2022-10-05 16:41:04.000         ACCES CHEM GITES  Guadeloupe  \n",
       "3  2022-10-05 16:41:04.000  MAISON JAUNE /TOIT BLEU  Guadeloupe  \n",
       "4  2022-10-05 16:41:04.000               ACCES CHEM  Guadeloupe  "
      ]
     },
     "execution_count": 64,
     "metadata": {},
     "output_type": "execute_result"
    }
   ],
   "source": [
    "dep_mapping = {\n",
    "    \"971\": \"Guadeloupe\",\n",
    "    \"972\": \"Martinique\",\n",
    "    \"973\": \"Guyane\",\n",
    "    \"974\": \"Réunion\",\n",
    "    \"976\": \"Mayotte\",\n",
    "    \"977\": \"Saint-Barthélémy\",\n",
    "}\n",
    "df_pc[\"dep\"] = df_pc[\"dep\"].apply(lambda x: dep_mapping[x])\n",
    "df_pc.head()"
   ]
  },
  {
   "cell_type": "code",
   "execution_count": 65,
   "id": "e0db8cd5-87c6-4ca8-a683-7b2beb3e78b4",
   "metadata": {
    "tags": []
   },
   "outputs": [
    {
     "data": {
      "text/plain": [
       "HABIT    135683\n",
       "HOTEL       117\n",
       "COMMU       115\n",
       "Name: ea_type, dtype: int64"
      ]
     },
     "execution_count": 65,
     "metadata": {},
     "output_type": "execute_result"
    }
   ],
   "source": [
    "df_pc.ea_type.value_counts()"
   ]
  },
  {
   "cell_type": "code",
   "execution_count": 67,
   "id": "cc762cf8-b040-4a08-9b5a-7bea5cf412fb",
   "metadata": {
    "tags": []
   },
   "outputs": [
    {
     "data": {
      "image/png": "[encoded data removed]",
      "text/plain": [
       "<Figure size 640x480 with 1 Axes>"
      ]
     },
     "metadata": {},
     "output_type": "display_data"
    }
   ],
   "source": [
    "from matplotlib import pyplot as plt\n",
    "\n",
    "plt.hist(df_pc[\"hab_construction_an\"], bins=100)\n",
    "plt.show()"
   ]
  },
  {
   "cell_type": "markdown",
   "id": "6ad22c74-4422-4f81-b4ef-f7f435050a9f",
   "metadata": {},
   "source": [
    "Variable pas exploitable."
   ]
  },
  {
   "cell_type": "code",
   "execution_count": 68,
   "id": "cc921dc7-2a6e-450c-b160-59efaf9f4d43",
   "metadata": {
    "tags": []
   },
   "outputs": [
    {
     "data": {
      "text/plain": [
       "4559    85481\n",
       "2975    32288\n",
       "4471    10308\n",
       "2972     7838\n",
       "Name: code_epsg, dtype: int64"
      ]
     },
     "execution_count": 68,
     "metadata": {},
     "output_type": "execute_result"
    }
   ],
   "source": [
    "df_pc.code_epsg.value_counts()"
   ]
  },
  {
   "cell_type": "code",
   "execution_count": 71,
   "id": "d65907b5-8d8a-4ba0-a4a6-94fffba47e25",
   "metadata": {
    "tags": []
   },
   "outputs": [
    {
     "data": {
      "text/plain": [
       "dep               code_epsg\n",
       "Guadeloupe        4559         43248\n",
       "Guyane            2972          7838\n",
       "Martinique        4559         36829\n",
       "Mayotte           4471         10308\n",
       "Réunion           2975         32288\n",
       "Saint-Barthélémy  4559          5404\n",
       "Name: id, dtype: int64"
      ]
     },
     "execution_count": 71,
     "metadata": {},
     "output_type": "execute_result"
    }
   ],
   "source": [
    "df_pc.groupby([\"dep\", \"code_epsg\"])[\"id\"].count()"
   ]
  },
  {
   "cell_type": "code",
   "execution_count": 73,
   "id": "7372f530-018d-4e65-80cc-1d4e537bf834",
   "metadata": {
    "tags": []
   },
   "outputs": [],
   "source": [
    "dep_to_epsg = {\n",
    "    \"Guadeloupe\": 4559,\n",
    "    \"Guyane\": 2972,\n",
    "    \"Martinique\": 4559,\n",
    "    \"Mayotte\": 4471,\n",
    "    \"Réunion\": 2975,\n",
    "    \"Saint-Barthélémy\": 4559\n",
    "}"
   ]
  },
  {
   "cell_type": "code",
   "execution_count": 74,
   "id": "acea6d27-407c-450f-bc76-790923f19701",
   "metadata": {
    "tags": []
   },
   "outputs": [
    {
     "data": {
      "text/plain": [
       "AM01    1615\n",
       "AW01    1522\n",
       "AP01    1481\n",
       "AO01    1370\n",
       "AM02    1284\n",
       "        ... \n",
       "BP04       1\n",
       "79         1\n",
       "BL03       1\n",
       "BI02       1\n",
       "AT18       1\n",
       "Name: code_ilot, Length: 878, dtype: int64"
      ]
     },
     "execution_count": 74,
     "metadata": {},
     "output_type": "execute_result"
    }
   ],
   "source": [
    "df_pc.code_ilot.value_counts()"
   ]
  },
  {
   "cell_type": "code",
   "execution_count": 75,
   "id": "4fe1ffa6-f482-4066-aacb-60e91d55fd40",
   "metadata": {
    "tags": []
   },
   "outputs": [
    {
     "data": {
      "text/plain": [
       "5.0    41419\n",
       "2.0    33270\n",
       "4.0    32087\n",
       "3.0    29124\n",
       "Name: grp_rotation, dtype: int64"
      ]
     },
     "execution_count": 75,
     "metadata": {},
     "output_type": "execute_result"
    }
   ],
   "source": [
    "df_pc.grp_rotation.value_counts()"
   ]
  },
  {
   "cell_type": "code",
   "execution_count": 76,
   "id": "68ea9680-1fcf-4be4-b0f1-a7149a2f6581",
   "metadata": {
    "tags": []
   },
   "outputs": [
    {
     "data": {
      "text/plain": [
       "dep               grp_rotation\n",
       "Guadeloupe        2.0              9504\n",
       "                  3.0             12849\n",
       "                  4.0             12798\n",
       "                  5.0              8093\n",
       "Guyane            2.0              3379\n",
       "                  3.0              1197\n",
       "                  4.0              1355\n",
       "                  5.0              1898\n",
       "Martinique        2.0              8101\n",
       "                  3.0              8621\n",
       "                  4.0              8770\n",
       "                  5.0             11337\n",
       "Mayotte           3.0              2539\n",
       "                  4.0              5137\n",
       "                  5.0              2632\n",
       "Réunion           2.0             12286\n",
       "                  3.0              3918\n",
       "                  4.0              4027\n",
       "                  5.0             12055\n",
       "Saint-Barthélémy  5.0              5404\n",
       "Name: id, dtype: int64"
      ]
     },
     "execution_count": 76,
     "metadata": {},
     "output_type": "execute_result"
    }
   ],
   "source": [
    "df_pc.groupby([\"dep\", \"grp_rotation\"])[\"id\"].count()"
   ]
  },
  {
   "cell_type": "markdown",
   "id": "9c305930-ffd6-4b2b-b6cb-68a6dd440c20",
   "metadata": {},
   "source": [
    "Le GR 1 a été enquêté à l’EAR 2019 donc son enquête carto a eu lieu de mai à août 2018, ..., GR5 -> EAR 2023 donc enquête carto de mai à août 2022. Avec l’annulation de l’EAR 2021 sauf à Mayotte, les PC (sauf Mayotte) ont été décalées d’un GR, ainsi par exemple les PC du GR3 (EAR 2021 et enquête carto 2020) sont passées dans le GR4 et ont 2 RIL consécutifs (millesimes 2021 et 2022). Certaines PC n’ont pas de RIL. \n",
    "J’ai également mis le fichier des contours d’îlots tels qu’ils existent actuellement mais attention les contours d’îlots ont pu changer ces dernières années surtout en Guyane."
   ]
  },
  {
   "cell_type": "code",
   "execution_count": 77,
   "id": "e14ce810-9ed4-4312-9959-934c9a9b1833",
   "metadata": {
    "tags": []
   },
   "outputs": [
    {
     "data": {
      "text/plain": [
       "2020    40474\n",
       "2023    35496\n",
       "2022    31505\n",
       "2021    28440\n",
       "Name: millesime, dtype: int64"
      ]
     },
     "execution_count": 77,
     "metadata": {},
     "output_type": "execute_result"
    }
   ],
   "source": [
    "df_pc.millesime.value_counts()"
   ]
  },
  {
   "cell_type": "code",
   "execution_count": 89,
   "id": "62612c71-6093-4328-b985-47af03f0a164",
   "metadata": {
    "tags": []
   },
   "outputs": [
    {
     "data": {
      "text/plain": [
       "depcom  grp_rotation\n",
       "97119   2.0             3363\n",
       "        3.0              684\n",
       "        4.0              582\n",
       "97130   2.0              658\n",
       "97131   2.0             1044\n",
       "97132   2.0             4439\n",
       "97211   2.0              381\n",
       "97216   2.0             1489\n",
       "97218   2.0             2411\n",
       "97223   2.0             3820\n",
       "97313   2.0             1420\n",
       "97357   2.0              679\n",
       "97360   2.0             1280\n",
       "97403   2.0             3176\n",
       "97417   2.0             2336\n",
       "97419   5.0             2794\n",
       "97421   2.0             3546\n",
       "97423   2.0             3228\n",
       "97424   5.0             3129\n",
       "Name: id, dtype: int64"
      ]
     },
     "execution_count": 89,
     "metadata": {},
     "output_type": "execute_result"
    }
   ],
   "source": [
    "df_pc[df_pc.millesime == 2020].groupby([\"depcom\", \"grp_rotation\"])[\"id\"].count()"
   ]
  },
  {
   "cell_type": "markdown",
   "id": "7b845a66-bf89-40a4-b3ea-347d3ed79369",
   "metadata": {},
   "source": [
    "Comprendre pourquoi ?"
   ]
  },
  {
   "cell_type": "code",
   "execution_count": 91,
   "id": "28c65918-0592-4cd8-a1c6-6dfb81855505",
   "metadata": {
    "tags": []
   },
   "outputs": [
    {
     "data": {
      "text/plain": [
       "depcom  grp_rotation\n",
       "97108   3.0             2516\n",
       "97109   3.0             3445\n",
       "97112   3.0             3897\n",
       "97126   3.0             2307\n",
       "97202   3.0             2079\n",
       "97205   3.0             1568\n",
       "97215   3.0              549\n",
       "97217   3.0             3545\n",
       "97219   3.0              880\n",
       "97303   3.0              783\n",
       "97361   3.0              414\n",
       "97406   3.0             3918\n",
       "97613   3.0             2539\n",
       "Name: id, dtype: int64"
      ]
     },
     "execution_count": 91,
     "metadata": {},
     "output_type": "execute_result"
    }
   ],
   "source": [
    "df_pc[df_pc.millesime == 2021].groupby([\"depcom\", \"grp_rotation\"])[\"id\"].count()"
   ]
  },
  {
   "cell_type": "code",
   "execution_count": 83,
   "id": "74c1d518-97c7-4d04-8cf1-cffd73ab4e45",
   "metadata": {
    "tags": []
   },
   "outputs": [
    {
     "data": {
      "text/plain": [
       "depcom  grp_rotation\n",
       "97108   4.0             2517\n",
       "97109   4.0             3462\n",
       "97112   4.0             3897\n",
       "97126   4.0             2340\n",
       "97202   4.0             2119\n",
       "97205   4.0             1586\n",
       "97215   4.0              557\n",
       "97217   4.0             3627\n",
       "97219   4.0              881\n",
       "97303   4.0              795\n",
       "97361   4.0              560\n",
       "97406   4.0             4027\n",
       "97605   4.0             3123\n",
       "97609   4.0             2014\n",
       "Name: id, dtype: int64"
      ]
     },
     "execution_count": 83,
     "metadata": {},
     "output_type": "execute_result"
    }
   ],
   "source": [
    "df_pc[df_pc.millesime == 2022].groupby([\"depcom\", \"grp_rotation\"])[\"id\"].count()"
   ]
  },
  {
   "cell_type": "code",
   "execution_count": 84,
   "id": "32d0e114-f538-484a-b589-b8f949b04095",
   "metadata": {
    "tags": []
   },
   "outputs": [
    {
     "data": {
      "text/plain": [
       "depcom  grp_rotation\n",
       "97102   5.0             3066\n",
       "97106   5.0             4208\n",
       "97133   5.0              819\n",
       "97203   5.0             1801\n",
       "97204   5.0             1972\n",
       "97206   5.0             3088\n",
       "97231   5.0             3535\n",
       "97233   5.0              941\n",
       "97301   5.0              398\n",
       "97308   5.0             1236\n",
       "97314   5.0               68\n",
       "97352   5.0              140\n",
       "97356   5.0               56\n",
       "97419   5.0             2919\n",
       "97424   5.0             3213\n",
       "97612   5.0             2632\n",
       "97701   5.0             5404\n",
       "Name: id, dtype: int64"
      ]
     },
     "execution_count": 84,
     "metadata": {},
     "output_type": "execute_result"
    }
   ],
   "source": [
    "df_pc[df_pc.millesime == 2023].groupby([\"depcom\", \"grp_rotation\"])[\"id\"].count()"
   ]
  },
  {
   "cell_type": "code",
   "execution_count": null,
   "id": "437c86d5-3922-4876-bba1-a6ccadf66ee9",
   "metadata": {},
   "outputs": [],
   "source": [
    "depcom_to_gr_pre_2021 = {\n",
    "    97119: 2, \n",
    "    97130: 2, \n",
    "    97131: 2, \n",
    "    97132: 2, \n",
    "    97211: 2, \n",
    "    97216: 2, \n",
    "    97218: 2,\n",
    "    97223: 2, \n",
    "    97313: 2, \n",
    "    97357: 2, \n",
    "    97360: 2, \n",
    "    97403: 2, \n",
    "    97417: 2, \n",
    "    97419: 5, \n",
    "    97421: 2, \n",
    "    97423: 2,\n",
    "    97424: 5,\n",
    "    97108: 3,\n",
    "    97109: 3,\n",
    "    97112: 3, \n",
    "    97126: 3, \n",
    "    97202: 3, \n",
    "    97205: 3, \n",
    "    97215: 3, \n",
    "    97217: 3,\n",
    "    97219: 3,\n",
    "    97303: 3,\n",
    "    97361: 3,\n",
    "    97406: 3,\n",
    "    97613: 3\n",
    "}\n",
    "\n",
    "depcom_to_gr_post_2021 = {\n",
    "    97108: 4,\n",
    "    97109: 4,\n",
    "    97112: 4,\n",
    "    97126: 4,\n",
    "    97202: 4,\n",
    "    97205: 4,\n",
    "    97215: 4,\n",
    "    97217: 4,\n",
    "    97219: 4,\n",
    "    97303: 4,\n",
    "    97361: 4,\n",
    "    97406: 4,\n",
    "    97605: 4,\n",
    "    97609: 4,\n",
    "    97102: 5,\n",
    "    97106: 5,\n",
    "    97133: 5,\n",
    "    97203: 5,\n",
    "    97204: 5,\n",
    "    97206: 5,\n",
    "    97231: 5,\n",
    "    97233: 5,\n",
    "    97301: 5,\n",
    "    97308: 5,\n",
    "    97314: 5,\n",
    "    97352: 5,\n",
    "    97356: 5,\n",
    "    97419: 5,\n",
    "    97424: 5,\n",
    "    97612: 5,\n",
    "    97701: 5\n",
    "}"
   ]
  },
  {
   "cell_type": "code",
   "execution_count": 92,
   "id": "34284f88-a472-4288-8d37-ec1b3214bf3e",
   "metadata": {
    "tags": []
   },
   "outputs": [],
   "source": [
    "gr_to_validity = {\n",
    "    2: (\"2019-05\", \"2019-08\"),\n",
    "    3: (\"2020-05\", \"2020-08\"),\n",
    "    4: (\"2021-05\", \"2021-08\"),\n",
    "    5: (\"2022-05\", \"2022-08\")\n",
    "}\n",
    "\n",
    "millesime_to_validity = {\n",
    "    2020: (\"2019-05\", \"2019-08\"),\n",
    "    2021: (\"2020-05\", \"2020-08\"),\n",
    "    2022: (\"2021-05\", \"2021-08\"),\n",
    "    2023: (\"2022-05\", \"2022-08\")\n",
    "}"
   ]
  },
  {
   "cell_type": "markdown",
   "id": "b21deeb9-dc0e-44e5-9bbb-d457d8cd52aa",
   "metadata": {},
   "source": [
    "Il faut choisir ces dates de validité"
   ]
  },
  {
   "cell_type": "code",
   "execution_count": 93,
   "id": "49cbcdfa-11a7-4851-9906-bb205eded377",
   "metadata": {
    "tags": []
   },
   "outputs": [
    {
     "data": {
      "text/plain": [
       "AM01    1615\n",
       "AW01    1522\n",
       "AP01    1481\n",
       "AO01    1370\n",
       "AM02    1284\n",
       "        ... \n",
       "BP04       1\n",
       "79         1\n",
       "BL03       1\n",
       "BI02       1\n",
       "AT18       1\n",
       "Name: code_ilot, Length: 878, dtype: int64"
      ]
     },
     "execution_count": 93,
     "metadata": {},
     "output_type": "execute_result"
    }
   ],
   "source": [
    "df_pc.code_ilot.value_counts()"
   ]
  },
  {
   "cell_type": "code",
   "execution_count": 94,
   "id": "1df0de33-fc3e-4aa0-abb7-c21807409094",
   "metadata": {
    "tags": []
   },
   "outputs": [
    {
     "data": {
      "text/plain": [
       "depcom  code_ilot\n",
       "97119   AB03         114\n",
       "        AB04          18\n",
       "        AB05           4\n",
       "        AB06          62\n",
       "        AB07           8\n",
       "                    ... \n",
       "97424   AP04          16\n",
       "        AP05          35\n",
       "        AP06           4\n",
       "        AP07          25\n",
       "        AR06           2\n",
       "Name: id, Length: 1267, dtype: int64"
      ]
     },
     "execution_count": 94,
     "metadata": {},
     "output_type": "execute_result"
    }
   ],
   "source": [
    "df_pc[df_pc.millesime == 2020].groupby([\"depcom\", \"code_ilot\"])[\"id\"].count()"
   ]
  },
  {
   "cell_type": "markdown",
   "id": "c5ae380a-4a77-4595-b618-062509082305",
   "metadata": {},
   "source": [
    "Utilité des ilots pour les PC ?"
   ]
  },
  {
   "cell_type": "markdown",
   "id": "48030320-7588-462e-88be-cd62d9cb612d",
   "metadata": {},
   "source": [
    "## Grandes communes"
   ]
  },
  {
   "cell_type": "code",
   "execution_count": 95,
   "id": "52bb449c-55a7-4a3c-b943-7f712e38b684",
   "metadata": {
    "tags": []
   },
   "outputs": [
    {
     "name": "stderr",
     "output_type": "stream",
     "text": [
      "/tmp/ipykernel_383/341672092.py:2: DtypeWarning: Columns (5,9,14,19,20,27,29,36,39,41,42,43) have mixed types. Specify dtype option on import or set low_memory=False.\n",
      "  df_gc = pd.read_csv(f)\n"
     ]
    }
   ],
   "source": [
    "with fs.open('projet-slums-detection/Donnees/RIL/ril_gc_dom.csv', 'r') as f:\n",
    "    df_gc = pd.read_csv(f)"
   ]
  },
  {
   "cell_type": "markdown",
   "id": "c59de405-cf4f-4771-9542-aa0971dc3097",
   "metadata": {},
   "source": [
    "Data types to specify"
   ]
  },
  {
   "cell_type": "code",
   "execution_count": 96,
   "id": "0b2e5212-2e5d-4952-a8da-f751fc0cdc2d",
   "metadata": {
    "tags": []
   },
   "outputs": [
    {
     "name": "stdout",
     "output_type": "stream",
     "text": [
      "<class 'pandas.core.frame.DataFrame'>\n",
      "RangeIndex: 2564120 entries, 0 to 2564119\n",
      "Data columns (total 51 columns):\n",
      " #   Column                  Dtype  \n",
      "---  ------                  -----  \n",
      " 0   id                      int64  \n",
      " 1   depcom                  int64  \n",
      " 2   id_ea                   int64  \n",
      " 3   principal               object \n",
      " 4   numero                  int64  \n",
      " 5   repetition              object \n",
      " 6   complement              object \n",
      " 7   type_voie               object \n",
      " 8   libelle_voie            object \n",
      " 9   rivoli                  object \n",
      " 10  ea_type                 object \n",
      " 11  hab_hot_type            object \n",
      " 12  nb_log                  float64\n",
      " 13  etat                    float64\n",
      " 14  pc_num                  object \n",
      " 15  commentaire             object \n",
      " 16  hab_construction_an     float64\n",
      " 17  hab_nb_imm              float64\n",
      " 18  hab_niv                 float64\n",
      " 19  hot_sous_type           object \n",
      " 20  hot_enseigne            object \n",
      " 21  lien_cmt                float64\n",
      " 22  x                       float64\n",
      " 23  y                       float64\n",
      " 24  code_epsg               int64  \n",
      " 25  type_localisation       object \n",
      " 26  numero_parcelle         object \n",
      " 27  code_ilot               object \n",
      " 28  code_iris               float64\n",
      " 29  quartier_prioritaire    object \n",
      " 30  canton                  float64\n",
      " 31  liste_insee             object \n",
      " 32  id_rp                   object \n",
      " 33  dernier_tirage          float64\n",
      " 34  echantillon             object \n",
      " 35  grp_rotation            float64\n",
      " 36  date_maj_ea             object \n",
      " 37  com_anc_idft            float64\n",
      " 38  com_type                float64\n",
      " 39  com_statut              object \n",
      " 40  com_nb_log_fonction     float64\n",
      " 41  com_nom                 object \n",
      " 42  com_date_creation_base  object \n",
      " 43  com_date_fermeture      object \n",
      " 44  com_capacite_theorique  float64\n",
      " 45  millesime               int64  \n",
      " 46  date_livraison          object \n",
      " 47  ref_ea                  int64  \n",
      " 48  id_rca_adresse          int64  \n",
      " 49  reperage                object \n",
      " 50  id_ea_regroup           float64\n",
      "dtypes: float64(17), int64(8), object(26)\n",
      "memory usage: 997.7+ MB\n"
     ]
    }
   ],
   "source": [
    "df_gc.info()"
   ]
  },
  {
   "cell_type": "code",
   "execution_count": 97,
   "id": "66a0c6d0-be80-4875-879b-e64b0fa51606",
   "metadata": {
    "tags": []
   },
   "outputs": [
    {
     "data": {
      "text/html": [
       "<div>\n",
       "<style scoped>\n",
       "    .dataframe tbody tr th:only-of-type {\n",
       "        vertical-align: middle;\n",
       "    }\n",
       "\n",
       "    .dataframe tbody tr th {\n",
       "        vertical-align: top;\n",
       "    }\n",
       "\n",
       "    .dataframe thead th {\n",
       "        text-align: right;\n",
       "    }\n",
       "</style>\n",
       "<table border=\"1\" class=\"dataframe\">\n",
       "  <thead>\n",
       "    <tr style=\"text-align: right;\">\n",
       "      <th></th>\n",
       "      <th>id</th>\n",
       "      <th>depcom</th>\n",
       "      <th>id_ea</th>\n",
       "      <th>principal</th>\n",
       "      <th>numero</th>\n",
       "      <th>repetition</th>\n",
       "      <th>complement</th>\n",
       "      <th>type_voie</th>\n",
       "      <th>libelle_voie</th>\n",
       "      <th>rivoli</th>\n",
       "      <th>ea_type</th>\n",
       "      <th>hab_hot_type</th>\n",
       "      <th>nb_log</th>\n",
       "      <th>etat</th>\n",
       "      <th>pc_num</th>\n",
       "      <th>commentaire</th>\n",
       "      <th>hab_construction_an</th>\n",
       "      <th>hab_nb_imm</th>\n",
       "      <th>hab_niv</th>\n",
       "      <th>hot_sous_type</th>\n",
       "      <th>hot_enseigne</th>\n",
       "      <th>lien_cmt</th>\n",
       "      <th>x</th>\n",
       "      <th>y</th>\n",
       "      <th>code_epsg</th>\n",
       "      <th>type_localisation</th>\n",
       "      <th>numero_parcelle</th>\n",
       "      <th>code_ilot</th>\n",
       "      <th>code_iris</th>\n",
       "      <th>quartier_prioritaire</th>\n",
       "      <th>canton</th>\n",
       "      <th>liste_insee</th>\n",
       "      <th>id_rp</th>\n",
       "      <th>dernier_tirage</th>\n",
       "      <th>echantillon</th>\n",
       "      <th>grp_rotation</th>\n",
       "      <th>date_maj_ea</th>\n",
       "      <th>com_anc_idft</th>\n",
       "      <th>com_type</th>\n",
       "      <th>com_statut</th>\n",
       "      <th>com_nb_log_fonction</th>\n",
       "      <th>com_nom</th>\n",
       "      <th>com_date_creation_base</th>\n",
       "      <th>com_date_fermeture</th>\n",
       "      <th>com_capacite_theorique</th>\n",
       "      <th>millesime</th>\n",
       "      <th>date_livraison</th>\n",
       "      <th>ref_ea</th>\n",
       "      <th>id_rca_adresse</th>\n",
       "      <th>reperage</th>\n",
       "      <th>id_ea_regroup</th>\n",
       "    </tr>\n",
       "  </thead>\n",
       "  <tbody>\n",
       "    <tr>\n",
       "      <th>0</th>\n",
       "      <td>32037034</td>\n",
       "      <td>97101</td>\n",
       "      <td>971010000018000</td>\n",
       "      <td>O</td>\n",
       "      <td>0</td>\n",
       "      <td>NaN</td>\n",
       "      <td>NaN</td>\n",
       "      <td>RTE</td>\n",
       "      <td>DE CADUC</td>\n",
       "      <td>0209</td>\n",
       "      <td>HABIT</td>\n",
       "      <td>0052</td>\n",
       "      <td>0.0</td>\n",
       "      <td>1.0</td>\n",
       "      <td>NaN</td>\n",
       "      <td>NaN</td>\n",
       "      <td>1900.0</td>\n",
       "      <td>0.0</td>\n",
       "      <td>0.0</td>\n",
       "      <td>NaN</td>\n",
       "      <td>NaN</td>\n",
       "      <td>1.0</td>\n",
       "      <td>661399.506</td>\n",
       "      <td>1802848.75</td>\n",
       "      <td>4559</td>\n",
       "      <td>CIC</td>\n",
       "      <td>NaN</td>\n",
       "      <td>AH03</td>\n",
       "      <td>113.0</td>\n",
       "      <td>NaN</td>\n",
       "      <td>2.0</td>\n",
       "      <td>O</td>\n",
       "      <td>97101   AH03 001</td>\n",
       "      <td>NaN</td>\n",
       "      <td>N</td>\n",
       "      <td>5.0</td>\n",
       "      <td>NaN</td>\n",
       "      <td>NaN</td>\n",
       "      <td>NaN</td>\n",
       "      <td>NaN</td>\n",
       "      <td>NaN</td>\n",
       "      <td>NaN</td>\n",
       "      <td>NaN</td>\n",
       "      <td>NaN</td>\n",
       "      <td>NaN</td>\n",
       "      <td>2023</td>\n",
       "      <td>2022-10-06 14:06:15.000</td>\n",
       "      <td>12693968</td>\n",
       "      <td>13781464</td>\n",
       "      <td>CHENIL</td>\n",
       "      <td>NaN</td>\n",
       "    </tr>\n",
       "    <tr>\n",
       "      <th>1</th>\n",
       "      <td>32037035</td>\n",
       "      <td>97101</td>\n",
       "      <td>971010000016555</td>\n",
       "      <td>O</td>\n",
       "      <td>0</td>\n",
       "      <td>NaN</td>\n",
       "      <td>NaN</td>\n",
       "      <td>RTE</td>\n",
       "      <td>DE CADUC</td>\n",
       "      <td>0209</td>\n",
       "      <td>HABIT</td>\n",
       "      <td>002D</td>\n",
       "      <td>1.0</td>\n",
       "      <td>1.0</td>\n",
       "      <td>NaN</td>\n",
       "      <td>NaN</td>\n",
       "      <td>1900.0</td>\n",
       "      <td>1.0</td>\n",
       "      <td>1.0</td>\n",
       "      <td>NaN</td>\n",
       "      <td>NaN</td>\n",
       "      <td>1.0</td>\n",
       "      <td>662317.510</td>\n",
       "      <td>1802803.62</td>\n",
       "      <td>4559</td>\n",
       "      <td>CIC</td>\n",
       "      <td>NaN</td>\n",
       "      <td>AH04</td>\n",
       "      <td>113.0</td>\n",
       "      <td>NaN</td>\n",
       "      <td>2.0</td>\n",
       "      <td>N</td>\n",
       "      <td>97101   AH04 036</td>\n",
       "      <td>NaN</td>\n",
       "      <td>N</td>\n",
       "      <td>4.0</td>\n",
       "      <td>NaN</td>\n",
       "      <td>NaN</td>\n",
       "      <td>NaN</td>\n",
       "      <td>NaN</td>\n",
       "      <td>NaN</td>\n",
       "      <td>NaN</td>\n",
       "      <td>NaN</td>\n",
       "      <td>NaN</td>\n",
       "      <td>NaN</td>\n",
       "      <td>2023</td>\n",
       "      <td>2022-10-06 14:06:15.000</td>\n",
       "      <td>12693993</td>\n",
       "      <td>13781490</td>\n",
       "      <td>EN HAUTEUR MEME ENTREE QUE 020</td>\n",
       "      <td>NaN</td>\n",
       "    </tr>\n",
       "    <tr>\n",
       "      <th>2</th>\n",
       "      <td>32037036</td>\n",
       "      <td>97101</td>\n",
       "      <td>971010000016537</td>\n",
       "      <td>O</td>\n",
       "      <td>0</td>\n",
       "      <td>NaN</td>\n",
       "      <td>NaN</td>\n",
       "      <td>RTE</td>\n",
       "      <td>DE CADUC</td>\n",
       "      <td>0209</td>\n",
       "      <td>HABIT</td>\n",
       "      <td>002D</td>\n",
       "      <td>1.0</td>\n",
       "      <td>1.0</td>\n",
       "      <td>NaN</td>\n",
       "      <td>NaN</td>\n",
       "      <td>1900.0</td>\n",
       "      <td>1.0</td>\n",
       "      <td>1.0</td>\n",
       "      <td>NaN</td>\n",
       "      <td>NaN</td>\n",
       "      <td>1.0</td>\n",
       "      <td>662318.385</td>\n",
       "      <td>1802718.25</td>\n",
       "      <td>4559</td>\n",
       "      <td>CIC</td>\n",
       "      <td>NaN</td>\n",
       "      <td>AH04</td>\n",
       "      <td>113.0</td>\n",
       "      <td>NaN</td>\n",
       "      <td>2.0</td>\n",
       "      <td>N</td>\n",
       "      <td>97101   AH04 018</td>\n",
       "      <td>NaN</td>\n",
       "      <td>N</td>\n",
       "      <td>4.0</td>\n",
       "      <td>NaN</td>\n",
       "      <td>NaN</td>\n",
       "      <td>NaN</td>\n",
       "      <td>NaN</td>\n",
       "      <td>NaN</td>\n",
       "      <td>NaN</td>\n",
       "      <td>NaN</td>\n",
       "      <td>NaN</td>\n",
       "      <td>NaN</td>\n",
       "      <td>2023</td>\n",
       "      <td>2022-10-06 14:06:15.000</td>\n",
       "      <td>12694053</td>\n",
       "      <td>13781557</td>\n",
       "      <td>TOIT BLEU NUIT</td>\n",
       "      <td>NaN</td>\n",
       "    </tr>\n",
       "    <tr>\n",
       "      <th>3</th>\n",
       "      <td>32037037</td>\n",
       "      <td>97101</td>\n",
       "      <td>971010000018082</td>\n",
       "      <td>O</td>\n",
       "      <td>0</td>\n",
       "      <td>NaN</td>\n",
       "      <td>NaN</td>\n",
       "      <td>RTE</td>\n",
       "      <td>DE CADUC</td>\n",
       "      <td>0209</td>\n",
       "      <td>HABIT</td>\n",
       "      <td>0052</td>\n",
       "      <td>0.0</td>\n",
       "      <td>1.0</td>\n",
       "      <td>NaN</td>\n",
       "      <td>NaN</td>\n",
       "      <td>1900.0</td>\n",
       "      <td>0.0</td>\n",
       "      <td>0.0</td>\n",
       "      <td>NaN</td>\n",
       "      <td>NaN</td>\n",
       "      <td>1.0</td>\n",
       "      <td>661443.444</td>\n",
       "      <td>1802703.12</td>\n",
       "      <td>4559</td>\n",
       "      <td>CIC</td>\n",
       "      <td>NaN</td>\n",
       "      <td>AH03</td>\n",
       "      <td>113.0</td>\n",
       "      <td>NaN</td>\n",
       "      <td>2.0</td>\n",
       "      <td>O</td>\n",
       "      <td>97101   AH03 080</td>\n",
       "      <td>NaN</td>\n",
       "      <td>N</td>\n",
       "      <td>5.0</td>\n",
       "      <td>NaN</td>\n",
       "      <td>NaN</td>\n",
       "      <td>NaN</td>\n",
       "      <td>NaN</td>\n",
       "      <td>NaN</td>\n",
       "      <td>NaN</td>\n",
       "      <td>NaN</td>\n",
       "      <td>NaN</td>\n",
       "      <td>NaN</td>\n",
       "      <td>2023</td>\n",
       "      <td>2022-10-06 14:06:15.000</td>\n",
       "      <td>12694070</td>\n",
       "      <td>13781574</td>\n",
       "      <td>ATELIZR DE COUTURE</td>\n",
       "      <td>NaN</td>\n",
       "    </tr>\n",
       "    <tr>\n",
       "      <th>4</th>\n",
       "      <td>32037038</td>\n",
       "      <td>97101</td>\n",
       "      <td>971010000018023</td>\n",
       "      <td>O</td>\n",
       "      <td>63</td>\n",
       "      <td>NaN</td>\n",
       "      <td>NaN</td>\n",
       "      <td>VOI</td>\n",
       "      <td>VILLAGE CADUC VOIE A</td>\n",
       "      <td>B048</td>\n",
       "      <td>HABIT</td>\n",
       "      <td>002D</td>\n",
       "      <td>1.0</td>\n",
       "      <td>1.0</td>\n",
       "      <td>NaN</td>\n",
       "      <td>NaN</td>\n",
       "      <td>1900.0</td>\n",
       "      <td>1.0</td>\n",
       "      <td>1.0</td>\n",
       "      <td>NaN</td>\n",
       "      <td>NaN</td>\n",
       "      <td>1.0</td>\n",
       "      <td>661537.632</td>\n",
       "      <td>1802589.00</td>\n",
       "      <td>4559</td>\n",
       "      <td>CIC</td>\n",
       "      <td>NaN</td>\n",
       "      <td>AH03</td>\n",
       "      <td>113.0</td>\n",
       "      <td>NaN</td>\n",
       "      <td>2.0</td>\n",
       "      <td>O</td>\n",
       "      <td>97101   AH03 024</td>\n",
       "      <td>NaN</td>\n",
       "      <td>N</td>\n",
       "      <td>5.0</td>\n",
       "      <td>NaN</td>\n",
       "      <td>NaN</td>\n",
       "      <td>NaN</td>\n",
       "      <td>NaN</td>\n",
       "      <td>NaN</td>\n",
       "      <td>NaN</td>\n",
       "      <td>NaN</td>\n",
       "      <td>NaN</td>\n",
       "      <td>NaN</td>\n",
       "      <td>2023</td>\n",
       "      <td>2022-10-06 14:06:15.000</td>\n",
       "      <td>12694190</td>\n",
       "      <td>13781695</td>\n",
       "      <td>NaN</td>\n",
       "      <td>NaN</td>\n",
       "    </tr>\n",
       "  </tbody>\n",
       "</table>\n",
       "</div>"
      ],
      "text/plain": [
       "         id  depcom            id_ea principal  numero repetition complement  \\\n",
       "0  32037034   97101  971010000018000         O       0        NaN        NaN   \n",
       "1  32037035   97101  971010000016555         O       0        NaN        NaN   \n",
       "2  32037036   97101  971010000016537         O       0        NaN        NaN   \n",
       "3  32037037   97101  971010000018082         O       0        NaN        NaN   \n",
       "4  32037038   97101  971010000018023         O      63        NaN        NaN   \n",
       "\n",
       "  type_voie          libelle_voie rivoli ea_type hab_hot_type  nb_log  etat  \\\n",
       "0       RTE              DE CADUC   0209   HABIT         0052     0.0   1.0   \n",
       "1       RTE              DE CADUC   0209   HABIT         002D     1.0   1.0   \n",
       "2       RTE              DE CADUC   0209   HABIT         002D     1.0   1.0   \n",
       "3       RTE              DE CADUC   0209   HABIT         0052     0.0   1.0   \n",
       "4       VOI  VILLAGE CADUC VOIE A   B048   HABIT         002D     1.0   1.0   \n",
       "\n",
       "  pc_num commentaire  hab_construction_an  hab_nb_imm  hab_niv hot_sous_type  \\\n",
       "0    NaN         NaN               1900.0         0.0      0.0           NaN   \n",
       "1    NaN         NaN               1900.0         1.0      1.0           NaN   \n",
       "2    NaN         NaN               1900.0         1.0      1.0           NaN   \n",
       "3    NaN         NaN               1900.0         0.0      0.0           NaN   \n",
       "4    NaN         NaN               1900.0         1.0      1.0           NaN   \n",
       "\n",
       "  hot_enseigne  lien_cmt           x           y  code_epsg type_localisation  \\\n",
       "0          NaN       1.0  661399.506  1802848.75       4559               CIC   \n",
       "1          NaN       1.0  662317.510  1802803.62       4559               CIC   \n",
       "2          NaN       1.0  662318.385  1802718.25       4559               CIC   \n",
       "3          NaN       1.0  661443.444  1802703.12       4559               CIC   \n",
       "4          NaN       1.0  661537.632  1802589.00       4559               CIC   \n",
       "\n",
       "  numero_parcelle code_ilot  code_iris quartier_prioritaire  canton  \\\n",
       "0             NaN      AH03      113.0                  NaN     2.0   \n",
       "1             NaN      AH04      113.0                  NaN     2.0   \n",
       "2             NaN      AH04      113.0                  NaN     2.0   \n",
       "3             NaN      AH03      113.0                  NaN     2.0   \n",
       "4             NaN      AH03      113.0                  NaN     2.0   \n",
       "\n",
       "  liste_insee             id_rp  dernier_tirage echantillon  grp_rotation  \\\n",
       "0           O  97101   AH03 001             NaN           N           5.0   \n",
       "1           N  97101   AH04 036             NaN           N           4.0   \n",
       "2           N  97101   AH04 018             NaN           N           4.0   \n",
       "3           O  97101   AH03 080             NaN           N           5.0   \n",
       "4           O  97101   AH03 024             NaN           N           5.0   \n",
       "\n",
       "  date_maj_ea  com_anc_idft  com_type com_statut  com_nb_log_fonction com_nom  \\\n",
       "0         NaN           NaN       NaN        NaN                  NaN     NaN   \n",
       "1         NaN           NaN       NaN        NaN                  NaN     NaN   \n",
       "2         NaN           NaN       NaN        NaN                  NaN     NaN   \n",
       "3         NaN           NaN       NaN        NaN                  NaN     NaN   \n",
       "4         NaN           NaN       NaN        NaN                  NaN     NaN   \n",
       "\n",
       "  com_date_creation_base com_date_fermeture  com_capacite_theorique  \\\n",
       "0                    NaN                NaN                     NaN   \n",
       "1                    NaN                NaN                     NaN   \n",
       "2                    NaN                NaN                     NaN   \n",
       "3                    NaN                NaN                     NaN   \n",
       "4                    NaN                NaN                     NaN   \n",
       "\n",
       "   millesime           date_livraison    ref_ea  id_rca_adresse  \\\n",
       "0       2023  2022-10-06 14:06:15.000  12693968        13781464   \n",
       "1       2023  2022-10-06 14:06:15.000  12693993        13781490   \n",
       "2       2023  2022-10-06 14:06:15.000  12694053        13781557   \n",
       "3       2023  2022-10-06 14:06:15.000  12694070        13781574   \n",
       "4       2023  2022-10-06 14:06:15.000  12694190        13781695   \n",
       "\n",
       "                         reperage  id_ea_regroup  \n",
       "0                          CHENIL            NaN  \n",
       "1  EN HAUTEUR MEME ENTREE QUE 020            NaN  \n",
       "2                  TOIT BLEU NUIT            NaN  \n",
       "3              ATELIZR DE COUTURE            NaN  \n",
       "4                             NaN            NaN  "
      ]
     },
     "execution_count": 97,
     "metadata": {},
     "output_type": "execute_result"
    }
   ],
   "source": [
    "df_gc.head()"
   ]
  },
  {
   "cell_type": "code",
   "execution_count": 99,
   "id": "17bf1eb2-33e9-4918-8d18-0d42f9bf6545",
   "metadata": {
    "tags": []
   },
   "outputs": [],
   "source": [
    "df_gc[\"dep\"] = df_gc[\"depcom\"].astype(str).str[:3]"
   ]
  },
  {
   "cell_type": "code",
   "execution_count": 100,
   "id": "8e924ffb-6691-4429-9619-3fe72ba7b12a",
   "metadata": {
    "tags": []
   },
   "outputs": [
    {
     "data": {
      "text/plain": [
       "974    1124595\n",
       "971     590166\n",
       "972     430787\n",
       "973     229074\n",
       "976     147351\n",
       "978      42147\n",
       "Name: dep, dtype: int64"
      ]
     },
     "execution_count": 100,
     "metadata": {},
     "output_type": "execute_result"
    }
   ],
   "source": [
    "df_gc.dep.value_counts()"
   ]
  },
  {
   "cell_type": "code",
   "execution_count": 102,
   "id": "781f3b14-f670-40c8-ad44-7e6e7d319645",
   "metadata": {
    "tags": []
   },
   "outputs": [
    {
     "data": {
      "text/plain": [
       "97801    42147\n",
       "Name: depcom, dtype: int64"
      ]
     },
     "execution_count": 102,
     "metadata": {},
     "output_type": "execute_result"
    }
   ],
   "source": [
    "df_gc[df_gc.dep == \"978\"].depcom.value_counts()"
   ]
  },
  {
   "cell_type": "markdown",
   "id": "d2c52bb4-ff31-4767-b98e-c75afbc87dce",
   "metadata": {},
   "source": [
    "Que Saint Martin."
   ]
  },
  {
   "cell_type": "code",
   "execution_count": 103,
   "id": "49ab7334-215b-4d77-8d20-2643238e6cab",
   "metadata": {
    "tags": []
   },
   "outputs": [
    {
     "data": {
      "text/html": [
       "<div>\n",
       "<style scoped>\n",
       "    .dataframe tbody tr th:only-of-type {\n",
       "        vertical-align: middle;\n",
       "    }\n",
       "\n",
       "    .dataframe tbody tr th {\n",
       "        vertical-align: top;\n",
       "    }\n",
       "\n",
       "    .dataframe thead th {\n",
       "        text-align: right;\n",
       "    }\n",
       "</style>\n",
       "<table border=\"1\" class=\"dataframe\">\n",
       "  <thead>\n",
       "    <tr style=\"text-align: right;\">\n",
       "      <th></th>\n",
       "      <th>id</th>\n",
       "      <th>depcom</th>\n",
       "      <th>id_ea</th>\n",
       "      <th>principal</th>\n",
       "      <th>numero</th>\n",
       "      <th>repetition</th>\n",
       "      <th>complement</th>\n",
       "      <th>type_voie</th>\n",
       "      <th>libelle_voie</th>\n",
       "      <th>rivoli</th>\n",
       "      <th>ea_type</th>\n",
       "      <th>hab_hot_type</th>\n",
       "      <th>nb_log</th>\n",
       "      <th>etat</th>\n",
       "      <th>pc_num</th>\n",
       "      <th>commentaire</th>\n",
       "      <th>hab_construction_an</th>\n",
       "      <th>hab_nb_imm</th>\n",
       "      <th>hab_niv</th>\n",
       "      <th>hot_sous_type</th>\n",
       "      <th>hot_enseigne</th>\n",
       "      <th>lien_cmt</th>\n",
       "      <th>x</th>\n",
       "      <th>y</th>\n",
       "      <th>code_epsg</th>\n",
       "      <th>type_localisation</th>\n",
       "      <th>numero_parcelle</th>\n",
       "      <th>code_ilot</th>\n",
       "      <th>code_iris</th>\n",
       "      <th>quartier_prioritaire</th>\n",
       "      <th>canton</th>\n",
       "      <th>liste_insee</th>\n",
       "      <th>id_rp</th>\n",
       "      <th>dernier_tirage</th>\n",
       "      <th>echantillon</th>\n",
       "      <th>grp_rotation</th>\n",
       "      <th>date_maj_ea</th>\n",
       "      <th>com_anc_idft</th>\n",
       "      <th>com_type</th>\n",
       "      <th>com_statut</th>\n",
       "      <th>com_nb_log_fonction</th>\n",
       "      <th>com_nom</th>\n",
       "      <th>com_date_creation_base</th>\n",
       "      <th>com_date_fermeture</th>\n",
       "      <th>com_capacite_theorique</th>\n",
       "      <th>millesime</th>\n",
       "      <th>date_livraison</th>\n",
       "      <th>ref_ea</th>\n",
       "      <th>id_rca_adresse</th>\n",
       "      <th>reperage</th>\n",
       "      <th>id_ea_regroup</th>\n",
       "      <th>dep</th>\n",
       "    </tr>\n",
       "  </thead>\n",
       "  <tbody>\n",
       "    <tr>\n",
       "      <th>0</th>\n",
       "      <td>32037034</td>\n",
       "      <td>97101</td>\n",
       "      <td>971010000018000</td>\n",
       "      <td>O</td>\n",
       "      <td>0</td>\n",
       "      <td>NaN</td>\n",
       "      <td>NaN</td>\n",
       "      <td>RTE</td>\n",
       "      <td>DE CADUC</td>\n",
       "      <td>0209</td>\n",
       "      <td>HABIT</td>\n",
       "      <td>0052</td>\n",
       "      <td>0.0</td>\n",
       "      <td>1.0</td>\n",
       "      <td>NaN</td>\n",
       "      <td>NaN</td>\n",
       "      <td>1900.0</td>\n",
       "      <td>0.0</td>\n",
       "      <td>0.0</td>\n",
       "      <td>NaN</td>\n",
       "      <td>NaN</td>\n",
       "      <td>1.0</td>\n",
       "      <td>661399.506</td>\n",
       "      <td>1802848.75</td>\n",
       "      <td>4559</td>\n",
       "      <td>CIC</td>\n",
       "      <td>NaN</td>\n",
       "      <td>AH03</td>\n",
       "      <td>113.0</td>\n",
       "      <td>NaN</td>\n",
       "      <td>2.0</td>\n",
       "      <td>O</td>\n",
       "      <td>97101   AH03 001</td>\n",
       "      <td>NaN</td>\n",
       "      <td>N</td>\n",
       "      <td>5.0</td>\n",
       "      <td>NaN</td>\n",
       "      <td>NaN</td>\n",
       "      <td>NaN</td>\n",
       "      <td>NaN</td>\n",
       "      <td>NaN</td>\n",
       "      <td>NaN</td>\n",
       "      <td>NaN</td>\n",
       "      <td>NaN</td>\n",
       "      <td>NaN</td>\n",
       "      <td>2023</td>\n",
       "      <td>2022-10-06 14:06:15.000</td>\n",
       "      <td>12693968</td>\n",
       "      <td>13781464</td>\n",
       "      <td>CHENIL</td>\n",
       "      <td>NaN</td>\n",
       "      <td>Guadeloupe</td>\n",
       "    </tr>\n",
       "    <tr>\n",
       "      <th>1</th>\n",
       "      <td>32037035</td>\n",
       "      <td>97101</td>\n",
       "      <td>971010000016555</td>\n",
       "      <td>O</td>\n",
       "      <td>0</td>\n",
       "      <td>NaN</td>\n",
       "      <td>NaN</td>\n",
       "      <td>RTE</td>\n",
       "      <td>DE CADUC</td>\n",
       "      <td>0209</td>\n",
       "      <td>HABIT</td>\n",
       "      <td>002D</td>\n",
       "      <td>1.0</td>\n",
       "      <td>1.0</td>\n",
       "      <td>NaN</td>\n",
       "      <td>NaN</td>\n",
       "      <td>1900.0</td>\n",
       "      <td>1.0</td>\n",
       "      <td>1.0</td>\n",
       "      <td>NaN</td>\n",
       "      <td>NaN</td>\n",
       "      <td>1.0</td>\n",
       "      <td>662317.510</td>\n",
       "      <td>1802803.62</td>\n",
       "      <td>4559</td>\n",
       "      <td>CIC</td>\n",
       "      <td>NaN</td>\n",
       "      <td>AH04</td>\n",
       "      <td>113.0</td>\n",
       "      <td>NaN</td>\n",
       "      <td>2.0</td>\n",
       "      <td>N</td>\n",
       "      <td>97101   AH04 036</td>\n",
       "      <td>NaN</td>\n",
       "      <td>N</td>\n",
       "      <td>4.0</td>\n",
       "      <td>NaN</td>\n",
       "      <td>NaN</td>\n",
       "      <td>NaN</td>\n",
       "      <td>NaN</td>\n",
       "      <td>NaN</td>\n",
       "      <td>NaN</td>\n",
       "      <td>NaN</td>\n",
       "      <td>NaN</td>\n",
       "      <td>NaN</td>\n",
       "      <td>2023</td>\n",
       "      <td>2022-10-06 14:06:15.000</td>\n",
       "      <td>12693993</td>\n",
       "      <td>13781490</td>\n",
       "      <td>EN HAUTEUR MEME ENTREE QUE 020</td>\n",
       "      <td>NaN</td>\n",
       "      <td>Guadeloupe</td>\n",
       "    </tr>\n",
       "    <tr>\n",
       "      <th>2</th>\n",
       "      <td>32037036</td>\n",
       "      <td>97101</td>\n",
       "      <td>971010000016537</td>\n",
       "      <td>O</td>\n",
       "      <td>0</td>\n",
       "      <td>NaN</td>\n",
       "      <td>NaN</td>\n",
       "      <td>RTE</td>\n",
       "      <td>DE CADUC</td>\n",
       "      <td>0209</td>\n",
       "      <td>HABIT</td>\n",
       "      <td>002D</td>\n",
       "      <td>1.0</td>\n",
       "      <td>1.0</td>\n",
       "      <td>NaN</td>\n",
       "      <td>NaN</td>\n",
       "      <td>1900.0</td>\n",
       "      <td>1.0</td>\n",
       "      <td>1.0</td>\n",
       "      <td>NaN</td>\n",
       "      <td>NaN</td>\n",
       "      <td>1.0</td>\n",
       "      <td>662318.385</td>\n",
       "      <td>1802718.25</td>\n",
       "      <td>4559</td>\n",
       "      <td>CIC</td>\n",
       "      <td>NaN</td>\n",
       "      <td>AH04</td>\n",
       "      <td>113.0</td>\n",
       "      <td>NaN</td>\n",
       "      <td>2.0</td>\n",
       "      <td>N</td>\n",
       "      <td>97101   AH04 018</td>\n",
       "      <td>NaN</td>\n",
       "      <td>N</td>\n",
       "      <td>4.0</td>\n",
       "      <td>NaN</td>\n",
       "      <td>NaN</td>\n",
       "      <td>NaN</td>\n",
       "      <td>NaN</td>\n",
       "      <td>NaN</td>\n",
       "      <td>NaN</td>\n",
       "      <td>NaN</td>\n",
       "      <td>NaN</td>\n",
       "      <td>NaN</td>\n",
       "      <td>2023</td>\n",
       "      <td>2022-10-06 14:06:15.000</td>\n",
       "      <td>12694053</td>\n",
       "      <td>13781557</td>\n",
       "      <td>TOIT BLEU NUIT</td>\n",
       "      <td>NaN</td>\n",
       "      <td>Guadeloupe</td>\n",
       "    </tr>\n",
       "    <tr>\n",
       "      <th>3</th>\n",
       "      <td>32037037</td>\n",
       "      <td>97101</td>\n",
       "      <td>971010000018082</td>\n",
       "      <td>O</td>\n",
       "      <td>0</td>\n",
       "      <td>NaN</td>\n",
       "      <td>NaN</td>\n",
       "      <td>RTE</td>\n",
       "      <td>DE CADUC</td>\n",
       "      <td>0209</td>\n",
       "      <td>HABIT</td>\n",
       "      <td>0052</td>\n",
       "      <td>0.0</td>\n",
       "      <td>1.0</td>\n",
       "      <td>NaN</td>\n",
       "      <td>NaN</td>\n",
       "      <td>1900.0</td>\n",
       "      <td>0.0</td>\n",
       "      <td>0.0</td>\n",
       "      <td>NaN</td>\n",
       "      <td>NaN</td>\n",
       "      <td>1.0</td>\n",
       "      <td>661443.444</td>\n",
       "      <td>1802703.12</td>\n",
       "      <td>4559</td>\n",
       "      <td>CIC</td>\n",
       "      <td>NaN</td>\n",
       "      <td>AH03</td>\n",
       "      <td>113.0</td>\n",
       "      <td>NaN</td>\n",
       "      <td>2.0</td>\n",
       "      <td>O</td>\n",
       "      <td>97101   AH03 080</td>\n",
       "      <td>NaN</td>\n",
       "      <td>N</td>\n",
       "      <td>5.0</td>\n",
       "      <td>NaN</td>\n",
       "      <td>NaN</td>\n",
       "      <td>NaN</td>\n",
       "      <td>NaN</td>\n",
       "      <td>NaN</td>\n",
       "      <td>NaN</td>\n",
       "      <td>NaN</td>\n",
       "      <td>NaN</td>\n",
       "      <td>NaN</td>\n",
       "      <td>2023</td>\n",
       "      <td>2022-10-06 14:06:15.000</td>\n",
       "      <td>12694070</td>\n",
       "      <td>13781574</td>\n",
       "      <td>ATELIZR DE COUTURE</td>\n",
       "      <td>NaN</td>\n",
       "      <td>Guadeloupe</td>\n",
       "    </tr>\n",
       "    <tr>\n",
       "      <th>4</th>\n",
       "      <td>32037038</td>\n",
       "      <td>97101</td>\n",
       "      <td>971010000018023</td>\n",
       "      <td>O</td>\n",
       "      <td>63</td>\n",
       "      <td>NaN</td>\n",
       "      <td>NaN</td>\n",
       "      <td>VOI</td>\n",
       "      <td>VILLAGE CADUC VOIE A</td>\n",
       "      <td>B048</td>\n",
       "      <td>HABIT</td>\n",
       "      <td>002D</td>\n",
       "      <td>1.0</td>\n",
       "      <td>1.0</td>\n",
       "      <td>NaN</td>\n",
       "      <td>NaN</td>\n",
       "      <td>1900.0</td>\n",
       "      <td>1.0</td>\n",
       "      <td>1.0</td>\n",
       "      <td>NaN</td>\n",
       "      <td>NaN</td>\n",
       "      <td>1.0</td>\n",
       "      <td>661537.632</td>\n",
       "      <td>1802589.00</td>\n",
       "      <td>4559</td>\n",
       "      <td>CIC</td>\n",
       "      <td>NaN</td>\n",
       "      <td>AH03</td>\n",
       "      <td>113.0</td>\n",
       "      <td>NaN</td>\n",
       "      <td>2.0</td>\n",
       "      <td>O</td>\n",
       "      <td>97101   AH03 024</td>\n",
       "      <td>NaN</td>\n",
       "      <td>N</td>\n",
       "      <td>5.0</td>\n",
       "      <td>NaN</td>\n",
       "      <td>NaN</td>\n",
       "      <td>NaN</td>\n",
       "      <td>NaN</td>\n",
       "      <td>NaN</td>\n",
       "      <td>NaN</td>\n",
       "      <td>NaN</td>\n",
       "      <td>NaN</td>\n",
       "      <td>NaN</td>\n",
       "      <td>2023</td>\n",
       "      <td>2022-10-06 14:06:15.000</td>\n",
       "      <td>12694190</td>\n",
       "      <td>13781695</td>\n",
       "      <td>NaN</td>\n",
       "      <td>NaN</td>\n",
       "      <td>Guadeloupe</td>\n",
       "    </tr>\n",
       "  </tbody>\n",
       "</table>\n",
       "</div>"
      ],
      "text/plain": [
       "         id  depcom            id_ea principal  numero repetition complement  \\\n",
       "0  32037034   97101  971010000018000         O       0        NaN        NaN   \n",
       "1  32037035   97101  971010000016555         O       0        NaN        NaN   \n",
       "2  32037036   97101  971010000016537         O       0        NaN        NaN   \n",
       "3  32037037   97101  971010000018082         O       0        NaN        NaN   \n",
       "4  32037038   97101  971010000018023         O      63        NaN        NaN   \n",
       "\n",
       "  type_voie          libelle_voie rivoli ea_type hab_hot_type  nb_log  etat  \\\n",
       "0       RTE              DE CADUC   0209   HABIT         0052     0.0   1.0   \n",
       "1       RTE              DE CADUC   0209   HABIT         002D     1.0   1.0   \n",
       "2       RTE              DE CADUC   0209   HABIT         002D     1.0   1.0   \n",
       "3       RTE              DE CADUC   0209   HABIT         0052     0.0   1.0   \n",
       "4       VOI  VILLAGE CADUC VOIE A   B048   HABIT         002D     1.0   1.0   \n",
       "\n",
       "  pc_num commentaire  hab_construction_an  hab_nb_imm  hab_niv hot_sous_type  \\\n",
       "0    NaN         NaN               1900.0         0.0      0.0           NaN   \n",
       "1    NaN         NaN               1900.0         1.0      1.0           NaN   \n",
       "2    NaN         NaN               1900.0         1.0      1.0           NaN   \n",
       "3    NaN         NaN               1900.0         0.0      0.0           NaN   \n",
       "4    NaN         NaN               1900.0         1.0      1.0           NaN   \n",
       "\n",
       "  hot_enseigne  lien_cmt           x           y  code_epsg type_localisation  \\\n",
       "0          NaN       1.0  661399.506  1802848.75       4559               CIC   \n",
       "1          NaN       1.0  662317.510  1802803.62       4559               CIC   \n",
       "2          NaN       1.0  662318.385  1802718.25       4559               CIC   \n",
       "3          NaN       1.0  661443.444  1802703.12       4559               CIC   \n",
       "4          NaN       1.0  661537.632  1802589.00       4559               CIC   \n",
       "\n",
       "  numero_parcelle code_ilot  code_iris quartier_prioritaire  canton  \\\n",
       "0             NaN      AH03      113.0                  NaN     2.0   \n",
       "1             NaN      AH04      113.0                  NaN     2.0   \n",
       "2             NaN      AH04      113.0                  NaN     2.0   \n",
       "3             NaN      AH03      113.0                  NaN     2.0   \n",
       "4             NaN      AH03      113.0                  NaN     2.0   \n",
       "\n",
       "  liste_insee             id_rp  dernier_tirage echantillon  grp_rotation  \\\n",
       "0           O  97101   AH03 001             NaN           N           5.0   \n",
       "1           N  97101   AH04 036             NaN           N           4.0   \n",
       "2           N  97101   AH04 018             NaN           N           4.0   \n",
       "3           O  97101   AH03 080             NaN           N           5.0   \n",
       "4           O  97101   AH03 024             NaN           N           5.0   \n",
       "\n",
       "  date_maj_ea  com_anc_idft  com_type com_statut  com_nb_log_fonction com_nom  \\\n",
       "0         NaN           NaN       NaN        NaN                  NaN     NaN   \n",
       "1         NaN           NaN       NaN        NaN                  NaN     NaN   \n",
       "2         NaN           NaN       NaN        NaN                  NaN     NaN   \n",
       "3         NaN           NaN       NaN        NaN                  NaN     NaN   \n",
       "4         NaN           NaN       NaN        NaN                  NaN     NaN   \n",
       "\n",
       "  com_date_creation_base com_date_fermeture  com_capacite_theorique  \\\n",
       "0                    NaN                NaN                     NaN   \n",
       "1                    NaN                NaN                     NaN   \n",
       "2                    NaN                NaN                     NaN   \n",
       "3                    NaN                NaN                     NaN   \n",
       "4                    NaN                NaN                     NaN   \n",
       "\n",
       "   millesime           date_livraison    ref_ea  id_rca_adresse  \\\n",
       "0       2023  2022-10-06 14:06:15.000  12693968        13781464   \n",
       "1       2023  2022-10-06 14:06:15.000  12693993        13781490   \n",
       "2       2023  2022-10-06 14:06:15.000  12694053        13781557   \n",
       "3       2023  2022-10-06 14:06:15.000  12694070        13781574   \n",
       "4       2023  2022-10-06 14:06:15.000  12694190        13781695   \n",
       "\n",
       "                         reperage  id_ea_regroup         dep  \n",
       "0                          CHENIL            NaN  Guadeloupe  \n",
       "1  EN HAUTEUR MEME ENTREE QUE 020            NaN  Guadeloupe  \n",
       "2                  TOIT BLEU NUIT            NaN  Guadeloupe  \n",
       "3              ATELIZR DE COUTURE            NaN  Guadeloupe  \n",
       "4                             NaN            NaN  Guadeloupe  "
      ]
     },
     "execution_count": 103,
     "metadata": {},
     "output_type": "execute_result"
    }
   ],
   "source": [
    "dep_mapping = {\n",
    "    \"971\": \"Guadeloupe\",\n",
    "    \"972\": \"Martinique\",\n",
    "    \"973\": \"Guyane\",\n",
    "    \"974\": \"Réunion\",\n",
    "    \"976\": \"Mayotte\",\n",
    "    \"978\": \"Saint-Martin\",\n",
    "}\n",
    "df_gc[\"dep\"] = df_gc[\"dep\"].apply(lambda x: dep_mapping[x])\n",
    "df_gc.head()"
   ]
  },
  {
   "cell_type": "code",
   "execution_count": 104,
   "id": "e117f5fa-9db7-4920-9a04-1e941a6b4990",
   "metadata": {
    "tags": []
   },
   "outputs": [
    {
     "data": {
      "text/plain": [
       "HABIT    2560736\n",
       "COMMU       2312\n",
       "HOTEL       1072\n",
       "Name: ea_type, dtype: int64"
      ]
     },
     "execution_count": 104,
     "metadata": {},
     "output_type": "execute_result"
    }
   ],
   "source": [
    "df_gc.ea_type.value_counts()"
   ]
  },
  {
   "cell_type": "code",
   "execution_count": 105,
   "id": "04f09d17-8b4b-4e5b-968e-645ffd0a3ae1",
   "metadata": {
    "tags": []
   },
   "outputs": [
    {
     "data": {
      "image/png": "[encoded data removed]",
      "text/plain": [
       "<Figure size 640x480 with 1 Axes>"
      ]
     },
     "metadata": {},
     "output_type": "display_data"
    }
   ],
   "source": [
    "from matplotlib import pyplot as plt\n",
    "\n",
    "plt.hist(df_gc[\"hab_construction_an\"], bins=100)\n",
    "plt.show()"
   ]
  },
  {
   "cell_type": "markdown",
   "id": "9c8b851c-26bb-4c77-9222-f79341d1e8cf",
   "metadata": {},
   "source": [
    "Variable pas exploitable."
   ]
  },
  {
   "cell_type": "code",
   "execution_count": 106,
   "id": "f79e2f6d-fc56-4798-bda5-5a14c4beecdd",
   "metadata": {
    "tags": []
   },
   "outputs": [
    {
     "data": {
      "text/plain": [
       "2975    1124595\n",
       "4559    1063100\n",
       "2972     229074\n",
       "4471     147351\n",
       "Name: code_epsg, dtype: int64"
      ]
     },
     "execution_count": 106,
     "metadata": {},
     "output_type": "execute_result"
    }
   ],
   "source": [
    "df_gc.code_epsg.value_counts()"
   ]
  },
  {
   "cell_type": "code",
   "execution_count": 107,
   "id": "4500d0fb-4be9-4c81-b3f6-8a36fb8ff94d",
   "metadata": {
    "tags": []
   },
   "outputs": [
    {
     "data": {
      "text/plain": [
       "dep           code_epsg\n",
       "Guadeloupe    4559          590166\n",
       "Guyane        2972          229074\n",
       "Martinique    4559          430787\n",
       "Mayotte       4471          147351\n",
       "Réunion       2975         1124595\n",
       "Saint-Martin  4559           42147\n",
       "Name: id, dtype: int64"
      ]
     },
     "execution_count": 107,
     "metadata": {},
     "output_type": "execute_result"
    }
   ],
   "source": [
    "df_gc.groupby([\"dep\", \"code_epsg\"])[\"id\"].count()"
   ]
  },
  {
   "cell_type": "code",
   "execution_count": 108,
   "id": "15d7dd9a-e1a9-465a-9dd0-5b4c4f0c4027",
   "metadata": {
    "tags": []
   },
   "outputs": [],
   "source": [
    "dep_to_epsg = {\n",
    "    \"Guadeloupe\": 4559,\n",
    "    \"Guyane\": 2972,\n",
    "    \"Martinique\": 4559,\n",
    "    \"Mayotte\": 4471,\n",
    "    \"Réunion\": 2975,\n",
    "    \"Saint-Martin\": 4559\n",
    "}"
   ]
  },
  {
   "cell_type": "code",
   "execution_count": 109,
   "id": "df7d6797-dcdc-443b-bf43-98b6addce65a",
   "metadata": {
    "tags": []
   },
   "outputs": [
    {
     "data": {
      "text/plain": [
       "AP02    8425\n",
       "AV02    8160\n",
       "AT01    7747\n",
       "AH01    7681\n",
       "AR03    7489\n",
       "        ... \n",
       "DA03       1\n",
       "0093       1\n",
       "BX24       1\n",
       "0092       1\n",
       "HP11       1\n",
       "Name: code_ilot, Length: 3965, dtype: int64"
      ]
     },
     "execution_count": 109,
     "metadata": {},
     "output_type": "execute_result"
    }
   ],
   "source": [
    "df_gc.code_ilot.value_counts()"
   ]
  },
  {
   "cell_type": "code",
   "execution_count": 110,
   "id": "f00d97d2-e987-4d3c-bbba-cd1624748a0f",
   "metadata": {
    "tags": []
   },
   "outputs": [
    {
     "data": {
      "text/plain": [
       "4.0    520053\n",
       "2.0    517546\n",
       "3.0    512889\n",
       "5.0    510026\n",
       "1.0    503431\n",
       "Name: grp_rotation, dtype: int64"
      ]
     },
     "execution_count": 110,
     "metadata": {},
     "output_type": "execute_result"
    }
   ],
   "source": [
    "df_gc.grp_rotation.value_counts()"
   ]
  },
  {
   "cell_type": "code",
   "execution_count": 112,
   "id": "2eb70cd2-5333-477e-b61f-a355a5b2e245",
   "metadata": {
    "tags": []
   },
   "outputs": [
    {
     "data": {
      "text/plain": [
       "dep           grp_rotation\n",
       "Guadeloupe    1.0             112340\n",
       "              2.0             118909\n",
       "              3.0             113008\n",
       "              4.0             125943\n",
       "              5.0             119941\n",
       "Guyane        1.0              43549\n",
       "              2.0              47082\n",
       "              3.0              50125\n",
       "              4.0              43663\n",
       "              5.0              44626\n",
       "Martinique    1.0              84938\n",
       "              2.0              88261\n",
       "              3.0              85325\n",
       "              4.0              88723\n",
       "              5.0              83534\n",
       "Mayotte       1.0              27643\n",
       "              2.0              28197\n",
       "              3.0              31223\n",
       "              4.0              29992\n",
       "              5.0              30296\n",
       "Réunion       1.0             226337\n",
       "              2.0             224949\n",
       "              3.0             226388\n",
       "              4.0             222730\n",
       "              5.0             224093\n",
       "Saint-Martin  1.0               8624\n",
       "              2.0              10148\n",
       "              3.0               6820\n",
       "              4.0               9002\n",
       "              5.0               7536\n",
       "Name: id, dtype: int64"
      ]
     },
     "execution_count": 112,
     "metadata": {},
     "output_type": "execute_result"
    }
   ],
   "source": [
    "df_gc.groupby([\"dep\", \"grp_rotation\"])[\"id\"].count()"
   ]
  },
  {
   "cell_type": "code",
   "execution_count": 113,
   "id": "84be2762-af53-4455-91ea-59ae49e01408",
   "metadata": {
    "tags": []
   },
   "outputs": [
    {
     "data": {
      "text/plain": [
       "2023    677500\n",
       "2022    662887\n",
       "2021    644992\n",
       "2020    578741\n",
       "Name: millesime, dtype: int64"
      ]
     },
     "execution_count": 113,
     "metadata": {},
     "output_type": "execute_result"
    }
   ],
   "source": [
    "df_gc.millesime.value_counts()"
   ]
  },
  {
   "cell_type": "code",
   "execution_count": 114,
   "id": "793bb196-d57f-4d07-aa68-ef5ef5920244",
   "metadata": {
    "tags": []
   },
   "outputs": [
    {
     "data": {
      "text/plain": [
       "depcom  grp_rotation\n",
       "97101   1.0             4220\n",
       "        2.0             4769\n",
       "        3.0             4729\n",
       "        4.0             4729\n",
       "        5.0             4521\n",
       "                        ... \n",
       "97801   1.0             2156\n",
       "        2.0             2530\n",
       "        3.0             1654\n",
       "        4.0             2213\n",
       "        5.0             1888\n",
       "Name: id, Length: 255, dtype: int64"
      ]
     },
     "execution_count": 114,
     "metadata": {},
     "output_type": "execute_result"
    }
   ],
   "source": [
    "df_gc[df_gc.millesime == 2020].groupby([\"depcom\", \"grp_rotation\"])[\"id\"].count()"
   ]
  },
  {
   "cell_type": "markdown",
   "id": "abebe452-28f6-48d3-80ea-77dad102779c",
   "metadata": {},
   "source": [
    "Pour les GC on a pour 1 millesime plusieurs groupes de rotation dans la base."
   ]
  },
  {
   "cell_type": "code",
   "execution_count": 115,
   "id": "7d9ccd9e-d82c-4862-881e-9952b0efbd17",
   "metadata": {
    "tags": []
   },
   "outputs": [
    {
     "data": {
      "text/plain": [
       "depcom  grp_rotation\n",
       "97101   1.0             4224\n",
       "        2.0             4780\n",
       "        3.0             4941\n",
       "        4.0             4731\n",
       "        5.0             4523\n",
       "                        ... \n",
       "97801   1.0             2156\n",
       "        2.0             2539\n",
       "        3.0             1722\n",
       "        4.0             2215\n",
       "        5.0             1890\n",
       "Name: id, Length: 310, dtype: int64"
      ]
     },
     "execution_count": 115,
     "metadata": {},
     "output_type": "execute_result"
    }
   ],
   "source": [
    "df_gc[df_gc.millesime == 2021].groupby([\"depcom\", \"grp_rotation\"])[\"id\"].count()"
   ]
  },
  {
   "cell_type": "code",
   "execution_count": 116,
   "id": "0bdb15d7-255d-4d15-97ab-6ad402a8137a",
   "metadata": {
    "tags": []
   },
   "outputs": [
    {
     "data": {
      "text/plain": [
       "depcom  grp_rotation\n",
       "97101   1.0             4245\n",
       "        2.0             4801\n",
       "        3.0             4952\n",
       "        4.0             4915\n",
       "        5.0             4540\n",
       "                        ... \n",
       "97801   1.0             2156\n",
       "        2.0             2539\n",
       "        3.0             1722\n",
       "        4.0             2287\n",
       "        5.0             1846\n",
       "Name: id, Length: 310, dtype: int64"
      ]
     },
     "execution_count": 116,
     "metadata": {},
     "output_type": "execute_result"
    }
   ],
   "source": [
    "df_gc[df_gc.millesime == 2022].groupby([\"depcom\", \"grp_rotation\"])[\"id\"].count()"
   ]
  },
  {
   "cell_type": "code",
   "execution_count": 117,
   "id": "40849263-c9a3-410d-833a-20d159e503ec",
   "metadata": {
    "tags": []
   },
   "outputs": [
    {
     "data": {
      "text/plain": [
       "depcom  grp_rotation\n",
       "97101   1.0             4288\n",
       "        2.0             4827\n",
       "        3.0             4983\n",
       "        4.0             4937\n",
       "        5.0             4766\n",
       "                        ... \n",
       "97801   1.0             2156\n",
       "        2.0             2540\n",
       "        3.0             1722\n",
       "        4.0             2287\n",
       "        5.0             1912\n",
       "Name: id, Length: 310, dtype: int64"
      ]
     },
     "execution_count": 117,
     "metadata": {},
     "output_type": "execute_result"
    }
   ],
   "source": [
    "df_gc[df_gc.millesime == 2023].groupby([\"depcom\", \"grp_rotation\"])[\"id\"].count()"
   ]
  },
  {
   "cell_type": "markdown",
   "id": "aa924bd4-515b-4040-b503-7ab884b3c740",
   "metadata": {},
   "source": [
    "Ilots ? normalement 1 groupe de rotation par ilot ? "
   ]
  },
  {
   "cell_type": "code",
   "execution_count": 118,
   "id": "d3c5015f-47b1-49a6-8399-e73b27bb4c94",
   "metadata": {
    "tags": []
   },
   "outputs": [
    {
     "data": {
      "text/plain": [
       "code_ilot  grp_rotation\n",
       "10         1.0              30\n",
       "           2.0              71\n",
       "           3.0              35\n",
       "           4.0             106\n",
       "           5.0              18\n",
       "                          ... \n",
       "PED6       4.0             261\n",
       "           5.0             105\n",
       "PED7       3.0             187\n",
       "           5.0             146\n",
       "PED8       3.0              90\n",
       "Name: id, Length: 8290, dtype: int64"
      ]
     },
     "execution_count": 118,
     "metadata": {},
     "output_type": "execute_result"
    }
   ],
   "source": [
    "df_gc[df_gc.millesime == 2020].groupby([\"code_ilot\", \"grp_rotation\"])[\"id\"].count()"
   ]
  },
  {
   "cell_type": "markdown",
   "id": "328c5f52-5659-4898-a1e4-ce5117865051",
   "metadata": {},
   "source": [
    "Par ilot et commune ? "
   ]
  },
  {
   "cell_type": "code",
   "execution_count": 119,
   "id": "8f92f269-8732-4dab-8598-e153b8c26e8e",
   "metadata": {
    "tags": []
   },
   "outputs": [
    {
     "data": {
      "text/plain": [
       "depcom  code_ilot  grp_rotation\n",
       "97101   AB01       3.0              10\n",
       "                   5.0             104\n",
       "        AB02       1.0              24\n",
       "        AB03       2.0               6\n",
       "        AB04       3.0               7\n",
       "                                  ... \n",
       "97801   BV01       2.0              84\n",
       "        BV02       1.0              71\n",
       "        BV03       3.0              48\n",
       "        BV04       5.0              97\n",
       "        BV05       1.0             101\n",
       "Name: id, Length: 14114, dtype: int64"
      ]
     },
     "execution_count": 119,
     "metadata": {},
     "output_type": "execute_result"
    }
   ],
   "source": [
    "df_gc[df_gc.millesime == 2020].groupby([\"depcom\", \"code_ilot\", \"grp_rotation\"])[\"id\"].count()"
   ]
  },
  {
   "cell_type": "markdown",
   "id": "cd7bc4e2-31d0-4a3c-89ad-5f40f2e28ecc",
   "metadata": {},
   "source": [
    "Nombre de groupes de rotations différents par commune x ilot"
   ]
  },
  {
   "cell_type": "code",
   "execution_count": 122,
   "id": "8d4339d8-dd48-4980-aa95-807ec8000407",
   "metadata": {
    "tags": []
   },
   "outputs": [],
   "source": [
    "nb_grp_rotation = df_gc[df_gc.millesime == 2020].groupby([\"depcom\", \"code_ilot\", \"grp_rotation\"])[\"id\"].count().reset_index().groupby([\"depcom\", \"code_ilot\"])[\"grp_rotation\"].count()"
   ]
  },
  {
   "cell_type": "code",
   "execution_count": 123,
   "id": "dbd466bb-e63d-40f8-8c23-a95995375508",
   "metadata": {
    "tags": []
   },
   "outputs": [
    {
     "data": {
      "image/png": "[encoded data removed]",
      "text/plain": [
       "<Figure size 640x480 with 1 Axes>"
      ]
     },
     "metadata": {},
     "output_type": "display_data"
    }
   ],
   "source": [
    "plt.hist(nb_grp_rotation)\n",
    "plt.show()"
   ]
  },
  {
   "cell_type": "code",
   "execution_count": 124,
   "id": "d47eb4d0-e50a-46fe-b791-beb145910568",
   "metadata": {
    "tags": []
   },
   "outputs": [
    {
     "data": {
      "text/plain": [
       "1    13697\n",
       "2      192\n",
       "3       11\n",
       "Name: grp_rotation, dtype: int64"
      ]
     },
     "execution_count": 124,
     "metadata": {},
     "output_type": "execute_result"
    }
   ],
   "source": [
    "nb_grp_rotation.value_counts()"
   ]
  },
  {
   "cell_type": "markdown",
   "id": "aeaa5642-64ca-42d3-aac1-d8d2fb912a71",
   "metadata": {},
   "source": [
    "On est très souvent à 1 groupe de rotation par commune x ilot"
   ]
  },
  {
   "cell_type": "code",
   "execution_count": 125,
   "id": "ddc26055-2ca0-4f74-a4a8-0e54b69d3b55",
   "metadata": {
    "tags": []
   },
   "outputs": [
    {
     "data": {
      "text/plain": [
       "2023    677500\n",
       "2022    662887\n",
       "2021    644992\n",
       "2020    578741\n",
       "Name: millesime, dtype: int64"
      ]
     },
     "execution_count": 125,
     "metadata": {},
     "output_type": "execute_result"
    }
   ],
   "source": [
    "df_gc.millesime.value_counts()"
   ]
  },
  {
   "cell_type": "code",
   "execution_count": 126,
   "id": "38907546-6a96-43d9-8054-0a4b76ac03bd",
   "metadata": {
    "tags": []
   },
   "outputs": [],
   "source": [
    "millesime_to_validity = {\n",
    "    2020: (\"2019-05\", \"2019-08\"),\n",
    "    2021: (\"2020-05\", \"2020-08\"),\n",
    "    2022: (\"2021-05\", \"2021-08\"),\n",
    "    2023: (\"2022-05\", \"2022-08\")\n",
    "}"
   ]
  },
  {
   "cell_type": "markdown",
   "id": "eb7533d7-44d1-478d-90e7-38c550a09de8",
   "metadata": {},
   "source": [
    "Il faut choisir ces dates de validité"
   ]
  },
  {
   "cell_type": "markdown",
   "id": "0f9c9094-68c8-4096-a1ec-52093808c0e2",
   "metadata": {},
   "source": [
    "## Géométrie ilots"
   ]
  },
  {
   "cell_type": "code",
   "execution_count": 127,
   "id": "64e0ee0a-b149-416f-9890-56df614aaab0",
   "metadata": {
    "tags": []
   },
   "outputs": [
    {
     "name": "stdout",
     "output_type": "stream",
     "text": [
      "Collecting pyreadr\n",
      "  Downloading pyreadr-0.4.7-cp310-cp310-manylinux_2_17_x86_64.manylinux2014_x86_64.whl (362 kB)\n",
      "\u001b[2K     \u001b[90m━━━━━━━━━━━━━━━━━━━━━━━━━━━━━━━━━━━━━━━\u001b[0m \u001b[32m363.0/363.0 kB\u001b[0m \u001b[31m7.2 MB/s\u001b[0m eta \u001b[36m0:00:00\u001b[0ma \u001b[36m0:00:01\u001b[0m\n",
      "\u001b[?25hRequirement already satisfied: pandas>=1.2.0 in /opt/mamba/lib/python3.10/site-packages (from pyreadr) (1.5.3)\n",
      "Requirement already satisfied: python-dateutil>=2.8.1 in /opt/mamba/lib/python3.10/site-packages (from pandas>=1.2.0->pyreadr) (2.8.2)\n",
      "Requirement already satisfied: pytz>=2020.1 in /opt/mamba/lib/python3.10/site-packages (from pandas>=1.2.0->pyreadr) (2022.7.1)\n",
      "Requirement already satisfied: numpy>=1.21.0 in /opt/mamba/lib/python3.10/site-packages (from pandas>=1.2.0->pyreadr) (1.23.5)\n",
      "Requirement already satisfied: six>=1.5 in /opt/mamba/lib/python3.10/site-packages (from python-dateutil>=2.8.1->pandas>=1.2.0->pyreadr) (1.16.0)\n",
      "Installing collected packages: pyreadr\n",
      "Successfully installed pyreadr-0.4.7\n"
     ]
    }
   ],
   "source": [
    "!pip install pyreadr"
   ]
  },
  {
   "cell_type": "code",
   "execution_count": 133,
   "id": "f0d42f87-7cf4-4a4c-8d41-d9090d085239",
   "metadata": {
    "tags": []
   },
   "outputs": [],
   "source": [
    "import pyreadr\n",
    "\n",
    "fs.get('projet-slums-detection/Donnees/RIL/rca_geometry_ilots.rds', 'rca_geometry_ilots.rds')\n",
    "result = pyreadr.read_r('rca_geometry_ilots.rds')"
   ]
  },
  {
   "cell_type": "code",
   "execution_count": 134,
   "id": "b4513d6d-ab75-4d92-a277-8fb2bee7b565",
   "metadata": {
    "tags": []
   },
   "outputs": [
    {
     "data": {
      "text/plain": [
       "odict_keys([None])"
      ]
     },
     "execution_count": 134,
     "metadata": {},
     "output_type": "execute_result"
    }
   ],
   "source": [
    "result.keys()"
   ]
  },
  {
   "cell_type": "code",
   "execution_count": 135,
   "id": "6646c887-94f8-4afe-b4e6-834a5ce37e6d",
   "metadata": {
    "tags": []
   },
   "outputs": [],
   "source": [
    "df_geom = result[None] "
   ]
  },
  {
   "cell_type": "code",
   "execution_count": 137,
   "id": "d2c7285b-a64a-46f0-aef3-99643480e109",
   "metadata": {
    "tags": []
   },
   "outputs": [
    {
     "data": {
      "text/plain": [
       "pandas.core.frame.DataFrame"
      ]
     },
     "execution_count": 137,
     "metadata": {},
     "output_type": "execute_result"
    }
   ],
   "source": [
    "type(df_geom)"
   ]
  },
  {
   "cell_type": "code",
   "execution_count": 138,
   "id": "28a87cab-fc26-4636-9442-2aec37a3cf4d",
   "metadata": {
    "tags": []
   },
   "outputs": [
    {
     "name": "stdout",
     "output_type": "stream",
     "text": [
      "<class 'pandas.core.frame.DataFrame'>\n",
      "RangeIndex: 20266 entries, 0 to 20265\n",
      "Data columns (total 5 columns):\n",
      " #   Column     Non-Null Count  Dtype \n",
      "---  ------     --------------  ----- \n",
      " 0   depcom     20266 non-null  object\n",
      " 1   gr         20266 non-null  object\n",
      " 2   code_ilot  20266 non-null  object\n",
      " 3   wkt        20266 non-null  object\n",
      " 4   srid       20266 non-null  int32 \n",
      "dtypes: int32(1), object(4)\n",
      "memory usage: 712.6+ KB\n"
     ]
    }
   ],
   "source": [
    "df_geom.info()"
   ]
  },
  {
   "cell_type": "code",
   "execution_count": 139,
   "id": "93d8264c-8964-4b6c-87ee-d1d502b0d1d4",
   "metadata": {
    "tags": []
   },
   "outputs": [
    {
     "data": {
      "text/html": [
       "<div>\n",
       "<style scoped>\n",
       "    .dataframe tbody tr th:only-of-type {\n",
       "        vertical-align: middle;\n",
       "    }\n",
       "\n",
       "    .dataframe tbody tr th {\n",
       "        vertical-align: top;\n",
       "    }\n",
       "\n",
       "    .dataframe thead th {\n",
       "        text-align: right;\n",
       "    }\n",
       "</style>\n",
       "<table border=\"1\" class=\"dataframe\">\n",
       "  <thead>\n",
       "    <tr style=\"text-align: right;\">\n",
       "      <th></th>\n",
       "      <th>depcom</th>\n",
       "      <th>gr</th>\n",
       "      <th>code_ilot</th>\n",
       "      <th>wkt</th>\n",
       "      <th>srid</th>\n",
       "    </tr>\n",
       "  </thead>\n",
       "  <tbody>\n",
       "    <tr>\n",
       "      <th>0</th>\n",
       "      <td>97422</td>\n",
       "      <td>3</td>\n",
       "      <td>DL06</td>\n",
       "      <td>MULTIPOLYGON(((55.56002787 -21.22882749,55.561...</td>\n",
       "      <td>4326</td>\n",
       "    </tr>\n",
       "    <tr>\n",
       "      <th>1</th>\n",
       "      <td>97422</td>\n",
       "      <td>1</td>\n",
       "      <td>CX04</td>\n",
       "      <td>MULTIPOLYGON(((55.52972332 -21.19910885,55.529...</td>\n",
       "      <td>4326</td>\n",
       "    </tr>\n",
       "    <tr>\n",
       "      <th>2</th>\n",
       "      <td>97405</td>\n",
       "      <td>2</td>\n",
       "      <td>AB01</td>\n",
       "      <td>MULTIPOLYGON(((55.59368481 -21.2903575,55.5948...</td>\n",
       "      <td>4326</td>\n",
       "    </tr>\n",
       "    <tr>\n",
       "      <th>3</th>\n",
       "      <td>97405</td>\n",
       "      <td>4</td>\n",
       "      <td>AB02</td>\n",
       "      <td>MULTIPOLYGON(((55.58635546 -21.31395429,55.586...</td>\n",
       "      <td>4326</td>\n",
       "    </tr>\n",
       "    <tr>\n",
       "      <th>4</th>\n",
       "      <td>97418</td>\n",
       "      <td>5</td>\n",
       "      <td>AV19</td>\n",
       "      <td>MULTIPOLYGON(((55.51758202 -20.91979163,55.518...</td>\n",
       "      <td>4326</td>\n",
       "    </tr>\n",
       "  </tbody>\n",
       "</table>\n",
       "</div>"
      ],
      "text/plain": [
       "  depcom gr code_ilot                                                wkt  srid\n",
       "0  97422  3      DL06  MULTIPOLYGON(((55.56002787 -21.22882749,55.561...  4326\n",
       "1  97422  1      CX04  MULTIPOLYGON(((55.52972332 -21.19910885,55.529...  4326\n",
       "2  97405  2      AB01  MULTIPOLYGON(((55.59368481 -21.2903575,55.5948...  4326\n",
       "3  97405  4      AB02  MULTIPOLYGON(((55.58635546 -21.31395429,55.586...  4326\n",
       "4  97418  5      AV19  MULTIPOLYGON(((55.51758202 -20.91979163,55.518...  4326"
      ]
     },
     "execution_count": 139,
     "metadata": {},
     "output_type": "execute_result"
    }
   ],
   "source": [
    "df_geom.head()"
   ]
  },
  {
   "cell_type": "code",
   "execution_count": 141,
   "id": "e726b22e-e4af-4daf-8aab-181891b564f0",
   "metadata": {
    "tags": []
   },
   "outputs": [
    {
     "data": {
      "text/plain": [
       "974    9851\n",
       "972    4230\n",
       "971    2931\n",
       "973    2217\n",
       "976     811\n",
       "978     150\n",
       "977      76\n",
       "Name: depcom, dtype: int64"
      ]
     },
     "execution_count": 141,
     "metadata": {},
     "output_type": "execute_result"
    }
   ],
   "source": [
    "df_geom.depcom.str[:3].value_counts()"
   ]
  },
  {
   "cell_type": "code",
   "execution_count": 140,
   "id": "6b9a65d6-22fb-42f1-8452-d176066dc312",
   "metadata": {
    "tags": []
   },
   "outputs": [
    {
     "data": {
      "text/plain": [
       "4326    20266\n",
       "Name: srid, dtype: int64"
      ]
     },
     "execution_count": 140,
     "metadata": {},
     "output_type": "execute_result"
    }
   ],
   "source": [
    "df_geom.srid.value_counts()"
   ]
  },
  {
   "cell_type": "code",
   "execution_count": 147,
   "id": "d1e31b49-f4b5-4de5-9c66-606f2306aaa9",
   "metadata": {
    "tags": []
   },
   "outputs": [],
   "source": [
    "from shapely import wkt\n",
    "\n",
    "df_geom['wkt'] = df_geom['wkt'].apply(wkt.loads)"
   ]
  },
  {
   "cell_type": "code",
   "execution_count": 148,
   "id": "2fa6a4e6-8a55-415b-b93a-bfb38c56c031",
   "metadata": {
    "tags": []
   },
   "outputs": [
    {
     "data": {
      "text/html": [
       "<div>\n",
       "<style scoped>\n",
       "    .dataframe tbody tr th:only-of-type {\n",
       "        vertical-align: middle;\n",
       "    }\n",
       "\n",
       "    .dataframe tbody tr th {\n",
       "        vertical-align: top;\n",
       "    }\n",
       "\n",
       "    .dataframe thead th {\n",
       "        text-align: right;\n",
       "    }\n",
       "</style>\n",
       "<table border=\"1\" class=\"dataframe\">\n",
       "  <thead>\n",
       "    <tr style=\"text-align: right;\">\n",
       "      <th></th>\n",
       "      <th>depcom</th>\n",
       "      <th>gr</th>\n",
       "      <th>code_ilot</th>\n",
       "      <th>wkt</th>\n",
       "      <th>srid</th>\n",
       "    </tr>\n",
       "  </thead>\n",
       "  <tbody>\n",
       "    <tr>\n",
       "      <th>0</th>\n",
       "      <td>97422</td>\n",
       "      <td>3</td>\n",
       "      <td>DL06</td>\n",
       "      <td>MULTIPOLYGON (((55.56003 -21.22883, 55.56142 -...</td>\n",
       "      <td>4326</td>\n",
       "    </tr>\n",
       "    <tr>\n",
       "      <th>1</th>\n",
       "      <td>97422</td>\n",
       "      <td>1</td>\n",
       "      <td>CX04</td>\n",
       "      <td>MULTIPOLYGON (((55.52972 -21.19911, 55.52997 -...</td>\n",
       "      <td>4326</td>\n",
       "    </tr>\n",
       "    <tr>\n",
       "      <th>2</th>\n",
       "      <td>97405</td>\n",
       "      <td>2</td>\n",
       "      <td>AB01</td>\n",
       "      <td>MULTIPOLYGON (((55.59368 -21.29036, 55.59485 -...</td>\n",
       "      <td>4326</td>\n",
       "    </tr>\n",
       "    <tr>\n",
       "      <th>3</th>\n",
       "      <td>97405</td>\n",
       "      <td>4</td>\n",
       "      <td>AB02</td>\n",
       "      <td>MULTIPOLYGON (((55.58636 -21.31395, 55.58649 -...</td>\n",
       "      <td>4326</td>\n",
       "    </tr>\n",
       "    <tr>\n",
       "      <th>4</th>\n",
       "      <td>97418</td>\n",
       "      <td>5</td>\n",
       "      <td>AV19</td>\n",
       "      <td>MULTIPOLYGON (((55.51758 -20.91979, 55.51887 -...</td>\n",
       "      <td>4326</td>\n",
       "    </tr>\n",
       "    <tr>\n",
       "      <th>...</th>\n",
       "      <td>...</td>\n",
       "      <td>...</td>\n",
       "      <td>...</td>\n",
       "      <td>...</td>\n",
       "      <td>...</td>\n",
       "    </tr>\n",
       "    <tr>\n",
       "      <th>20261</th>\n",
       "      <td>97701</td>\n",
       "      <td>5</td>\n",
       "      <td>AX04</td>\n",
       "      <td>MULTIPOLYGON (((-62.80733 17.90321, -62.80724 ...</td>\n",
       "      <td>4326</td>\n",
       "    </tr>\n",
       "    <tr>\n",
       "      <th>20262</th>\n",
       "      <td>97701</td>\n",
       "      <td>5</td>\n",
       "      <td>AX05</td>\n",
       "      <td>MULTIPOLYGON (((-62.80163 17.90505, -62.80102 ...</td>\n",
       "      <td>4326</td>\n",
       "    </tr>\n",
       "    <tr>\n",
       "      <th>20263</th>\n",
       "      <td>97701</td>\n",
       "      <td>5</td>\n",
       "      <td>AX06</td>\n",
       "      <td>MULTIPOLYGON (((-62.80623 17.90211, -62.80599 ...</td>\n",
       "      <td>4326</td>\n",
       "    </tr>\n",
       "    <tr>\n",
       "      <th>20264</th>\n",
       "      <td>97701</td>\n",
       "      <td>5</td>\n",
       "      <td>AX07</td>\n",
       "      <td>MULTIPOLYGON (((-62.81270 17.90598, -62.81263 ...</td>\n",
       "      <td>4326</td>\n",
       "    </tr>\n",
       "    <tr>\n",
       "      <th>20265</th>\n",
       "      <td>97801</td>\n",
       "      <td>2</td>\n",
       "      <td>AT01</td>\n",
       "      <td>MULTIPOLYGON (((-63.03229 18.09875, -63.03253 ...</td>\n",
       "      <td>4326</td>\n",
       "    </tr>\n",
       "  </tbody>\n",
       "</table>\n",
       "<p>20266 rows × 5 columns</p>\n",
       "</div>"
      ],
      "text/plain": [
       "      depcom gr code_ilot                                                wkt  \\\n",
       "0      97422  3      DL06  MULTIPOLYGON (((55.56003 -21.22883, 55.56142 -...   \n",
       "1      97422  1      CX04  MULTIPOLYGON (((55.52972 -21.19911, 55.52997 -...   \n",
       "2      97405  2      AB01  MULTIPOLYGON (((55.59368 -21.29036, 55.59485 -...   \n",
       "3      97405  4      AB02  MULTIPOLYGON (((55.58636 -21.31395, 55.58649 -...   \n",
       "4      97418  5      AV19  MULTIPOLYGON (((55.51758 -20.91979, 55.51887 -...   \n",
       "...      ... ..       ...                                                ...   \n",
       "20261  97701  5      AX04  MULTIPOLYGON (((-62.80733 17.90321, -62.80724 ...   \n",
       "20262  97701  5      AX05  MULTIPOLYGON (((-62.80163 17.90505, -62.80102 ...   \n",
       "20263  97701  5      AX06  MULTIPOLYGON (((-62.80623 17.90211, -62.80599 ...   \n",
       "20264  97701  5      AX07  MULTIPOLYGON (((-62.81270 17.90598, -62.81263 ...   \n",
       "20265  97801  2      AT01  MULTIPOLYGON (((-63.03229 18.09875, -63.03253 ...   \n",
       "\n",
       "       srid  \n",
       "0      4326  \n",
       "1      4326  \n",
       "2      4326  \n",
       "3      4326  \n",
       "4      4326  \n",
       "...     ...  \n",
       "20261  4326  \n",
       "20262  4326  \n",
       "20263  4326  \n",
       "20264  4326  \n",
       "20265  4326  \n",
       "\n",
       "[20266 rows x 5 columns]"
      ]
     },
     "execution_count": 148,
     "metadata": {},
     "output_type": "execute_result"
    }
   ],
   "source": [
    "import geopandas as gpd\n",
    "\n",
    "gdf = gpd.GeoDataFrame(df_geom, geometry=\"wkt\", crs=\"EPSG:4326\")\n",
    "gdf"
   ]
  },
  {
   "cell_type": "code",
   "execution_count": 149,
   "id": "38abef9b-64a3-4c8b-9302-5688e49c90a1",
   "metadata": {
    "tags": []
   },
   "outputs": [
    {
     "data": {
      "text/plain": [
       "0        MULTIPOLYGON (((55.56003 -21.22883, 55.56142 -...\n",
       "1        MULTIPOLYGON (((55.52972 -21.19911, 55.52997 -...\n",
       "2        MULTIPOLYGON (((55.59368 -21.29036, 55.59485 -...\n",
       "3        MULTIPOLYGON (((55.58636 -21.31395, 55.58649 -...\n",
       "4        MULTIPOLYGON (((55.51758 -20.91979, 55.51887 -...\n",
       "                               ...                        \n",
       "20261    MULTIPOLYGON (((-62.80733 17.90321, -62.80724 ...\n",
       "20262    MULTIPOLYGON (((-62.80163 17.90505, -62.80102 ...\n",
       "20263    MULTIPOLYGON (((-62.80623 17.90211, -62.80599 ...\n",
       "20264    MULTIPOLYGON (((-62.81270 17.90598, -62.81263 ...\n",
       "20265    MULTIPOLYGON (((-63.03229 18.09875, -63.03253 ...\n",
       "Name: wkt, Length: 20266, dtype: geometry"
      ]
     },
     "execution_count": 149,
     "metadata": {},
     "output_type": "execute_result"
    }
   ],
   "source": [
    "gdf.geometry"
   ]
  },
  {
   "cell_type": "code",
   "execution_count": 151,
   "id": "c07eeb6e-4da1-4274-a0cb-69d7d47f6b04",
   "metadata": {
    "tags": []
   },
   "outputs": [
    {
     "data": {
      "text/plain": [
       "depcom  code_ilot\n",
       "97101   AB01         1\n",
       "        AB02         1\n",
       "        AB03         1\n",
       "        AB04         1\n",
       "        AB05         1\n",
       "                    ..\n",
       "97801   BV01         1\n",
       "        BV02         1\n",
       "        BV03         1\n",
       "        BV04         1\n",
       "        BV05         1\n",
       "Name: srid, Length: 20266, dtype: int64"
      ]
     },
     "execution_count": 151,
     "metadata": {},
     "output_type": "execute_result"
    }
   ],
   "source": [
    "gdf.groupby([\"depcom\", \"code_ilot\"])[\"srid\"].count()"
   ]
  },
  {
   "cell_type": "markdown",
   "id": "55e392c4-03d3-4d02-be82-9b69ac3e6952",
   "metadata": {},
   "source": [
    "On a bien que des depcom x ilot distincts"
   ]
  },
  {
   "cell_type": "markdown",
   "id": "13d105b0-6b7b-4670-a085-dffb15330e0e",
   "metadata": {},
   "source": [
    "## Save as partitionned_parquet file"
   ]
  },
  {
   "cell_type": "code",
   "execution_count": 159,
   "id": "bc796085-b01a-4213-9ca6-1b3cb5b3a999",
   "metadata": {
    "tags": []
   },
   "outputs": [
    {
     "name": "stderr",
     "output_type": "stream",
     "text": [
      "/tmp/ipykernel_383/2697064054.py:2: DtypeWarning: Columns (5,9,14,19,20,29,36,43) have mixed types. Specify dtype option on import or set low_memory=False.\n",
      "  df_pc = pd.read_csv(f, dtype={\n"
     ]
    }
   ],
   "source": [
    "with fs.open('projet-slums-detection/Donnees/RIL/ril_pc_dom.csv', 'r') as f:\n",
    "    df_pc = pd.read_csv(f, dtype={\n",
    "        \"id\": str,\n",
    "        \"depcom\": str,\n",
    "        \"ea_type\": str,\n",
    "        \"nb_log\": pd.Int64Dtype(),\n",
    "        \"hab_construction_an\": pd.Int64Dtype(),\n",
    "        \"x\": float,\n",
    "        \"y\": float,\n",
    "        \"code_epsg\": str,\n",
    "        \"code_ilot\": str,\n",
    "        \"grp_rotation\": pd.Int64Dtype(),\n",
    "        \"millesime\": pd.Int64Dtype(),\n",
    "        \"date_livraison\": object,\n",
    "        \"reperage\": str\n",
    "    })"
   ]
  },
  {
   "cell_type": "code",
   "execution_count": 160,
   "id": "80fddcf4-d39c-472e-bd66-a4542de1c950",
   "metadata": {},
   "outputs": [],
   "source": [
    "df_pc = df_pc[[\"id\", \"depcom\", \"ea_type\", \"nb_log\", \"hab_construction_an\", \"x\", \"y\", \"code_epsg\", \"code_ilot\", \"grp_rotation\", \"millesime\", \"date_livraison\", \"reperage\"]]"
   ]
  },
  {
   "cell_type": "code",
   "execution_count": 161,
   "id": "0c4a3eb6-f625-4e2f-b8d9-9e555fa976c6",
   "metadata": {
    "tags": []
   },
   "outputs": [
    {
     "data": {
      "text/html": [
       "<div>\n",
       "<style scoped>\n",
       "    .dataframe tbody tr th:only-of-type {\n",
       "        vertical-align: middle;\n",
       "    }\n",
       "\n",
       "    .dataframe tbody tr th {\n",
       "        vertical-align: top;\n",
       "    }\n",
       "\n",
       "    .dataframe thead th {\n",
       "        text-align: right;\n",
       "    }\n",
       "</style>\n",
       "<table border=\"1\" class=\"dataframe\">\n",
       "  <thead>\n",
       "    <tr style=\"text-align: right;\">\n",
       "      <th></th>\n",
       "      <th>id</th>\n",
       "      <th>depcom</th>\n",
       "      <th>ea_type</th>\n",
       "      <th>nb_log</th>\n",
       "      <th>hab_construction_an</th>\n",
       "      <th>x</th>\n",
       "      <th>y</th>\n",
       "      <th>code_epsg</th>\n",
       "      <th>code_ilot</th>\n",
       "      <th>grp_rotation</th>\n",
       "      <th>millesime</th>\n",
       "      <th>date_livraison</th>\n",
       "      <th>reperage</th>\n",
       "    </tr>\n",
       "  </thead>\n",
       "  <tbody>\n",
       "    <tr>\n",
       "      <th>0</th>\n",
       "      <td>32033149</td>\n",
       "      <td>97102</td>\n",
       "      <td>HABIT</td>\n",
       "      <td>0</td>\n",
       "      <td>1900</td>\n",
       "      <td>663634.543</td>\n",
       "      <td>1825946.61</td>\n",
       "      <td>4559</td>\n",
       "      <td>PED1</td>\n",
       "      <td>5</td>\n",
       "      <td>2023</td>\n",
       "      <td>2022-10-05 16:41:04.000</td>\n",
       "      <td>COMMERCES</td>\n",
       "    </tr>\n",
       "    <tr>\n",
       "      <th>1</th>\n",
       "      <td>32033150</td>\n",
       "      <td>97102</td>\n",
       "      <td>HABIT</td>\n",
       "      <td>1</td>\n",
       "      <td>1900</td>\n",
       "      <td>662540.599</td>\n",
       "      <td>1825264.35</td>\n",
       "      <td>4559</td>\n",
       "      <td>PED1</td>\n",
       "      <td>5</td>\n",
       "      <td>2023</td>\n",
       "      <td>2022-10-05 16:41:04.000</td>\n",
       "      <td>PORTAIL VERT / TOIT BLC</td>\n",
       "    </tr>\n",
       "    <tr>\n",
       "      <th>2</th>\n",
       "      <td>32033151</td>\n",
       "      <td>97102</td>\n",
       "      <td>HABIT</td>\n",
       "      <td>6</td>\n",
       "      <td>1900</td>\n",
       "      <td>662512.349</td>\n",
       "      <td>1825143.23</td>\n",
       "      <td>4559</td>\n",
       "      <td>PED1</td>\n",
       "      <td>5</td>\n",
       "      <td>2023</td>\n",
       "      <td>2022-10-05 16:41:04.000</td>\n",
       "      <td>ACCES CHEM GITES</td>\n",
       "    </tr>\n",
       "    <tr>\n",
       "      <th>3</th>\n",
       "      <td>32033152</td>\n",
       "      <td>97102</td>\n",
       "      <td>HABIT</td>\n",
       "      <td>1</td>\n",
       "      <td>1900</td>\n",
       "      <td>662573.224</td>\n",
       "      <td>1825054.98</td>\n",
       "      <td>4559</td>\n",
       "      <td>PED1</td>\n",
       "      <td>5</td>\n",
       "      <td>2023</td>\n",
       "      <td>2022-10-05 16:41:04.000</td>\n",
       "      <td>MAISON JAUNE /TOIT BLEU</td>\n",
       "    </tr>\n",
       "    <tr>\n",
       "      <th>4</th>\n",
       "      <td>32033153</td>\n",
       "      <td>97102</td>\n",
       "      <td>HABIT</td>\n",
       "      <td>1</td>\n",
       "      <td>1900</td>\n",
       "      <td>662645.662</td>\n",
       "      <td>1824859.98</td>\n",
       "      <td>4559</td>\n",
       "      <td>PED1</td>\n",
       "      <td>5</td>\n",
       "      <td>2023</td>\n",
       "      <td>2022-10-05 16:41:04.000</td>\n",
       "      <td>ACCES CHEM</td>\n",
       "    </tr>\n",
       "  </tbody>\n",
       "</table>\n",
       "</div>"
      ],
      "text/plain": [
       "         id depcom ea_type  nb_log  hab_construction_an           x  \\\n",
       "0  32033149  97102   HABIT       0                 1900  663634.543   \n",
       "1  32033150  97102   HABIT       1                 1900  662540.599   \n",
       "2  32033151  97102   HABIT       6                 1900  662512.349   \n",
       "3  32033152  97102   HABIT       1                 1900  662573.224   \n",
       "4  32033153  97102   HABIT       1                 1900  662645.662   \n",
       "\n",
       "            y code_epsg code_ilot  grp_rotation  millesime  \\\n",
       "0  1825946.61      4559      PED1             5       2023   \n",
       "1  1825264.35      4559      PED1             5       2023   \n",
       "2  1825143.23      4559      PED1             5       2023   \n",
       "3  1825054.98      4559      PED1             5       2023   \n",
       "4  1824859.98      4559      PED1             5       2023   \n",
       "\n",
       "            date_livraison                 reperage  \n",
       "0  2022-10-05 16:41:04.000                COMMERCES  \n",
       "1  2022-10-05 16:41:04.000  PORTAIL VERT / TOIT BLC  \n",
       "2  2022-10-05 16:41:04.000         ACCES CHEM GITES  \n",
       "3  2022-10-05 16:41:04.000  MAISON JAUNE /TOIT BLEU  \n",
       "4  2022-10-05 16:41:04.000               ACCES CHEM  "
      ]
     },
     "execution_count": 161,
     "metadata": {},
     "output_type": "execute_result"
    }
   ],
   "source": [
    "df_pc.head()"
   ]
  },
  {
   "cell_type": "code",
   "execution_count": 162,
   "id": "d8bfd850-fa23-4017-990e-4596858ee3b1",
   "metadata": {
    "tags": []
   },
   "outputs": [
    {
     "name": "stderr",
     "output_type": "stream",
     "text": [
      "/tmp/ipykernel_383/3882058059.py:2: DtypeWarning: Columns (5,9,14,19,20,29,36,39,41,42,43) have mixed types. Specify dtype option on import or set low_memory=False.\n",
      "  df_gc = pd.read_csv(f, dtype={\n"
     ]
    }
   ],
   "source": [
    "with fs.open('projet-slums-detection/Donnees/RIL/ril_gc_dom.csv', 'r') as f:\n",
    "    df_gc = pd.read_csv(f, dtype={\n",
    "        \"id\": str,\n",
    "        \"depcom\": str,\n",
    "        \"ea_type\": str,\n",
    "        \"nb_log\": pd.Int64Dtype(),\n",
    "        \"hab_construction_an\": pd.Int64Dtype(),\n",
    "        \"x\": float,\n",
    "        \"y\": float,\n",
    "        \"code_epsg\": str,\n",
    "        \"code_ilot\": str,\n",
    "        \"grp_rotation\": pd.Int64Dtype(),\n",
    "        \"millesime\": pd.Int64Dtype(),\n",
    "        \"date_livraison\": object,\n",
    "        \"reperage\": str\n",
    "    })"
   ]
  },
  {
   "cell_type": "code",
   "execution_count": 163,
   "id": "236db3f5-a703-44c9-8845-20ce6c9b20f9",
   "metadata": {
    "tags": []
   },
   "outputs": [],
   "source": [
    "df_gc = df_gc[[\"id\", \"depcom\", \"ea_type\", \"nb_log\", \"hab_construction_an\", \"x\", \"y\", \"code_epsg\", \"code_ilot\", \"grp_rotation\", \"millesime\", \"date_livraison\", \"reperage\"]]"
   ]
  },
  {
   "cell_type": "code",
   "execution_count": 165,
   "id": "1aa21e8f-dce1-4915-9fb0-da144037c88c",
   "metadata": {
    "tags": []
   },
   "outputs": [],
   "source": [
    "df_pc[\"type_com\"] = \"pc\"\n",
    "df_gc[\"type_com\"] = \"gc\""
   ]
  },
  {
   "cell_type": "code",
   "execution_count": 166,
   "id": "75ff1ddd-6dfa-4582-82f5-7bbda429e664",
   "metadata": {
    "tags": []
   },
   "outputs": [
    {
     "data": {
      "text/html": [
       "<div>\n",
       "<style scoped>\n",
       "    .dataframe tbody tr th:only-of-type {\n",
       "        vertical-align: middle;\n",
       "    }\n",
       "\n",
       "    .dataframe tbody tr th {\n",
       "        vertical-align: top;\n",
       "    }\n",
       "\n",
       "    .dataframe thead th {\n",
       "        text-align: right;\n",
       "    }\n",
       "</style>\n",
       "<table border=\"1\" class=\"dataframe\">\n",
       "  <thead>\n",
       "    <tr style=\"text-align: right;\">\n",
       "      <th></th>\n",
       "      <th>id</th>\n",
       "      <th>depcom</th>\n",
       "      <th>ea_type</th>\n",
       "      <th>nb_log</th>\n",
       "      <th>hab_construction_an</th>\n",
       "      <th>x</th>\n",
       "      <th>y</th>\n",
       "      <th>code_epsg</th>\n",
       "      <th>code_ilot</th>\n",
       "      <th>grp_rotation</th>\n",
       "      <th>millesime</th>\n",
       "      <th>date_livraison</th>\n",
       "      <th>reperage</th>\n",
       "      <th>type_com</th>\n",
       "    </tr>\n",
       "  </thead>\n",
       "  <tbody>\n",
       "    <tr>\n",
       "      <th>0</th>\n",
       "      <td>32037034</td>\n",
       "      <td>97101</td>\n",
       "      <td>HABIT</td>\n",
       "      <td>0</td>\n",
       "      <td>1900</td>\n",
       "      <td>661399.506</td>\n",
       "      <td>1802848.75</td>\n",
       "      <td>4559</td>\n",
       "      <td>AH03</td>\n",
       "      <td>5</td>\n",
       "      <td>2023</td>\n",
       "      <td>2022-10-06 14:06:15.000</td>\n",
       "      <td>CHENIL</td>\n",
       "      <td>gc</td>\n",
       "    </tr>\n",
       "    <tr>\n",
       "      <th>1</th>\n",
       "      <td>32037035</td>\n",
       "      <td>97101</td>\n",
       "      <td>HABIT</td>\n",
       "      <td>1</td>\n",
       "      <td>1900</td>\n",
       "      <td>662317.510</td>\n",
       "      <td>1802803.62</td>\n",
       "      <td>4559</td>\n",
       "      <td>AH04</td>\n",
       "      <td>4</td>\n",
       "      <td>2023</td>\n",
       "      <td>2022-10-06 14:06:15.000</td>\n",
       "      <td>EN HAUTEUR MEME ENTREE QUE 020</td>\n",
       "      <td>gc</td>\n",
       "    </tr>\n",
       "    <tr>\n",
       "      <th>2</th>\n",
       "      <td>32037036</td>\n",
       "      <td>97101</td>\n",
       "      <td>HABIT</td>\n",
       "      <td>1</td>\n",
       "      <td>1900</td>\n",
       "      <td>662318.385</td>\n",
       "      <td>1802718.25</td>\n",
       "      <td>4559</td>\n",
       "      <td>AH04</td>\n",
       "      <td>4</td>\n",
       "      <td>2023</td>\n",
       "      <td>2022-10-06 14:06:15.000</td>\n",
       "      <td>TOIT BLEU NUIT</td>\n",
       "      <td>gc</td>\n",
       "    </tr>\n",
       "    <tr>\n",
       "      <th>3</th>\n",
       "      <td>32037037</td>\n",
       "      <td>97101</td>\n",
       "      <td>HABIT</td>\n",
       "      <td>0</td>\n",
       "      <td>1900</td>\n",
       "      <td>661443.444</td>\n",
       "      <td>1802703.12</td>\n",
       "      <td>4559</td>\n",
       "      <td>AH03</td>\n",
       "      <td>5</td>\n",
       "      <td>2023</td>\n",
       "      <td>2022-10-06 14:06:15.000</td>\n",
       "      <td>ATELIZR DE COUTURE</td>\n",
       "      <td>gc</td>\n",
       "    </tr>\n",
       "    <tr>\n",
       "      <th>4</th>\n",
       "      <td>32037038</td>\n",
       "      <td>97101</td>\n",
       "      <td>HABIT</td>\n",
       "      <td>1</td>\n",
       "      <td>1900</td>\n",
       "      <td>661537.632</td>\n",
       "      <td>1802589.00</td>\n",
       "      <td>4559</td>\n",
       "      <td>AH03</td>\n",
       "      <td>5</td>\n",
       "      <td>2023</td>\n",
       "      <td>2022-10-06 14:06:15.000</td>\n",
       "      <td>NaN</td>\n",
       "      <td>gc</td>\n",
       "    </tr>\n",
       "  </tbody>\n",
       "</table>\n",
       "</div>"
      ],
      "text/plain": [
       "         id depcom ea_type  nb_log  hab_construction_an           x  \\\n",
       "0  32037034  97101   HABIT       0                 1900  661399.506   \n",
       "1  32037035  97101   HABIT       1                 1900  662317.510   \n",
       "2  32037036  97101   HABIT       1                 1900  662318.385   \n",
       "3  32037037  97101   HABIT       0                 1900  661443.444   \n",
       "4  32037038  97101   HABIT       1                 1900  661537.632   \n",
       "\n",
       "            y code_epsg code_ilot  grp_rotation  millesime  \\\n",
       "0  1802848.75      4559      AH03             5       2023   \n",
       "1  1802803.62      4559      AH04             4       2023   \n",
       "2  1802718.25      4559      AH04             4       2023   \n",
       "3  1802703.12      4559      AH03             5       2023   \n",
       "4  1802589.00      4559      AH03             5       2023   \n",
       "\n",
       "            date_livraison                        reperage type_com  \n",
       "0  2022-10-06 14:06:15.000                          CHENIL       gc  \n",
       "1  2022-10-06 14:06:15.000  EN HAUTEUR MEME ENTREE QUE 020       gc  \n",
       "2  2022-10-06 14:06:15.000                  TOIT BLEU NUIT       gc  \n",
       "3  2022-10-06 14:06:15.000              ATELIZR DE COUTURE       gc  \n",
       "4  2022-10-06 14:06:15.000                             NaN       gc  "
      ]
     },
     "execution_count": 166,
     "metadata": {},
     "output_type": "execute_result"
    }
   ],
   "source": [
    "df_ril = pd.concat([df_gc, df_pc])\n",
    "df_ril.head()"
   ]
  },
  {
   "cell_type": "code",
   "execution_count": 167,
   "id": "c32e9bcb-c050-494c-b1ed-0d8e26cd0330",
   "metadata": {
    "tags": []
   },
   "outputs": [
    {
     "data": {
      "text/plain": [
       "(2700035, 14)"
      ]
     },
     "execution_count": 167,
     "metadata": {},
     "output_type": "execute_result"
    }
   ],
   "source": [
    "df_ril.shape"
   ]
  },
  {
   "cell_type": "code",
   "execution_count": 168,
   "id": "256f4ba7-c9c3-4cda-942d-a2956c9aefae",
   "metadata": {
    "tags": []
   },
   "outputs": [
    {
     "data": {
      "text/html": [
       "<div>\n",
       "<style scoped>\n",
       "    .dataframe tbody tr th:only-of-type {\n",
       "        vertical-align: middle;\n",
       "    }\n",
       "\n",
       "    .dataframe tbody tr th {\n",
       "        vertical-align: top;\n",
       "    }\n",
       "\n",
       "    .dataframe thead th {\n",
       "        text-align: right;\n",
       "    }\n",
       "</style>\n",
       "<table border=\"1\" class=\"dataframe\">\n",
       "  <thead>\n",
       "    <tr style=\"text-align: right;\">\n",
       "      <th></th>\n",
       "      <th>id</th>\n",
       "      <th>depcom</th>\n",
       "      <th>ea_type</th>\n",
       "      <th>nb_log</th>\n",
       "      <th>hab_construction_an</th>\n",
       "      <th>x</th>\n",
       "      <th>y</th>\n",
       "      <th>code_epsg</th>\n",
       "      <th>code_ilot</th>\n",
       "      <th>grp_rotation</th>\n",
       "      <th>millesime</th>\n",
       "      <th>date_livraison</th>\n",
       "      <th>reperage</th>\n",
       "      <th>type_com</th>\n",
       "      <th>dep</th>\n",
       "    </tr>\n",
       "  </thead>\n",
       "  <tbody>\n",
       "    <tr>\n",
       "      <th>0</th>\n",
       "      <td>32037034</td>\n",
       "      <td>97101</td>\n",
       "      <td>HABIT</td>\n",
       "      <td>0</td>\n",
       "      <td>1900</td>\n",
       "      <td>661399.506</td>\n",
       "      <td>1802848.75</td>\n",
       "      <td>4559</td>\n",
       "      <td>AH03</td>\n",
       "      <td>5</td>\n",
       "      <td>2023</td>\n",
       "      <td>2022-10-06 14:06:15.000</td>\n",
       "      <td>CHENIL</td>\n",
       "      <td>gc</td>\n",
       "      <td>971</td>\n",
       "    </tr>\n",
       "    <tr>\n",
       "      <th>1</th>\n",
       "      <td>32037035</td>\n",
       "      <td>97101</td>\n",
       "      <td>HABIT</td>\n",
       "      <td>1</td>\n",
       "      <td>1900</td>\n",
       "      <td>662317.510</td>\n",
       "      <td>1802803.62</td>\n",
       "      <td>4559</td>\n",
       "      <td>AH04</td>\n",
       "      <td>4</td>\n",
       "      <td>2023</td>\n",
       "      <td>2022-10-06 14:06:15.000</td>\n",
       "      <td>EN HAUTEUR MEME ENTREE QUE 020</td>\n",
       "      <td>gc</td>\n",
       "      <td>971</td>\n",
       "    </tr>\n",
       "    <tr>\n",
       "      <th>2</th>\n",
       "      <td>32037036</td>\n",
       "      <td>97101</td>\n",
       "      <td>HABIT</td>\n",
       "      <td>1</td>\n",
       "      <td>1900</td>\n",
       "      <td>662318.385</td>\n",
       "      <td>1802718.25</td>\n",
       "      <td>4559</td>\n",
       "      <td>AH04</td>\n",
       "      <td>4</td>\n",
       "      <td>2023</td>\n",
       "      <td>2022-10-06 14:06:15.000</td>\n",
       "      <td>TOIT BLEU NUIT</td>\n",
       "      <td>gc</td>\n",
       "      <td>971</td>\n",
       "    </tr>\n",
       "    <tr>\n",
       "      <th>3</th>\n",
       "      <td>32037037</td>\n",
       "      <td>97101</td>\n",
       "      <td>HABIT</td>\n",
       "      <td>0</td>\n",
       "      <td>1900</td>\n",
       "      <td>661443.444</td>\n",
       "      <td>1802703.12</td>\n",
       "      <td>4559</td>\n",
       "      <td>AH03</td>\n",
       "      <td>5</td>\n",
       "      <td>2023</td>\n",
       "      <td>2022-10-06 14:06:15.000</td>\n",
       "      <td>ATELIZR DE COUTURE</td>\n",
       "      <td>gc</td>\n",
       "      <td>971</td>\n",
       "    </tr>\n",
       "    <tr>\n",
       "      <th>4</th>\n",
       "      <td>32037038</td>\n",
       "      <td>97101</td>\n",
       "      <td>HABIT</td>\n",
       "      <td>1</td>\n",
       "      <td>1900</td>\n",
       "      <td>661537.632</td>\n",
       "      <td>1802589.00</td>\n",
       "      <td>4559</td>\n",
       "      <td>AH03</td>\n",
       "      <td>5</td>\n",
       "      <td>2023</td>\n",
       "      <td>2022-10-06 14:06:15.000</td>\n",
       "      <td>NaN</td>\n",
       "      <td>gc</td>\n",
       "      <td>971</td>\n",
       "    </tr>\n",
       "  </tbody>\n",
       "</table>\n",
       "</div>"
      ],
      "text/plain": [
       "         id depcom ea_type  nb_log  hab_construction_an           x  \\\n",
       "0  32037034  97101   HABIT       0                 1900  661399.506   \n",
       "1  32037035  97101   HABIT       1                 1900  662317.510   \n",
       "2  32037036  97101   HABIT       1                 1900  662318.385   \n",
       "3  32037037  97101   HABIT       0                 1900  661443.444   \n",
       "4  32037038  97101   HABIT       1                 1900  661537.632   \n",
       "\n",
       "            y code_epsg code_ilot  grp_rotation  millesime  \\\n",
       "0  1802848.75      4559      AH03             5       2023   \n",
       "1  1802803.62      4559      AH04             4       2023   \n",
       "2  1802718.25      4559      AH04             4       2023   \n",
       "3  1802703.12      4559      AH03             5       2023   \n",
       "4  1802589.00      4559      AH03             5       2023   \n",
       "\n",
       "            date_livraison                        reperage type_com  dep  \n",
       "0  2022-10-06 14:06:15.000                          CHENIL       gc  971  \n",
       "1  2022-10-06 14:06:15.000  EN HAUTEUR MEME ENTREE QUE 020       gc  971  \n",
       "2  2022-10-06 14:06:15.000                  TOIT BLEU NUIT       gc  971  \n",
       "3  2022-10-06 14:06:15.000              ATELIZR DE COUTURE       gc  971  \n",
       "4  2022-10-06 14:06:15.000                             NaN       gc  971  "
      ]
     },
     "execution_count": 168,
     "metadata": {},
     "output_type": "execute_result"
    }
   ],
   "source": [
    "df_ril[\"dep\"] = df_ril[\"depcom\"].str[:3]\n",
    "df_ril.head()"
   ]
  },
  {
   "cell_type": "code",
   "execution_count": 187,
   "id": "333700d0-156c-48c7-843c-e068465fd752",
   "metadata": {
    "tags": []
   },
   "outputs": [],
   "source": [
    "import pyarrow.parquet as pq\n",
    "import pyarrow as pa\n",
    "\n",
    "def write_parquet_as_partitioned_dataset(fs, table, endpoint, bucket_name, path, partition_cols=None, compression=\"SNAPPY\"):\n",
    "    url = f\"https://{endpoint}\"\n",
    "    file_uri = f\"{bucket_name}/{path}\"\n",
    "    pq.write_to_dataset(table, root_path=file_uri, partition_cols=partition_cols, filesystem=fs, compression=compression)"
   ]
  },
  {
   "cell_type": "code",
   "execution_count": 185,
   "id": "94f3264d-82b1-4fcf-abf0-26fa7786597c",
   "metadata": {
    "tags": []
   },
   "outputs": [],
   "source": [
    "endpoint = os.environ['AWS_S3_ENDPOINT']\n",
    "bucket_name = \"projet-slums-detection\"\n",
    "path = \"Donnees/RIL/ril_data.parquet\""
   ]
  },
  {
   "cell_type": "code",
   "execution_count": 189,
   "id": "805db516-7aa9-4cec-aea9-29a5230a8069",
   "metadata": {
    "tags": []
   },
   "outputs": [],
   "source": [
    "table_ril = pa.Table.from_pandas(df_ril)"
   ]
  },
  {
   "cell_type": "code",
   "execution_count": 190,
   "id": "2c84833c-ebb9-4825-94f0-9900c7426f26",
   "metadata": {
    "tags": []
   },
   "outputs": [],
   "source": [
    "write_parquet_as_partitioned_dataset(fs, table_ril, endpoint, bucket_name, path, partition_cols=[\"dep\", \"millesime\"])"
   ]
  },
  {
   "cell_type": "markdown",
   "id": "9525ba30-ef4b-4578-b9da-da06ebd7f08a",
   "metadata": {},
   "source": [
    "## Function to get a RIL file"
   ]
  },
  {
   "cell_type": "code",
   "execution_count": 240,
   "id": "8233e76d-354e-4c7d-b186-8345275d11bb",
   "metadata": {
    "tags": []
   },
   "outputs": [],
   "source": [
    "dep_to_crs = {\n",
    "    \"971\": \"4559\",\n",
    "    \"973\": \"2972\",\n",
    "    \"972\": \"4559\",\n",
    "    \"976\": \"4471\",\n",
    "    \"974\": \"2975\",\n",
    "    \"977\": \"4559\",\n",
    "    \"978\": \"4559\"\n",
    "}"
   ]
  },
  {
   "cell_type": "code",
   "execution_count": 256,
   "id": "826eb776-401c-4e6f-9eaf-ac104a982754",
   "metadata": {},
   "outputs": [],
   "source": [
    "import sys\n",
    "sys.path.append(\"../src/\")\n",
    "from utils import get_environment, get_file_system\n",
    "from typing import Literal\n",
    "from datetime import datetime\n",
    "\n",
    "def load_ril(millesime: Literal[\"2020\", \"2021\", \"2022\", \"2023\"], dep: Literal[\"971\", \"972\", \"973\", \"974\", \"976\", \"977\", \"978\"]) -> gpd.GeoDataFrame:\n",
    "    \"\"\"\n",
    "    Load RIL for a given datetime.\n",
    "\n",
    "    Args:\n",
    "        millesime (Literal): Year.\n",
    "        dep (Literal): Departement.\n",
    "\n",
    "    Returns:\n",
    "        gpd.GeoDataFrame: RIL GeoDataFrame.\n",
    "    \"\"\"\n",
    "    environment = get_environment()\n",
    "    fs = get_file_system()\n",
    "    \n",
    "    dataset = pq.ParquetDataset(\n",
    "        os.path.join(\n",
    "            environment[\"bucket\"], environment[\"sources\"][\"RIL\"], \"dep=\" + dep, \"millesime=\" + millesime\n",
    "        ),\n",
    "        filesystem=fs\n",
    "    )\n",
    "    \n",
    "    df = dataset.read().to_pandas()\n",
    "    gdf = gpd.GeoDataFrame(\n",
    "        df,\n",
    "        geometry=gpd.points_from_xy(df.x, df.y)\n",
    "    )\n",
    "    crs = dep_to_crs[dep]\n",
    "    gdf = gdf.set_crs(\"epsg:\" + crs)\n",
    "    \n",
    "    return gdf"
   ]
  },
  {
   "cell_type": "code",
   "execution_count": 257,
   "id": "08ef02fd-11f0-452f-9dc2-88d9b8b609e6",
   "metadata": {
    "tags": []
   },
   "outputs": [],
   "source": [
    "a = load_ril(\"2020\", \"971\")"
   ]
  },
  {
   "cell_type": "code",
   "execution_count": 258,
   "id": "250aeda3-e43a-41be-bfe6-e58dbf38e16f",
   "metadata": {
    "tags": []
   },
   "outputs": [
    {
     "data": {
      "text/html": [
       "<div>\n",
       "<style scoped>\n",
       "    .dataframe tbody tr th:only-of-type {\n",
       "        vertical-align: middle;\n",
       "    }\n",
       "\n",
       "    .dataframe tbody tr th {\n",
       "        vertical-align: top;\n",
       "    }\n",
       "\n",
       "    .dataframe thead th {\n",
       "        text-align: right;\n",
       "    }\n",
       "</style>\n",
       "<table border=\"1\" class=\"dataframe\">\n",
       "  <thead>\n",
       "    <tr style=\"text-align: right;\">\n",
       "      <th></th>\n",
       "      <th>id</th>\n",
       "      <th>depcom</th>\n",
       "      <th>ea_type</th>\n",
       "      <th>nb_log</th>\n",
       "      <th>hab_construction_an</th>\n",
       "      <th>x</th>\n",
       "      <th>y</th>\n",
       "      <th>code_epsg</th>\n",
       "      <th>code_ilot</th>\n",
       "      <th>grp_rotation</th>\n",
       "      <th>date_livraison</th>\n",
       "      <th>reperage</th>\n",
       "      <th>type_com</th>\n",
       "      <th>geometry</th>\n",
       "    </tr>\n",
       "  </thead>\n",
       "  <tbody>\n",
       "    <tr>\n",
       "      <th>131072</th>\n",
       "      <td>7334975</td>\n",
       "      <td>97103</td>\n",
       "      <td>HABIT</td>\n",
       "      <td>1</td>\n",
       "      <td>1900</td>\n",
       "      <td>648366.501</td>\n",
       "      <td>1796739.98</td>\n",
       "      <td>4559</td>\n",
       "      <td>BE04</td>\n",
       "      <td>5</td>\n",
       "      <td>2019-10-09 18:19:21.000</td>\n",
       "      <td>None</td>\n",
       "      <td>gc</td>\n",
       "      <td>POINT (648366.501 1796739.980)</td>\n",
       "    </tr>\n",
       "    <tr>\n",
       "      <th>131073</th>\n",
       "      <td>7334976</td>\n",
       "      <td>97103</td>\n",
       "      <td>HABIT</td>\n",
       "      <td>0</td>\n",
       "      <td>1900</td>\n",
       "      <td>654324.903</td>\n",
       "      <td>1795684.72</td>\n",
       "      <td>4559</td>\n",
       "      <td>AM11</td>\n",
       "      <td>2</td>\n",
       "      <td>2019-10-09 18:19:21.000</td>\n",
       "      <td>CLINIQUE VETERINAIRE</td>\n",
       "      <td>gc</td>\n",
       "      <td>POINT (654324.903 1795684.720)</td>\n",
       "    </tr>\n",
       "    <tr>\n",
       "      <th>131074</th>\n",
       "      <td>7334977</td>\n",
       "      <td>97103</td>\n",
       "      <td>HABIT</td>\n",
       "      <td>1</td>\n",
       "      <td>1900</td>\n",
       "      <td>650552.826</td>\n",
       "      <td>1798771.61</td>\n",
       "      <td>4559</td>\n",
       "      <td>AC02</td>\n",
       "      <td>2</td>\n",
       "      <td>2019-10-09 18:19:21.000</td>\n",
       "      <td>None</td>\n",
       "      <td>gc</td>\n",
       "      <td>POINT (650552.826 1798771.610)</td>\n",
       "    </tr>\n",
       "    <tr>\n",
       "      <th>131075</th>\n",
       "      <td>7334978</td>\n",
       "      <td>97103</td>\n",
       "      <td>HABIT</td>\n",
       "      <td>1</td>\n",
       "      <td>1900</td>\n",
       "      <td>648539.189</td>\n",
       "      <td>1796428.48</td>\n",
       "      <td>4559</td>\n",
       "      <td>BE02</td>\n",
       "      <td>2</td>\n",
       "      <td>2019-10-09 18:19:21.000</td>\n",
       "      <td>VILLA FLAMBOYANT</td>\n",
       "      <td>gc</td>\n",
       "      <td>POINT (648539.189 1796428.480)</td>\n",
       "    </tr>\n",
       "    <tr>\n",
       "      <th>131076</th>\n",
       "      <td>7334979</td>\n",
       "      <td>97103</td>\n",
       "      <td>HABIT</td>\n",
       "      <td>1</td>\n",
       "      <td>1900</td>\n",
       "      <td>649134.942</td>\n",
       "      <td>1796785.11</td>\n",
       "      <td>4559</td>\n",
       "      <td>AY03</td>\n",
       "      <td>1</td>\n",
       "      <td>2019-10-09 18:19:21.000</td>\n",
       "      <td>None</td>\n",
       "      <td>gc</td>\n",
       "      <td>POINT (649134.942 1796785.110)</td>\n",
       "    </tr>\n",
       "    <tr>\n",
       "      <th>...</th>\n",
       "      <td>...</td>\n",
       "      <td>...</td>\n",
       "      <td>...</td>\n",
       "      <td>...</td>\n",
       "      <td>...</td>\n",
       "      <td>...</td>\n",
       "      <td>...</td>\n",
       "      <td>...</td>\n",
       "      <td>...</td>\n",
       "      <td>...</td>\n",
       "      <td>...</td>\n",
       "      <td>...</td>\n",
       "      <td>...</td>\n",
       "      <td>...</td>\n",
       "    </tr>\n",
       "    <tr>\n",
       "      <th>42424</th>\n",
       "      <td>7544246</td>\n",
       "      <td>97132</td>\n",
       "      <td>HABIT</td>\n",
       "      <td>1</td>\n",
       "      <td>1900</td>\n",
       "      <td>647154.842</td>\n",
       "      <td>1768988.10</td>\n",
       "      <td>4559</td>\n",
       "      <td>AC01</td>\n",
       "      <td>2</td>\n",
       "      <td>2019-10-17 15:24:19.000</td>\n",
       "      <td>None</td>\n",
       "      <td>pc</td>\n",
       "      <td>POINT (647154.842 1768988.100)</td>\n",
       "    </tr>\n",
       "    <tr>\n",
       "      <th>42425</th>\n",
       "      <td>7544247</td>\n",
       "      <td>97132</td>\n",
       "      <td>HABIT</td>\n",
       "      <td>1</td>\n",
       "      <td>1900</td>\n",
       "      <td>644155.326</td>\n",
       "      <td>1767148.22</td>\n",
       "      <td>4559</td>\n",
       "      <td>AV01</td>\n",
       "      <td>2</td>\n",
       "      <td>2019-10-17 15:24:19.000</td>\n",
       "      <td>TOIT VERT FONCE BARRIERE BLANCHE SUR LA ROUTE</td>\n",
       "      <td>pc</td>\n",
       "      <td>POINT (644155.326 1767148.220)</td>\n",
       "    </tr>\n",
       "    <tr>\n",
       "      <th>42426</th>\n",
       "      <td>7544248</td>\n",
       "      <td>97132</td>\n",
       "      <td>HABIT</td>\n",
       "      <td>1</td>\n",
       "      <td>1900</td>\n",
       "      <td>644296.389</td>\n",
       "      <td>1767126.72</td>\n",
       "      <td>4559</td>\n",
       "      <td>AV01</td>\n",
       "      <td>2</td>\n",
       "      <td>2019-10-17 15:24:19.000</td>\n",
       "      <td>EN ABRICOT ET BLANC</td>\n",
       "      <td>pc</td>\n",
       "      <td>POINT (644296.389 1767126.720)</td>\n",
       "    </tr>\n",
       "    <tr>\n",
       "      <th>42427</th>\n",
       "      <td>7544249</td>\n",
       "      <td>97132</td>\n",
       "      <td>HABIT</td>\n",
       "      <td>1</td>\n",
       "      <td>1900</td>\n",
       "      <td>642589.943</td>\n",
       "      <td>1765844.22</td>\n",
       "      <td>4559</td>\n",
       "      <td>AR02</td>\n",
       "      <td>2</td>\n",
       "      <td>2019-10-17 15:24:19.000</td>\n",
       "      <td>None</td>\n",
       "      <td>pc</td>\n",
       "      <td>POINT (642589.943 1765844.220)</td>\n",
       "    </tr>\n",
       "    <tr>\n",
       "      <th>42428</th>\n",
       "      <td>7544250</td>\n",
       "      <td>97132</td>\n",
       "      <td>HABIT</td>\n",
       "      <td>1</td>\n",
       "      <td>1900</td>\n",
       "      <td>645312.768</td>\n",
       "      <td>1766004.97</td>\n",
       "      <td>4559</td>\n",
       "      <td>AN02</td>\n",
       "      <td>2</td>\n",
       "      <td>2019-10-17 15:24:19.000</td>\n",
       "      <td>None</td>\n",
       "      <td>pc</td>\n",
       "      <td>POINT (645312.768 1766004.970)</td>\n",
       "    </tr>\n",
       "  </tbody>\n",
       "</table>\n",
       "<p>155580 rows × 14 columns</p>\n",
       "</div>"
      ],
      "text/plain": [
       "             id depcom ea_type  nb_log  hab_construction_an           x  \\\n",
       "131072  7334975  97103   HABIT       1                 1900  648366.501   \n",
       "131073  7334976  97103   HABIT       0                 1900  654324.903   \n",
       "131074  7334977  97103   HABIT       1                 1900  650552.826   \n",
       "131075  7334978  97103   HABIT       1                 1900  648539.189   \n",
       "131076  7334979  97103   HABIT       1                 1900  649134.942   \n",
       "...         ...    ...     ...     ...                  ...         ...   \n",
       "42424   7544246  97132   HABIT       1                 1900  647154.842   \n",
       "42425   7544247  97132   HABIT       1                 1900  644155.326   \n",
       "42426   7544248  97132   HABIT       1                 1900  644296.389   \n",
       "42427   7544249  97132   HABIT       1                 1900  642589.943   \n",
       "42428   7544250  97132   HABIT       1                 1900  645312.768   \n",
       "\n",
       "                 y code_epsg code_ilot  grp_rotation           date_livraison  \\\n",
       "131072  1796739.98      4559      BE04             5  2019-10-09 18:19:21.000   \n",
       "131073  1795684.72      4559      AM11             2  2019-10-09 18:19:21.000   \n",
       "131074  1798771.61      4559      AC02             2  2019-10-09 18:19:21.000   \n",
       "131075  1796428.48      4559      BE02             2  2019-10-09 18:19:21.000   \n",
       "131076  1796785.11      4559      AY03             1  2019-10-09 18:19:21.000   \n",
       "...            ...       ...       ...           ...                      ...   \n",
       "42424   1768988.10      4559      AC01             2  2019-10-17 15:24:19.000   \n",
       "42425   1767148.22      4559      AV01             2  2019-10-17 15:24:19.000   \n",
       "42426   1767126.72      4559      AV01             2  2019-10-17 15:24:19.000   \n",
       "42427   1765844.22      4559      AR02             2  2019-10-17 15:24:19.000   \n",
       "42428   1766004.97      4559      AN02             2  2019-10-17 15:24:19.000   \n",
       "\n",
       "                                             reperage type_com  \\\n",
       "131072                                           None       gc   \n",
       "131073                           CLINIQUE VETERINAIRE       gc   \n",
       "131074                                           None       gc   \n",
       "131075                               VILLA FLAMBOYANT       gc   \n",
       "131076                                           None       gc   \n",
       "...                                               ...      ...   \n",
       "42424                                            None       pc   \n",
       "42425   TOIT VERT FONCE BARRIERE BLANCHE SUR LA ROUTE       pc   \n",
       "42426                             EN ABRICOT ET BLANC       pc   \n",
       "42427                                            None       pc   \n",
       "42428                                            None       pc   \n",
       "\n",
       "                              geometry  \n",
       "131072  POINT (648366.501 1796739.980)  \n",
       "131073  POINT (654324.903 1795684.720)  \n",
       "131074  POINT (650552.826 1798771.610)  \n",
       "131075  POINT (648539.189 1796428.480)  \n",
       "131076  POINT (649134.942 1796785.110)  \n",
       "...                                ...  \n",
       "42424   POINT (647154.842 1768988.100)  \n",
       "42425   POINT (644155.326 1767148.220)  \n",
       "42426   POINT (644296.389 1767126.720)  \n",
       "42427   POINT (642589.943 1765844.220)  \n",
       "42428   POINT (645312.768 1766004.970)  \n",
       "\n",
       "[155580 rows x 14 columns]"
      ]
     },
     "execution_count": 258,
     "metadata": {},
     "output_type": "execute_result"
    }
   ],
   "source": [
    "a"
   ]
  },
  {
   "cell_type": "markdown",
   "id": "114ed200-ec8d-4f23-ae6a-e332744ea507",
   "metadata": {},
   "source": [
    "## Fonction pour filter les images labelisées RIL"
   ]
  },
  {
   "cell_type": "code",
   "execution_count": null,
   "id": "e9f9a66e-98ce-46c3-9c44-e4ef9474692f",
   "metadata": {},
   "outputs": [],
   "source": [
    "from typing import Union\n",
    "\n",
    "def has_non_valid_label(\n",
    "    labeled_image: Union[SegmentationLabeledSatelliteImage, DetectionLabeledSatelliteImage]\n",
    ") -> bool:\n",
    "    \"\"\"\n",
    "    Determines if image label is valid or not. \n",
    "    \n",
    "    Args:\n",
    "        labeled_image (Union[SegmentationLabeledSatelliteImage, DetectionLabeledSatelliteImage]): Labeled satellite image.\n",
    "\n",
    "    Returns:\n",
    "        bool: True if the image label is not valid, False otherwise.\n",
    "    \"\"\"\n",
    "    if labeled_image.source == \"RIL\":\n",
    "        return has_non_valid_ril_label(labeled_image)\n",
    "    else labeled_image.source == \"BDTOPO\":\n",
    "        return has_non_valid_bdtopo_label(labeled_image)\n",
    "    \n",
    "\n",
    "def has_non_valid_ril_label(\n",
    "    labeled_image: Union[SegmentationLabeledSatelliteImage, DetectionLabeledSatelliteImage]\n",
    ") -> bool:\n",
    "    \"\"\"\n",
    "    Determines if RIL image label is valid or not. \n",
    "    \n",
    "    Args:\n",
    "        labeled_image (Union[SegmentationLabeledSatelliteImage, DetectionLabeledSatelliteImage]): Labeled satellite image.\n",
    "\n",
    "    Returns:\n",
    "        bool: True if the image label is not valid, False otherwise.\n",
    "    \"\"\"\n",
    "    labeling_date = labeled_image.labeling_date\n",
    "\n",
    "\n",
    "def has_non_valid_bdtopo_label(\n",
    "    labeled_image: Union[SegmentationLabeledSatelliteImage, DetectionLabeledSatelliteImage]\n",
    ") -> bool:\n",
    "    \"\"\"\n",
    "    Determines if BDTOPO image label is valid or not. \n",
    "    \n",
    "    Args:\n",
    "        labeled_image (Union[SegmentationLabeledSatelliteImage, DetectionLabeledSatelliteImage]): Labeled satellite image.\n",
    "\n",
    "    Returns:\n",
    "        bool: True if the image label is not valid, False otherwise.\n",
    "    \"\"\"\n",
    "    return False\n"
   ]
  },
  {
   "cell_type": "markdown",
   "id": "3353750f-4d00-4cf7-8a99-57aece2c8ef0",
   "metadata": {},
   "source": [
    "## Nécessaire pour les fonctions de filtre"
   ]
  },
  {
   "cell_type": "code",
   "execution_count": 259,
   "id": "0ac92509-6f50-457b-b55e-35ab978e2967",
   "metadata": {
    "tags": []
   },
   "outputs": [],
   "source": [
    "fs.get('projet-slums-detection/Donnees/RIL/rca_geometry_ilots.rds', 'rca_geometry_ilots.rds')\n",
    "result = pyreadr.read_r('rca_geometry_ilots.rds')"
   ]
  },
  {
   "cell_type": "code",
   "execution_count": 260,
   "id": "53ce0e7f-020c-49f1-891c-408f3b29856f",
   "metadata": {
    "tags": []
   },
   "outputs": [
    {
     "data": {
      "text/plain": [
       "odict_keys([None])"
      ]
     },
     "execution_count": 260,
     "metadata": {},
     "output_type": "execute_result"
    }
   ],
   "source": [
    "result.keys()"
   ]
  },
  {
   "cell_type": "code",
   "execution_count": 261,
   "id": "c5e49738-d686-4096-a704-a7d9ca604304",
   "metadata": {
    "tags": []
   },
   "outputs": [],
   "source": [
    "df_geom = result[None] "
   ]
  },
  {
   "cell_type": "code",
   "execution_count": 262,
   "id": "f7ec6062-c0a9-41d9-b35a-7dcb8585a535",
   "metadata": {
    "tags": []
   },
   "outputs": [
    {
     "data": {
      "text/plain": [
       "pandas.core.frame.DataFrame"
      ]
     },
     "execution_count": 262,
     "metadata": {},
     "output_type": "execute_result"
    }
   ],
   "source": [
    "type(df_geom)"
   ]
  },
  {
   "cell_type": "code",
   "execution_count": 263,
   "id": "9dac509e-ba70-4158-bfca-af40b0c6a4a9",
   "metadata": {
    "tags": []
   },
   "outputs": [
    {
     "data": {
      "text/html": [
       "<div>\n",
       "<style scoped>\n",
       "    .dataframe tbody tr th:only-of-type {\n",
       "        vertical-align: middle;\n",
       "    }\n",
       "\n",
       "    .dataframe tbody tr th {\n",
       "        vertical-align: top;\n",
       "    }\n",
       "\n",
       "    .dataframe thead th {\n",
       "        text-align: right;\n",
       "    }\n",
       "</style>\n",
       "<table border=\"1\" class=\"dataframe\">\n",
       "  <thead>\n",
       "    <tr style=\"text-align: right;\">\n",
       "      <th></th>\n",
       "      <th>depcom</th>\n",
       "      <th>gr</th>\n",
       "      <th>code_ilot</th>\n",
       "      <th>wkt</th>\n",
       "      <th>srid</th>\n",
       "    </tr>\n",
       "  </thead>\n",
       "  <tbody>\n",
       "    <tr>\n",
       "      <th>0</th>\n",
       "      <td>97422</td>\n",
       "      <td>3</td>\n",
       "      <td>DL06</td>\n",
       "      <td>MULTIPOLYGON (((55.56003 -21.22883, 55.56142 -...</td>\n",
       "      <td>4326</td>\n",
       "    </tr>\n",
       "    <tr>\n",
       "      <th>1</th>\n",
       "      <td>97422</td>\n",
       "      <td>1</td>\n",
       "      <td>CX04</td>\n",
       "      <td>MULTIPOLYGON (((55.52972 -21.19911, 55.52997 -...</td>\n",
       "      <td>4326</td>\n",
       "    </tr>\n",
       "    <tr>\n",
       "      <th>2</th>\n",
       "      <td>97405</td>\n",
       "      <td>2</td>\n",
       "      <td>AB01</td>\n",
       "      <td>MULTIPOLYGON (((55.59368 -21.29036, 55.59485 -...</td>\n",
       "      <td>4326</td>\n",
       "    </tr>\n",
       "    <tr>\n",
       "      <th>3</th>\n",
       "      <td>97405</td>\n",
       "      <td>4</td>\n",
       "      <td>AB02</td>\n",
       "      <td>MULTIPOLYGON (((55.58636 -21.31395, 55.58649 -...</td>\n",
       "      <td>4326</td>\n",
       "    </tr>\n",
       "    <tr>\n",
       "      <th>4</th>\n",
       "      <td>97418</td>\n",
       "      <td>5</td>\n",
       "      <td>AV19</td>\n",
       "      <td>MULTIPOLYGON (((55.51758 -20.91979, 55.51887 -...</td>\n",
       "      <td>4326</td>\n",
       "    </tr>\n",
       "    <tr>\n",
       "      <th>...</th>\n",
       "      <td>...</td>\n",
       "      <td>...</td>\n",
       "      <td>...</td>\n",
       "      <td>...</td>\n",
       "      <td>...</td>\n",
       "    </tr>\n",
       "    <tr>\n",
       "      <th>20261</th>\n",
       "      <td>97701</td>\n",
       "      <td>5</td>\n",
       "      <td>AX04</td>\n",
       "      <td>MULTIPOLYGON (((-62.80733 17.90321, -62.80724 ...</td>\n",
       "      <td>4326</td>\n",
       "    </tr>\n",
       "    <tr>\n",
       "      <th>20262</th>\n",
       "      <td>97701</td>\n",
       "      <td>5</td>\n",
       "      <td>AX05</td>\n",
       "      <td>MULTIPOLYGON (((-62.80163 17.90505, -62.80102 ...</td>\n",
       "      <td>4326</td>\n",
       "    </tr>\n",
       "    <tr>\n",
       "      <th>20263</th>\n",
       "      <td>97701</td>\n",
       "      <td>5</td>\n",
       "      <td>AX06</td>\n",
       "      <td>MULTIPOLYGON (((-62.80623 17.90211, -62.80599 ...</td>\n",
       "      <td>4326</td>\n",
       "    </tr>\n",
       "    <tr>\n",
       "      <th>20264</th>\n",
       "      <td>97701</td>\n",
       "      <td>5</td>\n",
       "      <td>AX07</td>\n",
       "      <td>MULTIPOLYGON (((-62.81270 17.90598, -62.81263 ...</td>\n",
       "      <td>4326</td>\n",
       "    </tr>\n",
       "    <tr>\n",
       "      <th>20265</th>\n",
       "      <td>97801</td>\n",
       "      <td>2</td>\n",
       "      <td>AT01</td>\n",
       "      <td>MULTIPOLYGON (((-63.03229 18.09875, -63.03253 ...</td>\n",
       "      <td>4326</td>\n",
       "    </tr>\n",
       "  </tbody>\n",
       "</table>\n",
       "<p>20266 rows × 5 columns</p>\n",
       "</div>"
      ],
      "text/plain": [
       "      depcom gr code_ilot                                                wkt  \\\n",
       "0      97422  3      DL06  MULTIPOLYGON (((55.56003 -21.22883, 55.56142 -...   \n",
       "1      97422  1      CX04  MULTIPOLYGON (((55.52972 -21.19911, 55.52997 -...   \n",
       "2      97405  2      AB01  MULTIPOLYGON (((55.59368 -21.29036, 55.59485 -...   \n",
       "3      97405  4      AB02  MULTIPOLYGON (((55.58636 -21.31395, 55.58649 -...   \n",
       "4      97418  5      AV19  MULTIPOLYGON (((55.51758 -20.91979, 55.51887 -...   \n",
       "...      ... ..       ...                                                ...   \n",
       "20261  97701  5      AX04  MULTIPOLYGON (((-62.80733 17.90321, -62.80724 ...   \n",
       "20262  97701  5      AX05  MULTIPOLYGON (((-62.80163 17.90505, -62.80102 ...   \n",
       "20263  97701  5      AX06  MULTIPOLYGON (((-62.80623 17.90211, -62.80599 ...   \n",
       "20264  97701  5      AX07  MULTIPOLYGON (((-62.81270 17.90598, -62.81263 ...   \n",
       "20265  97801  2      AT01  MULTIPOLYGON (((-63.03229 18.09875, -63.03253 ...   \n",
       "\n",
       "       srid  \n",
       "0      4326  \n",
       "1      4326  \n",
       "2      4326  \n",
       "3      4326  \n",
       "4      4326  \n",
       "...     ...  \n",
       "20261  4326  \n",
       "20262  4326  \n",
       "20263  4326  \n",
       "20264  4326  \n",
       "20265  4326  \n",
       "\n",
       "[20266 rows x 5 columns]"
      ]
     },
     "execution_count": 263,
     "metadata": {},
     "output_type": "execute_result"
    }
   ],
   "source": [
    "df_geom['wkt'] = df_geom['wkt'].apply(wkt.loads)\n",
    "gdf = gpd.GeoDataFrame(df_geom, geometry=\"wkt\", crs=\"EPSG:4326\")\n",
    "gdf"
   ]
  },
  {
   "cell_type": "code",
   "execution_count": 278,
   "id": "12827391-c109-48d7-b465-c64210973de1",
   "metadata": {
    "tags": []
   },
   "outputs": [
    {
     "data": {
      "text/html": [
       "<div>\n",
       "<style scoped>\n",
       "    .dataframe tbody tr th:only-of-type {\n",
       "        vertical-align: middle;\n",
       "    }\n",
       "\n",
       "    .dataframe tbody tr th {\n",
       "        vertical-align: top;\n",
       "    }\n",
       "\n",
       "    .dataframe thead th {\n",
       "        text-align: right;\n",
       "    }\n",
       "</style>\n",
       "<table border=\"1\" class=\"dataframe\">\n",
       "  <thead>\n",
       "    <tr style=\"text-align: right;\">\n",
       "      <th></th>\n",
       "      <th>wkt</th>\n",
       "      <th>depcom</th>\n",
       "      <th>code_ilot</th>\n",
       "      <th>srid</th>\n",
       "    </tr>\n",
       "    <tr>\n",
       "      <th>gr</th>\n",
       "      <th></th>\n",
       "      <th></th>\n",
       "      <th></th>\n",
       "      <th></th>\n",
       "    </tr>\n",
       "  </thead>\n",
       "  <tbody>\n",
       "    <tr>\n",
       "      <th>2</th>\n",
       "      <td>POLYGON ((-63.03229 18.09875, -63.03253 18.098...</td>\n",
       "      <td>97801</td>\n",
       "      <td>AT01</td>\n",
       "      <td>4326</td>\n",
       "    </tr>\n",
       "    <tr>\n",
       "      <th>5</th>\n",
       "      <td>POLYGON ((-62.80599 17.90204, -62.80576 17.901...</td>\n",
       "      <td>97701</td>\n",
       "      <td>AX06</td>\n",
       "      <td>4326</td>\n",
       "    </tr>\n",
       "  </tbody>\n",
       "</table>\n",
       "</div>"
      ],
      "text/plain": [
       "                                                  wkt depcom code_ilot  srid\n",
       "gr                                                                          \n",
       "2   POLYGON ((-63.03229 18.09875, -63.03253 18.098...  97801      AT01  4326\n",
       "5   POLYGON ((-62.80599 17.90204, -62.80576 17.901...  97701      AX06  4326"
      ]
     },
     "execution_count": 278,
     "metadata": {},
     "output_type": "execute_result"
    }
   ],
   "source": [
    "gdf.iloc[-3:, :].dissolve(by=\"gr\")"
   ]
  },
  {
   "cell_type": "markdown",
   "id": "e162c263-077c-461f-a826-cf5c68757f00",
   "metadata": {},
   "source": [
    "Warning, les ilots changent en Guyane, là on a des ilots statiques"
   ]
  },
  {
   "cell_type": "code",
   "execution_count": 280,
   "id": "9fa14bf4-752a-4ed3-b6cc-4dee75257190",
   "metadata": {
    "tags": []
   },
   "outputs": [
    {
     "data": {
      "image/svg+xml": [
       "<svg xmlns=\"http://www.w3.org/2000/svg\" xmlns:xlink=\"http://www.w3.org/1999/xlink\" width=\"100.0\" height=\"100.0\" viewBox=\"-62.80824674557372 17.89774014203228 0.006746056402143097 0.004615739436140132\" preserveAspectRatio=\"xMinYMin meet\"><g transform=\"matrix(1,0,0,-1,0,35.8000960235007)\"><g><path fill-rule=\"evenodd\" fill=\"#66cc99\" stroke=\"#555555\" stroke-width=\"0.00013492112804286194\" opacity=\"0.6\" d=\"M -62.8062314819726,17.9021060275276 L -62.8059913937188,17.9020436469942 L -62.8057581159617,17.9019586760952 L -62.8055552118807,17.9018872933816 L -62.8052844828393,17.9017864666955 L -62.8050644883318,17.9016958590392 L -62.8049733694387,17.9016539635637 L -62.8048551757133,17.901549899521 L -62.8045881512954,17.9012999362634 L -62.8044664028089,17.9012094265366 L -62.8040206112449,17.9009412053559 L -62.8039760915409,17.9009140442888 L -62.8037057170922,17.9007612429799 L -62.8035196816496,17.9006446814294 L -62.8033811287014,17.9005439854742 L -62.8032254966277,17.9004138962294 L -62.8030159955242,17.9001741575489 L -62.8028571574257,17.9000090396203 L -62.8027725842371,17.8999185664816 L -62.8026950668178,17.8998506973258 L -62.8026611610962,17.8998303257769 L -62.802624008826,17.8998110807739 L -62.8025850801469,17.8997974831794 L -62.8025293336375,17.8997849983617 L -62.8024821329372,17.8997815609463 L -62.8024378675058,17.8997916846192 L -62.8024074658765,17.8998040820412 L -62.8023770242009,17.8998526344065 L -62.8022820685971,17.9000796365065 L -62.8022513242986,17.9001349676028 L -62.8022008168293,17.9001868890836 L -62.802136450505,17.9002320174048 L -62.8020212991084,17.9003132490482 L -62.8019805575642,17.9003380641621 L -62.8019265484933,17.9003549568649 L -62.8018994020845,17.9003583187714 L -62.8018250836977,17.9003322567314 L -62.801787655213,17.9002960636387 L -62.8017505431124,17.9002406635247 L -62.8017609481925,17.9001694939918 L -62.8017886943871,17.8993605543898 L -62.8018327977196,17.8992306672948 L -62.8019515853725,17.8990624415017 L -62.8017819098275,17.8988283912171 L -62.8028366548239,17.8980046764547 L -62.802844046673,17.8979899959731 L -62.8079968916329,17.9002446649241 L -62.8069222532408,17.9014672225689 L -62.8069257826053,17.9014773946607 L -62.8069030530135,17.901488670549 L -62.8066483068201,17.9016127004535 L -62.8064652577403,17.9017322819448 L -62.8063568537903,17.9018496778463 L -62.8063027514397,17.9019524397642 L -62.8062314819726,17.9021060275276 z\" /></g></g></svg>"
      ],
      "text/plain": [
       "<MULTIPOLYGON (((-62.806 17.902, -62.806 17.902, -62.806 17.902, -62.806 17....>"
      ]
     },
     "execution_count": 280,
     "metadata": {},
     "output_type": "execute_result"
    }
   ],
   "source": [
    "gdf.wkt.iloc[-3]"
   ]
  },
  {
   "cell_type": "code",
   "execution_count": 281,
   "id": "580ed13f-78a9-4b44-8eed-d85049898464",
   "metadata": {
    "tags": []
   },
   "outputs": [
    {
     "data": {
      "image/svg+xml": [
       "<svg xmlns=\"http://www.w3.org/2000/svg\" xmlns:xlink=\"http://www.w3.org/1999/xlink\" width=\"100.0\" height=\"100.0\" viewBox=\"-62.813047780360826 17.899710935373577 0.007078463710847416 0.0065456627886462115\" preserveAspectRatio=\"xMinYMin meet\"><g transform=\"matrix(1,0,0,-1,0,35.8059675335358)\"><g><path fill-rule=\"evenodd\" fill=\"#66cc99\" stroke=\"#555555\" stroke-width=\"0.00014156927421694833\" opacity=\"0.6\" d=\"M -62.8126995350745,17.9059786832115 L -62.8126287092798,17.9059944328396 L -62.8125744317355,17.9059853418283 L -62.8125101442733,17.9059559039801 L -62.8123851395796,17.9058687855811 L -62.8113741984375,17.9051639160368 L -62.8111103462146,17.9049693270903 L -62.8109584670486,17.9049081680886 L -62.8107184140816,17.9048073787206 L -62.8103058337513,17.9046420199111 L -62.8099437089116,17.9044733199779 L -62.8098222204474,17.9044110599246 L -62.8097272876738,17.9043465660724 L -62.8097119578799,17.9043352526522 L -62.8096765825527,17.9043081018238 L -62.8095819738664,17.904216491979 L -62.8094605436298,17.9040999992797 L -62.8094063296011,17.9040321556 L -62.8093524529088,17.9039247677196 L -62.8092815222516,17.9037631306341 L -62.8092774038473,17.9037518281653 L -62.8092544551824,17.90369192398 L -62.8092109143388,17.9032998256612 L -62.8091942943825,17.9031156448977 L -62.8091772585772,17.9030444480627 L -62.8091637184667,17.9030150588592 L -62.8091301402763,17.9029630531379 L -62.8090962392654,17.9029370334924 L -62.8090623310092,17.9029177928944 L -62.8090183819595,17.9029075811861 L -62.8089879971788,17.9029041618401 L -62.8089540611133,17.9029109075944 L -62.8089088980544,17.9029323302852 L -62.8084667249269,17.9031307481081 L -62.8083820187713,17.9031600406625 L -62.8082433214472,17.9031892799956 L -62.8079423604635,17.9032138398122 L -62.8078857115806,17.903216043593 L -62.8075292951562,17.9032303794363 L -62.8073873913085,17.9032234600018 L -62.8073292806716,17.903213233898 L -62.8072655839335,17.9031849247529 L -62.8070862951771,17.9031000088905 L -62.8069848696998,17.903038896801 L -62.80694096965,17.9029834909417 L -62.8068938450531,17.9029088745373 L -62.8068735477015,17.9028534920776 L -62.8068500539289,17.9027529127113 L -62.8068330190943,17.9026817156778 L -62.8068060094452,17.9025585359491 L -62.8067489371351,17.902407080287 L -62.8067115451564,17.9023358630288 L -62.806647607674,17.9022578403359 L -62.8065865960694,17.9022024173965 L -62.8064951717189,17.9021695610735 L -62.8063361875769,17.902134377815 L -62.8062314819726,17.9021060275276 L -62.8063027514397,17.9019524397642 L -62.8063568537903,17.9018496778463 L -62.8064652577403,17.9017322819448 L -62.8066483068201,17.9016127004535 L -62.8069030530135,17.901488670549 L -62.8069257826053,17.9014773946607 L -62.8069222532408,17.9014672225689 L -62.8079968916329,17.9002446649241 L -62.8080346698906,17.9002311440578 L -62.8087365253974,17.8999731006962 L -62.8093804317075,17.9012097812719 L -62.8096510468186,17.9011422554663 L -62.8096826126393,17.901144546018 L -62.809753677572,17.9011796406382 L -62.8098453537148,17.901253170052 L -62.8100027074381,17.9014340986847 L -62.8100318890107,17.9014589837255 L -62.8100631430235,17.9014770917225 L -62.8100893947479,17.9014827665542 L -62.8101079816862,17.9014827846872 L -62.8101209690519,17.9014771481382 L -62.8102446962865,17.9013744530185 L -62.8103627625615,17.9013237251116 L -62.8104022594308,17.9013587887395 L -62.8105699602883,17.9015205196532 L -62.8106539529509,17.9016064694906 L -62.8107432790256,17.9016709574481 L -62.810803708881,17.9017195994698 L -62.8109820303767,17.9018824701948 L -62.8110135688217,17.9019107469087 L -62.8110268368619,17.9019186686955 L -62.8110398182481,17.9019186812978 L -62.8110610641058,17.9019153123904 L -62.8110820221092,17.9019051641396 L -62.8111029872876,17.9018882368315 L -62.8112028382368,17.9017651807472 L -62.8112158363487,17.9017493755427 L -62.8112500755095,17.9017347207789 L -62.8113158758318,17.901726875667 L -62.8113854996098,17.9017303326743 L -62.8114520727836,17.90182869357 L -62.8114858545547,17.9019676970591 L -62.8116547959678,17.9023531372806 L -62.8117472536874,17.9025260927949 L -62.8117795987951,17.902628939842 L -62.8118066190463,17.9027453398576 L -62.8118505074538,17.9028131729011 L -62.8120093659452,17.9029692448078 L -62.8121714748413,17.9031208003472 L -62.8122348249962,17.9031988206751 L -62.8122660569493,17.9032383953256 L -62.812374102609,17.903458818998 L -62.8125801303035,17.9039312920818 L -62.8126678157741,17.9041550855057 L -62.8127319164053,17.9043619085438 L -62.8127856150382,17.9046410315307 L -62.8127812753767,17.9054025417853 L -62.8127753295678,17.9054454701117 L -62.8126995350745,17.9059786832115 z\" /></g></g></svg>"
      ],
      "text/plain": [
       "<MULTIPOLYGON (((-62.813 17.906, -62.813 17.906, -62.813 17.906, -62.813 17....>"
      ]
     },
     "execution_count": 281,
     "metadata": {},
     "output_type": "execute_result"
    }
   ],
   "source": [
    "gdf.wkt.iloc[-2]"
   ]
  },
  {
   "cell_type": "code",
   "execution_count": 282,
   "id": "231a4c26-dd6a-409f-a0bc-82e7a5ca5953",
   "metadata": {
    "tags": []
   },
   "outputs": [
    {
     "data": {
      "image/svg+xml": [
       "<svg xmlns=\"http://www.w3.org/2000/svg\" xmlns:xlink=\"http://www.w3.org/1999/xlink\" width=\"100.0\" height=\"100.0\" viewBox=\"-63.05495142618015 18.094837802757752 0.03923696069140448 0.031051425472295335\" preserveAspectRatio=\"xMinYMin meet\"><g transform=\"matrix(1,0,0,-1,0,36.2207270309878)\"><g><path fill-rule=\"evenodd\" fill=\"#66cc99\" stroke=\"#555555\" stroke-width=\"0.0007847392138280896\" opacity=\"0.6\" d=\"M -63.0322885229265,18.098747398445 L -63.0325271574462,18.0986558424444 L -63.0330017839915,18.0985608564245 L -63.034054384709,18.0982318940733 L -63.0348187311893,18.098005792393 L -63.0352841848156,18.0978418830292 L -63.0355334501544,18.0977537108361 L -63.0361890900302,18.0974756517267 L -63.0365806747055,18.097182952918 L -63.0366054810262,18.0971648709951 L -63.0366828565918,18.0971253123824 L -63.0373036171931,18.0967387928075 L -63.0377174047457,18.0967014280602 L -63.0377487111579,18.0966946429784 L -63.0382318946991,18.0965985125775 L -63.0389657915052,18.0963023512611 L -63.0391113997676,18.0962910235241 L -63.0392331024828,18.0963621778431 L -63.0394579244858,18.0966106936972 L -63.0397657606555,18.0969394098247 L -63.0399040046248,18.0970128199546 L -63.0400026625583,18.0970500837703 L -63.0404994974059,18.0972375311696 L -63.0404702875492,18.0973708567599 L -63.0404638334767,18.0975617986906 L -63.0405179261585,18.0977448191236 L -63.0430645735337,18.1004196944038 L -63.0435587158996,18.1016126790732 L -63.0442039505885,18.1022373256235 L -63.0446725993103,18.1030167970198 L -63.0448835301421,18.1031670147766 L -63.0451077052061,18.1031308080474 L -63.0455267949688,18.1029860919073 L -63.0460655341344,18.102941900745 L -63.04636297438,18.10296103647 L -63.0463957607841,18.1029632882326 L -63.0465809509309,18.1029429067217 L -63.0467525544252,18.1029236581535 L -63.0478258865176,18.1027991140971 L -63.048057458235,18.1028126144117 L -63.0482128236483,18.1028204843955 L -63.0482462010931,18.1028238655209 L -63.0483628740112,18.1028340047135 L -63.0489344241,18.1028847026159 L -63.0498631554222,18.1032234121762 L -63.0502527864936,18.1033656689652 L -63.0503151156569,18.1033882492091 L -63.0508167214607,18.1036321598512 L -63.0516950833643,18.1044182845036 L -63.0517069011497,18.1044284497586 L -63.051788439558,18.1044837892921 L -63.0522472422031,18.1047966269865 L -63.0524171347818,18.1049796124946 L -63.0525592537142,18.1051321001527 L -63.052761626653,18.105277792271 L -63.0528987227696,18.1054235020988 L -63.0529758409415,18.10551047743 L -63.0527709485689,18.1058302740459 L -63.0526065485264,18.1062404453663 L -63.0525469542253,18.1064788546353 L -63.0525442992317,18.106490153606 L -63.0525000406508,18.1066494709466 L -63.0523702151551,18.1071172536697 L -63.0523622712568,18.1072223295174 L -63.0523499138396,18.1073850276169 L -63.0524590360246,18.1078177207566 L -63.0525568761544,18.1080549572522 L -63.0525369323659,18.1085306187979 L -63.0525336865871,18.1085419179272 L -63.0523259696394,18.1093113848603 L -63.0522622379603,18.1095475354441 L -63.0525322137214,18.1095463322188 L -63.0531215023192,18.1095732864732 L -63.0530860960142,18.1097032260262 L -63.0530503922374,18.1098263867072 L -63.0530152761106,18.1099393787999 L -63.0530014051759,18.1099789264652 L -63.0528718451506,18.110350674236 L -63.0528855197727,18.1106410353097 L -63.0529960454237,18.1108183873455 L -63.0531821837409,18.1109787710995 L -63.053324879802,18.111067987775 L -63.0534298172103,18.1113221691395 L -63.0534821950906,18.1116362457104 L -63.0534982054138,18.1118328306548 L -63.0533154463832,18.1121062987259 L -63.0530275081917,18.1123063570294 L -63.052798667399,18.1125775776277 L -63.0526427989637,18.1128928411604 L -63.0525929515304,18.1131357669187 L -63.0526417561648,18.1133571990781 L -63.0527118523344,18.1136577130669 L -63.0527122721149,18.1140734881242 L -63.0527699411297,18.1143028265701 L -63.0528089761911,18.1144496929663 L -63.0527779954306,18.1145660733026 L -63.0527257565518,18.1147152243395 L -63.0527402816032,18.1148858237471 L -63.0527562748259,18.1150270473324 L -63.0528026923698,18.1151660029313 L -63.0528990116138,18.1152416746968 L -63.0528925585281,18.1153930728397 L -63.052938112179,18.1156054671739 L -63.0529319915066,18.1158800159944 L -63.0528691197052,18.116033689266 L -63.0527773205814,18.1162574195024 L -63.0526698962808,18.1165839679039 L -63.0526307686811,18.1171172552854 L -63.0525821235415,18.1174336191331 L -63.0524658286545,18.1177341838669 L -63.052383775427,18.1179556515787 L -63.0523406840071,18.118076554391 L -63.0523309511444,18.118127399086 L -63.0523743937434,18.1181940468573 L -63.0523454784545,18.1183059072266 L -63.0521995819317,18.1183997221511 L -63.0518253655647,18.1185602580993 L -63.0516440123369,18.1186235769082 L -63.0515367962582,18.1186642792605 L -63.051459980957,18.1186202366869 L -63.0513636799167,18.1186112238015 L -63.0511909109548,18.1187366801763 L -63.0509522410393,18.1187661188576 L -63.0508021511688,18.1186633445771 L -63.0506172215659,18.118618200325 L -63.0505197409376,18.1186159662674 L -63.0504698103078,18.1185843443023 L -63.0503061601935,18.1185776081678 L -63.0502399906904,18.1185731061428 L -63.0501463534274,18.1185821691271 L -63.0500961403339,18.1185957400716 L -63.05003882462,18.1185629900916 L -63.0500367427412,18.1185132784057 L -63.0501008348196,18.1184838863408 L -63.0501194369042,18.1184567657417 L -63.0500281577112,18.1184477508816 L -63.0498884198998,18.1183890363062 L -63.0498092573177,18.118399225201 L -63.0497280307995,18.1184229724762 L -63.0496789811293,18.1183721430806 L -63.0497495412369,18.1182342864208 L -63.0496753577043,18.1180930776414 L -63.0496201029805,18.1180354708884 L -63.0495610209023,18.1180230580399 L -63.0495453463292,18.117956402491 L -63.0494800470703,18.1178942789862 L -63.0492951021689,18.1177903826445 L -63.0490165178044,18.1176853801483 L -63.0487769361719,18.1176187813739 L -63.0486371966258,18.1175498974729 L -63.0485228612105,18.1174821368964 L -63.0484389726834,18.1174923264186 L -63.0484333835348,18.1175770645843 L -63.0483870290041,18.1176572936986 L -63.0483190971482,18.1176878159824 L -63.0481950441169,18.1177307803483 L -63.0481090926425,18.1177590474182 L -63.0481888210945,18.1176584732037 L -63.0482762380111,18.1175884022626 L -63.048229853089,18.117557908647 L -63.0481639704534,18.1175206409549 L -63.0481184797691,18.1175195224992 L -63.0481114079498,18.1175839242035 L -63.0480942872356,18.1176279915937 L -63.0480464367762,18.1176393017682 L -63.0480003648218,18.117673207957 L -63.04795281435,18.1177014653855 L -63.04792032365,18.1177105120579 L -63.0479067288408,18.1176856593229 L -63.0479572270865,18.1176348047027 L -63.0480151101069,18.1175839482286 L -63.0480195335972,18.1175568313626 L -63.0479769940559,18.1175455437266 L -63.047843160264,18.1174676191896 L -63.0477276613945,18.1174653881913 L -63.0476990270372,18.1175343145159 L -63.0476627039007,18.1175716076808 L -63.0475870700834,18.1175219141452 L -63.0474234061555,18.117459814211 L -63.0474163033668,18.1174101037254 L -63.0474405115027,18.1173581258845 L -63.0473016688709,18.1173265249665 L -63.047132667316,18.1171864682707 L -63.046936163334,18.1169289164767 L -63.0467552859426,18.1165595081459 L -63.0466739966933,18.1163448613685 L -63.0460125572041,18.1161111469778 L -63.0456524572548,18.1160344046323 L -63.0455298840165,18.1160864055271 L -63.0454023050956,18.1162005478254 L -63.0453382307967,18.1162988575731 L -63.045282409345,18.1163271162928 L -63.0453208257492,18.1163881177367 L -63.0450839511758,18.1164988960302 L -63.0449596004895,18.1165328197985 L -63.0448574080678,18.1165825558594 L -63.0448583083371,18.1166379170075 L -63.0448039665276,18.1166774734796 L -63.0447165208571,18.1166379499692 L -63.0446438467561,18.1166063317619 L -63.0445865458545,18.1166255520333 L -63.044412295901,18.1167464834088 L -63.0441730293793,18.1167465384176 L -63.0439786224819,18.1165872777622 L -63.0438291082239,18.1163997611081 L -63.043419291756,18.1159524437208 L -63.0431435888162,18.1155254322801 L -63.0429154152348,18.1149775186929 L -63.0426051031165,18.1143369774213 L -63.0424750741178,18.1140929641601 L -63.0423849532924,18.1139766121383 L -63.0421143523193,18.1138625592526 L -63.0413593458518,18.1138627227946 L -63.0404516800956,18.1141035679966 L -63.0396642581698,18.1144505876562 L -63.0391258453175,18.1147998133338 L -63.0388178186156,18.1150834614346 L -63.0387501948932,18.1151749907804 L -63.0387254024052,18.1152665114977 L -63.038721284352,18.1153455999949 L -63.0387215978688,18.1154280770722 L -63.0387895683381,18.115569291378 L -63.0396063875374,18.1171904222272 L -63.0403703752294,18.1189381006197 L -63.0403485419218,18.1190510875344 L -63.0403810493208,18.1191120911861 L -63.0402797495924,18.1192024982653 L -63.0401982499959,18.1193313151544 L -63.040179661754,18.1194262241949 L -63.0401457273513,18.1195844065387 L -63.0400358874657,18.1197923168912 L -63.0399600624933,18.1201968093745 L -63.0399326556808,18.1204837901644 L -63.0399395138689,18.1207662445474 L -63.0398367334196,18.1208453534555 L -63.0398201686702,18.120745932439 L -63.0397726025296,18.1207143072166 L -63.0393779740335,18.1208149425622 L -63.039406065879,18.1209448664848 L -63.0394199703143,18.1210375091407 L -63.0393065455584,18.121073686662 L -63.0393496587784,18.1210070182916 L -63.0389098526949,18.1211946582849 L -63.0387066557004,18.1213630428758 L -63.0385972265277,18.122109877908 L -63.0385527344476,18.1226273457679 L -63.0385037387015,18.1228137763629 L -63.0384523695263,18.1229538846744 L -63.0385439446403,18.1229572558385 L -63.0385906289254,18.1230069587004 L -63.0384618460555,18.1230623457863 L -63.038338968182,18.1231041737351 L -63.0383891972668,18.1231538759395 L -63.0383697111054,18.1232013323861 L -63.0381664728343,18.1231923341852 L -63.0378468247459,18.1230828044378 L -63.0377168345695,18.1230195598521 L -63.0375033020113,18.1232195802136 L -63.0374489452244,18.1232060329152 L -63.037504757362,18.1231178958646 L -63.0375499362004,18.1230354099853 L -63.0375345640117,18.1229823113022 L -63.0374226071775,18.1229834629114 L -63.0373204107954,18.123042233536 L -63.0372705054237,18.1231247202762 L -63.0370480925847,18.1232411349525 L -63.0368262511157,18.1232660336035 L -63.0366631710119,18.1231779385266 L -63.0365881211683,18.1230920862534 L -63.0364752808612,18.1231067953555 L -63.0361340935609,18.1231136386074 L -63.0358602375248,18.1230210443079 L -63.0356877041474,18.1229273010467 L -63.0355547781855,18.1229499220914 L -63.0355630603718,18.123004152066 L -63.0355491806166,18.1230244914422 L -63.03542097144,18.1229996589582 L -63.0352454931248,18.1229499789389 L -63.0351311805224,18.1229884138061 L -63.0351409201965,18.1229454787554 L -63.0350011909385,18.1229229077392 L -63.0344857305163,18.1229975690431 L -63.0342042247209,18.1230574998617 L -63.0341389377285,18.1230405641002 L -63.0339968703967,18.1231479224146 L -63.0339162355688,18.1231987786657 L -63.0337700056968,18.1231671693177 L -63.03331334949,18.12335028017 L -63.0332847066129,18.1234090359166 L -63.0332374523193,18.1234621457568 L -63.0331104319785,18.1234757255113 L -63.0330144171893,18.1234271596068 L -63.0329692016428,18.1233254832848 L -63.0329742147996,18.1232791596844 L -63.0328675777152,18.123294995434 L -63.0328250476501,18.1233368061376 L -63.0328046556603,18.1232870974008 L -63.0327213385023,18.1232125432569 L -63.0325842501831,18.1230939350838 L -63.0324102308609,18.122942568162 L -63.0322577506499,18.1226522292381 L -63.0320385394747,18.1225212063516 L -63.0316326545256,18.1224952875103 L -63.0312362309249,18.122516818849 L -63.0307426397826,18.122649087568 L -63.0305152072729,18.1227993902044 L -63.0304803540658,18.1228231220076 L -63.0303970753611,18.1229643630505 L -63.030381718785,18.1229892215804 L -63.0303654765851,18.1230174697179 L -63.0303672526951,18.1230389360755 L -63.0303989250073,18.1234117726731 L -63.0304660277846,18.1236806599379 L -63.0303939616794,18.1237507203478 L -63.0302982543597,18.1237688125954 L -63.0301957384224,18.1237032989645 L -63.0301277807727,18.1236151834162 L -63.0301292398055,18.1235101096512 L -63.0299174257071,18.1234468725837 L -63.0293889455856,18.1234119294398 L -63.0284430784254,18.1234742117175 L -63.028264073818,18.1235307292205 L -63.0282478281471,18.1235397701879 L -63.0277811348944,18.1238076061198 L -63.0271957084111,18.1242065171784 L -63.0265600305972,18.1244065845519 L -63.0262132310583,18.1244360074637 L -63.0257364274847,18.1242858053248 L -63.0251890272324,18.1241627269994 L -63.0246197491179,18.1239052009804 L -63.0240537358296,18.1237482271098 L -63.0234693822522,18.1233935347772 L -63.0226380589101,18.1229100700105 L -63.0223370207529,18.1227180352293 L -63.0219399575285,18.1223610567536 L -63.0214660913154,18.1219984369038 L -63.0210114716674,18.1220018765048 L -63.0205078224992,18.1220640710669 L -63.0201867299582,18.1221251154417 L -63.0198851394603,18.1222381291358 L -63.0197752479777,18.1222144141628 L -63.0197752418876,18.1221601826495 L -63.0196547178382,18.1221522862239 L -63.0194963852402,18.1221681198413 L -63.0194378918134,18.1221297117641 L -63.0193737814655,18.1220517604214 L -63.0192907677035,18.1219930179458 L -63.0193572218174,18.1218947166568 L -63.019532088782,18.1218088324363 L -63.0196576299655,18.1217771846132 L -63.0196966173625,18.1217297280534 L -63.0196815436696,18.1216551612588 L -63.0197001370013,18.121504892862 L -63.0198933057494,18.1213094135775 L -63.0198773458143,18.1212348468866 L -63.0197588880272,18.1212077433152 L -63.019819130085,18.1210371338031 L -63.0200831811403,18.1207320541462 L -63.0204030564728,18.1203851647474 L -63.0206700752831,18.1202145329422 L -63.0207740231873,18.1199456237796 L -63.0206879932186,18.1193524757031 L -63.0206701477872,18.1183152995628 L -63.0206469624788,18.1170815345446 L -63.0206911894394,18.1163855583181 L -63.0205251177318,18.1158500395511 L -63.0203315654796,18.1152241375922 L -63.0203820089056,18.1146366237594 L -63.0204608009484,18.1139790577728 L -63.0203777499914,18.1135689403975 L -63.0201505588648,18.1132221082544 L -63.0200252822682,18.1129283670068 L -63.0200293747531,18.1125510052653 L -63.0199451435607,18.1121374982916 L -63.0198337483919,18.1118200291361 L -63.0195327114627,18.1114404388768 L -63.0191767457279,18.1111602781606 L -63.0188435360941,18.1109795391116 L -63.0184695892148,18.1110338068912 L -63.0180838329956,18.111147955752 L -63.0178487067251,18.11112199171 L -63.0177556537251,18.1110440424155 L -63.0176171185487,18.1110304972361 L -63.0174794728993,18.1110508466118 L -63.0174454862657,18.1108712075929 L -63.017385787202,18.1105458235181 L -63.0174223702552,18.1100995394997 L -63.0172784823455,18.1097120226019 L -63.0171676862551,18.1094148886122 L -63.0172796078066,18.1091403312039 L -63.0176520433663,18.1087787535311 L -63.0179905073268,18.1084002309284 L -63.0182985388108,18.1079516614682 L -63.0185663895874,18.1074262672766 L -63.0188440221177,18.1072375595687 L -63.0193254682139,18.1071008030781 L -63.0197519997452,18.1071945353102 L -63.0200760425302,18.1073402492464 L -63.0202854717767,18.1074125361131 L -63.0206502631809,18.1074384833471 L -63.0208224746835,18.1075039946637 L -63.0210407824188,18.1077163780341 L -63.021145358971,18.1078293490761 L -63.0213899337705,18.1078586975345 L -63.0214460591852,18.1078914562183 L -63.0214425234706,18.107963765402 L -63.0213613105137,18.1080914446269 L -63.0212936891282,18.1082552767088 L -63.0213105531906,18.1084834994542 L -63.0215403731922,18.1086201827033 L -63.0215530748268,18.1086235707576 L -63.0216626388046,18.1084529549324 L -63.0219899164442,18.1084529178689 L -63.0220817410152,18.1081523739728 L -63.0225008562199,18.1079647745769 L -63.0225794101988,18.1078393548323 L -63.0228023720827,18.107476654799 L -63.0233916340948,18.1073884578426 L -63.023837319583,18.1071251540328 L -63.0240599893867,18.1068121648563 L -63.0242563874036,18.106624589295 L -63.0249245106156,18.1065363777079 L -63.024982703881,18.1065691350986 L -63.0250291003444,18.1067295642257 L -63.0250556954108,18.1068097783425 L -63.0250642709016,18.1068775667246 L -63.0251029787713,18.1069747266321 L -63.0251378414963,18.1070346028098 L -63.0252190926139,18.1071961571591 L -63.0252628199085,18.1072786286507 L -63.0252684357582,18.1073046138872 L -63.0251898648781,18.1072967153976 L -63.0251470359887,18.1073001104649 L -63.0251293136503,18.1073012426013 L -63.0250832354728,18.1073035082532 L -63.0250693526872,18.1073023802345 L -63.0250584236517,18.1073012518308 L -63.0250483807413,18.1073001233113 L -63.0250327257063,18.1072989955203 L -63.0250046636396,18.1072888307388 L -63.0249715792415,18.1072718876546 L -63.024900679039,18.1071995880333 L -63.0248525332613,18.1072018538972 L -63.0249715122187,18.107544274942 L -63.02497009597,18.1076240620081 L -63.0249940557535,18.1077227023913 L -63.0250296597414,18.1078643400935 L -63.0250246229109,18.1081602914658 L -63.0252325150128,18.1081079240613 L -63.025735237138,18.1080502365247 L -63.0260004751742,18.107983541262 L -63.0261277772637,18.1079496293021 L -63.0263800198096,18.1078919738766 L -63.0264136931794,18.1078953587391 L -63.0265799924156,18.1079122832489 L -63.0267090821781,18.1079811847165 L -63.0267861887416,18.1080693003502 L -63.0268570859349,18.1081144834756 L -63.0269784873452,18.1081257647682 L -63.0270998863389,18.1081212284376 L -63.0272203974521,18.108105393908 L -63.0273279083071,18.1080658348263 L -63.0274173990561,18.1080127203512 L -63.0274938921456,18.10795282874 L -63.0275553227747,18.1079042375004 L -63.027616162618,18.1078556463256 L -63.0276666598396,18.1077788109958 L -63.0277384194415,18.1076725971476 L -63.0287743791727,18.1081469716861 L -63.0290141742202,18.1078396233941 L -63.0304056772435,18.1060531557334 L -63.032567422897,18.1039750542449 L -63.0348215764222,18.1004484751526 L -63.0322885229265,18.098747398445 z\" /></g></g></svg>"
      ],
      "text/plain": [
       "<MULTIPOLYGON (((-63.032 18.099, -63.033 18.099, -63.033 18.099, -63.034 18....>"
      ]
     },
     "execution_count": 282,
     "metadata": {},
     "output_type": "execute_result"
    }
   ],
   "source": [
    "gdf.wkt.iloc[-1]"
   ]
  },
  {
   "cell_type": "code",
   "execution_count": 283,
   "id": "5f195033-3379-4d85-936c-ebd4e0db25f4",
   "metadata": {
    "tags": []
   },
   "outputs": [
    {
     "data": {
      "image/svg+xml": [
       "<svg xmlns=\"http://www.w3.org/2000/svg\" xmlns:xlink=\"http://www.w3.org/1999/xlink\" width=\"100.0\" height=\"100.0\" viewBox=\"-63.05495142618015 18.094837802757752 0.03923696069140448 0.031051425472295335\" preserveAspectRatio=\"xMinYMin meet\"><g transform=\"matrix(1,0,0,-1,0,36.2207270309878)\"><path fill-rule=\"evenodd\" fill=\"#66cc99\" stroke=\"#555555\" stroke-width=\"0.0007847392138280896\" opacity=\"0.6\" d=\"M -63.0322885229265,18.098747398445 L -63.0325271574462,18.0986558424444 L -63.0330017839915,18.0985608564245 L -63.034054384709,18.0982318940733 L -63.0348187311893,18.098005792393 L -63.0352841848156,18.0978418830292 L -63.0355334501544,18.0977537108361 L -63.0361890900302,18.0974756517267 L -63.0365806747055,18.097182952918 L -63.0366054810262,18.0971648709951 L -63.0366828565918,18.0971253123824 L -63.0373036171931,18.0967387928075 L -63.0377174047457,18.0967014280602 L -63.0377487111579,18.0966946429784 L -63.0382318946991,18.0965985125775 L -63.0389657915052,18.0963023512611 L -63.0391113997676,18.0962910235241 L -63.0392331024828,18.0963621778431 L -63.0394579244858,18.0966106936972 L -63.0397657606555,18.0969394098247 L -63.0399040046248,18.0970128199546 L -63.0400026625583,18.0970500837703 L -63.0404994974059,18.0972375311696 L -63.0404702875492,18.0973708567599 L -63.0404638334767,18.0975617986906 L -63.0405179261585,18.0977448191236 L -63.0430645735337,18.1004196944038 L -63.0435587158996,18.1016126790732 L -63.0442039505885,18.1022373256235 L -63.0446725993103,18.1030167970198 L -63.0448835301421,18.1031670147766 L -63.0451077052061,18.1031308080474 L -63.0455267949688,18.1029860919073 L -63.0460655341344,18.102941900745 L -63.04636297438,18.10296103647 L -63.0463957607841,18.1029632882326 L -63.0465809509309,18.1029429067217 L -63.0467525544252,18.1029236581535 L -63.0478258865176,18.1027991140971 L -63.048057458235,18.1028126144117 L -63.0482128236483,18.1028204843955 L -63.0482462010931,18.1028238655209 L -63.0483628740112,18.1028340047135 L -63.0489344241,18.1028847026159 L -63.0498631554222,18.1032234121762 L -63.0502527864936,18.1033656689652 L -63.0503151156569,18.1033882492091 L -63.0508167214607,18.1036321598512 L -63.0516950833643,18.1044182845036 L -63.0517069011497,18.1044284497586 L -63.051788439558,18.1044837892921 L -63.0522472422031,18.1047966269865 L -63.0524171347818,18.1049796124946 L -63.0525592537142,18.1051321001527 L -63.052761626653,18.105277792271 L -63.0528987227696,18.1054235020988 L -63.0529758409415,18.10551047743 L -63.0527709485689,18.1058302740459 L -63.0526065485264,18.1062404453663 L -63.0525469542253,18.1064788546353 L -63.0525442992317,18.106490153606 L -63.0525000406508,18.1066494709466 L -63.0523702151551,18.1071172536697 L -63.0523622712568,18.1072223295174 L -63.0523499138396,18.1073850276169 L -63.0524590360246,18.1078177207566 L -63.0525568761544,18.1080549572522 L -63.0525369323659,18.1085306187979 L -63.0525336865871,18.1085419179272 L -63.0523259696394,18.1093113848603 L -63.0522622379603,18.1095475354441 L -63.0525322137214,18.1095463322188 L -63.0531215023192,18.1095732864732 L -63.0530860960142,18.1097032260262 L -63.0530503922374,18.1098263867072 L -63.0530152761106,18.1099393787999 L -63.0530014051759,18.1099789264652 L -63.0528718451506,18.110350674236 L -63.0528855197727,18.1106410353097 L -63.0529960454237,18.1108183873455 L -63.0531821837409,18.1109787710995 L -63.053324879802,18.111067987775 L -63.0534298172103,18.1113221691395 L -63.0534821950906,18.1116362457104 L -63.0534982054138,18.1118328306548 L -63.0533154463832,18.1121062987259 L -63.0530275081917,18.1123063570294 L -63.052798667399,18.1125775776277 L -63.0526427989637,18.1128928411604 L -63.0525929515304,18.1131357669187 L -63.0526417561648,18.1133571990781 L -63.0527118523344,18.1136577130669 L -63.0527122721149,18.1140734881242 L -63.0527699411297,18.1143028265701 L -63.0528089761911,18.1144496929663 L -63.0527779954306,18.1145660733026 L -63.0527257565518,18.1147152243395 L -63.0527402816032,18.1148858237471 L -63.0527562748259,18.1150270473324 L -63.0528026923698,18.1151660029313 L -63.0528990116138,18.1152416746968 L -63.0528925585281,18.1153930728397 L -63.052938112179,18.1156054671739 L -63.0529319915066,18.1158800159944 L -63.0528691197052,18.116033689266 L -63.0527773205814,18.1162574195024 L -63.0526698962808,18.1165839679039 L -63.0526307686811,18.1171172552854 L -63.0525821235415,18.1174336191331 L -63.0524658286545,18.1177341838669 L -63.052383775427,18.1179556515787 L -63.0523406840071,18.118076554391 L -63.0523309511444,18.118127399086 L -63.0523743937434,18.1181940468573 L -63.0523454784545,18.1183059072266 L -63.0521995819317,18.1183997221511 L -63.0518253655647,18.1185602580993 L -63.0516440123369,18.1186235769082 L -63.0515367962582,18.1186642792605 L -63.051459980957,18.1186202366869 L -63.0513636799167,18.1186112238015 L -63.0511909109548,18.1187366801763 L -63.0509522410393,18.1187661188576 L -63.0508021511688,18.1186633445771 L -63.0506172215659,18.118618200325 L -63.0505197409376,18.1186159662674 L -63.0504698103078,18.1185843443023 L -63.0503061601935,18.1185776081678 L -63.0502399906904,18.1185731061428 L -63.0501463534274,18.1185821691271 L -63.0500961403339,18.1185957400716 L -63.05003882462,18.1185629900916 L -63.0500367427412,18.1185132784057 L -63.0501008348196,18.1184838863408 L -63.0501194369042,18.1184567657417 L -63.0500281577112,18.1184477508816 L -63.0498884198998,18.1183890363062 L -63.0498092573177,18.118399225201 L -63.0497280307995,18.1184229724762 L -63.0496789811293,18.1183721430806 L -63.0497495412369,18.1182342864208 L -63.0496753577043,18.1180930776414 L -63.0496201029805,18.1180354708884 L -63.0495610209023,18.1180230580399 L -63.0495453463292,18.117956402491 L -63.0494800470703,18.1178942789862 L -63.0492951021689,18.1177903826445 L -63.0490165178044,18.1176853801483 L -63.0487769361719,18.1176187813739 L -63.0486371966258,18.1175498974729 L -63.0485228612105,18.1174821368964 L -63.0484389726834,18.1174923264186 L -63.0484333835348,18.1175770645843 L -63.0483870290041,18.1176572936986 L -63.0483190971482,18.1176878159824 L -63.0481950441169,18.1177307803483 L -63.0481090926425,18.1177590474182 L -63.0481888210945,18.1176584732037 L -63.0482762380111,18.1175884022626 L -63.048229853089,18.117557908647 L -63.0481639704534,18.1175206409549 L -63.0481184797691,18.1175195224992 L -63.0481114079498,18.1175839242035 L -63.0480942872356,18.1176279915937 L -63.0480464367762,18.1176393017682 L -63.0480003648218,18.117673207957 L -63.04795281435,18.1177014653855 L -63.04792032365,18.1177105120579 L -63.0479067288408,18.1176856593229 L -63.0479572270865,18.1176348047027 L -63.0480151101069,18.1175839482286 L -63.0480195335972,18.1175568313626 L -63.0479769940559,18.1175455437266 L -63.047843160264,18.1174676191896 L -63.0477276613945,18.1174653881913 L -63.0476990270372,18.1175343145159 L -63.0476627039007,18.1175716076808 L -63.0475870700834,18.1175219141452 L -63.0474234061555,18.117459814211 L -63.0474163033668,18.1174101037254 L -63.0474405115027,18.1173581258845 L -63.0473016688709,18.1173265249665 L -63.047132667316,18.1171864682707 L -63.046936163334,18.1169289164767 L -63.0467552859426,18.1165595081459 L -63.0466739966933,18.1163448613685 L -63.0460125572041,18.1161111469778 L -63.0456524572548,18.1160344046323 L -63.0455298840165,18.1160864055271 L -63.0454023050956,18.1162005478254 L -63.0453382307967,18.1162988575731 L -63.045282409345,18.1163271162928 L -63.0453208257492,18.1163881177367 L -63.0450839511758,18.1164988960302 L -63.0449596004895,18.1165328197985 L -63.0448574080678,18.1165825558594 L -63.0448583083371,18.1166379170075 L -63.0448039665276,18.1166774734796 L -63.0447165208571,18.1166379499692 L -63.0446438467561,18.1166063317619 L -63.0445865458545,18.1166255520333 L -63.044412295901,18.1167464834088 L -63.0441730293793,18.1167465384176 L -63.0439786224819,18.1165872777622 L -63.0438291082239,18.1163997611081 L -63.043419291756,18.1159524437208 L -63.0431435888162,18.1155254322801 L -63.0429154152348,18.1149775186929 L -63.0426051031165,18.1143369774213 L -63.0424750741178,18.1140929641601 L -63.0423849532924,18.1139766121383 L -63.0421143523193,18.1138625592526 L -63.0413593458518,18.1138627227946 L -63.0404516800956,18.1141035679966 L -63.0396642581698,18.1144505876562 L -63.0391258453175,18.1147998133338 L -63.0388178186156,18.1150834614346 L -63.0387501948932,18.1151749907804 L -63.0387254024052,18.1152665114977 L -63.038721284352,18.1153455999949 L -63.0387215978688,18.1154280770722 L -63.0387895683381,18.115569291378 L -63.0396063875374,18.1171904222272 L -63.0403703752294,18.1189381006197 L -63.0403485419218,18.1190510875344 L -63.0403810493208,18.1191120911861 L -63.0402797495924,18.1192024982653 L -63.0401982499959,18.1193313151544 L -63.040179661754,18.1194262241949 L -63.0401457273513,18.1195844065387 L -63.0400358874657,18.1197923168912 L -63.0399600624933,18.1201968093745 L -63.0399326556808,18.1204837901644 L -63.0399395138689,18.1207662445474 L -63.0398367334196,18.1208453534555 L -63.0398201686702,18.120745932439 L -63.0397726025296,18.1207143072166 L -63.0393779740335,18.1208149425622 L -63.039406065879,18.1209448664848 L -63.0394199703143,18.1210375091407 L -63.0393065455584,18.121073686662 L -63.0393496587784,18.1210070182916 L -63.0389098526949,18.1211946582849 L -63.0387066557004,18.1213630428758 L -63.0385972265277,18.122109877908 L -63.0385527344476,18.1226273457679 L -63.0385037387015,18.1228137763629 L -63.0384523695263,18.1229538846744 L -63.0385439446403,18.1229572558385 L -63.0385906289254,18.1230069587004 L -63.0384618460555,18.1230623457863 L -63.038338968182,18.1231041737351 L -63.0383891972668,18.1231538759395 L -63.0383697111054,18.1232013323861 L -63.0381664728343,18.1231923341852 L -63.0378468247459,18.1230828044378 L -63.0377168345695,18.1230195598521 L -63.0375033020113,18.1232195802136 L -63.0374489452244,18.1232060329152 L -63.037504757362,18.1231178958646 L -63.0375499362004,18.1230354099853 L -63.0375345640117,18.1229823113022 L -63.0374226071775,18.1229834629114 L -63.0373204107954,18.123042233536 L -63.0372705054237,18.1231247202762 L -63.0370480925847,18.1232411349525 L -63.0368262511157,18.1232660336035 L -63.0366631710119,18.1231779385266 L -63.0365881211683,18.1230920862534 L -63.0364752808612,18.1231067953555 L -63.0361340935609,18.1231136386074 L -63.0358602375248,18.1230210443079 L -63.0356877041474,18.1229273010467 L -63.0355547781855,18.1229499220914 L -63.0355630603718,18.123004152066 L -63.0355491806166,18.1230244914422 L -63.03542097144,18.1229996589582 L -63.0352454931248,18.1229499789389 L -63.0351311805224,18.1229884138061 L -63.0351409201965,18.1229454787554 L -63.0350011909385,18.1229229077392 L -63.0344857305163,18.1229975690431 L -63.0342042247209,18.1230574998617 L -63.0341389377285,18.1230405641002 L -63.0339968703967,18.1231479224146 L -63.0339162355688,18.1231987786657 L -63.0337700056968,18.1231671693177 L -63.03331334949,18.12335028017 L -63.0332847066129,18.1234090359166 L -63.0332374523193,18.1234621457568 L -63.0331104319785,18.1234757255113 L -63.0330144171893,18.1234271596068 L -63.0329692016428,18.1233254832848 L -63.0329742147996,18.1232791596844 L -63.0328675777152,18.123294995434 L -63.0328250476501,18.1233368061376 L -63.0328046556603,18.1232870974008 L -63.0327213385023,18.1232125432569 L -63.0325842501831,18.1230939350838 L -63.0324102308609,18.122942568162 L -63.0322577506499,18.1226522292381 L -63.0320385394747,18.1225212063516 L -63.0316326545256,18.1224952875103 L -63.0312362309249,18.122516818849 L -63.0307426397826,18.122649087568 L -63.0305152072729,18.1227993902044 L -63.0304803540658,18.1228231220076 L -63.0303970753611,18.1229643630505 L -63.030381718785,18.1229892215804 L -63.0303654765851,18.1230174697179 L -63.0303672526951,18.1230389360755 L -63.0303989250073,18.1234117726731 L -63.0304660277846,18.1236806599379 L -63.0303939616794,18.1237507203478 L -63.0302982543597,18.1237688125954 L -63.0301957384224,18.1237032989645 L -63.0301277807727,18.1236151834162 L -63.0301292398055,18.1235101096512 L -63.0299174257071,18.1234468725837 L -63.0293889455856,18.1234119294398 L -63.0284430784254,18.1234742117175 L -63.028264073818,18.1235307292205 L -63.0282478281471,18.1235397701879 L -63.0277811348944,18.1238076061198 L -63.0271957084111,18.1242065171784 L -63.0265600305972,18.1244065845519 L -63.0262132310583,18.1244360074637 L -63.0257364274847,18.1242858053248 L -63.0251890272324,18.1241627269994 L -63.0246197491179,18.1239052009804 L -63.0240537358296,18.1237482271098 L -63.0234693822522,18.1233935347772 L -63.0226380589101,18.1229100700105 L -63.0223370207529,18.1227180352293 L -63.0219399575285,18.1223610567536 L -63.0214660913154,18.1219984369038 L -63.0210114716674,18.1220018765048 L -63.0205078224992,18.1220640710669 L -63.0201867299582,18.1221251154417 L -63.0198851394603,18.1222381291358 L -63.0197752479777,18.1222144141628 L -63.0197752418876,18.1221601826495 L -63.0196547178382,18.1221522862239 L -63.0194963852402,18.1221681198413 L -63.0194378918134,18.1221297117641 L -63.0193737814655,18.1220517604214 L -63.0192907677035,18.1219930179458 L -63.0193572218174,18.1218947166568 L -63.019532088782,18.1218088324363 L -63.0196576299655,18.1217771846132 L -63.0196966173625,18.1217297280534 L -63.0196815436696,18.1216551612588 L -63.0197001370013,18.121504892862 L -63.0198933057494,18.1213094135775 L -63.0198773458143,18.1212348468866 L -63.0197588880272,18.1212077433152 L -63.019819130085,18.1210371338031 L -63.0200831811403,18.1207320541462 L -63.0204030564728,18.1203851647474 L -63.0206700752831,18.1202145329422 L -63.0207740231873,18.1199456237796 L -63.0206879932186,18.1193524757031 L -63.0206701477872,18.1183152995628 L -63.0206469624788,18.1170815345446 L -63.0206911894394,18.1163855583181 L -63.0205251177318,18.1158500395511 L -63.0203315654796,18.1152241375922 L -63.0203820089056,18.1146366237594 L -63.0204608009484,18.1139790577728 L -63.0203777499914,18.1135689403975 L -63.0201505588648,18.1132221082544 L -63.0200252822682,18.1129283670068 L -63.0200293747531,18.1125510052653 L -63.0199451435607,18.1121374982916 L -63.0198337483919,18.1118200291361 L -63.0195327114627,18.1114404388768 L -63.0191767457279,18.1111602781606 L -63.0188435360941,18.1109795391116 L -63.0184695892148,18.1110338068912 L -63.0180838329956,18.111147955752 L -63.0178487067251,18.11112199171 L -63.0177556537251,18.1110440424155 L -63.0176171185487,18.1110304972361 L -63.0174794728993,18.1110508466118 L -63.0174454862657,18.1108712075929 L -63.017385787202,18.1105458235181 L -63.0174223702552,18.1100995394997 L -63.0172784823455,18.1097120226019 L -63.0171676862551,18.1094148886122 L -63.0172796078066,18.1091403312039 L -63.0176520433663,18.1087787535311 L -63.0179905073268,18.1084002309284 L -63.0182985388108,18.1079516614682 L -63.0185663895874,18.1074262672766 L -63.0188440221177,18.1072375595687 L -63.0193254682139,18.1071008030781 L -63.0197519997452,18.1071945353102 L -63.0200760425302,18.1073402492464 L -63.0202854717767,18.1074125361131 L -63.0206502631809,18.1074384833471 L -63.0208224746835,18.1075039946637 L -63.0210407824188,18.1077163780341 L -63.021145358971,18.1078293490761 L -63.0213899337705,18.1078586975345 L -63.0214460591852,18.1078914562183 L -63.0214425234706,18.107963765402 L -63.0213613105137,18.1080914446269 L -63.0212936891282,18.1082552767088 L -63.0213105531906,18.1084834994542 L -63.0215403731922,18.1086201827033 L -63.0215530748268,18.1086235707576 L -63.0216626388046,18.1084529549324 L -63.0219899164442,18.1084529178689 L -63.0220817410152,18.1081523739728 L -63.0225008562199,18.1079647745769 L -63.0225794101988,18.1078393548323 L -63.0228023720827,18.107476654799 L -63.0233916340948,18.1073884578426 L -63.023837319583,18.1071251540328 L -63.0240599893867,18.1068121648563 L -63.0242563874036,18.106624589295 L -63.0249245106156,18.1065363777079 L -63.024982703881,18.1065691350986 L -63.0250291003444,18.1067295642257 L -63.0250556954108,18.1068097783425 L -63.0250642709016,18.1068775667246 L -63.0251029787713,18.1069747266321 L -63.0251378414963,18.1070346028098 L -63.0252190926139,18.1071961571591 L -63.0252628199085,18.1072786286507 L -63.0252684357582,18.1073046138872 L -63.0251898648781,18.1072967153976 L -63.0251470359887,18.1073001104649 L -63.0251293136503,18.1073012426013 L -63.0250832354728,18.1073035082532 L -63.0250693526872,18.1073023802345 L -63.0250584236517,18.1073012518308 L -63.0250483807413,18.1073001233113 L -63.0250327257063,18.1072989955203 L -63.0250046636396,18.1072888307388 L -63.0249715792415,18.1072718876546 L -63.024900679039,18.1071995880333 L -63.0248525332613,18.1072018538972 L -63.0249715122187,18.107544274942 L -63.02497009597,18.1076240620081 L -63.0249940557535,18.1077227023913 L -63.0250296597414,18.1078643400935 L -63.0250246229109,18.1081602914658 L -63.0252325150128,18.1081079240613 L -63.025735237138,18.1080502365247 L -63.0260004751742,18.107983541262 L -63.0261277772637,18.1079496293021 L -63.0263800198096,18.1078919738766 L -63.0264136931794,18.1078953587391 L -63.0265799924156,18.1079122832489 L -63.0267090821781,18.1079811847165 L -63.0267861887416,18.1080693003502 L -63.0268570859349,18.1081144834756 L -63.0269784873452,18.1081257647682 L -63.0270998863389,18.1081212284376 L -63.0272203974521,18.108105393908 L -63.0273279083071,18.1080658348263 L -63.0274173990561,18.1080127203512 L -63.0274938921456,18.10795282874 L -63.0275553227747,18.1079042375004 L -63.027616162618,18.1078556463256 L -63.0276666598396,18.1077788109958 L -63.0277384194415,18.1076725971476 L -63.0287743791727,18.1081469716861 L -63.0290141742202,18.1078396233941 L -63.0304056772435,18.1060531557334 L -63.032567422897,18.1039750542449 L -63.0348215764222,18.1004484751526 L -63.0322885229265,18.098747398445 z\" /></g></svg>"
      ],
      "text/plain": [
       "<POLYGON ((-63.032 18.099, -63.033 18.099, -63.033 18.099, -63.034 18.098, -...>"
      ]
     },
     "execution_count": 283,
     "metadata": {},
     "output_type": "execute_result"
    }
   ],
   "source": [
    "gdf.iloc[-3:, :].dissolve(by=\"gr\").wkt[0]"
   ]
  },
  {
   "cell_type": "code",
   "execution_count": 284,
   "id": "febdbc81-0983-44dc-ba3b-9095b83074d9",
   "metadata": {
    "tags": []
   },
   "outputs": [
    {
     "data": {
      "image/svg+xml": [
       "<svg xmlns=\"http://www.w3.org/2000/svg\" xmlns:xlink=\"http://www.w3.org/1999/xlink\" width=\"100.0\" height=\"100.0\" viewBox=\"-62.81322701791523 17.897548593096065 0.011917877679863409 0.008887242620566838\" preserveAspectRatio=\"xMinYMin meet\"><g transform=\"matrix(1,0,0,-1,0,35.8039844288127)\"><path fill-rule=\"evenodd\" fill=\"#66cc99\" stroke=\"#555555\" stroke-width=\"0.00023835755359726817\" opacity=\"0.6\" d=\"M -62.8059913937188,17.9020436469942 L -62.8057581159617,17.9019586760952 L -62.8055552118807,17.9018872933816 L -62.8052844828393,17.9017864666955 L -62.8050644883318,17.9016958590392 L -62.8049733694387,17.9016539635637 L -62.8048551757133,17.901549899521 L -62.8045881512954,17.9012999362634 L -62.8044664028089,17.9012094265366 L -62.8040206112449,17.9009412053559 L -62.8039760915409,17.9009140442888 L -62.8037057170922,17.9007612429799 L -62.8035196816496,17.9006446814294 L -62.8033811287014,17.9005439854742 L -62.8032254966277,17.9004138962294 L -62.8030159955242,17.9001741575489 L -62.8028571574257,17.9000090396203 L -62.8027725842371,17.8999185664816 L -62.8026950668178,17.8998506973258 L -62.8026611610962,17.8998303257769 L -62.802624008826,17.8998110807739 L -62.8025850801469,17.8997974831794 L -62.8025293336375,17.8997849983617 L -62.8024821329372,17.8997815609463 L -62.8024378675058,17.8997916846192 L -62.8024074658765,17.8998040820412 L -62.8023770242009,17.8998526344065 L -62.8022820685971,17.9000796365065 L -62.8022513242986,17.9001349676028 L -62.8022008168293,17.9001868890836 L -62.802136450505,17.9002320174048 L -62.8020212991084,17.9003132490482 L -62.8019805575642,17.9003380641621 L -62.8019265484933,17.9003549568649 L -62.8018994020845,17.9003583187714 L -62.8018250836977,17.9003322567314 L -62.801787655213,17.9002960636387 L -62.8017505431124,17.9002406635247 L -62.8017609481925,17.9001694939918 L -62.8017886943871,17.8993605543898 L -62.8018327977196,17.8992306672948 L -62.8019515853725,17.8990624415017 L -62.8017819098275,17.8988283912171 L -62.8028366548239,17.8980046764547 L -62.802844046673,17.8979899959731 L -62.8079968916329,17.9002446649241 L -62.8080346698906,17.9002311440578 L -62.8087365253974,17.8999731006962 L -62.8093804317075,17.9012097812719 L -62.8096510468186,17.9011422554663 L -62.8096826126393,17.901144546018 L -62.809753677572,17.9011796406382 L -62.8098453537148,17.901253170052 L -62.8100027074381,17.9014340986847 L -62.8100318890107,17.9014589837255 L -62.8100631430235,17.9014770917225 L -62.8100893947479,17.9014827665542 L -62.8101079816862,17.9014827846872 L -62.8101209690519,17.9014771481382 L -62.8102446962865,17.9013744530185 L -62.8103627625615,17.9013237251116 L -62.8104022594308,17.9013587887395 L -62.8105699602883,17.9015205196532 L -62.8106539529509,17.9016064694906 L -62.8107432790256,17.9016709574481 L -62.810803708881,17.9017195994698 L -62.8109820303767,17.9018824701948 L -62.8110135688217,17.9019107469087 L -62.8110268368619,17.9019186686955 L -62.8110398182481,17.9019186812978 L -62.8110610641058,17.9019153123904 L -62.8110820221092,17.9019051641396 L -62.8111029872876,17.9018882368315 L -62.8112028382368,17.9017651807472 L -62.8112158363487,17.9017493755427 L -62.8112500755095,17.9017347207789 L -62.8113158758318,17.901726875667 L -62.8113854996098,17.9017303326743 L -62.8114520727836,17.90182869357 L -62.8114858545547,17.9019676970591 L -62.8116547959678,17.9023531372806 L -62.8117472536874,17.9025260927949 L -62.8117795987951,17.902628939842 L -62.8118066190463,17.9027453398576 L -62.8118505074538,17.9028131729011 L -62.8120093659452,17.9029692448078 L -62.8121714748413,17.9031208003472 L -62.8122348249962,17.9031988206751 L -62.8122660569493,17.9032383953256 L -62.812374102609,17.903458818998 L -62.8125801303035,17.9039312920818 L -62.8126678157741,17.9041550855057 L -62.8127319164053,17.9043619085438 L -62.8127856150382,17.9046410315307 L -62.8127812753767,17.9054025417853 L -62.8127753295678,17.9054454701117 L -62.8126995350745,17.9059786832115 L -62.8126287092798,17.9059944328396 L -62.8125744317355,17.9059853418283 L -62.8125101442733,17.9059559039801 L -62.8123851395796,17.9058687855811 L -62.8113741984375,17.9051639160368 L -62.8111103462146,17.9049693270903 L -62.8109584670486,17.9049081680886 L -62.8107184140816,17.9048073787206 L -62.8103058337513,17.9046420199111 L -62.8099437089116,17.9044733199779 L -62.8098222204474,17.9044110599246 L -62.8097272876738,17.9043465660724 L -62.8097119578799,17.9043352526522 L -62.8096765825527,17.9043081018238 L -62.8095819738664,17.904216491979 L -62.8094605436298,17.9040999992797 L -62.8094063296011,17.9040321556 L -62.8093524529088,17.9039247677196 L -62.8092815222516,17.9037631306341 L -62.8092774038473,17.9037518281653 L -62.8092544551824,17.90369192398 L -62.8092109143388,17.9032998256612 L -62.8091942943825,17.9031156448977 L -62.8091772585772,17.9030444480627 L -62.8091637184667,17.9030150588592 L -62.8091301402763,17.9029630531379 L -62.8090962392654,17.9029370334924 L -62.8090623310092,17.9029177928944 L -62.8090183819595,17.9029075811861 L -62.8089879971788,17.9029041618401 L -62.8089540611133,17.9029109075944 L -62.8089088980544,17.9029323302852 L -62.8084667249269,17.9031307481081 L -62.8083820187713,17.9031600406625 L -62.8082433214472,17.9031892799956 L -62.8079423604635,17.9032138398122 L -62.8078857115806,17.903216043593 L -62.8075292951562,17.9032303794363 L -62.8073873913085,17.9032234600018 L -62.8073292806716,17.903213233898 L -62.8072655839335,17.9031849247529 L -62.8070862951771,17.9031000088905 L -62.8069848696998,17.903038896801 L -62.80694096965,17.9029834909417 L -62.8068938450531,17.9029088745373 L -62.8068735477015,17.9028534920776 L -62.8068500539289,17.9027529127113 L -62.8068330190943,17.9026817156778 L -62.8068060094452,17.9025585359491 L -62.8067489371351,17.902407080287 L -62.8067115451564,17.9023358630288 L -62.806647607674,17.9022578403359 L -62.8065865960694,17.9022024173965 L -62.8064951717189,17.9021695610735 L -62.8063361875769,17.902134377815 L -62.8062314819726,17.9021060275276 L -62.8059913937188,17.9020436469942 z\" /></g></svg>"
      ],
      "text/plain": [
       "<POLYGON ((-62.806 17.902, -62.806 17.902, -62.806 17.902, -62.805 17.902, -...>"
      ]
     },
     "execution_count": 284,
     "metadata": {},
     "output_type": "execute_result"
    }
   ],
   "source": [
    "gdf.iloc[-3:, :].dissolve(by=\"gr\").wkt[1]"
   ]
  },
  {
   "cell_type": "code",
   "execution_count": 287,
   "id": "f9cbac83-39df-4e1a-9e20-e6b49e2013bc",
   "metadata": {
    "tags": []
   },
   "outputs": [
    {
     "data": {
      "image/svg+xml": [
       "<svg xmlns=\"http://www.w3.org/2000/svg\" xmlns:xlink=\"http://www.w3.org/1999/xlink\" width=\"100.0\" height=\"100.0\" viewBox=\"-63.05495142618015 18.094837802757752 0.03923696069140448 0.031051425472295335\" preserveAspectRatio=\"xMinYMin meet\"><g transform=\"matrix(1,0,0,-1,0,36.2207270309878)\"><path fill-rule=\"evenodd\" fill=\"#66cc99\" stroke=\"#555555\" stroke-width=\"0.0007847392138280896\" opacity=\"0.6\" d=\"M -63.0322885229265,18.098747398445 L -63.0325271574462,18.0986558424444 L -63.0330017839915,18.0985608564245 L -63.034054384709,18.0982318940733 L -63.0348187311893,18.098005792393 L -63.0352841848156,18.0978418830292 L -63.0355334501544,18.0977537108361 L -63.0361890900302,18.0974756517267 L -63.0365806747055,18.097182952918 L -63.0366054810262,18.0971648709951 L -63.0366828565918,18.0971253123824 L -63.0373036171931,18.0967387928075 L -63.0377174047457,18.0967014280602 L -63.0377487111579,18.0966946429784 L -63.0382318946991,18.0965985125775 L -63.0389657915052,18.0963023512611 L -63.0391113997676,18.0962910235241 L -63.0392331024828,18.0963621778431 L -63.0394579244858,18.0966106936972 L -63.0397657606555,18.0969394098247 L -63.0399040046248,18.0970128199546 L -63.0400026625583,18.0970500837703 L -63.0404994974059,18.0972375311696 L -63.0404702875492,18.0973708567599 L -63.0404638334767,18.0975617986906 L -63.0405179261585,18.0977448191236 L -63.0430645735337,18.1004196944038 L -63.0435587158996,18.1016126790732 L -63.0442039505885,18.1022373256235 L -63.0446725993103,18.1030167970198 L -63.0448835301421,18.1031670147766 L -63.0451077052061,18.1031308080474 L -63.0455267949688,18.1029860919073 L -63.0460655341344,18.102941900745 L -63.04636297438,18.10296103647 L -63.0463957607841,18.1029632882326 L -63.0465809509309,18.1029429067217 L -63.0467525544252,18.1029236581535 L -63.0478258865176,18.1027991140971 L -63.048057458235,18.1028126144117 L -63.0482128236483,18.1028204843955 L -63.0482462010931,18.1028238655209 L -63.0483628740112,18.1028340047135 L -63.0489344241,18.1028847026159 L -63.0498631554222,18.1032234121762 L -63.0502527864936,18.1033656689652 L -63.0503151156569,18.1033882492091 L -63.0508167214607,18.1036321598512 L -63.0516950833643,18.1044182845036 L -63.0517069011497,18.1044284497586 L -63.051788439558,18.1044837892921 L -63.0522472422031,18.1047966269865 L -63.0524171347818,18.1049796124946 L -63.0525592537142,18.1051321001527 L -63.052761626653,18.105277792271 L -63.0528987227696,18.1054235020988 L -63.0529758409415,18.10551047743 L -63.0527709485689,18.1058302740459 L -63.0526065485264,18.1062404453663 L -63.0525469542253,18.1064788546353 L -63.0525442992317,18.106490153606 L -63.0525000406508,18.1066494709466 L -63.0523702151551,18.1071172536697 L -63.0523622712568,18.1072223295174 L -63.0523499138396,18.1073850276169 L -63.0524590360246,18.1078177207566 L -63.0525568761544,18.1080549572522 L -63.0525369323659,18.1085306187979 L -63.0525336865871,18.1085419179272 L -63.0523259696394,18.1093113848603 L -63.0522622379603,18.1095475354441 L -63.0525322137214,18.1095463322188 L -63.0531215023192,18.1095732864732 L -63.0530860960142,18.1097032260262 L -63.0530503922374,18.1098263867072 L -63.0530152761106,18.1099393787999 L -63.0530014051759,18.1099789264652 L -63.0528718451506,18.110350674236 L -63.0528855197727,18.1106410353097 L -63.0529960454237,18.1108183873455 L -63.0531821837409,18.1109787710995 L -63.053324879802,18.111067987775 L -63.0534298172103,18.1113221691395 L -63.0534821950906,18.1116362457104 L -63.0534982054138,18.1118328306548 L -63.0533154463832,18.1121062987259 L -63.0530275081917,18.1123063570294 L -63.052798667399,18.1125775776277 L -63.0526427989637,18.1128928411604 L -63.0525929515304,18.1131357669187 L -63.0526417561648,18.1133571990781 L -63.0527118523344,18.1136577130669 L -63.0527122721149,18.1140734881242 L -63.0527699411297,18.1143028265701 L -63.0528089761911,18.1144496929663 L -63.0527779954306,18.1145660733026 L -63.0527257565518,18.1147152243395 L -63.0527402816032,18.1148858237471 L -63.0527562748259,18.1150270473324 L -63.0528026923698,18.1151660029313 L -63.0528990116138,18.1152416746968 L -63.0528925585281,18.1153930728397 L -63.052938112179,18.1156054671739 L -63.0529319915066,18.1158800159944 L -63.0528691197052,18.116033689266 L -63.0527773205814,18.1162574195024 L -63.0526698962808,18.1165839679039 L -63.0526307686811,18.1171172552854 L -63.0525821235415,18.1174336191331 L -63.0524658286545,18.1177341838669 L -63.052383775427,18.1179556515787 L -63.0523406840071,18.118076554391 L -63.0523309511444,18.118127399086 L -63.0523743937434,18.1181940468573 L -63.0523454784545,18.1183059072266 L -63.0521995819317,18.1183997221511 L -63.0518253655647,18.1185602580993 L -63.0516440123369,18.1186235769082 L -63.0515367962582,18.1186642792605 L -63.051459980957,18.1186202366869 L -63.0513636799167,18.1186112238015 L -63.0511909109548,18.1187366801763 L -63.0509522410393,18.1187661188576 L -63.0508021511688,18.1186633445771 L -63.0506172215659,18.118618200325 L -63.0505197409376,18.1186159662674 L -63.0504698103078,18.1185843443023 L -63.0503061601935,18.1185776081678 L -63.0502399906904,18.1185731061428 L -63.0501463534274,18.1185821691271 L -63.0500961403339,18.1185957400716 L -63.05003882462,18.1185629900916 L -63.0500367427412,18.1185132784057 L -63.0501008348196,18.1184838863408 L -63.0501194369042,18.1184567657417 L -63.0500281577112,18.1184477508816 L -63.0498884198998,18.1183890363062 L -63.0498092573177,18.118399225201 L -63.0497280307995,18.1184229724762 L -63.0496789811293,18.1183721430806 L -63.0497495412369,18.1182342864208 L -63.0496753577043,18.1180930776414 L -63.0496201029805,18.1180354708884 L -63.0495610209023,18.1180230580399 L -63.0495453463292,18.117956402491 L -63.0494800470703,18.1178942789862 L -63.0492951021689,18.1177903826445 L -63.0490165178044,18.1176853801483 L -63.0487769361719,18.1176187813739 L -63.0486371966258,18.1175498974729 L -63.0485228612105,18.1174821368964 L -63.0484389726834,18.1174923264186 L -63.0484333835348,18.1175770645843 L -63.0483870290041,18.1176572936986 L -63.0483190971482,18.1176878159824 L -63.0481950441169,18.1177307803483 L -63.0481090926425,18.1177590474182 L -63.0481888210945,18.1176584732037 L -63.0482762380111,18.1175884022626 L -63.048229853089,18.117557908647 L -63.0481639704534,18.1175206409549 L -63.0481184797691,18.1175195224992 L -63.0481114079498,18.1175839242035 L -63.0480942872356,18.1176279915937 L -63.0480464367762,18.1176393017682 L -63.0480003648218,18.117673207957 L -63.04795281435,18.1177014653855 L -63.04792032365,18.1177105120579 L -63.0479067288408,18.1176856593229 L -63.0479572270865,18.1176348047027 L -63.0480151101069,18.1175839482286 L -63.0480195335972,18.1175568313626 L -63.0479769940559,18.1175455437266 L -63.047843160264,18.1174676191896 L -63.0477276613945,18.1174653881913 L -63.0476990270372,18.1175343145159 L -63.0476627039007,18.1175716076808 L -63.0475870700834,18.1175219141452 L -63.0474234061555,18.117459814211 L -63.0474163033668,18.1174101037254 L -63.0474405115027,18.1173581258845 L -63.0473016688709,18.1173265249665 L -63.047132667316,18.1171864682707 L -63.046936163334,18.1169289164767 L -63.0467552859426,18.1165595081459 L -63.0466739966933,18.1163448613685 L -63.0460125572041,18.1161111469778 L -63.0456524572548,18.1160344046323 L -63.0455298840165,18.1160864055271 L -63.0454023050956,18.1162005478254 L -63.0453382307967,18.1162988575731 L -63.045282409345,18.1163271162928 L -63.0453208257492,18.1163881177367 L -63.0450839511758,18.1164988960302 L -63.0449596004895,18.1165328197985 L -63.0448574080678,18.1165825558594 L -63.0448583083371,18.1166379170075 L -63.0448039665276,18.1166774734796 L -63.0447165208571,18.1166379499692 L -63.0446438467561,18.1166063317619 L -63.0445865458545,18.1166255520333 L -63.044412295901,18.1167464834088 L -63.0441730293793,18.1167465384176 L -63.0439786224819,18.1165872777622 L -63.0438291082239,18.1163997611081 L -63.043419291756,18.1159524437208 L -63.0431435888162,18.1155254322801 L -63.0429154152348,18.1149775186929 L -63.0426051031165,18.1143369774213 L -63.0424750741178,18.1140929641601 L -63.0423849532924,18.1139766121383 L -63.0421143523193,18.1138625592526 L -63.0413593458518,18.1138627227946 L -63.0404516800956,18.1141035679966 L -63.0396642581698,18.1144505876562 L -63.0391258453175,18.1147998133338 L -63.0388178186156,18.1150834614346 L -63.0387501948932,18.1151749907804 L -63.0387254024052,18.1152665114977 L -63.038721284352,18.1153455999949 L -63.0387215978688,18.1154280770722 L -63.0387895683381,18.115569291378 L -63.0396063875374,18.1171904222272 L -63.0403703752294,18.1189381006197 L -63.0403485419218,18.1190510875344 L -63.0403810493208,18.1191120911861 L -63.0402797495924,18.1192024982653 L -63.0401982499959,18.1193313151544 L -63.040179661754,18.1194262241949 L -63.0401457273513,18.1195844065387 L -63.0400358874657,18.1197923168912 L -63.0399600624933,18.1201968093745 L -63.0399326556808,18.1204837901644 L -63.0399395138689,18.1207662445474 L -63.0398367334196,18.1208453534555 L -63.0398201686702,18.120745932439 L -63.0397726025296,18.1207143072166 L -63.0393779740335,18.1208149425622 L -63.039406065879,18.1209448664848 L -63.0394199703143,18.1210375091407 L -63.0393065455584,18.121073686662 L -63.0393496587784,18.1210070182916 L -63.0389098526949,18.1211946582849 L -63.0387066557004,18.1213630428758 L -63.0385972265277,18.122109877908 L -63.0385527344476,18.1226273457679 L -63.0385037387015,18.1228137763629 L -63.0384523695263,18.1229538846744 L -63.0385439446403,18.1229572558385 L -63.0385906289254,18.1230069587004 L -63.0384618460555,18.1230623457863 L -63.038338968182,18.1231041737351 L -63.0383891972668,18.1231538759395 L -63.0383697111054,18.1232013323861 L -63.0381664728343,18.1231923341852 L -63.0378468247459,18.1230828044378 L -63.0377168345695,18.1230195598521 L -63.0375033020113,18.1232195802136 L -63.0374489452244,18.1232060329152 L -63.037504757362,18.1231178958646 L -63.0375499362004,18.1230354099853 L -63.0375345640117,18.1229823113022 L -63.0374226071775,18.1229834629114 L -63.0373204107954,18.123042233536 L -63.0372705054237,18.1231247202762 L -63.0370480925847,18.1232411349525 L -63.0368262511157,18.1232660336035 L -63.0366631710119,18.1231779385266 L -63.0365881211683,18.1230920862534 L -63.0364752808612,18.1231067953555 L -63.0361340935609,18.1231136386074 L -63.0358602375248,18.1230210443079 L -63.0356877041474,18.1229273010467 L -63.0355547781855,18.1229499220914 L -63.0355630603718,18.123004152066 L -63.0355491806166,18.1230244914422 L -63.03542097144,18.1229996589582 L -63.0352454931248,18.1229499789389 L -63.0351311805224,18.1229884138061 L -63.0351409201965,18.1229454787554 L -63.0350011909385,18.1229229077392 L -63.0344857305163,18.1229975690431 L -63.0342042247209,18.1230574998617 L -63.0341389377285,18.1230405641002 L -63.0339968703967,18.1231479224146 L -63.0339162355688,18.1231987786657 L -63.0337700056968,18.1231671693177 L -63.03331334949,18.12335028017 L -63.0332847066129,18.1234090359166 L -63.0332374523193,18.1234621457568 L -63.0331104319785,18.1234757255113 L -63.0330144171893,18.1234271596068 L -63.0329692016428,18.1233254832848 L -63.0329742147996,18.1232791596844 L -63.0328675777152,18.123294995434 L -63.0328250476501,18.1233368061376 L -63.0328046556603,18.1232870974008 L -63.0327213385023,18.1232125432569 L -63.0325842501831,18.1230939350838 L -63.0324102308609,18.122942568162 L -63.0322577506499,18.1226522292381 L -63.0320385394747,18.1225212063516 L -63.0316326545256,18.1224952875103 L -63.0312362309249,18.122516818849 L -63.0307426397826,18.122649087568 L -63.0305152072729,18.1227993902044 L -63.0304803540658,18.1228231220076 L -63.0303970753611,18.1229643630505 L -63.030381718785,18.1229892215804 L -63.0303654765851,18.1230174697179 L -63.0303672526951,18.1230389360755 L -63.0303989250073,18.1234117726731 L -63.0304660277846,18.1236806599379 L -63.0303939616794,18.1237507203478 L -63.0302982543597,18.1237688125954 L -63.0301957384224,18.1237032989645 L -63.0301277807727,18.1236151834162 L -63.0301292398055,18.1235101096512 L -63.0299174257071,18.1234468725837 L -63.0293889455856,18.1234119294398 L -63.0284430784254,18.1234742117175 L -63.028264073818,18.1235307292205 L -63.0282478281471,18.1235397701879 L -63.0277811348944,18.1238076061198 L -63.0271957084111,18.1242065171784 L -63.0265600305972,18.1244065845519 L -63.0262132310583,18.1244360074637 L -63.0257364274847,18.1242858053248 L -63.0251890272324,18.1241627269994 L -63.0246197491179,18.1239052009804 L -63.0240537358296,18.1237482271098 L -63.0234693822522,18.1233935347772 L -63.0226380589101,18.1229100700105 L -63.0223370207529,18.1227180352293 L -63.0219399575285,18.1223610567536 L -63.0214660913154,18.1219984369038 L -63.0210114716674,18.1220018765048 L -63.0205078224992,18.1220640710669 L -63.0201867299582,18.1221251154417 L -63.0198851394603,18.1222381291358 L -63.0197752479777,18.1222144141628 L -63.0197752418876,18.1221601826495 L -63.0196547178382,18.1221522862239 L -63.0194963852402,18.1221681198413 L -63.0194378918134,18.1221297117641 L -63.0193737814655,18.1220517604214 L -63.0192907677035,18.1219930179458 L -63.0193572218174,18.1218947166568 L -63.019532088782,18.1218088324363 L -63.0196576299655,18.1217771846132 L -63.0196966173625,18.1217297280534 L -63.0196815436696,18.1216551612588 L -63.0197001370013,18.121504892862 L -63.0198933057494,18.1213094135775 L -63.0198773458143,18.1212348468866 L -63.0197588880272,18.1212077433152 L -63.019819130085,18.1210371338031 L -63.0200831811403,18.1207320541462 L -63.0204030564728,18.1203851647474 L -63.0206700752831,18.1202145329422 L -63.0207740231873,18.1199456237796 L -63.0206879932186,18.1193524757031 L -63.0206701477872,18.1183152995628 L -63.0206469624788,18.1170815345446 L -63.0206911894394,18.1163855583181 L -63.0205251177318,18.1158500395511 L -63.0203315654796,18.1152241375922 L -63.0203820089056,18.1146366237594 L -63.0204608009484,18.1139790577728 L -63.0203777499914,18.1135689403975 L -63.0201505588648,18.1132221082544 L -63.0200252822682,18.1129283670068 L -63.0200293747531,18.1125510052653 L -63.0199451435607,18.1121374982916 L -63.0198337483919,18.1118200291361 L -63.0195327114627,18.1114404388768 L -63.0191767457279,18.1111602781606 L -63.0188435360941,18.1109795391116 L -63.0184695892148,18.1110338068912 L -63.0180838329956,18.111147955752 L -63.0178487067251,18.11112199171 L -63.0177556537251,18.1110440424155 L -63.0176171185487,18.1110304972361 L -63.0174794728993,18.1110508466118 L -63.0174454862657,18.1108712075929 L -63.017385787202,18.1105458235181 L -63.0174223702552,18.1100995394997 L -63.0172784823455,18.1097120226019 L -63.0171676862551,18.1094148886122 L -63.0172796078066,18.1091403312039 L -63.0176520433663,18.1087787535311 L -63.0179905073268,18.1084002309284 L -63.0182985388108,18.1079516614682 L -63.0185663895874,18.1074262672766 L -63.0188440221177,18.1072375595687 L -63.0193254682139,18.1071008030781 L -63.0197519997452,18.1071945353102 L -63.0200760425302,18.1073402492464 L -63.0202854717767,18.1074125361131 L -63.0206502631809,18.1074384833471 L -63.0208224746835,18.1075039946637 L -63.0210407824188,18.1077163780341 L -63.021145358971,18.1078293490761 L -63.0213899337705,18.1078586975345 L -63.0214460591852,18.1078914562183 L -63.0214425234706,18.107963765402 L -63.0213613105137,18.1080914446269 L -63.0212936891282,18.1082552767088 L -63.0213105531906,18.1084834994542 L -63.0215403731922,18.1086201827033 L -63.0215530748268,18.1086235707576 L -63.0216626388046,18.1084529549324 L -63.0219899164442,18.1084529178689 L -63.0220817410152,18.1081523739728 L -63.0225008562199,18.1079647745769 L -63.0225794101988,18.1078393548323 L -63.0228023720827,18.107476654799 L -63.0233916340948,18.1073884578426 L -63.023837319583,18.1071251540328 L -63.0240599893867,18.1068121648563 L -63.0242563874036,18.106624589295 L -63.0249245106156,18.1065363777079 L -63.024982703881,18.1065691350986 L -63.0250291003444,18.1067295642257 L -63.0250556954108,18.1068097783425 L -63.0250642709016,18.1068775667246 L -63.0251029787713,18.1069747266321 L -63.0251378414963,18.1070346028098 L -63.0252190926139,18.1071961571591 L -63.0252628199085,18.1072786286507 L -63.0252684357582,18.1073046138872 L -63.0251898648781,18.1072967153976 L -63.0251470359887,18.1073001104649 L -63.0251293136503,18.1073012426013 L -63.0250832354728,18.1073035082532 L -63.0250693526872,18.1073023802345 L -63.0250584236517,18.1073012518308 L -63.0250483807413,18.1073001233113 L -63.0250327257063,18.1072989955203 L -63.0250046636396,18.1072888307388 L -63.0249715792415,18.1072718876546 L -63.024900679039,18.1071995880333 L -63.0248525332613,18.1072018538972 L -63.0249715122187,18.107544274942 L -63.02497009597,18.1076240620081 L -63.0249940557535,18.1077227023913 L -63.0250296597414,18.1078643400935 L -63.0250246229109,18.1081602914658 L -63.0252325150128,18.1081079240613 L -63.025735237138,18.1080502365247 L -63.0260004751742,18.107983541262 L -63.0261277772637,18.1079496293021 L -63.0263800198096,18.1078919738766 L -63.0264136931794,18.1078953587391 L -63.0265799924156,18.1079122832489 L -63.0267090821781,18.1079811847165 L -63.0267861887416,18.1080693003502 L -63.0268570859349,18.1081144834756 L -63.0269784873452,18.1081257647682 L -63.0270998863389,18.1081212284376 L -63.0272203974521,18.108105393908 L -63.0273279083071,18.1080658348263 L -63.0274173990561,18.1080127203512 L -63.0274938921456,18.10795282874 L -63.0275553227747,18.1079042375004 L -63.027616162618,18.1078556463256 L -63.0276666598396,18.1077788109958 L -63.0277384194415,18.1076725971476 L -63.0287743791727,18.1081469716861 L -63.0290141742202,18.1078396233941 L -63.0304056772435,18.1060531557334 L -63.032567422897,18.1039750542449 L -63.0348215764222,18.1004484751526 L -63.0322885229265,18.098747398445 z\" /></g></svg>"
      ],
      "text/plain": [
       "<POLYGON ((-63.032 18.099, -63.033 18.099, -63.033 18.099, -63.034 18.098, -...>"
      ]
     },
     "execution_count": 287,
     "metadata": {},
     "output_type": "execute_result"
    }
   ],
   "source": [
    "gdf.iloc[-100:, :].dissolve(by=\"gr\").wkt[0]"
   ]
  },
  {
   "cell_type": "code",
   "execution_count": 302,
   "id": "f517da65-bcd2-43cf-9100-7e24c018c63e",
   "metadata": {
    "tags": []
   },
   "outputs": [
    {
     "data": {
      "text/html": [
       "<div>\n",
       "<style scoped>\n",
       "    .dataframe tbody tr th:only-of-type {\n",
       "        vertical-align: middle;\n",
       "    }\n",
       "\n",
       "    .dataframe tbody tr th {\n",
       "        vertical-align: top;\n",
       "    }\n",
       "\n",
       "    .dataframe thead th {\n",
       "        text-align: right;\n",
       "    }\n",
       "</style>\n",
       "<table border=\"1\" class=\"dataframe\">\n",
       "  <thead>\n",
       "    <tr style=\"text-align: right;\">\n",
       "      <th></th>\n",
       "      <th>wkt</th>\n",
       "      <th>depcom</th>\n",
       "      <th>code_ilot</th>\n",
       "      <th>srid</th>\n",
       "    </tr>\n",
       "    <tr>\n",
       "      <th>gr</th>\n",
       "      <th></th>\n",
       "      <th></th>\n",
       "      <th></th>\n",
       "      <th></th>\n",
       "    </tr>\n",
       "  </thead>\n",
       "  <tbody>\n",
       "    <tr>\n",
       "      <th>1</th>\n",
       "      <td>MULTIPOLYGON (((-61.01182 14.61412, -61.01153 ...</td>\n",
       "      <td>97213</td>\n",
       "      <td>0723</td>\n",
       "      <td>4326</td>\n",
       "    </tr>\n",
       "    <tr>\n",
       "      <th>2</th>\n",
       "      <td>MULTIPOLYGON (((-61.02822 14.60984, -61.02829 ...</td>\n",
       "      <td>97213</td>\n",
       "      <td>0701</td>\n",
       "      <td>4326</td>\n",
       "    </tr>\n",
       "    <tr>\n",
       "      <th>3</th>\n",
       "      <td>MULTIPOLYGON (((-61.02920 14.61060, -61.02943 ...</td>\n",
       "      <td>97213</td>\n",
       "      <td>0811</td>\n",
       "      <td>4326</td>\n",
       "    </tr>\n",
       "    <tr>\n",
       "      <th>4</th>\n",
       "      <td>MULTIPOLYGON (((-61.21350 14.78299, -61.21351 ...</td>\n",
       "      <td>97202</td>\n",
       "      <td>0168</td>\n",
       "      <td>4326</td>\n",
       "    </tr>\n",
       "    <tr>\n",
       "      <th>5</th>\n",
       "      <td>MULTIPOLYGON (((-61.17904 14.69840, -61.17909 ...</td>\n",
       "      <td>97306</td>\n",
       "      <td>RN16</td>\n",
       "      <td>4326</td>\n",
       "    </tr>\n",
       "  </tbody>\n",
       "</table>\n",
       "</div>"
      ],
      "text/plain": [
       "                                                  wkt depcom code_ilot  srid\n",
       "gr                                                                          \n",
       "1   MULTIPOLYGON (((-61.01182 14.61412, -61.01153 ...  97213      0723  4326\n",
       "2   MULTIPOLYGON (((-61.02822 14.60984, -61.02829 ...  97213      0701  4326\n",
       "3   MULTIPOLYGON (((-61.02920 14.61060, -61.02943 ...  97213      0811  4326\n",
       "4   MULTIPOLYGON (((-61.21350 14.78299, -61.21351 ...  97202      0168  4326\n",
       "5   MULTIPOLYGON (((-61.17904 14.69840, -61.17909 ...  97306      RN16  4326"
      ]
     },
     "execution_count": 302,
     "metadata": {},
     "output_type": "execute_result"
    }
   ],
   "source": [
    "gdf.iloc[-736:, :].dissolve(by=\"gr\")"
   ]
  },
  {
   "cell_type": "code",
   "execution_count": 305,
   "id": "bc7d237a-d0d8-427a-a7fa-90fae539e437",
   "metadata": {
    "tags": []
   },
   "outputs": [
    {
     "data": {
      "image/svg+xml": [
       "<svg xmlns=\"http://www.w3.org/2000/svg\" xmlns:xlink=\"http://www.w3.org/1999/xlink\" width=\"100.0\" height=\"100.0\" viewBox=\"-53.94810630158572 5.470436362281394 0.02558696271433547 0.01212430658919228\" preserveAspectRatio=\"xMinYMin meet\"><g transform=\"matrix(1,0,0,-1,0,10.95299703115198)\"><g><path fill-rule=\"evenodd\" fill=\"#66cc99\" stroke=\"#555555\" stroke-width=\"0.0005117392542867094\" opacity=\"0.6\" d=\"M -53.9303363181204,5.47452569229105 L -53.9303111160885,5.47457677575323 L -53.9302665426874,5.47470969311287 L -53.9299659334494,5.47548609683523 L -53.9295793401062,5.47534072146815 L -53.9293239036177,5.47546755509873 L -53.929190655641,5.47569136672031 L -53.9291135818215,5.47585937159127 L -53.9289810867085,5.47616491242362 L -53.9288198155864,5.47655871559699 L -53.9287557645955,5.47673611122183 L -53.9287461266031,5.47674545556378 L -53.9287333615315,5.47676422874552 L -53.9276382292854,5.47664400242363 L -53.9265681735869,5.47648931891691 L -53.9258086183445,5.47640629772517 L -53.9252326946723,5.47755924703524 L -53.9249578826702,5.47741061194644 L -53.9247770027336,5.47729585001215 L -53.9242078216417,5.47687037974192 L -53.9239109682698,5.47645351662958 L -53.9236530680792,5.47607440926305 L -53.9234670041571,5.47582053521848 L -53.9234732150821,5.47561451031942 L -53.9235460738755,5.47520848980424 L -53.9236101233608,5.47484497613095 L -53.9237091193323,5.47443702110148 L -53.9237247689979,5.4741324703185 L -53.9237638993734,5.47383593626642 L -53.9237858297191,5.47363253353187 L -53.9237605312754,5.4735935173906 L -53.9237616780805,5.47348055288335 L -53.9237693436039,5.47320269241772 L -53.923742748784,5.47286119020497 L -53.9236485173611,5.47237388159641 L -53.9235666785059,5.47184290785539 L -53.92353050274,5.47163437936451 L -53.9235482197507,5.47138402756711 L -53.9236286226068,5.47141706416107 L -53.9240930346244,5.47162079218575 L -53.9303363181204,5.47452569229105 z\" /><path fill-rule=\"evenodd\" fill=\"#66cc99\" stroke=\"#555555\" stroke-width=\"0.0005117392542867094\" opacity=\"0.6\" d=\"M -53.9450723438603,5.48161300358487 L -53.9443010618863,5.48138528576909 L -53.9424373976379,5.48083430220093 L -53.9374762808342,5.47953057048475 L -53.9371613128958,5.47944759419187 L -53.936869341224,5.47935303813041 L -53.9363345189756,5.4791999459855 L -53.9362764274895,5.4791818439504 L -53.936089743184,5.47902482088899 L -53.9359902471908,5.47895935548435 L -53.9358504327722,5.47876127706631 L -53.9357837787601,5.47858994385895 L -53.9357612359331,5.47840484207342 L -53.9357525313289,5.47809951019814 L -53.9357706534497,5.47774887295462 L -53.9358472810489,5.47737807226651 L -53.9359735880365,5.47702600089111 L -53.936162350831,5.47672421778103 L -53.9363110457579,5.47652562737909 L -53.9364463670455,5.47635782073379 L -53.9366007140154,5.47620889372537 L -53.9363360748137,5.47629692550402 L -53.9360913628051,5.47640383243373 L -53.9357809989324,5.47654448989445 L -53.9355111792887,5.47667952757451 L -53.9351924934542,5.47677776233874 L -53.9349420890271,5.47682687447368 L -53.9347059729809,5.47684790871123 L -53.9344997412454,5.47689590062966 L -53.9338898736462,5.47681667406455 L -53.9337445432695,5.47678124735876 L -53.9335429446776,5.47667020433134 L -53.93329607326,5.47651963006851 L -53.9327580079356,5.47618888343306 L -53.9320987923548,5.47578916158474 L -53.9321895246989,5.4751671243124 L -53.9322128141709,5.4749510790107 L -53.9330195676864,5.47509981518573 L -53.9340786161165,5.47525570469246 L -53.9355640865221,5.47553245595794 L -53.9373742539604,5.47586294806079 L -53.9390378701227,5.47618511825496 L -53.9392767335961,5.47622647777802 L -53.9400839540874,5.47647096825104 L -53.9405057306243,5.47662067957657 L -53.9411952212774,5.47694254139502 L -53.9415360379191,5.47712969180994 L -53.9418289608369,5.47729449058484 L -53.9426547277448,5.47782799535043 L -53.9438491028414,5.47851598487231 L -53.9443803249843,5.4787374311429 L -53.9456699957208,5.47909671456422 L -53.9462617980442,5.47929538815957 L -53.9471586363,5.48010578938371 L -53.9450723438603,5.48161300358487 z\" /></g></g></svg>"
      ],
      "text/plain": [
       "<MULTIPOLYGON (((-53.93 5.475, -53.93 5.475, -53.93 5.475, -53.93 5.475, -53...>"
      ]
     },
     "execution_count": 305,
     "metadata": {},
     "output_type": "execute_result"
    }
   ],
   "source": [
    "gdf.iloc[-737, :].wkt.buffer(0)"
   ]
  },
  {
   "cell_type": "code",
   "execution_count": 306,
   "id": "82881ff9-2dcb-4bbc-8aae-deda5943a81e",
   "metadata": {
    "tags": []
   },
   "outputs": [
    {
     "data": {
      "image/svg+xml": [
       "<svg xmlns=\"http://www.w3.org/2000/svg\" xmlns:xlink=\"http://www.w3.org/1999/xlink\" width=\"100.0\" height=\"100.0\" viewBox=\"-53.94810630158572 5.470436362281394 0.02558696271433547 0.01212430658919228\" preserveAspectRatio=\"xMinYMin meet\"><g transform=\"matrix(1,0,0,-1,0,10.95299703115198)\"><g><path fill-rule=\"evenodd\" fill=\"#ff3333\" stroke=\"#555555\" stroke-width=\"0.0005117392542867094\" opacity=\"0.6\" d=\"M -53.9303363181204,5.47452569229105 L -53.9303111160885,5.47457677575323 L -53.9302665426874,5.47470969311287 L -53.9299659334494,5.47548609683523 L -53.9295793401062,5.47534072146815 L -53.9295793401062,5.47534072146815 L -53.9293239036177,5.47546755509873 L -53.929190655641,5.47569136672031 L -53.9291135818215,5.47585937159127 L -53.9289810867085,5.47616491242362 L -53.9288198155864,5.47655871559699 L -53.9287557645955,5.47673611122183 L -53.9287461266031,5.47674545556378 L -53.9287333615315,5.47676422874552 L -53.9276382292854,5.47664400242363 L -53.9265681735869,5.47648931891691 L -53.9258086183445,5.47640629772517 L -53.9252326946723,5.47755924703524 L -53.9249578826702,5.47741061194644 L -53.9247770027336,5.47729585001215 L -53.9242078216417,5.47687037974192 L -53.9239109682698,5.47645351662958 L -53.9236530680792,5.47607440926305 L -53.9234670041571,5.47582053521848 L -53.9234732150821,5.47561451031942 L -53.9235460738755,5.47520848980424 L -53.9236101233608,5.47484497613095 L -53.9237091193323,5.47443702110148 L -53.9237247689979,5.4741324703185 L -53.9237638993734,5.47383593626642 L -53.9237858297191,5.47363253353187 L -53.9237605312754,5.4735935173906 L -53.9237616780805,5.47348055288335 L -53.9237693436039,5.47320269241772 L -53.923742748784,5.47286119020497 L -53.9236485173611,5.47237388159641 L -53.9235666785059,5.47184290785539 L -53.92353050274,5.47163437936451 L -53.92353050274,5.47163437936451 L -53.9235482197507,5.47138402756711 L -53.9236286226068,5.47141706416107 L -53.9240930346244,5.47162079218575 L -53.9240930346244,5.47162079218575 L -53.9303363181204,5.47452569229105 z\" /><path fill-rule=\"evenodd\" fill=\"#ff3333\" stroke=\"#555555\" stroke-width=\"0.0005117392542867094\" opacity=\"0.6\" d=\"M -53.9450723438603,5.48161300358487 L -53.9443010618863,5.48138528576909 L -53.9424373976379,5.48083430220093 L -53.9374762808342,5.47953057048475 L -53.9371613128958,5.47944759419187 L -53.936869341224,5.47935303813041 L -53.9363345189756,5.4791999459855 L -53.9362764274895,5.4791818439504 L -53.9362764274895,5.4791818439504 L -53.936089743184,5.47902482088899 L -53.9359902471908,5.47895935548435 L -53.9358504327722,5.47876127706631 L -53.9357837787601,5.47858994385895 L -53.9357612359331,5.47840484207342 L -53.9357525313289,5.47809951019814 L -53.9357706534497,5.47774887295462 L -53.9358472810489,5.47737807226651 L -53.9359735880365,5.47702600089111 L -53.936162350831,5.47672421778103 L -53.9363110457579,5.47652562737909 L -53.9364463670455,5.47635782073379 L -53.9366007140154,5.47620889372537 L -53.9363360748137,5.47629692550402 L -53.9360913628051,5.47640383243373 L -53.9357809989324,5.47654448989445 L -53.9355111792887,5.47667952757451 L -53.9351924934542,5.47677776233874 L -53.9349420890271,5.47682687447368 L -53.9347059729809,5.47684790871123 L -53.9344997412454,5.47689590062966 L -53.9338898736462,5.47681667406455 L -53.9337445432695,5.47678124735876 L -53.9335429446776,5.47667020433134 L -53.93329607326,5.47651963006851 L -53.9327580079356,5.47618888343306 L -53.9320987923548,5.47578916158474 L -53.9321895246989,5.4751671243124 L -53.9322128141709,5.4749510790107 L -53.931970052285,5.47490348002909 L -53.9315268294273,5.47482831895961 L -53.9313943664293,5.47480781965649 L -53.9307762357298,5.47465298997489 L -53.9307762357298,5.47465298997489 L -53.9307762357298,5.47465298997489 L -53.9313943664293,5.47480781965649 L -53.931970052285,5.47490348002909 L -53.9322128141709,5.4749510790107 L -53.9330195676864,5.47509981518573 L -53.9340786161165,5.47525570469246 L -53.9355640865221,5.47553245595794 L -53.9373742539604,5.47586294806079 L -53.9390378701227,5.47618511825496 L -53.9392767335961,5.47622647777802 L -53.9400839540874,5.47647096825104 L -53.9405057306243,5.47662067957657 L -53.9411952212774,5.47694254139502 L -53.9415360379191,5.47712969180994 L -53.9418289608369,5.47729449058484 L -53.9426547277448,5.47782799535043 L -53.9438491028414,5.47851598487231 L -53.9443803249843,5.4787374311429 L -53.9443803249843,5.4787374311429 L -53.9456699957208,5.47909671456422 L -53.9462617980442,5.47929538815957 L -53.9471586363,5.48010578938371 L -53.9450723438603,5.48161300358487 z\" /></g></g></svg>"
      ],
      "text/plain": [
       "<MULTIPOLYGON (((-53.93 5.475, -53.93 5.475, -53.93 5.475, -53.93 5.475, -53...>"
      ]
     },
     "execution_count": 306,
     "metadata": {},
     "output_type": "execute_result"
    }
   ],
   "source": [
    "gdf.iloc[-737, :].wkt"
   ]
  },
  {
   "cell_type": "code",
   "execution_count": 314,
   "id": "2cec6f11-80b8-48d8-9f6f-b72ab5b65b31",
   "metadata": {
    "tags": []
   },
   "outputs": [
    {
     "name": "stderr",
     "output_type": "stream",
     "text": [
      "/tmp/ipykernel_383/587084125.py:1: SettingWithCopyWarning: \n",
      "A value is trying to be set on a copy of a slice from a DataFrame\n",
      "\n",
      "See the caveats in the documentation: https://pandas.pydata.org/pandas-docs/stable/user_guide/indexing.html#returning-a-view-versus-a-copy\n",
      "  gdf.iloc[-737, :].loc[\"wkt\"] = gdf.iloc[-737, :].wkt.buffer(0)\n"
     ]
    }
   ],
   "source": [
    "gdf.iloc[-737, :].loc[\"wkt\"] = gdf.iloc[-737, :].wkt.buffer(0)"
   ]
  },
  {
   "cell_type": "code",
   "execution_count": 315,
   "id": "a7a3564f-ae1e-43fc-a3b6-74f9c1b09359",
   "metadata": {
    "tags": []
   },
   "outputs": [
    {
     "data": {
      "image/svg+xml": [
       "<svg xmlns=\"http://www.w3.org/2000/svg\" xmlns:xlink=\"http://www.w3.org/1999/xlink\" width=\"100.0\" height=\"100.0\" viewBox=\"-53.94810630158572 5.470436362281394 0.02558696271433547 0.01212430658919228\" preserveAspectRatio=\"xMinYMin meet\"><g transform=\"matrix(1,0,0,-1,0,10.95299703115198)\"><g><path fill-rule=\"evenodd\" fill=\"#66cc99\" stroke=\"#555555\" stroke-width=\"0.0005117392542867094\" opacity=\"0.6\" d=\"M -53.9303363181204,5.47452569229105 L -53.9303111160885,5.47457677575323 L -53.9302665426874,5.47470969311287 L -53.9299659334494,5.47548609683523 L -53.9295793401062,5.47534072146815 L -53.9293239036177,5.47546755509873 L -53.929190655641,5.47569136672031 L -53.9291135818215,5.47585937159127 L -53.9289810867085,5.47616491242362 L -53.9288198155864,5.47655871559699 L -53.9287557645955,5.47673611122183 L -53.9287461266031,5.47674545556378 L -53.9287333615315,5.47676422874552 L -53.9276382292854,5.47664400242363 L -53.9265681735869,5.47648931891691 L -53.9258086183445,5.47640629772517 L -53.9252326946723,5.47755924703524 L -53.9249578826702,5.47741061194644 L -53.9247770027336,5.47729585001215 L -53.9242078216417,5.47687037974192 L -53.9239109682698,5.47645351662958 L -53.9236530680792,5.47607440926305 L -53.9234670041571,5.47582053521848 L -53.9234732150821,5.47561451031942 L -53.9235460738755,5.47520848980424 L -53.9236101233608,5.47484497613095 L -53.9237091193323,5.47443702110148 L -53.9237247689979,5.4741324703185 L -53.9237638993734,5.47383593626642 L -53.9237858297191,5.47363253353187 L -53.9237605312754,5.4735935173906 L -53.9237616780805,5.47348055288335 L -53.9237693436039,5.47320269241772 L -53.923742748784,5.47286119020497 L -53.9236485173611,5.47237388159641 L -53.9235666785059,5.47184290785539 L -53.92353050274,5.47163437936451 L -53.9235482197507,5.47138402756711 L -53.9236286226068,5.47141706416107 L -53.9240930346244,5.47162079218575 L -53.9303363181204,5.47452569229105 z\" /><path fill-rule=\"evenodd\" fill=\"#66cc99\" stroke=\"#555555\" stroke-width=\"0.0005117392542867094\" opacity=\"0.6\" d=\"M -53.9450723438603,5.48161300358487 L -53.9443010618863,5.48138528576909 L -53.9424373976379,5.48083430220093 L -53.9374762808342,5.47953057048475 L -53.9371613128958,5.47944759419187 L -53.936869341224,5.47935303813041 L -53.9363345189756,5.4791999459855 L -53.9362764274895,5.4791818439504 L -53.936089743184,5.47902482088899 L -53.9359902471908,5.47895935548435 L -53.9358504327722,5.47876127706631 L -53.9357837787601,5.47858994385895 L -53.9357612359331,5.47840484207342 L -53.9357525313289,5.47809951019814 L -53.9357706534497,5.47774887295462 L -53.9358472810489,5.47737807226651 L -53.9359735880365,5.47702600089111 L -53.936162350831,5.47672421778103 L -53.9363110457579,5.47652562737909 L -53.9364463670455,5.47635782073379 L -53.9366007140154,5.47620889372537 L -53.9363360748137,5.47629692550402 L -53.9360913628051,5.47640383243373 L -53.9357809989324,5.47654448989445 L -53.9355111792887,5.47667952757451 L -53.9351924934542,5.47677776233874 L -53.9349420890271,5.47682687447368 L -53.9347059729809,5.47684790871123 L -53.9344997412454,5.47689590062966 L -53.9338898736462,5.47681667406455 L -53.9337445432695,5.47678124735876 L -53.9335429446776,5.47667020433134 L -53.93329607326,5.47651963006851 L -53.9327580079356,5.47618888343306 L -53.9320987923548,5.47578916158474 L -53.9321895246989,5.4751671243124 L -53.9322128141709,5.4749510790107 L -53.9330195676864,5.47509981518573 L -53.9340786161165,5.47525570469246 L -53.9355640865221,5.47553245595794 L -53.9373742539604,5.47586294806079 L -53.9390378701227,5.47618511825496 L -53.9392767335961,5.47622647777802 L -53.9400839540874,5.47647096825104 L -53.9405057306243,5.47662067957657 L -53.9411952212774,5.47694254139502 L -53.9415360379191,5.47712969180994 L -53.9418289608369,5.47729449058484 L -53.9426547277448,5.47782799535043 L -53.9438491028414,5.47851598487231 L -53.9443803249843,5.4787374311429 L -53.9456699957208,5.47909671456422 L -53.9462617980442,5.47929538815957 L -53.9471586363,5.48010578938371 L -53.9450723438603,5.48161300358487 z\" /></g></g></svg>"
      ],
      "text/plain": [
       "<MULTIPOLYGON (((-53.93 5.475, -53.93 5.475, -53.93 5.475, -53.93 5.475, -53...>"
      ]
     },
     "execution_count": 315,
     "metadata": {},
     "output_type": "execute_result"
    }
   ],
   "source": [
    "gdf.iloc[-737, :].loc[\"wkt\"].buffer(0)"
   ]
  },
  {
   "cell_type": "code",
   "execution_count": 325,
   "id": "b18052b7-26ad-40c0-9c4c-08f4c99a0b70",
   "metadata": {
    "tags": []
   },
   "outputs": [],
   "source": [
    "a = gdf.iloc[-737:-735, :].copy()"
   ]
  },
  {
   "cell_type": "code",
   "execution_count": 326,
   "id": "8afa1cac-0a55-480d-9ab8-731e5319e3c2",
   "metadata": {
    "tags": []
   },
   "outputs": [
    {
     "data": {
      "text/html": [
       "<div>\n",
       "<style scoped>\n",
       "    .dataframe tbody tr th:only-of-type {\n",
       "        vertical-align: middle;\n",
       "    }\n",
       "\n",
       "    .dataframe tbody tr th {\n",
       "        vertical-align: top;\n",
       "    }\n",
       "\n",
       "    .dataframe thead th {\n",
       "        text-align: right;\n",
       "    }\n",
       "</style>\n",
       "<table border=\"1\" class=\"dataframe\">\n",
       "  <thead>\n",
       "    <tr style=\"text-align: right;\">\n",
       "      <th></th>\n",
       "      <th>depcom</th>\n",
       "      <th>gr</th>\n",
       "      <th>code_ilot</th>\n",
       "      <th>wkt</th>\n",
       "      <th>srid</th>\n",
       "    </tr>\n",
       "  </thead>\n",
       "  <tbody>\n",
       "    <tr>\n",
       "      <th>19529</th>\n",
       "      <td>97311</td>\n",
       "      <td>2</td>\n",
       "      <td>AW01</td>\n",
       "      <td>MULTIPOLYGON (((-53.93034 5.47453, -53.93031 5...</td>\n",
       "      <td>4326</td>\n",
       "    </tr>\n",
       "    <tr>\n",
       "      <th>19530</th>\n",
       "      <td>97306</td>\n",
       "      <td>5</td>\n",
       "      <td>RN16</td>\n",
       "      <td>MULTIPOLYGON (((-53.92764 5.47664, -53.92873 5...</td>\n",
       "      <td>4326</td>\n",
       "    </tr>\n",
       "  </tbody>\n",
       "</table>\n",
       "</div>"
      ],
      "text/plain": [
       "      depcom gr code_ilot                                                wkt  \\\n",
       "19529  97311  2      AW01  MULTIPOLYGON (((-53.93034 5.47453, -53.93031 5...   \n",
       "19530  97306  5      RN16  MULTIPOLYGON (((-53.92764 5.47664, -53.92873 5...   \n",
       "\n",
       "       srid  \n",
       "19529  4326  \n",
       "19530  4326  "
      ]
     },
     "execution_count": 326,
     "metadata": {},
     "output_type": "execute_result"
    }
   ],
   "source": [
    "a"
   ]
  },
  {
   "cell_type": "code",
   "execution_count": 328,
   "id": "54a9f02e-4cb2-45c2-a7da-09d4546ee303",
   "metadata": {
    "tags": []
   },
   "outputs": [],
   "source": [
    "b = a.copy()"
   ]
  },
  {
   "cell_type": "code",
   "execution_count": 329,
   "id": "f0e4079b-f8c6-485c-9340-2e5cf5269014",
   "metadata": {
    "tags": []
   },
   "outputs": [],
   "source": [
    "b[\"wkt\"] = [geom.buffer(0) for geom in b[\"wkt\"]]"
   ]
  },
  {
   "cell_type": "code",
   "execution_count": 330,
   "id": "fdcd7ac9-8a75-431f-9d9a-1b2915efded2",
   "metadata": {
    "tags": []
   },
   "outputs": [
    {
     "data": {
      "text/html": [
       "<div>\n",
       "<style scoped>\n",
       "    .dataframe tbody tr th:only-of-type {\n",
       "        vertical-align: middle;\n",
       "    }\n",
       "\n",
       "    .dataframe tbody tr th {\n",
       "        vertical-align: top;\n",
       "    }\n",
       "\n",
       "    .dataframe thead th {\n",
       "        text-align: right;\n",
       "    }\n",
       "</style>\n",
       "<table border=\"1\" class=\"dataframe\">\n",
       "  <thead>\n",
       "    <tr style=\"text-align: right;\">\n",
       "      <th></th>\n",
       "      <th>depcom</th>\n",
       "      <th>gr</th>\n",
       "      <th>code_ilot</th>\n",
       "      <th>wkt</th>\n",
       "      <th>srid</th>\n",
       "    </tr>\n",
       "  </thead>\n",
       "  <tbody>\n",
       "    <tr>\n",
       "      <th>19529</th>\n",
       "      <td>97311</td>\n",
       "      <td>2</td>\n",
       "      <td>AW01</td>\n",
       "      <td>MULTIPOLYGON (((-53.93034 5.47453, -53.93031 5...</td>\n",
       "      <td>4326</td>\n",
       "    </tr>\n",
       "    <tr>\n",
       "      <th>19530</th>\n",
       "      <td>97306</td>\n",
       "      <td>5</td>\n",
       "      <td>RN16</td>\n",
       "      <td>POLYGON ((-53.93629 5.47919, -53.93594 5.47946...</td>\n",
       "      <td>4326</td>\n",
       "    </tr>\n",
       "  </tbody>\n",
       "</table>\n",
       "</div>"
      ],
      "text/plain": [
       "      depcom gr code_ilot                                                wkt  \\\n",
       "19529  97311  2      AW01  MULTIPOLYGON (((-53.93034 5.47453, -53.93031 5...   \n",
       "19530  97306  5      RN16  POLYGON ((-53.93629 5.47919, -53.93594 5.47946...   \n",
       "\n",
       "       srid  \n",
       "19529  4326  \n",
       "19530  4326  "
      ]
     },
     "execution_count": 330,
     "metadata": {},
     "output_type": "execute_result"
    }
   ],
   "source": [
    "b"
   ]
  },
  {
   "cell_type": "code",
   "execution_count": 342,
   "id": "448fc835-171c-4e69-b774-e85cff2b4a22",
   "metadata": {
    "tags": []
   },
   "outputs": [],
   "source": [
    "gdf[\"wkt\"] = [geom.buffer(0) for geom in gdf[\"wkt\"]]"
   ]
  },
  {
   "cell_type": "code",
   "execution_count": 343,
   "id": "64550930-1a64-43fd-b70c-ce882991cda7",
   "metadata": {
    "tags": []
   },
   "outputs": [
    {
     "data": {
      "text/html": [
       "<div>\n",
       "<style scoped>\n",
       "    .dataframe tbody tr th:only-of-type {\n",
       "        vertical-align: middle;\n",
       "    }\n",
       "\n",
       "    .dataframe tbody tr th {\n",
       "        vertical-align: top;\n",
       "    }\n",
       "\n",
       "    .dataframe thead th {\n",
       "        text-align: right;\n",
       "    }\n",
       "</style>\n",
       "<table border=\"1\" class=\"dataframe\">\n",
       "  <thead>\n",
       "    <tr style=\"text-align: right;\">\n",
       "      <th></th>\n",
       "      <th>wkt</th>\n",
       "      <th>depcom</th>\n",
       "      <th>code_ilot</th>\n",
       "      <th>srid</th>\n",
       "    </tr>\n",
       "    <tr>\n",
       "      <th>gr</th>\n",
       "      <th></th>\n",
       "      <th></th>\n",
       "      <th></th>\n",
       "      <th></th>\n",
       "    </tr>\n",
       "  </thead>\n",
       "  <tbody>\n",
       "    <tr>\n",
       "      <th>1</th>\n",
       "      <td>MULTIPOLYGON (((-61.72288 15.99018, -61.72282 ...</td>\n",
       "      <td>97422</td>\n",
       "      <td>CX04</td>\n",
       "      <td>4326</td>\n",
       "    </tr>\n",
       "    <tr>\n",
       "      <th>2</th>\n",
       "      <td>MULTIPOLYGON (((-61.72490 15.98737, -61.72493 ...</td>\n",
       "      <td>97405</td>\n",
       "      <td>AB01</td>\n",
       "      <td>4326</td>\n",
       "    </tr>\n",
       "    <tr>\n",
       "      <th>3</th>\n",
       "      <td>MULTIPOLYGON (((-61.62250 15.85324, -61.62251 ...</td>\n",
       "      <td>97422</td>\n",
       "      <td>DL06</td>\n",
       "      <td>4326</td>\n",
       "    </tr>\n",
       "    <tr>\n",
       "      <th>4</th>\n",
       "      <td>MULTIPOLYGON (((-61.66700 15.98766, -61.66695 ...</td>\n",
       "      <td>97405</td>\n",
       "      <td>AB02</td>\n",
       "      <td>4326</td>\n",
       "    </tr>\n",
       "    <tr>\n",
       "      <th>5</th>\n",
       "      <td>MULTIPOLYGON (((-61.70326 15.94898, -61.70332 ...</td>\n",
       "      <td>97418</td>\n",
       "      <td>AV19</td>\n",
       "      <td>4326</td>\n",
       "    </tr>\n",
       "  </tbody>\n",
       "</table>\n",
       "</div>"
      ],
      "text/plain": [
       "                                                  wkt depcom code_ilot  srid\n",
       "gr                                                                          \n",
       "1   MULTIPOLYGON (((-61.72288 15.99018, -61.72282 ...  97422      CX04  4326\n",
       "2   MULTIPOLYGON (((-61.72490 15.98737, -61.72493 ...  97405      AB01  4326\n",
       "3   MULTIPOLYGON (((-61.62250 15.85324, -61.62251 ...  97422      DL06  4326\n",
       "4   MULTIPOLYGON (((-61.66700 15.98766, -61.66695 ...  97405      AB02  4326\n",
       "5   MULTIPOLYGON (((-61.70326 15.94898, -61.70332 ...  97418      AV19  4326"
      ]
     },
     "execution_count": 343,
     "metadata": {},
     "output_type": "execute_result"
    }
   ],
   "source": [
    "gdf.dissolve(by=\"gr\")"
   ]
  },
  {
   "cell_type": "markdown",
   "id": "f94b1a38-f117-4fc5-9d7c-6694bcd5b1e7",
   "metadata": {},
   "source": [
    "Compute intersection between image and polygon"
   ]
  },
  {
   "cell_type": "markdown",
   "id": "bf712506-7ecf-4005-8931-68efc2c38b8a",
   "metadata": {},
   "source": [
    "En fait là on a un problème, déjà il faut séparer en fonction du département."
   ]
  },
  {
   "cell_type": "code",
   "execution_count": 360,
   "id": "bb0a76f3-88e4-4141-aaf9-a722e8e2692c",
   "metadata": {
    "tags": []
   },
   "outputs": [],
   "source": [
    "def compute_gr_geometry(dep):\n",
    "    fs.get('projet-slums-detection/Donnees/RIL/rca_geometry_ilots.rds', 'rca_geometry_ilots.rds')\n",
    "    result = pyreadr.read_r('rca_geometry_ilots.rds')\n",
    "    df_geom = result[None]\n",
    "    df_geom['wkt'] = df_geom['wkt'].apply(wkt.loads)\n",
    "    gdf = gpd.GeoDataFrame(df_geom, geometry=\"wkt\", crs=\"EPSG:4326\")\n",
    "    gdf[\"dep\"] = gdf.depcom.str[:3]\n",
    "    gdf = gdf[gdf.dep == dep]\n",
    "    \n",
    "    return gdf.dissolve(by=\"gr\").to_crs(\"epsg:\" + dep_to_crs[dep])"
   ]
  },
  {
   "cell_type": "code",
   "execution_count": 361,
   "id": "689896dd-bfcc-40ac-8ec6-0638eed178c5",
   "metadata": {
    "tags": []
   },
   "outputs": [],
   "source": [
    "guad_geoms = compute_gr_geometry(\"971\")"
   ]
  },
  {
   "cell_type": "code",
   "execution_count": 362,
   "id": "ab81b00c-6acc-44ab-a5e6-8d72998be86c",
   "metadata": {
    "tags": []
   },
   "outputs": [
    {
     "data": {
      "text/plain": [
       "<Derived Projected CRS: EPSG:4559>\n",
       "Name: RRAF 1991 / UTM zone 20N\n",
       "Axis Info [cartesian]:\n",
       "- E[east]: Easting (metre)\n",
       "- N[north]: Northing (metre)\n",
       "Area of Use:\n",
       "- name: French Antilles onshore and offshore west of 60°W - Guadeloupe (including Grande Terre, Basse Terre, Marie Galante, Les Saintes, Iles de la Petite Terre, La Desirade); Martinique; St Barthélemy; northern St Martin.\n",
       "- bounds: (-63.66, 14.08, -60.0, 18.31)\n",
       "Coordinate Operation:\n",
       "- name: UTM zone 20N\n",
       "- method: Transverse Mercator\n",
       "Datum: Reseau de Reference des Antilles Francaises 1991\n",
       "- Ellipsoid: GRS 1980\n",
       "- Prime Meridian: Greenwich"
      ]
     },
     "execution_count": 362,
     "metadata": {},
     "output_type": "execute_result"
    }
   ],
   "source": [
    "guad_geoms.crs"
   ]
  },
  {
   "cell_type": "code",
   "execution_count": 364,
   "id": "cad60e03-adb9-44c1-87be-915f0e78d961",
   "metadata": {
    "tags": []
   },
   "outputs": [
    {
     "data": {
      "text/html": [
       "<div>\n",
       "<style scoped>\n",
       "    .dataframe tbody tr th:only-of-type {\n",
       "        vertical-align: middle;\n",
       "    }\n",
       "\n",
       "    .dataframe tbody tr th {\n",
       "        vertical-align: top;\n",
       "    }\n",
       "\n",
       "    .dataframe thead th {\n",
       "        text-align: right;\n",
       "    }\n",
       "</style>\n",
       "<table border=\"1\" class=\"dataframe\">\n",
       "  <thead>\n",
       "    <tr style=\"text-align: right;\">\n",
       "      <th></th>\n",
       "      <th>wkt</th>\n",
       "      <th>depcom</th>\n",
       "      <th>code_ilot</th>\n",
       "      <th>srid</th>\n",
       "      <th>dep</th>\n",
       "    </tr>\n",
       "    <tr>\n",
       "      <th>gr</th>\n",
       "      <th></th>\n",
       "      <th></th>\n",
       "      <th></th>\n",
       "      <th></th>\n",
       "      <th></th>\n",
       "    </tr>\n",
       "  </thead>\n",
       "  <tbody>\n",
       "    <tr>\n",
       "      <th>1</th>\n",
       "      <td>MULTIPOLYGON (((634541.286 1769980.752, 634547...</td>\n",
       "      <td>97101</td>\n",
       "      <td>CY03</td>\n",
       "      <td>4326</td>\n",
       "      <td>971</td>\n",
       "    </tr>\n",
       "    <tr>\n",
       "      <th>2</th>\n",
       "      <td>MULTIPOLYGON (((634644.412 1769874.001, 634659...</td>\n",
       "      <td>97105</td>\n",
       "      <td>AN06</td>\n",
       "      <td>4326</td>\n",
       "      <td>971</td>\n",
       "    </tr>\n",
       "    <tr>\n",
       "      <th>3</th>\n",
       "      <td>MULTIPOLYGON (((642361.942 1765135.972, 642347...</td>\n",
       "      <td>97101</td>\n",
       "      <td>CY04</td>\n",
       "      <td>4326</td>\n",
       "      <td>971</td>\n",
       "    </tr>\n",
       "    <tr>\n",
       "      <th>4</th>\n",
       "      <td>MULTIPOLYGON (((640195.746 1766431.480, 640188...</td>\n",
       "      <td>97101</td>\n",
       "      <td>CY05</td>\n",
       "      <td>4326</td>\n",
       "      <td>971</td>\n",
       "    </tr>\n",
       "    <tr>\n",
       "      <th>5</th>\n",
       "      <td>MULTIPOLYGON (((636327.105 1768179.117, 636331...</td>\n",
       "      <td>97101</td>\n",
       "      <td>CY02</td>\n",
       "      <td>4326</td>\n",
       "      <td>971</td>\n",
       "    </tr>\n",
       "  </tbody>\n",
       "</table>\n",
       "</div>"
      ],
      "text/plain": [
       "                                                  wkt depcom code_ilot  srid  \\\n",
       "gr                                                                             \n",
       "1   MULTIPOLYGON (((634541.286 1769980.752, 634547...  97101      CY03  4326   \n",
       "2   MULTIPOLYGON (((634644.412 1769874.001, 634659...  97105      AN06  4326   \n",
       "3   MULTIPOLYGON (((642361.942 1765135.972, 642347...  97101      CY04  4326   \n",
       "4   MULTIPOLYGON (((640195.746 1766431.480, 640188...  97101      CY05  4326   \n",
       "5   MULTIPOLYGON (((636327.105 1768179.117, 636331...  97101      CY02  4326   \n",
       "\n",
       "    dep  \n",
       "gr       \n",
       "1   971  \n",
       "2   971  \n",
       "3   971  \n",
       "4   971  \n",
       "5   971  "
      ]
     },
     "execution_count": 364,
     "metadata": {},
     "output_type": "execute_result"
    }
   ],
   "source": [
    "guad_geoms"
   ]
  },
  {
   "cell_type": "markdown",
   "id": "d14253b8-e8a3-4e95-bed6-644b280a0ffb",
   "metadata": {},
   "source": [
    "Intersection with an image."
   ]
  },
  {
   "cell_type": "code",
   "execution_count": 365,
   "id": "58ce04d8-f19f-4ecc-a230-952c3a65fc7c",
   "metadata": {
    "tags": []
   },
   "outputs": [],
   "source": [
    "import sys\n",
    "sys.path.append('../src')\n",
    "import shutil\n",
    "import yaml\n",
    "import py7zr\n",
    "import os\n",
    "import s3fs\n",
    "from satellite_image import SatelliteImage\n",
    "from labeler import RILLabeler\n",
    "from labeler import BDTOPOLabeler\n",
    "from labeled_satellite_image import SegmentationLabeledSatelliteImage\n",
    "from utils import *\n",
    "from filter import *\n",
    "import matplotlib.pyplot as plt\n",
    "import numpy as np\n",
    "import rasterio.plot as rp\n",
    "import re\n",
    "from datetime import datetime\n",
    "from tqdm import tqdm"
   ]
  },
  {
   "cell_type": "code",
   "execution_count": 378,
   "id": "f6c66a58",
   "metadata": {
    "tags": []
   },
   "outputs": [],
   "source": [
    "update_storage_access()"
   ]
  },
  {
   "cell_type": "markdown",
   "id": "beb4ebbf-fc03-483d-8aff-86b14d62724e",
   "metadata": {},
   "source": [
    "## Téléchargement des données Pléiades"
   ]
  },
  {
   "cell_type": "code",
   "execution_count": 382,
   "id": "2fbdabfc-7874-4c31-8dcc-e44038984c41",
   "metadata": {
    "tags": []
   },
   "outputs": [],
   "source": [
    "environment = get_environment()\n",
    "\n",
    "bucket = environment[\"bucket\"]\n",
    "path_s3_pleiades_data = environment[\"sources\"][\"PLEIADES\"]\n",
    "path_s3_bdtopo_data = environment[\"sources\"][\"BDTOPO\"][2022][\"guyane\"]\n",
    "path_local_pleiades_data = environment[\"local-path\"][\"PLEIADES\"]\n",
    "path_local_bdtopo_data = environment[\"local-path\"][\"BDTOPO\"][2022][\"guyane\"]\n",
    "\n",
    "fs = s3fs.S3FileSystem(client_kwargs={\"endpoint_url\": \"https://minio.lab.sspcloud.fr\"},\n",
    "                       key=os.environ[\"AWS_ACCESS_KEY_ID\"],\n",
    "                       secret=os.environ[\"AWS_SECRET_ACCESS_KEY\"])"
   ]
  },
  {
   "cell_type": "code",
   "execution_count": 384,
   "id": "1d68b39b",
   "metadata": {
    "tags": []
   },
   "outputs": [],
   "source": [
    "fs.download(\n",
    "    rpath=f\"{bucket}/{path_s3_pleiades_data}\",\n",
    "    lpath=f\"../{path_local_pleiades_data}\",\n",
    "    recursive=True\n",
    ")"
   ]
  },
  {
   "cell_type": "markdown",
   "id": "f1530f04-166c-4096-83aa-a6ed987ebf9d",
   "metadata": {},
   "source": [
    "## Découpage et filtrage des images"
   ]
  },
  {
   "cell_type": "code",
   "execution_count": 385,
   "id": "f49b8c36-8a34-4c4e-90c5-1880f4e55229",
   "metadata": {
    "tags": []
   },
   "outputs": [],
   "source": [
    "images_paths = [f\"../{path_local_pleiades_data}/16bits/ORT_2022072050325085_U22N/\" + p for p in os.listdir(f\"../{path_local_pleiades_data}/16bits/ORT_2022072050325085_U22N/\")]"
   ]
  },
  {
   "cell_type": "code",
   "execution_count": 386,
   "id": "bc895b95-3339-4a26-af78-a51937bed2dc",
   "metadata": {
    "tags": []
   },
   "outputs": [],
   "source": [
    "date = datetime.strptime(re.search(r'ORT_(\\d{8})', images_paths[0]).group(1), '%Y%m%d')"
   ]
  },
  {
   "cell_type": "markdown",
   "id": "a86d970a-6cee-48fe-a38a-de853c08be59",
   "metadata": {},
   "source": [
    "On importes les `SatelliteImage` dans une liste."
   ]
  },
  {
   "cell_type": "code",
   "execution_count": 387,
   "id": "68e46f84-a7bb-4d1f-88b4-78f5d3e2a24c",
   "metadata": {
    "tags": []
   },
   "outputs": [
    {
     "name": "stderr",
     "output_type": "stream",
     "text": [
      "100%|██████████| 3/3 [00:00<00:00,  4.20it/s]\n"
     ]
    }
   ],
   "source": [
    "list_images = [\n",
    "     SatelliteImage.from_raster(\n",
    "        filename,\n",
    "        date = datetime.strptime(re.search(r'ORT_(\\d{8})', filename).group(1), '%Y%m%d'), \n",
    "        n_bands = 4\n",
    "    ) for filename in tqdm(images_paths[:3])]"
   ]
  },
  {
   "cell_type": "code",
   "execution_count": 388,
   "id": "7e9cd1df-6e28-4a68-80f6-0cace388a63b",
   "metadata": {
    "tags": []
   },
   "outputs": [
    {
     "data": {
      "text/plain": [
       "<satellite_image.SatelliteImage at 0x7fb170127d60>"
      ]
     },
     "execution_count": 388,
     "metadata": {},
     "output_type": "execute_result"
    }
   ],
   "source": [
    "list_images[0]"
   ]
  },
  {
   "cell_type": "code",
   "execution_count": 389,
   "id": "9ffeb8f4-9055-41e8-ba9e-cf7774341600",
   "metadata": {
    "tags": []
   },
   "outputs": [
    {
     "data": {
      "text/plain": [
       "{'array': array([[[ 231,  269,  293, ...,  434,  427,  430],\n",
       "         [ 225,  260,  279, ...,  443,  437,  431],\n",
       "         [ 230,  255,  276, ...,  456,  457,  446],\n",
       "         ...,\n",
       "         [ 279,  292,  276, ...,  247,  234,  235],\n",
       "         [ 294,  311,  268, ...,  256,  230,  223],\n",
       "         [ 293,  313,  263, ...,  257,  228,  212]],\n",
       " \n",
       "        [[ 371,  432,  469, ...,  509,  502,  505],\n",
       "         [ 362,  417,  448, ...,  519,  513,  506],\n",
       "         [ 369,  410,  443, ...,  533,  535,  523],\n",
       "         ...,\n",
       "         [ 469,  492,  465, ...,  406,  385,  387],\n",
       "         [ 496,  526,  453, ...,  420,  378,  366],\n",
       "         [ 495,  529,  444, ...,  421,  373,  346]],\n",
       " \n",
       "        [[ 438,  508,  549, ...,  563,  554,  558],\n",
       "         [ 428,  493,  526, ...,  574,  566,  559],\n",
       "         [ 438,  485,  522, ...,  589,  591,  577],\n",
       "         ...,\n",
       "         [ 532,  556,  525, ...,  481,  457,  459],\n",
       "         [ 560,  593,  510, ...,  498,  449,  435],\n",
       "         [ 558,  595,  499, ...,  502,  444,  413]],\n",
       " \n",
       "        [[1158, 1352, 1470, ...,  333,  327,  329],\n",
       "         [1108, 1284, 1381, ...,  340,  335,  331],\n",
       "         [1112, 1241, 1348, ...,  350,  350,  342],\n",
       "         ...,\n",
       "         [1396, 1480, 1412, ...,  988,  945,  960],\n",
       "         [1476, 1584, 1379, ..., 1020,  926,  907],\n",
       "         [1476, 1596, 1357, ..., 1025,  913,  856]]], dtype=uint16),\n",
       " 'crs': CRS.from_epsg(2972),\n",
       " 'bounds': BoundingBox(left=359000.0, bottom=534000.0, right=360000.0, top=535000.0),\n",
       " 'transform': Affine(0.5, 0.0, 359000.0,\n",
       "        0.0, -0.5, 535000.0),\n",
       " 'n_bands': 4,\n",
       " 'filename': 'ORT_2022072050325085_0359_0535_U22N_16Bits.jp2',\n",
       " 'date': datetime.datetime(2022, 7, 20, 0, 0),\n",
       " 'normalized': False}"
      ]
     },
     "execution_count": 389,
     "metadata": {},
     "output_type": "execute_result"
    }
   ],
   "source": [
    "list_images[0].__dict__"
   ]
  },
  {
   "cell_type": "code",
   "execution_count": 390,
   "id": "9cea76ff-8aff-47cf-8d44-257c77de997e",
   "metadata": {
    "tags": []
   },
   "outputs": [
    {
     "data": {
      "text/plain": [
       "BoundingBox(left=359000.0, bottom=534000.0, right=360000.0, top=535000.0)"
      ]
     },
     "execution_count": 390,
     "metadata": {},
     "output_type": "execute_result"
    }
   ],
   "source": [
    "list_images[0].bounds"
   ]
  },
  {
   "cell_type": "code",
   "execution_count": 391,
   "id": "78f01701-d28c-4e03-82d2-c761465218af",
   "metadata": {
    "tags": []
   },
   "outputs": [
    {
     "data": {
      "text/plain": [
       "359000.0"
      ]
     },
     "execution_count": 391,
     "metadata": {},
     "output_type": "execute_result"
    }
   ],
   "source": [
    "xmin, ymin, xmax, ymax = list_images[0].bounds\n",
    "xmin"
   ]
  },
  {
   "cell_type": "code",
   "execution_count": 393,
   "id": "b9ab2235-5fd5-4884-a793-a2b70f6ebf73",
   "metadata": {
    "tags": []
   },
   "outputs": [],
   "source": [
    "def compute_gr_geometry(dep):\n",
    "    fs.get('projet-slums-detection/Donnees/RIL/rca_geometry_ilots.rds', 'rca_geometry_ilots.rds')\n",
    "    result = pyreadr.read_r('rca_geometry_ilots.rds')\n",
    "    df_geom = result[None]\n",
    "    df_geom['wkt'] = df_geom['wkt'].apply(wkt.loads)\n",
    "    gdf = gpd.GeoDataFrame(df_geom, geometry=\"wkt\", crs=\"EPSG:4326\")\n",
    "    gdf[\"dep\"] = gdf.depcom.str[:3]\n",
    "    gdf = gdf[gdf.dep == dep]\n",
    "    gdf[\"wkt\"] = [geom.buffer(0) for geom in gdf[\"wkt\"]]\n",
    "    \n",
    "    return gdf.dissolve(by=\"gr\").to_crs(\"epsg:\" + dep_to_crs[dep])"
   ]
  },
  {
   "cell_type": "code",
   "execution_count": 394,
   "id": "7f075391-46d4-4bd1-a2a1-0d8c37c95185",
   "metadata": {
    "tags": []
   },
   "outputs": [
    {
     "data": {
      "text/html": [
       "<div>\n",
       "<style scoped>\n",
       "    .dataframe tbody tr th:only-of-type {\n",
       "        vertical-align: middle;\n",
       "    }\n",
       "\n",
       "    .dataframe tbody tr th {\n",
       "        vertical-align: top;\n",
       "    }\n",
       "\n",
       "    .dataframe thead th {\n",
       "        text-align: right;\n",
       "    }\n",
       "</style>\n",
       "<table border=\"1\" class=\"dataframe\">\n",
       "  <thead>\n",
       "    <tr style=\"text-align: right;\">\n",
       "      <th></th>\n",
       "      <th>wkt</th>\n",
       "      <th>depcom</th>\n",
       "      <th>code_ilot</th>\n",
       "      <th>srid</th>\n",
       "      <th>dep</th>\n",
       "    </tr>\n",
       "    <tr>\n",
       "      <th>gr</th>\n",
       "      <th></th>\n",
       "      <th></th>\n",
       "      <th></th>\n",
       "      <th></th>\n",
       "      <th></th>\n",
       "    </tr>\n",
       "  </thead>\n",
       "  <tbody>\n",
       "    <tr>\n",
       "      <th>1</th>\n",
       "      <td>MULTIPOLYGON (((163501.482 402637.630, 163497....</td>\n",
       "      <td>97304</td>\n",
       "      <td>AX11</td>\n",
       "      <td>4326</td>\n",
       "      <td>973</td>\n",
       "    </tr>\n",
       "    <tr>\n",
       "      <th>2</th>\n",
       "      <td>MULTIPOLYGON (((147995.800 356909.800, 148003....</td>\n",
       "      <td>97304</td>\n",
       "      <td>AW12</td>\n",
       "      <td>4326</td>\n",
       "      <td>973</td>\n",
       "    </tr>\n",
       "    <tr>\n",
       "      <th>3</th>\n",
       "      <td>MULTIPOLYGON (((141333.070 469731.718, 142269....</td>\n",
       "      <td>97307</td>\n",
       "      <td>AE12</td>\n",
       "      <td>4326</td>\n",
       "      <td>973</td>\n",
       "    </tr>\n",
       "    <tr>\n",
       "      <th>4</th>\n",
       "      <td>MULTIPOLYGON (((168322.432 404663.093, 168467....</td>\n",
       "      <td>97361</td>\n",
       "      <td>AC03</td>\n",
       "      <td>4326</td>\n",
       "      <td>973</td>\n",
       "    </tr>\n",
       "    <tr>\n",
       "      <th>5</th>\n",
       "      <td>MULTIPOLYGON (((166946.715 380525.424, 167399....</td>\n",
       "      <td>97311</td>\n",
       "      <td>PE10</td>\n",
       "      <td>4326</td>\n",
       "      <td>973</td>\n",
       "    </tr>\n",
       "  </tbody>\n",
       "</table>\n",
       "</div>"
      ],
      "text/plain": [
       "                                                  wkt depcom code_ilot  srid  \\\n",
       "gr                                                                             \n",
       "1   MULTIPOLYGON (((163501.482 402637.630, 163497....  97304      AX11  4326   \n",
       "2   MULTIPOLYGON (((147995.800 356909.800, 148003....  97304      AW12  4326   \n",
       "3   MULTIPOLYGON (((141333.070 469731.718, 142269....  97307      AE12  4326   \n",
       "4   MULTIPOLYGON (((168322.432 404663.093, 168467....  97361      AC03  4326   \n",
       "5   MULTIPOLYGON (((166946.715 380525.424, 167399....  97311      PE10  4326   \n",
       "\n",
       "    dep  \n",
       "gr       \n",
       "1   973  \n",
       "2   973  \n",
       "3   973  \n",
       "4   973  \n",
       "5   973  "
      ]
     },
     "execution_count": 394,
     "metadata": {},
     "output_type": "execute_result"
    }
   ],
   "source": [
    "guy_geoms = compute_gr_geometry(\"973\")\n",
    "guy_geoms"
   ]
  },
  {
   "cell_type": "code",
   "execution_count": 395,
   "id": "9931e0fa-df65-4ecc-9803-4f0320a5daa8",
   "metadata": {
    "tags": []
   },
   "outputs": [
    {
     "data": {
      "text/html": [
       "<div>\n",
       "<style scoped>\n",
       "    .dataframe tbody tr th:only-of-type {\n",
       "        vertical-align: middle;\n",
       "    }\n",
       "\n",
       "    .dataframe tbody tr th {\n",
       "        vertical-align: top;\n",
       "    }\n",
       "\n",
       "    .dataframe thead th {\n",
       "        text-align: right;\n",
       "    }\n",
       "</style>\n",
       "<table border=\"1\" class=\"dataframe\">\n",
       "  <thead>\n",
       "    <tr style=\"text-align: right;\">\n",
       "      <th></th>\n",
       "      <th>wkt</th>\n",
       "      <th>depcom</th>\n",
       "      <th>code_ilot</th>\n",
       "      <th>srid</th>\n",
       "      <th>dep</th>\n",
       "    </tr>\n",
       "    <tr>\n",
       "      <th>gr</th>\n",
       "      <th></th>\n",
       "      <th></th>\n",
       "      <th></th>\n",
       "      <th></th>\n",
       "      <th></th>\n",
       "    </tr>\n",
       "  </thead>\n",
       "  <tbody>\n",
       "    <tr>\n",
       "      <th>2</th>\n",
       "      <td>MULTIPOLYGON (((147995.800 356909.800, 148003....</td>\n",
       "      <td>97304</td>\n",
       "      <td>AW12</td>\n",
       "      <td>4326</td>\n",
       "      <td>973</td>\n",
       "    </tr>\n",
       "  </tbody>\n",
       "</table>\n",
       "</div>"
      ],
      "text/plain": [
       "                                                  wkt depcom code_ilot  srid  \\\n",
       "gr                                                                             \n",
       "2   MULTIPOLYGON (((147995.800 356909.800, 148003....  97304      AW12  4326   \n",
       "\n",
       "    dep  \n",
       "gr       \n",
       "2   973  "
      ]
     },
     "execution_count": 395,
     "metadata": {},
     "output_type": "execute_result"
    }
   ],
   "source": [
    "guy_geoms.cx[xmin:xmax, ymin:ymax]"
   ]
  },
  {
   "cell_type": "code",
   "execution_count": null,
   "id": "76d3ab12-5779-43cf-922f-76743b5ab87a",
   "metadata": {},
   "outputs": [],
   "source": []
  }
 ],
 "metadata": {
  "kernelspec": {
   "display_name": "Python 3 (ipykernel)",
   "language": "python",
   "name": "python3"
  },
  "language_info": {
   "codemirror_mode": {
    "name": "ipython",
    "version": 3
   },
   "file_extension": ".py",
   "mimetype": "text/x-python",
   "name": "python",
   "nbconvert_exporter": "python",
   "pygments_lexer": "ipython3",
   "version": "3.10.8"
  }
 },
 "nbformat": 4,
 "nbformat_minor": 5
}
